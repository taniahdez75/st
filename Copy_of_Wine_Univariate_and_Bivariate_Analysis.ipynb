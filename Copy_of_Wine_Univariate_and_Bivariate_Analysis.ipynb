{
  "nbformat": 4,
  "nbformat_minor": 0,
  "metadata": {
    "colab": {
      "provenance": [],
      "include_colab_link": true
    },
    "kernelspec": {
      "name": "python3",
      "display_name": "Python 3"
    },
    "language_info": {
      "name": "python"
    }
  },
  "cells": [
    {
      "cell_type": "markdown",
      "metadata": {
        "id": "view-in-github",
        "colab_type": "text"
      },
      "source": [
        "<a href=\"https://colab.research.google.com/github/taniahdez75/st/blob/main/Copy_of_Wine_Univariate_and_Bivariate_Analysis.ipynb\" target=\"_parent\"><img src=\"https://colab.research.google.com/assets/colab-badge.svg\" alt=\"Open In Colab\"/></a>"
      ]
    },
    {
      "cell_type": "code",
      "execution_count": null,
      "metadata": {
        "id": "stLIxqJAof_W"
      },
      "outputs": [],
      "source": [
        "# Import basic libraries\n",
        "import numpy as np \n",
        "import pandas as pd \n",
        "# import visualization libraries\n",
        "import seaborn as sns\n",
        "import matplotlib.pyplot as plt\n",
        "%matplotlib inline"
      ]
    },
    {
      "cell_type": "code",
      "source": [
        "df = pd.read_csv('winequality-white.csv', sep=';')"
      ],
      "metadata": {
        "id": "sg44jBM5o-ff"
      },
      "execution_count": null,
      "outputs": []
    },
    {
      "cell_type": "markdown",
      "source": [
        "Lets take a quick look at our dataset"
      ],
      "metadata": {
        "id": "fF7jjgqApyjI"
      }
    },
    {
      "cell_type": "code",
      "source": [
        "df.head()"
      ],
      "metadata": {
        "colab": {
          "base_uri": "https://localhost:8080/",
          "height": 305
        },
        "id": "dzxFlUMzpYuH",
        "outputId": "57272793-7059-4f72-bb6e-c01a07b70747"
      },
      "execution_count": null,
      "outputs": [
        {
          "output_type": "execute_result",
          "data": {
            "text/plain": [
              "   fixed acidity  volatile acidity  citric acid  residual sugar  chlorides  \\\n",
              "0            7.0              0.27         0.36            20.7      0.045   \n",
              "1            6.3              0.30         0.34             1.6      0.049   \n",
              "2            8.1              0.28         0.40             6.9      0.050   \n",
              "3            7.2              0.23         0.32             8.5      0.058   \n",
              "4            7.2              0.23         0.32             8.5      0.058   \n",
              "\n",
              "   free sulfur dioxide  total sulfur dioxide  density    pH  sulphates  \\\n",
              "0                 45.0                 170.0   1.0010  3.00       0.45   \n",
              "1                 14.0                 132.0   0.9940  3.30       0.49   \n",
              "2                 30.0                  97.0   0.9951  3.26       0.44   \n",
              "3                 47.0                 186.0   0.9956  3.19       0.40   \n",
              "4                 47.0                 186.0   0.9956  3.19       0.40   \n",
              "\n",
              "   alcohol  quality  \n",
              "0      8.8        6  \n",
              "1      9.5        6  \n",
              "2     10.1        6  \n",
              "3      9.9        6  \n",
              "4      9.9        6  "
            ],
            "text/html": [
              "\n",
              "  <div id=\"df-392e540d-324d-4d88-8af9-33679b8bae8f\">\n",
              "    <div class=\"colab-df-container\">\n",
              "      <div>\n",
              "<style scoped>\n",
              "    .dataframe tbody tr th:only-of-type {\n",
              "        vertical-align: middle;\n",
              "    }\n",
              "\n",
              "    .dataframe tbody tr th {\n",
              "        vertical-align: top;\n",
              "    }\n",
              "\n",
              "    .dataframe thead th {\n",
              "        text-align: right;\n",
              "    }\n",
              "</style>\n",
              "<table border=\"1\" class=\"dataframe\">\n",
              "  <thead>\n",
              "    <tr style=\"text-align: right;\">\n",
              "      <th></th>\n",
              "      <th>fixed acidity</th>\n",
              "      <th>volatile acidity</th>\n",
              "      <th>citric acid</th>\n",
              "      <th>residual sugar</th>\n",
              "      <th>chlorides</th>\n",
              "      <th>free sulfur dioxide</th>\n",
              "      <th>total sulfur dioxide</th>\n",
              "      <th>density</th>\n",
              "      <th>pH</th>\n",
              "      <th>sulphates</th>\n",
              "      <th>alcohol</th>\n",
              "      <th>quality</th>\n",
              "    </tr>\n",
              "  </thead>\n",
              "  <tbody>\n",
              "    <tr>\n",
              "      <th>0</th>\n",
              "      <td>7.0</td>\n",
              "      <td>0.27</td>\n",
              "      <td>0.36</td>\n",
              "      <td>20.7</td>\n",
              "      <td>0.045</td>\n",
              "      <td>45.0</td>\n",
              "      <td>170.0</td>\n",
              "      <td>1.0010</td>\n",
              "      <td>3.00</td>\n",
              "      <td>0.45</td>\n",
              "      <td>8.8</td>\n",
              "      <td>6</td>\n",
              "    </tr>\n",
              "    <tr>\n",
              "      <th>1</th>\n",
              "      <td>6.3</td>\n",
              "      <td>0.30</td>\n",
              "      <td>0.34</td>\n",
              "      <td>1.6</td>\n",
              "      <td>0.049</td>\n",
              "      <td>14.0</td>\n",
              "      <td>132.0</td>\n",
              "      <td>0.9940</td>\n",
              "      <td>3.30</td>\n",
              "      <td>0.49</td>\n",
              "      <td>9.5</td>\n",
              "      <td>6</td>\n",
              "    </tr>\n",
              "    <tr>\n",
              "      <th>2</th>\n",
              "      <td>8.1</td>\n",
              "      <td>0.28</td>\n",
              "      <td>0.40</td>\n",
              "      <td>6.9</td>\n",
              "      <td>0.050</td>\n",
              "      <td>30.0</td>\n",
              "      <td>97.0</td>\n",
              "      <td>0.9951</td>\n",
              "      <td>3.26</td>\n",
              "      <td>0.44</td>\n",
              "      <td>10.1</td>\n",
              "      <td>6</td>\n",
              "    </tr>\n",
              "    <tr>\n",
              "      <th>3</th>\n",
              "      <td>7.2</td>\n",
              "      <td>0.23</td>\n",
              "      <td>0.32</td>\n",
              "      <td>8.5</td>\n",
              "      <td>0.058</td>\n",
              "      <td>47.0</td>\n",
              "      <td>186.0</td>\n",
              "      <td>0.9956</td>\n",
              "      <td>3.19</td>\n",
              "      <td>0.40</td>\n",
              "      <td>9.9</td>\n",
              "      <td>6</td>\n",
              "    </tr>\n",
              "    <tr>\n",
              "      <th>4</th>\n",
              "      <td>7.2</td>\n",
              "      <td>0.23</td>\n",
              "      <td>0.32</td>\n",
              "      <td>8.5</td>\n",
              "      <td>0.058</td>\n",
              "      <td>47.0</td>\n",
              "      <td>186.0</td>\n",
              "      <td>0.9956</td>\n",
              "      <td>3.19</td>\n",
              "      <td>0.40</td>\n",
              "      <td>9.9</td>\n",
              "      <td>6</td>\n",
              "    </tr>\n",
              "  </tbody>\n",
              "</table>\n",
              "</div>\n",
              "      <button class=\"colab-df-convert\" onclick=\"convertToInteractive('df-392e540d-324d-4d88-8af9-33679b8bae8f')\"\n",
              "              title=\"Convert this dataframe to an interactive table.\"\n",
              "              style=\"display:none;\">\n",
              "        \n",
              "  <svg xmlns=\"http://www.w3.org/2000/svg\" height=\"24px\"viewBox=\"0 0 24 24\"\n",
              "       width=\"24px\">\n",
              "    <path d=\"M0 0h24v24H0V0z\" fill=\"none\"/>\n",
              "    <path d=\"M18.56 5.44l.94 2.06.94-2.06 2.06-.94-2.06-.94-.94-2.06-.94 2.06-2.06.94zm-11 1L8.5 8.5l.94-2.06 2.06-.94-2.06-.94L8.5 2.5l-.94 2.06-2.06.94zm10 10l.94 2.06.94-2.06 2.06-.94-2.06-.94-.94-2.06-.94 2.06-2.06.94z\"/><path d=\"M17.41 7.96l-1.37-1.37c-.4-.4-.92-.59-1.43-.59-.52 0-1.04.2-1.43.59L10.3 9.45l-7.72 7.72c-.78.78-.78 2.05 0 2.83L4 21.41c.39.39.9.59 1.41.59.51 0 1.02-.2 1.41-.59l7.78-7.78 2.81-2.81c.8-.78.8-2.07 0-2.86zM5.41 20L4 18.59l7.72-7.72 1.47 1.35L5.41 20z\"/>\n",
              "  </svg>\n",
              "      </button>\n",
              "      \n",
              "  <style>\n",
              "    .colab-df-container {\n",
              "      display:flex;\n",
              "      flex-wrap:wrap;\n",
              "      gap: 12px;\n",
              "    }\n",
              "\n",
              "    .colab-df-convert {\n",
              "      background-color: #E8F0FE;\n",
              "      border: none;\n",
              "      border-radius: 50%;\n",
              "      cursor: pointer;\n",
              "      display: none;\n",
              "      fill: #1967D2;\n",
              "      height: 32px;\n",
              "      padding: 0 0 0 0;\n",
              "      width: 32px;\n",
              "    }\n",
              "\n",
              "    .colab-df-convert:hover {\n",
              "      background-color: #E2EBFA;\n",
              "      box-shadow: 0px 1px 2px rgba(60, 64, 67, 0.3), 0px 1px 3px 1px rgba(60, 64, 67, 0.15);\n",
              "      fill: #174EA6;\n",
              "    }\n",
              "\n",
              "    [theme=dark] .colab-df-convert {\n",
              "      background-color: #3B4455;\n",
              "      fill: #D2E3FC;\n",
              "    }\n",
              "\n",
              "    [theme=dark] .colab-df-convert:hover {\n",
              "      background-color: #434B5C;\n",
              "      box-shadow: 0px 1px 3px 1px rgba(0, 0, 0, 0.15);\n",
              "      filter: drop-shadow(0px 1px 2px rgba(0, 0, 0, 0.3));\n",
              "      fill: #FFFFFF;\n",
              "    }\n",
              "  </style>\n",
              "\n",
              "      <script>\n",
              "        const buttonEl =\n",
              "          document.querySelector('#df-392e540d-324d-4d88-8af9-33679b8bae8f button.colab-df-convert');\n",
              "        buttonEl.style.display =\n",
              "          google.colab.kernel.accessAllowed ? 'block' : 'none';\n",
              "\n",
              "        async function convertToInteractive(key) {\n",
              "          const element = document.querySelector('#df-392e540d-324d-4d88-8af9-33679b8bae8f');\n",
              "          const dataTable =\n",
              "            await google.colab.kernel.invokeFunction('convertToInteractive',\n",
              "                                                     [key], {});\n",
              "          if (!dataTable) return;\n",
              "\n",
              "          const docLinkHtml = 'Like what you see? Visit the ' +\n",
              "            '<a target=\"_blank\" href=https://colab.research.google.com/notebooks/data_table.ipynb>data table notebook</a>'\n",
              "            + ' to learn more about interactive tables.';\n",
              "          element.innerHTML = '';\n",
              "          dataTable['output_type'] = 'display_data';\n",
              "          await google.colab.output.renderOutput(dataTable, element);\n",
              "          const docLink = document.createElement('div');\n",
              "          docLink.innerHTML = docLinkHtml;\n",
              "          element.appendChild(docLink);\n",
              "        }\n",
              "      </script>\n",
              "    </div>\n",
              "  </div>\n",
              "  "
            ]
          },
          "metadata": {},
          "execution_count": 14
        }
      ]
    },
    {
      "cell_type": "code",
      "source": [
        "df.info()"
      ],
      "metadata": {
        "colab": {
          "base_uri": "https://localhost:8080/"
        },
        "id": "9dsMhu4xpaIo",
        "outputId": "c378aa5f-cabb-4574-9c31-ca51384b27c9"
      },
      "execution_count": null,
      "outputs": [
        {
          "output_type": "stream",
          "name": "stdout",
          "text": [
            "<class 'pandas.core.frame.DataFrame'>\n",
            "RangeIndex: 4898 entries, 0 to 4897\n",
            "Data columns (total 12 columns):\n",
            " #   Column                Non-Null Count  Dtype  \n",
            "---  ------                --------------  -----  \n",
            " 0   fixed acidity         4898 non-null   float64\n",
            " 1   volatile acidity      4898 non-null   float64\n",
            " 2   citric acid           4898 non-null   float64\n",
            " 3   residual sugar        4898 non-null   float64\n",
            " 4   chlorides             4898 non-null   float64\n",
            " 5   free sulfur dioxide   4898 non-null   float64\n",
            " 6   total sulfur dioxide  4898 non-null   float64\n",
            " 7   density               4898 non-null   float64\n",
            " 8   pH                    4898 non-null   float64\n",
            " 9   sulphates             4898 non-null   float64\n",
            " 10  alcohol               4898 non-null   float64\n",
            " 11  quality               4898 non-null   int64  \n",
            "dtypes: float64(11), int64(1)\n",
            "memory usage: 459.3 KB\n"
          ]
        }
      ]
    },
    {
      "cell_type": "markdown",
      "source": [
        "As we can see, there are 4898 records (rows) and 12 parameters (columns). Let's check for NULLs."
      ],
      "metadata": {
        "id": "KuPFivM_p3b5"
      }
    },
    {
      "cell_type": "code",
      "source": [
        "df.isnull().sum()"
      ],
      "metadata": {
        "colab": {
          "base_uri": "https://localhost:8080/"
        },
        "id": "NE1Yq10wpaxy",
        "outputId": "7881602f-0a1a-438e-b1a4-0c6c634a97c5"
      },
      "execution_count": null,
      "outputs": [
        {
          "output_type": "execute_result",
          "data": {
            "text/plain": [
              "fixed acidity           0\n",
              "volatile acidity        0\n",
              "citric acid             0\n",
              "residual sugar          0\n",
              "chlorides               0\n",
              "free sulfur dioxide     0\n",
              "total sulfur dioxide    0\n",
              "density                 0\n",
              "pH                      0\n",
              "sulphates               0\n",
              "alcohol                 0\n",
              "quality                 0\n",
              "dtype: int64"
            ]
          },
          "metadata": {},
          "execution_count": 16
        }
      ]
    },
    {
      "cell_type": "markdown",
      "source": [
        "No null values. I am very happy. Lets check both quality and pH for their range."
      ],
      "metadata": {
        "id": "qZp2Iw0sqZ4W"
      }
    },
    {
      "cell_type": "code",
      "source": [
        "str(sorted(df['quality'].unique()))"
      ],
      "metadata": {
        "colab": {
          "base_uri": "https://localhost:8080/",
          "height": 35
        },
        "id": "QC7hE1jaqY4x",
        "outputId": "4b8625b2-ff1d-42f1-dd7d-cfca4f849e8f"
      },
      "execution_count": null,
      "outputs": [
        {
          "output_type": "execute_result",
          "data": {
            "text/plain": [
              "'[3, 4, 5, 6, 7, 8, 9]'"
            ],
            "application/vnd.google.colaboratory.intrinsic+json": {
              "type": "string"
            }
          },
          "metadata": {},
          "execution_count": 17
        }
      ]
    },
    {
      "cell_type": "markdown",
      "source": [
        "No values fall below 3 or above 9"
      ],
      "metadata": {
        "id": "J_E0LWkBqtSg"
      }
    },
    {
      "cell_type": "code",
      "source": [
        "df['pH'].min()"
      ],
      "metadata": {
        "colab": {
          "base_uri": "https://localhost:8080/"
        },
        "id": "L32TL9vLqr4c",
        "outputId": "519ea5ea-f392-414f-f77a-a9dc72a0beac"
      },
      "execution_count": null,
      "outputs": [
        {
          "output_type": "execute_result",
          "data": {
            "text/plain": [
              "2.72"
            ]
          },
          "metadata": {},
          "execution_count": 18
        }
      ]
    },
    {
      "cell_type": "code",
      "source": [
        "df['pH'].max()"
      ],
      "metadata": {
        "colab": {
          "base_uri": "https://localhost:8080/"
        },
        "id": "LIGcbRWjrCCe",
        "outputId": "7f2101df-6126-4b51-b46a-083111a3e897"
      },
      "execution_count": null,
      "outputs": [
        {
          "output_type": "execute_result",
          "data": {
            "text/plain": [
              "3.82"
            ]
          },
          "metadata": {},
          "execution_count": 19
        }
      ]
    },
    {
      "cell_type": "markdown",
      "source": [
        "Our range within the pH column is limited to 1.1. Let's add a column explaining the quality as either being Poor or Good."
      ],
      "metadata": {
        "id": "vxrUlXAurmlD"
      }
    },
    {
      "cell_type": "code",
      "source": [
        "quality_cat=[]\n",
        "for i in df['quality']:\n",
        "  if i <= 6:\n",
        "    quality_cat.append('Poor')\n",
        "  else:\n",
        "    quality_cat.append('Good')"
      ],
      "metadata": {
        "id": "xTs8Bo6mrjfk"
      },
      "execution_count": null,
      "outputs": []
    },
    {
      "cell_type": "code",
      "source": [
        "print(quality_cat)"
      ],
      "metadata": {
        "colab": {
          "base_uri": "https://localhost:8080/"
        },
        "id": "rOM-6zDBsjOn",
        "outputId": "bfa92bfa-341d-426c-ca92-bf2f7de6090f"
      },
      "execution_count": null,
      "outputs": [
        {
          "output_type": "stream",
          "name": "stdout",
          "text": [
            "['Poor', 'Poor', 'Poor', 'Poor', 'Poor', 'Poor', 'Poor', 'Poor', 'Poor', 'Poor', 'Poor', 'Poor', 'Poor', 'Good', 'Poor', 'Good', 'Poor', 'Good', 'Poor', 'Poor', 'Good', 'Good', 'Good', 'Poor', 'Poor', 'Poor', 'Poor', 'Poor', 'Poor', 'Good', 'Poor', 'Poor', 'Poor', 'Poor', 'Poor', 'Poor', 'Poor', 'Poor', 'Poor', 'Poor', 'Poor', 'Poor', 'Poor', 'Poor', 'Poor', 'Good', 'Poor', 'Poor', 'Poor', 'Poor', 'Poor', 'Good', 'Good', 'Poor', 'Poor', 'Poor', 'Poor', 'Poor', 'Poor', 'Poor', 'Poor', 'Poor', 'Poor', 'Poor', 'Poor', 'Poor', 'Good', 'Poor', 'Good', 'Poor', 'Poor', 'Poor', 'Poor', 'Poor', 'Good', 'Poor', 'Good', 'Good', 'Poor', 'Poor', 'Poor', 'Poor', 'Poor', 'Poor', 'Poor', 'Poor', 'Poor', 'Poor', 'Poor', 'Poor', 'Poor', 'Poor', 'Good', 'Good', 'Good', 'Poor', 'Poor', 'Good', 'Poor', 'Poor', 'Poor', 'Poor', 'Poor', 'Poor', 'Poor', 'Poor', 'Poor', 'Poor', 'Poor', 'Poor', 'Poor', 'Poor', 'Poor', 'Poor', 'Poor', 'Poor', 'Poor', 'Poor', 'Poor', 'Poor', 'Poor', 'Poor', 'Poor', 'Poor', 'Poor', 'Poor', 'Poor', 'Good', 'Good', 'Poor', 'Poor', 'Good', 'Poor', 'Poor', 'Poor', 'Poor', 'Poor', 'Poor', 'Good', 'Poor', 'Poor', 'Poor', 'Poor', 'Poor', 'Poor', 'Poor', 'Poor', 'Poor', 'Good', 'Poor', 'Good', 'Poor', 'Poor', 'Poor', 'Poor', 'Poor', 'Poor', 'Good', 'Good', 'Good', 'Good', 'Poor', 'Poor', 'Poor', 'Poor', 'Poor', 'Poor', 'Good', 'Poor', 'Poor', 'Poor', 'Poor', 'Poor', 'Good', 'Poor', 'Poor', 'Poor', 'Poor', 'Poor', 'Poor', 'Poor', 'Poor', 'Poor', 'Poor', 'Poor', 'Poor', 'Poor', 'Poor', 'Good', 'Poor', 'Poor', 'Poor', 'Poor', 'Poor', 'Poor', 'Poor', 'Poor', 'Poor', 'Poor', 'Poor', 'Poor', 'Poor', 'Poor', 'Poor', 'Poor', 'Poor', 'Poor', 'Poor', 'Poor', 'Poor', 'Poor', 'Good', 'Poor', 'Poor', 'Good', 'Poor', 'Poor', 'Poor', 'Poor', 'Poor', 'Poor', 'Poor', 'Good', 'Poor', 'Poor', 'Poor', 'Poor', 'Poor', 'Poor', 'Poor', 'Poor', 'Poor', 'Poor', 'Poor', 'Poor', 'Poor', 'Poor', 'Poor', 'Good', 'Poor', 'Poor', 'Poor', 'Good', 'Poor', 'Poor', 'Poor', 'Good', 'Good', 'Good', 'Poor', 'Poor', 'Poor', 'Poor', 'Poor', 'Poor', 'Good', 'Good', 'Good', 'Poor', 'Poor', 'Poor', 'Poor', 'Poor', 'Poor', 'Poor', 'Poor', 'Poor', 'Poor', 'Poor', 'Poor', 'Poor', 'Poor', 'Poor', 'Poor', 'Poor', 'Poor', 'Poor', 'Poor', 'Poor', 'Good', 'Good', 'Good', 'Poor', 'Poor', 'Poor', 'Poor', 'Poor', 'Good', 'Good', 'Good', 'Good', 'Poor', 'Poor', 'Good', 'Poor', 'Poor', 'Poor', 'Good', 'Poor', 'Poor', 'Poor', 'Poor', 'Poor', 'Poor', 'Poor', 'Poor', 'Poor', 'Poor', 'Good', 'Poor', 'Good', 'Good', 'Poor', 'Poor', 'Poor', 'Poor', 'Poor', 'Poor', 'Good', 'Poor', 'Good', 'Poor', 'Poor', 'Poor', 'Poor', 'Poor', 'Poor', 'Poor', 'Poor', 'Poor', 'Good', 'Poor', 'Poor', 'Poor', 'Poor', 'Poor', 'Poor', 'Poor', 'Poor', 'Good', 'Good', 'Poor', 'Poor', 'Poor', 'Poor', 'Poor', 'Good', 'Poor', 'Poor', 'Poor', 'Good', 'Good', 'Poor', 'Good', 'Poor', 'Poor', 'Poor', 'Poor', 'Poor', 'Poor', 'Poor', 'Poor', 'Poor', 'Poor', 'Good', 'Good', 'Poor', 'Poor', 'Poor', 'Poor', 'Poor', 'Poor', 'Poor', 'Poor', 'Good', 'Good', 'Good', 'Good', 'Poor', 'Good', 'Good', 'Poor', 'Poor', 'Poor', 'Good', 'Good', 'Good', 'Poor', 'Poor', 'Good', 'Good', 'Poor', 'Poor', 'Poor', 'Poor', 'Poor', 'Poor', 'Poor', 'Poor', 'Poor', 'Poor', 'Poor', 'Poor', 'Poor', 'Poor', 'Poor', 'Good', 'Poor', 'Poor', 'Poor', 'Poor', 'Poor', 'Poor', 'Poor', 'Poor', 'Poor', 'Poor', 'Poor', 'Poor', 'Poor', 'Good', 'Poor', 'Poor', 'Poor', 'Good', 'Poor', 'Poor', 'Poor', 'Poor', 'Poor', 'Poor', 'Poor', 'Good', 'Poor', 'Good', 'Good', 'Poor', 'Good', 'Good', 'Poor', 'Good', 'Poor', 'Good', 'Poor', 'Poor', 'Poor', 'Poor', 'Poor', 'Poor', 'Good', 'Poor', 'Poor', 'Good', 'Good', 'Good', 'Poor', 'Good', 'Poor', 'Poor', 'Poor', 'Poor', 'Poor', 'Poor', 'Poor', 'Poor', 'Poor', 'Poor', 'Poor', 'Poor', 'Poor', 'Poor', 'Poor', 'Poor', 'Good', 'Poor', 'Poor', 'Good', 'Poor', 'Poor', 'Poor', 'Poor', 'Poor', 'Poor', 'Poor', 'Poor', 'Poor', 'Poor', 'Poor', 'Poor', 'Poor', 'Poor', 'Good', 'Poor', 'Poor', 'Poor', 'Poor', 'Poor', 'Poor', 'Poor', 'Poor', 'Poor', 'Poor', 'Poor', 'Poor', 'Poor', 'Poor', 'Poor', 'Good', 'Poor', 'Good', 'Poor', 'Poor', 'Poor', 'Poor', 'Good', 'Poor', 'Poor', 'Poor', 'Poor', 'Poor', 'Poor', 'Poor', 'Poor', 'Poor', 'Poor', 'Poor', 'Poor', 'Poor', 'Poor', 'Poor', 'Poor', 'Poor', 'Poor', 'Poor', 'Poor', 'Poor', 'Poor', 'Poor', 'Poor', 'Poor', 'Poor', 'Poor', 'Poor', 'Poor', 'Poor', 'Poor', 'Poor', 'Poor', 'Good', 'Poor', 'Good', 'Good', 'Good', 'Good', 'Good', 'Good', 'Poor', 'Poor', 'Poor', 'Poor', 'Good', 'Poor', 'Poor', 'Good', 'Poor', 'Poor', 'Poor', 'Poor', 'Poor', 'Poor', 'Poor', 'Good', 'Poor', 'Good', 'Good', 'Poor', 'Poor', 'Good', 'Good', 'Good', 'Poor', 'Poor', 'Poor', 'Poor', 'Good', 'Poor', 'Poor', 'Good', 'Good', 'Poor', 'Poor', 'Poor', 'Poor', 'Poor', 'Poor', 'Good', 'Poor', 'Poor', 'Good', 'Good', 'Poor', 'Poor', 'Poor', 'Poor', 'Poor', 'Poor', 'Poor', 'Poor', 'Poor', 'Poor', 'Good', 'Poor', 'Poor', 'Poor', 'Poor', 'Poor', 'Good', 'Poor', 'Poor', 'Poor', 'Poor', 'Poor', 'Poor', 'Poor', 'Poor', 'Good', 'Poor', 'Poor', 'Poor', 'Poor', 'Poor', 'Poor', 'Poor', 'Poor', 'Poor', 'Poor', 'Good', 'Poor', 'Poor', 'Poor', 'Good', 'Poor', 'Poor', 'Poor', 'Poor', 'Poor', 'Poor', 'Poor', 'Poor', 'Good', 'Good', 'Good', 'Good', 'Poor', 'Good', 'Poor', 'Poor', 'Poor', 'Poor', 'Poor', 'Poor', 'Good', 'Poor', 'Poor', 'Poor', 'Poor', 'Poor', 'Poor', 'Poor', 'Poor', 'Poor', 'Poor', 'Good', 'Poor', 'Poor', 'Poor', 'Poor', 'Good', 'Good', 'Good', 'Poor', 'Poor', 'Poor', 'Poor', 'Poor', 'Poor', 'Good', 'Poor', 'Poor', 'Good', 'Poor', 'Poor', 'Poor', 'Poor', 'Poor', 'Poor', 'Poor', 'Poor', 'Poor', 'Poor', 'Poor', 'Good', 'Poor', 'Poor', 'Poor', 'Poor', 'Poor', 'Poor', 'Poor', 'Poor', 'Poor', 'Poor', 'Poor', 'Poor', 'Poor', 'Good', 'Poor', 'Poor', 'Good', 'Good', 'Poor', 'Poor', 'Poor', 'Good', 'Good', 'Poor', 'Good', 'Poor', 'Poor', 'Poor', 'Poor', 'Poor', 'Good', 'Poor', 'Poor', 'Poor', 'Poor', 'Poor', 'Good', 'Poor', 'Poor', 'Poor', 'Poor', 'Poor', 'Poor', 'Poor', 'Poor', 'Poor', 'Poor', 'Poor', 'Poor', 'Poor', 'Poor', 'Poor', 'Poor', 'Good', 'Poor', 'Poor', 'Good', 'Good', 'Poor', 'Poor', 'Poor', 'Poor', 'Poor', 'Poor', 'Poor', 'Poor', 'Good', 'Good', 'Good', 'Good', 'Good', 'Poor', 'Good', 'Poor', 'Poor', 'Poor', 'Good', 'Good', 'Poor', 'Poor', 'Good', 'Good', 'Poor', 'Poor', 'Poor', 'Poor', 'Good', 'Poor', 'Poor', 'Good', 'Poor', 'Good', 'Poor', 'Poor', 'Poor', 'Poor', 'Poor', 'Good', 'Poor', 'Poor', 'Poor', 'Good', 'Poor', 'Poor', 'Poor', 'Poor', 'Poor', 'Poor', 'Poor', 'Poor', 'Good', 'Poor', 'Poor', 'Poor', 'Poor', 'Poor', 'Poor', 'Poor', 'Good', 'Poor', 'Poor', 'Poor', 'Poor', 'Poor', 'Poor', 'Good', 'Good', 'Good', 'Poor', 'Poor', 'Good', 'Poor', 'Poor', 'Good', 'Good', 'Good', 'Good', 'Good', 'Good', 'Good', 'Good', 'Good', 'Good', 'Good', 'Poor', 'Poor', 'Good', 'Poor', 'Good', 'Poor', 'Good', 'Poor', 'Good', 'Good', 'Poor', 'Poor', 'Good', 'Poor', 'Good', 'Good', 'Poor', 'Poor', 'Poor', 'Poor', 'Good', 'Good', 'Good', 'Poor', 'Poor', 'Poor', 'Poor', 'Poor', 'Poor', 'Good', 'Good', 'Poor', 'Poor', 'Good', 'Good', 'Poor', 'Poor', 'Poor', 'Poor', 'Good', 'Poor', 'Good', 'Poor', 'Good', 'Poor', 'Good', 'Poor', 'Good', 'Good', 'Poor', 'Poor', 'Poor', 'Poor', 'Poor', 'Good', 'Poor', 'Poor', 'Poor', 'Good', 'Poor', 'Poor', 'Good', 'Poor', 'Poor', 'Poor', 'Poor', 'Poor', 'Poor', 'Poor', 'Poor', 'Good', 'Poor', 'Poor', 'Good', 'Good', 'Poor', 'Poor', 'Poor', 'Good', 'Poor', 'Poor', 'Good', 'Poor', 'Poor', 'Good', 'Poor', 'Poor', 'Poor', 'Poor', 'Poor', 'Poor', 'Poor', 'Poor', 'Good', 'Poor', 'Poor', 'Good', 'Good', 'Good', 'Good', 'Poor', 'Poor', 'Poor', 'Poor', 'Poor', 'Poor', 'Poor', 'Poor', 'Poor', 'Poor', 'Poor', 'Good', 'Good', 'Poor', 'Poor', 'Good', 'Poor', 'Poor', 'Poor', 'Poor', 'Poor', 'Poor', 'Good', 'Good', 'Good', 'Good', 'Poor', 'Good', 'Poor', 'Poor', 'Poor', 'Poor', 'Good', 'Poor', 'Poor', 'Good', 'Poor', 'Poor', 'Poor', 'Poor', 'Poor', 'Poor', 'Poor', 'Good', 'Poor', 'Poor', 'Poor', 'Poor', 'Poor', 'Poor', 'Poor', 'Poor', 'Poor', 'Good', 'Good', 'Poor', 'Poor', 'Good', 'Poor', 'Poor', 'Poor', 'Poor', 'Good', 'Poor', 'Poor', 'Good', 'Poor', 'Poor', 'Poor', 'Poor', 'Poor', 'Poor', 'Poor', 'Poor', 'Good', 'Good', 'Good', 'Poor', 'Poor', 'Poor', 'Poor', 'Poor', 'Good', 'Poor', 'Poor', 'Poor', 'Poor', 'Poor', 'Poor', 'Poor', 'Poor', 'Poor', 'Good', 'Poor', 'Poor', 'Poor', 'Poor', 'Poor', 'Good', 'Poor', 'Poor', 'Poor', 'Poor', 'Poor', 'Poor', 'Poor', 'Poor', 'Poor', 'Poor', 'Poor', 'Poor', 'Poor', 'Poor', 'Poor', 'Good', 'Poor', 'Poor', 'Poor', 'Poor', 'Poor', 'Poor', 'Good', 'Good', 'Poor', 'Good', 'Poor', 'Good', 'Poor', 'Poor', 'Good', 'Poor', 'Poor', 'Poor', 'Poor', 'Good', 'Poor', 'Poor', 'Poor', 'Good', 'Poor', 'Good', 'Good', 'Poor', 'Good', 'Poor', 'Poor', 'Poor', 'Good', 'Poor', 'Good', 'Poor', 'Good', 'Poor', 'Good', 'Poor', 'Poor', 'Poor', 'Poor', 'Poor', 'Good', 'Good', 'Good', 'Good', 'Poor', 'Good', 'Poor', 'Poor', 'Poor', 'Poor', 'Good', 'Poor', 'Poor', 'Poor', 'Poor', 'Poor', 'Poor', 'Good', 'Poor', 'Poor', 'Poor', 'Good', 'Good', 'Poor', 'Good', 'Poor', 'Poor', 'Poor', 'Poor', 'Poor', 'Poor', 'Good', 'Good', 'Poor', 'Poor', 'Poor', 'Poor', 'Poor', 'Poor', 'Poor', 'Poor', 'Poor', 'Poor', 'Poor', 'Poor', 'Poor', 'Poor', 'Poor', 'Poor', 'Poor', 'Poor', 'Poor', 'Poor', 'Poor', 'Poor', 'Poor', 'Poor', 'Good', 'Poor', 'Poor', 'Poor', 'Poor', 'Poor', 'Poor', 'Poor', 'Poor', 'Poor', 'Poor', 'Poor', 'Poor', 'Poor', 'Good', 'Poor', 'Poor', 'Poor', 'Poor', 'Poor', 'Poor', 'Poor', 'Good', 'Poor', 'Poor', 'Good', 'Poor', 'Poor', 'Poor', 'Good', 'Poor', 'Good', 'Poor', 'Poor', 'Good', 'Good', 'Poor', 'Good', 'Poor', 'Good', 'Poor', 'Poor', 'Poor', 'Poor', 'Poor', 'Poor', 'Poor', 'Poor', 'Poor', 'Poor', 'Poor', 'Poor', 'Poor', 'Poor', 'Good', 'Poor', 'Good', 'Good', 'Poor', 'Good', 'Poor', 'Poor', 'Good', 'Poor', 'Good', 'Poor', 'Poor', 'Poor', 'Poor', 'Good', 'Good', 'Poor', 'Poor', 'Poor', 'Poor', 'Poor', 'Good', 'Poor', 'Poor', 'Good', 'Good', 'Good', 'Poor', 'Poor', 'Good', 'Poor', 'Good', 'Poor', 'Good', 'Poor', 'Poor', 'Good', 'Poor', 'Poor', 'Poor', 'Poor', 'Poor', 'Poor', 'Poor', 'Poor', 'Poor', 'Poor', 'Poor', 'Good', 'Good', 'Good', 'Poor', 'Poor', 'Good', 'Poor', 'Poor', 'Poor', 'Poor', 'Poor', 'Good', 'Poor', 'Poor', 'Poor', 'Poor', 'Good', 'Poor', 'Good', 'Good', 'Poor', 'Good', 'Good', 'Good', 'Poor', 'Poor', 'Poor', 'Poor', 'Poor', 'Poor', 'Poor', 'Poor', 'Good', 'Poor', 'Poor', 'Poor', 'Poor', 'Poor', 'Poor', 'Poor', 'Good', 'Good', 'Poor', 'Poor', 'Poor', 'Poor', 'Poor', 'Poor', 'Poor', 'Poor', 'Poor', 'Poor', 'Poor', 'Poor', 'Poor', 'Poor', 'Poor', 'Poor', 'Poor', 'Poor', 'Good', 'Poor', 'Poor', 'Poor', 'Poor', 'Poor', 'Poor', 'Good', 'Good', 'Poor', 'Poor', 'Good', 'Poor', 'Poor', 'Poor', 'Poor', 'Poor', 'Poor', 'Poor', 'Good', 'Good', 'Good', 'Good', 'Good', 'Poor', 'Good', 'Good', 'Poor', 'Poor', 'Poor', 'Poor', 'Poor', 'Poor', 'Good', 'Good', 'Poor', 'Good', 'Good', 'Poor', 'Poor', 'Good', 'Poor', 'Poor', 'Poor', 'Poor', 'Poor', 'Good', 'Poor', 'Poor', 'Good', 'Good', 'Poor', 'Poor', 'Good', 'Poor', 'Good', 'Good', 'Poor', 'Poor', 'Poor', 'Poor', 'Good', 'Poor', 'Good', 'Poor', 'Poor', 'Poor', 'Poor', 'Poor', 'Good', 'Good', 'Good', 'Good', 'Good', 'Poor', 'Good', 'Poor', 'Good', 'Good', 'Poor', 'Poor', 'Good', 'Poor', 'Good', 'Poor', 'Poor', 'Poor', 'Good', 'Poor', 'Poor', 'Poor', 'Poor', 'Poor', 'Poor', 'Good', 'Poor', 'Poor', 'Poor', 'Poor', 'Poor', 'Poor', 'Poor', 'Poor', 'Good', 'Poor', 'Poor', 'Poor', 'Good', 'Poor', 'Poor', 'Poor', 'Poor', 'Good', 'Poor', 'Poor', 'Poor', 'Poor', 'Poor', 'Poor', 'Poor', 'Poor', 'Poor', 'Poor', 'Poor', 'Poor', 'Poor', 'Poor', 'Poor', 'Good', 'Poor', 'Poor', 'Poor', 'Poor', 'Poor', 'Poor', 'Poor', 'Poor', 'Poor', 'Poor', 'Good', 'Poor', 'Poor', 'Good', 'Poor', 'Poor', 'Good', 'Poor', 'Poor', 'Poor', 'Poor', 'Poor', 'Poor', 'Poor', 'Poor', 'Poor', 'Poor', 'Poor', 'Poor', 'Poor', 'Poor', 'Poor', 'Poor', 'Poor', 'Poor', 'Poor', 'Poor', 'Poor', 'Poor', 'Good', 'Good', 'Good', 'Poor', 'Good', 'Poor', 'Poor', 'Good', 'Poor', 'Poor', 'Good', 'Good', 'Good', 'Poor', 'Poor', 'Poor', 'Poor', 'Poor', 'Poor', 'Good', 'Poor', 'Good', 'Poor', 'Poor', 'Poor', 'Poor', 'Poor', 'Poor', 'Poor', 'Poor', 'Poor', 'Poor', 'Poor', 'Poor', 'Poor', 'Poor', 'Poor', 'Poor', 'Good', 'Good', 'Poor', 'Poor', 'Poor', 'Poor', 'Poor', 'Poor', 'Poor', 'Poor', 'Poor', 'Poor', 'Poor', 'Poor', 'Poor', 'Poor', 'Poor', 'Poor', 'Poor', 'Poor', 'Poor', 'Good', 'Good', 'Good', 'Good', 'Poor', 'Poor', 'Poor', 'Poor', 'Poor', 'Poor', 'Good', 'Poor', 'Poor', 'Poor', 'Poor', 'Poor', 'Poor', 'Poor', 'Poor', 'Poor', 'Poor', 'Poor', 'Poor', 'Poor', 'Poor', 'Poor', 'Poor', 'Poor', 'Poor', 'Poor', 'Good', 'Poor', 'Poor', 'Poor', 'Poor', 'Poor', 'Poor', 'Poor', 'Poor', 'Poor', 'Poor', 'Poor', 'Poor', 'Poor', 'Poor', 'Poor', 'Poor', 'Poor', 'Poor', 'Poor', 'Poor', 'Good', 'Poor', 'Good', 'Poor', 'Good', 'Poor', 'Good', 'Poor', 'Poor', 'Good', 'Good', 'Poor', 'Poor', 'Poor', 'Poor', 'Poor', 'Good', 'Good', 'Poor', 'Poor', 'Poor', 'Good', 'Poor', 'Poor', 'Poor', 'Poor', 'Poor', 'Poor', 'Poor', 'Good', 'Good', 'Poor', 'Poor', 'Poor', 'Poor', 'Poor', 'Poor', 'Poor', 'Poor', 'Good', 'Good', 'Good', 'Good', 'Poor', 'Good', 'Poor', 'Poor', 'Good', 'Poor', 'Poor', 'Poor', 'Poor', 'Poor', 'Poor', 'Poor', 'Poor', 'Poor', 'Poor', 'Poor', 'Good', 'Poor', 'Poor', 'Good', 'Poor', 'Poor', 'Good', 'Poor', 'Poor', 'Good', 'Poor', 'Poor', 'Poor', 'Poor', 'Good', 'Poor', 'Poor', 'Poor', 'Poor', 'Poor', 'Good', 'Good', 'Good', 'Good', 'Poor', 'Good', 'Poor', 'Poor', 'Poor', 'Good', 'Poor', 'Poor', 'Poor', 'Poor', 'Poor', 'Poor', 'Poor', 'Poor', 'Poor', 'Poor', 'Poor', 'Poor', 'Poor', 'Poor', 'Poor', 'Poor', 'Poor', 'Poor', 'Poor', 'Poor', 'Poor', 'Poor', 'Poor', 'Good', 'Poor', 'Poor', 'Poor', 'Poor', 'Good', 'Good', 'Poor', 'Good', 'Poor', 'Poor', 'Poor', 'Poor', 'Poor', 'Poor', 'Poor', 'Poor', 'Poor', 'Poor', 'Poor', 'Poor', 'Poor', 'Poor', 'Poor', 'Poor', 'Poor', 'Poor', 'Poor', 'Poor', 'Poor', 'Poor', 'Poor', 'Poor', 'Poor', 'Poor', 'Poor', 'Good', 'Poor', 'Good', 'Poor', 'Poor', 'Poor', 'Poor', 'Poor', 'Poor', 'Poor', 'Poor', 'Good', 'Poor', 'Poor', 'Poor', 'Poor', 'Poor', 'Poor', 'Good', 'Poor', 'Poor', 'Poor', 'Poor', 'Poor', 'Poor', 'Poor', 'Poor', 'Good', 'Good', 'Poor', 'Poor', 'Poor', 'Poor', 'Good', 'Poor', 'Good', 'Good', 'Poor', 'Good', 'Poor', 'Poor', 'Poor', 'Poor', 'Poor', 'Poor', 'Poor', 'Good', 'Poor', 'Poor', 'Poor', 'Poor', 'Poor', 'Poor', 'Poor', 'Poor', 'Poor', 'Poor', 'Poor', 'Poor', 'Poor', 'Poor', 'Poor', 'Poor', 'Good', 'Poor', 'Good', 'Poor', 'Poor', 'Poor', 'Poor', 'Poor', 'Good', 'Poor', 'Poor', 'Poor', 'Poor', 'Poor', 'Poor', 'Good', 'Good', 'Good', 'Good', 'Good', 'Poor', 'Poor', 'Poor', 'Good', 'Poor', 'Poor', 'Poor', 'Good', 'Poor', 'Poor', 'Poor', 'Poor', 'Poor', 'Poor', 'Poor', 'Poor', 'Good', 'Poor', 'Good', 'Poor', 'Good', 'Poor', 'Poor', 'Poor', 'Poor', 'Poor', 'Poor', 'Poor', 'Good', 'Poor', 'Poor', 'Poor', 'Poor', 'Poor', 'Good', 'Good', 'Poor', 'Poor', 'Poor', 'Poor', 'Poor', 'Poor', 'Poor', 'Poor', 'Poor', 'Poor', 'Poor', 'Poor', 'Poor', 'Poor', 'Poor', 'Poor', 'Poor', 'Poor', 'Poor', 'Poor', 'Poor', 'Poor', 'Poor', 'Poor', 'Poor', 'Poor', 'Poor', 'Poor', 'Poor', 'Good', 'Poor', 'Poor', 'Poor', 'Poor', 'Poor', 'Poor', 'Poor', 'Good', 'Good', 'Poor', 'Poor', 'Poor', 'Poor', 'Poor', 'Poor', 'Good', 'Poor', 'Poor', 'Poor', 'Poor', 'Good', 'Poor', 'Poor', 'Poor', 'Poor', 'Poor', 'Poor', 'Poor', 'Poor', 'Poor', 'Poor', 'Poor', 'Poor', 'Poor', 'Poor', 'Poor', 'Poor', 'Good', 'Poor', 'Poor', 'Poor', 'Poor', 'Poor', 'Poor', 'Poor', 'Poor', 'Poor', 'Poor', 'Good', 'Poor', 'Poor', 'Poor', 'Good', 'Poor', 'Poor', 'Poor', 'Poor', 'Poor', 'Poor', 'Poor', 'Poor', 'Poor', 'Poor', 'Poor', 'Poor', 'Poor', 'Poor', 'Good', 'Poor', 'Good', 'Poor', 'Good', 'Poor', 'Poor', 'Poor', 'Poor', 'Poor', 'Poor', 'Poor', 'Poor', 'Good', 'Good', 'Good', 'Good', 'Good', 'Poor', 'Poor', 'Poor', 'Poor', 'Good', 'Poor', 'Good', 'Poor', 'Poor', 'Poor', 'Poor', 'Poor', 'Poor', 'Poor', 'Poor', 'Poor', 'Poor', 'Poor', 'Poor', 'Poor', 'Poor', 'Poor', 'Poor', 'Poor', 'Good', 'Poor', 'Poor', 'Poor', 'Poor', 'Poor', 'Poor', 'Good', 'Poor', 'Good', 'Poor', 'Poor', 'Poor', 'Poor', 'Poor', 'Poor', 'Poor', 'Poor', 'Poor', 'Poor', 'Poor', 'Poor', 'Poor', 'Poor', 'Poor', 'Poor', 'Poor', 'Poor', 'Poor', 'Poor', 'Poor', 'Poor', 'Poor', 'Poor', 'Poor', 'Poor', 'Poor', 'Poor', 'Poor', 'Poor', 'Good', 'Poor', 'Poor', 'Poor', 'Poor', 'Poor', 'Poor', 'Poor', 'Good', 'Poor', 'Poor', 'Poor', 'Poor', 'Poor', 'Poor', 'Poor', 'Poor', 'Poor', 'Poor', 'Poor', 'Good', 'Poor', 'Poor', 'Poor', 'Poor', 'Poor', 'Poor', 'Poor', 'Poor', 'Poor', 'Poor', 'Poor', 'Poor', 'Poor', 'Poor', 'Poor', 'Poor', 'Poor', 'Poor', 'Poor', 'Poor', 'Poor', 'Poor', 'Poor', 'Poor', 'Poor', 'Poor', 'Poor', 'Poor', 'Poor', 'Poor', 'Poor', 'Poor', 'Poor', 'Poor', 'Poor', 'Poor', 'Poor', 'Poor', 'Poor', 'Poor', 'Poor', 'Poor', 'Poor', 'Poor', 'Poor', 'Poor', 'Poor', 'Poor', 'Poor', 'Poor', 'Poor', 'Good', 'Poor', 'Poor', 'Good', 'Poor', 'Poor', 'Poor', 'Poor', 'Poor', 'Poor', 'Poor', 'Poor', 'Poor', 'Poor', 'Poor', 'Poor', 'Poor', 'Poor', 'Poor', 'Poor', 'Poor', 'Poor', 'Good', 'Poor', 'Poor', 'Poor', 'Poor', 'Poor', 'Poor', 'Poor', 'Poor', 'Poor', 'Poor', 'Poor', 'Poor', 'Poor', 'Poor', 'Poor', 'Poor', 'Poor', 'Good', 'Poor', 'Poor', 'Poor', 'Poor', 'Poor', 'Good', 'Good', 'Good', 'Good', 'Good', 'Poor', 'Poor', 'Good', 'Good', 'Poor', 'Good', 'Poor', 'Poor', 'Poor', 'Poor', 'Poor', 'Poor', 'Poor', 'Good', 'Poor', 'Poor', 'Poor', 'Poor', 'Poor', 'Poor', 'Poor', 'Poor', 'Poor', 'Poor', 'Poor', 'Poor', 'Poor', 'Poor', 'Poor', 'Poor', 'Poor', 'Poor', 'Poor', 'Poor', 'Poor', 'Good', 'Poor', 'Poor', 'Good', 'Poor', 'Poor', 'Poor', 'Poor', 'Poor', 'Poor', 'Poor', 'Poor', 'Good', 'Poor', 'Poor', 'Good', 'Poor', 'Good', 'Poor', 'Poor', 'Poor', 'Good', 'Poor', 'Good', 'Poor', 'Poor', 'Poor', 'Poor', 'Poor', 'Poor', 'Poor', 'Poor', 'Poor', 'Poor', 'Poor', 'Poor', 'Poor', 'Poor', 'Good', 'Poor', 'Poor', 'Poor', 'Poor', 'Poor', 'Good', 'Poor', 'Poor', 'Poor', 'Poor', 'Poor', 'Poor', 'Poor', 'Poor', 'Poor', 'Poor', 'Poor', 'Poor', 'Poor', 'Poor', 'Poor', 'Poor', 'Poor', 'Poor', 'Good', 'Poor', 'Poor', 'Poor', 'Good', 'Poor', 'Poor', 'Poor', 'Poor', 'Poor', 'Poor', 'Poor', 'Poor', 'Poor', 'Poor', 'Poor', 'Poor', 'Poor', 'Poor', 'Good', 'Good', 'Poor', 'Poor', 'Good', 'Good', 'Poor', 'Good', 'Poor', 'Good', 'Good', 'Good', 'Poor', 'Poor', 'Poor', 'Poor', 'Good', 'Poor', 'Poor', 'Poor', 'Poor', 'Poor', 'Good', 'Poor', 'Good', 'Poor', 'Poor', 'Good', 'Poor', 'Poor', 'Good', 'Poor', 'Poor', 'Poor', 'Poor', 'Poor', 'Poor', 'Poor', 'Poor', 'Poor', 'Poor', 'Poor', 'Poor', 'Poor', 'Good', 'Poor', 'Poor', 'Poor', 'Poor', 'Poor', 'Poor', 'Poor', 'Poor', 'Good', 'Poor', 'Poor', 'Poor', 'Poor', 'Poor', 'Poor', 'Poor', 'Poor', 'Poor', 'Poor', 'Good', 'Poor', 'Good', 'Poor', 'Poor', 'Poor', 'Poor', 'Poor', 'Poor', 'Poor', 'Poor', 'Poor', 'Poor', 'Poor', 'Poor', 'Poor', 'Poor', 'Good', 'Poor', 'Poor', 'Poor', 'Poor', 'Poor', 'Poor', 'Poor', 'Poor', 'Poor', 'Poor', 'Poor', 'Good', 'Poor', 'Good', 'Poor', 'Poor', 'Poor', 'Poor', 'Good', 'Good', 'Poor', 'Good', 'Poor', 'Poor', 'Poor', 'Poor', 'Poor', 'Poor', 'Poor', 'Poor', 'Poor', 'Poor', 'Poor', 'Poor', 'Poor', 'Poor', 'Poor', 'Poor', 'Poor', 'Poor', 'Poor', 'Poor', 'Poor', 'Poor', 'Poor', 'Poor', 'Poor', 'Poor', 'Poor', 'Good', 'Poor', 'Poor', 'Poor', 'Poor', 'Poor', 'Poor', 'Poor', 'Poor', 'Poor', 'Poor', 'Poor', 'Poor', 'Poor', 'Poor', 'Poor', 'Poor', 'Poor', 'Poor', 'Poor', 'Poor', 'Poor', 'Poor', 'Poor', 'Poor', 'Poor', 'Poor', 'Poor', 'Poor', 'Poor', 'Poor', 'Poor', 'Good', 'Poor', 'Poor', 'Poor', 'Poor', 'Poor', 'Poor', 'Poor', 'Poor', 'Poor', 'Poor', 'Good', 'Poor', 'Poor', 'Poor', 'Poor', 'Poor', 'Poor', 'Poor', 'Good', 'Poor', 'Poor', 'Good', 'Poor', 'Poor', 'Good', 'Poor', 'Poor', 'Poor', 'Poor', 'Poor', 'Poor', 'Poor', 'Poor', 'Poor', 'Poor', 'Poor', 'Poor', 'Poor', 'Poor', 'Poor', 'Poor', 'Poor', 'Poor', 'Poor', 'Poor', 'Poor', 'Poor', 'Poor', 'Poor', 'Poor', 'Poor', 'Poor', 'Poor', 'Poor', 'Good', 'Poor', 'Poor', 'Poor', 'Poor', 'Poor', 'Poor', 'Good', 'Good', 'Poor', 'Poor', 'Good', 'Poor', 'Poor', 'Good', 'Good', 'Poor', 'Poor', 'Good', 'Good', 'Poor', 'Poor', 'Poor', 'Poor', 'Poor', 'Poor', 'Poor', 'Good', 'Poor', 'Poor', 'Poor', 'Poor', 'Poor', 'Poor', 'Poor', 'Poor', 'Poor', 'Poor', 'Poor', 'Poor', 'Poor', 'Poor', 'Poor', 'Poor', 'Poor', 'Poor', 'Good', 'Good', 'Good', 'Poor', 'Good', 'Good', 'Poor', 'Poor', 'Poor', 'Poor', 'Poor', 'Poor', 'Poor', 'Good', 'Poor', 'Poor', 'Poor', 'Poor', 'Poor', 'Poor', 'Poor', 'Poor', 'Poor', 'Poor', 'Poor', 'Good', 'Poor', 'Poor', 'Good', 'Good', 'Good', 'Good', 'Good', 'Good', 'Poor', 'Good', 'Poor', 'Poor', 'Good', 'Poor', 'Poor', 'Good', 'Poor', 'Poor', 'Poor', 'Poor', 'Poor', 'Good', 'Poor', 'Poor', 'Good', 'Good', 'Poor', 'Poor', 'Poor', 'Poor', 'Poor', 'Poor', 'Poor', 'Good', 'Poor', 'Poor', 'Good', 'Good', 'Good', 'Good', 'Poor', 'Poor', 'Poor', 'Good', 'Good', 'Poor', 'Poor', 'Good', 'Good', 'Poor', 'Poor', 'Poor', 'Good', 'Poor', 'Poor', 'Poor', 'Poor', 'Poor', 'Poor', 'Poor', 'Poor', 'Poor', 'Poor', 'Poor', 'Poor', 'Poor', 'Good', 'Good', 'Poor', 'Poor', 'Poor', 'Poor', 'Poor', 'Good', 'Poor', 'Poor', 'Poor', 'Poor', 'Good', 'Good', 'Poor', 'Poor', 'Poor', 'Poor', 'Good', 'Good', 'Poor', 'Good', 'Good', 'Poor', 'Poor', 'Good', 'Good', 'Good', 'Poor', 'Good', 'Good', 'Poor', 'Poor', 'Poor', 'Poor', 'Poor', 'Poor', 'Poor', 'Poor', 'Poor', 'Good', 'Poor', 'Poor', 'Poor', 'Poor', 'Poor', 'Poor', 'Poor', 'Poor', 'Poor', 'Poor', 'Poor', 'Poor', 'Poor', 'Poor', 'Good', 'Poor', 'Poor', 'Poor', 'Poor', 'Poor', 'Poor', 'Poor', 'Poor', 'Poor', 'Poor', 'Poor', 'Poor', 'Poor', 'Poor', 'Poor', 'Poor', 'Poor', 'Poor', 'Poor', 'Good', 'Poor', 'Good', 'Poor', 'Poor', 'Poor', 'Poor', 'Poor', 'Poor', 'Good', 'Poor', 'Poor', 'Poor', 'Good', 'Poor', 'Poor', 'Poor', 'Good', 'Poor', 'Good', 'Poor', 'Poor', 'Poor', 'Poor', 'Poor', 'Good', 'Poor', 'Poor', 'Good', 'Poor', 'Good', 'Poor', 'Poor', 'Good', 'Poor', 'Poor', 'Poor', 'Poor', 'Poor', 'Poor', 'Poor', 'Poor', 'Poor', 'Poor', 'Poor', 'Poor', 'Poor', 'Poor', 'Poor', 'Poor', 'Good', 'Poor', 'Good', 'Good', 'Good', 'Good', 'Good', 'Poor', 'Good', 'Poor', 'Poor', 'Poor', 'Poor', 'Poor', 'Poor', 'Poor', 'Poor', 'Poor', 'Poor', 'Poor', 'Poor', 'Poor', 'Poor', 'Good', 'Poor', 'Good', 'Good', 'Poor', 'Good', 'Good', 'Poor', 'Poor', 'Poor', 'Good', 'Good', 'Poor', 'Poor', 'Poor', 'Poor', 'Good', 'Good', 'Poor', 'Poor', 'Good', 'Good', 'Poor', 'Poor', 'Good', 'Poor', 'Poor', 'Poor', 'Poor', 'Poor', 'Poor', 'Poor', 'Poor', 'Poor', 'Good', 'Good', 'Poor', 'Poor', 'Poor', 'Poor', 'Good', 'Poor', 'Poor', 'Poor', 'Poor', 'Good', 'Good', 'Poor', 'Poor', 'Poor', 'Poor', 'Poor', 'Good', 'Good', 'Poor', 'Poor', 'Poor', 'Poor', 'Poor', 'Poor', 'Poor', 'Poor', 'Good', 'Good', 'Good', 'Good', 'Poor', 'Poor', 'Poor', 'Poor', 'Poor', 'Poor', 'Poor', 'Good', 'Good', 'Poor', 'Poor', 'Good', 'Poor', 'Good', 'Good', 'Good', 'Poor', 'Poor', 'Poor', 'Poor', 'Poor', 'Poor', 'Good', 'Poor', 'Good', 'Good', 'Poor', 'Poor', 'Poor', 'Poor', 'Poor', 'Good', 'Poor', 'Poor', 'Good', 'Good', 'Poor', 'Poor', 'Poor', 'Poor', 'Poor', 'Poor', 'Good', 'Poor', 'Poor', 'Good', 'Poor', 'Poor', 'Poor', 'Poor', 'Poor', 'Poor', 'Poor', 'Good', 'Poor', 'Poor', 'Poor', 'Poor', 'Good', 'Poor', 'Poor', 'Poor', 'Poor', 'Good', 'Poor', 'Poor', 'Poor', 'Good', 'Good', 'Good', 'Poor', 'Good', 'Good', 'Poor', 'Poor', 'Poor', 'Poor', 'Poor', 'Poor', 'Good', 'Good', 'Poor', 'Poor', 'Poor', 'Good', 'Poor', 'Good', 'Poor', 'Poor', 'Poor', 'Poor', 'Poor', 'Poor', 'Poor', 'Poor', 'Good', 'Poor', 'Poor', 'Poor', 'Poor', 'Good', 'Good', 'Poor', 'Poor', 'Good', 'Poor', 'Good', 'Poor', 'Poor', 'Poor', 'Poor', 'Poor', 'Poor', 'Poor', 'Poor', 'Poor', 'Poor', 'Poor', 'Poor', 'Poor', 'Good', 'Good', 'Good', 'Poor', 'Poor', 'Poor', 'Good', 'Good', 'Good', 'Good', 'Poor', 'Good', 'Good', 'Good', 'Good', 'Good', 'Poor', 'Good', 'Poor', 'Good', 'Good', 'Good', 'Good', 'Good', 'Good', 'Poor', 'Poor', 'Poor', 'Good', 'Good', 'Poor', 'Poor', 'Poor', 'Poor', 'Poor', 'Poor', 'Poor', 'Poor', 'Poor', 'Good', 'Poor', 'Poor', 'Poor', 'Poor', 'Poor', 'Poor', 'Good', 'Poor', 'Poor', 'Poor', 'Good', 'Good', 'Poor', 'Poor', 'Poor', 'Poor', 'Good', 'Poor', 'Poor', 'Poor', 'Poor', 'Poor', 'Poor', 'Poor', 'Poor', 'Poor', 'Poor', 'Poor', 'Poor', 'Poor', 'Poor', 'Poor', 'Poor', 'Good', 'Poor', 'Poor', 'Poor', 'Poor', 'Poor', 'Poor', 'Poor', 'Poor', 'Poor', 'Good', 'Poor', 'Poor', 'Poor', 'Poor', 'Poor', 'Poor', 'Good', 'Good', 'Good', 'Poor', 'Poor', 'Poor', 'Good', 'Poor', 'Poor', 'Poor', 'Poor', 'Poor', 'Poor', 'Poor', 'Good', 'Poor', 'Poor', 'Good', 'Poor', 'Poor', 'Good', 'Poor', 'Poor', 'Poor', 'Good', 'Poor', 'Poor', 'Good', 'Poor', 'Good', 'Good', 'Good', 'Poor', 'Poor', 'Good', 'Poor', 'Poor', 'Poor', 'Poor', 'Poor', 'Poor', 'Poor', 'Good', 'Poor', 'Poor', 'Poor', 'Poor', 'Good', 'Good', 'Good', 'Poor', 'Poor', 'Poor', 'Poor', 'Poor', 'Poor', 'Poor', 'Good', 'Poor', 'Poor', 'Poor', 'Poor', 'Poor', 'Poor', 'Poor', 'Poor', 'Poor', 'Poor', 'Poor', 'Poor', 'Poor', 'Poor', 'Good', 'Poor', 'Poor', 'Poor', 'Poor', 'Poor', 'Poor', 'Poor', 'Poor', 'Poor', 'Poor', 'Poor', 'Poor', 'Poor', 'Good', 'Poor', 'Good', 'Good', 'Poor', 'Poor', 'Poor', 'Good', 'Good', 'Poor', 'Poor', 'Poor', 'Good', 'Poor', 'Poor', 'Poor', 'Poor', 'Good', 'Good', 'Good', 'Poor', 'Poor', 'Poor', 'Poor', 'Poor', 'Poor', 'Poor', 'Poor', 'Poor', 'Good', 'Poor', 'Poor', 'Good', 'Good', 'Poor', 'Good', 'Poor', 'Poor', 'Poor', 'Poor', 'Poor', 'Good', 'Poor', 'Good', 'Good', 'Good', 'Poor', 'Good', 'Good', 'Poor', 'Good', 'Good', 'Poor', 'Poor', 'Poor', 'Poor', 'Poor', 'Poor', 'Poor', 'Poor', 'Poor', 'Poor', 'Poor', 'Poor', 'Good', 'Poor', 'Poor', 'Poor', 'Poor', 'Poor', 'Good', 'Poor', 'Poor', 'Poor', 'Good', 'Poor', 'Poor', 'Poor', 'Poor', 'Poor', 'Poor', 'Poor', 'Good', 'Poor', 'Good', 'Poor', 'Good', 'Poor', 'Good', 'Good', 'Poor', 'Poor', 'Poor', 'Good', 'Good', 'Poor', 'Poor', 'Good', 'Good', 'Poor', 'Poor', 'Poor', 'Poor', 'Poor', 'Poor', 'Poor', 'Poor', 'Good', 'Good', 'Poor', 'Poor', 'Poor', 'Poor', 'Poor', 'Poor', 'Poor', 'Good', 'Good', 'Good', 'Poor', 'Poor', 'Good', 'Good', 'Poor', 'Poor', 'Poor', 'Poor', 'Good', 'Poor', 'Poor', 'Good', 'Good', 'Good', 'Poor', 'Poor', 'Poor', 'Good', 'Poor', 'Good', 'Poor', 'Poor', 'Poor', 'Poor', 'Poor', 'Good', 'Poor', 'Good', 'Poor', 'Good', 'Good', 'Good', 'Good', 'Poor', 'Poor', 'Good', 'Good', 'Good', 'Good', 'Good', 'Poor', 'Good', 'Poor', 'Poor', 'Good', 'Poor', 'Poor', 'Poor', 'Good', 'Poor', 'Poor', 'Good', 'Poor', 'Good', 'Poor', 'Poor', 'Poor', 'Poor', 'Good', 'Poor', 'Poor', 'Poor', 'Poor', 'Poor', 'Poor', 'Poor', 'Poor', 'Poor', 'Poor', 'Good', 'Poor', 'Poor', 'Poor', 'Poor', 'Poor', 'Poor', 'Poor', 'Poor', 'Poor', 'Poor', 'Good', 'Poor', 'Poor', 'Good', 'Poor', 'Poor', 'Good', 'Poor', 'Poor', 'Poor', 'Poor', 'Good', 'Poor', 'Poor', 'Poor', 'Good', 'Poor', 'Poor', 'Poor', 'Good', 'Poor', 'Poor', 'Poor', 'Poor', 'Good', 'Poor', 'Good', 'Good', 'Good', 'Poor', 'Poor', 'Poor', 'Good', 'Poor', 'Poor', 'Good', 'Poor', 'Good', 'Poor', 'Poor', 'Poor', 'Poor', 'Poor', 'Poor', 'Poor', 'Poor', 'Poor', 'Poor', 'Poor', 'Poor', 'Poor', 'Poor', 'Poor', 'Poor', 'Poor', 'Poor', 'Good', 'Poor', 'Poor', 'Poor', 'Good', 'Good', 'Poor', 'Poor', 'Poor', 'Good', 'Poor', 'Good', 'Good', 'Poor', 'Poor', 'Poor', 'Poor', 'Poor', 'Poor', 'Poor', 'Poor', 'Poor', 'Poor', 'Good', 'Poor', 'Poor', 'Poor', 'Poor', 'Poor', 'Poor', 'Poor', 'Poor', 'Good', 'Poor', 'Poor', 'Good', 'Poor', 'Poor', 'Good', 'Good', 'Good', 'Good', 'Poor', 'Poor', 'Poor', 'Poor', 'Poor', 'Good', 'Good', 'Poor', 'Poor', 'Good', 'Poor', 'Good', 'Poor', 'Poor', 'Poor', 'Poor', 'Good', 'Poor', 'Good', 'Poor', 'Poor', 'Good', 'Poor', 'Poor', 'Good', 'Good', 'Poor', 'Good', 'Good', 'Poor', 'Good', 'Good', 'Good', 'Good', 'Poor', 'Poor', 'Poor', 'Good', 'Good', 'Poor', 'Good', 'Good', 'Poor', 'Good', 'Good', 'Poor', 'Poor', 'Good', 'Good', 'Poor', 'Poor', 'Good', 'Good', 'Good', 'Poor', 'Good', 'Poor', 'Poor', 'Poor', 'Good', 'Poor', 'Poor', 'Poor', 'Good', 'Good', 'Good', 'Poor', 'Good', 'Poor', 'Good', 'Poor', 'Poor', 'Poor', 'Poor', 'Poor', 'Poor', 'Poor', 'Good', 'Poor', 'Poor', 'Poor', 'Poor', 'Poor', 'Poor', 'Poor', 'Poor', 'Good', 'Poor', 'Poor', 'Poor', 'Poor', 'Poor', 'Poor', 'Poor', 'Poor', 'Poor', 'Poor', 'Poor', 'Poor', 'Poor', 'Poor', 'Poor', 'Poor', 'Poor', 'Good', 'Poor', 'Poor', 'Poor', 'Poor', 'Poor', 'Poor', 'Poor', 'Poor', 'Poor', 'Poor', 'Poor', 'Good', 'Poor', 'Poor', 'Poor', 'Poor', 'Poor', 'Poor', 'Good', 'Poor', 'Good', 'Poor', 'Good', 'Poor', 'Good', 'Poor', 'Poor', 'Good', 'Good', 'Good', 'Poor', 'Poor', 'Poor', 'Good', 'Poor', 'Good', 'Good', 'Good', 'Good', 'Good', 'Poor', 'Good', 'Poor', 'Poor', 'Good', 'Poor', 'Good', 'Poor', 'Poor', 'Poor', 'Poor', 'Poor', 'Poor', 'Poor', 'Poor', 'Poor', 'Poor', 'Poor', 'Poor', 'Poor', 'Poor', 'Good', 'Poor', 'Good', 'Good', 'Poor', 'Poor', 'Good', 'Poor', 'Poor', 'Poor', 'Poor', 'Poor', 'Poor', 'Poor', 'Poor', 'Poor', 'Good', 'Poor', 'Good', 'Good', 'Good', 'Poor', 'Poor', 'Poor', 'Poor', 'Poor', 'Good', 'Poor', 'Good', 'Good', 'Poor', 'Poor', 'Poor', 'Poor', 'Poor', 'Poor', 'Poor', 'Good', 'Good', 'Good', 'Good', 'Good', 'Good', 'Poor', 'Poor', 'Poor', 'Good', 'Good', 'Good', 'Good', 'Poor', 'Good', 'Poor', 'Good', 'Good', 'Good', 'Poor', 'Poor', 'Good', 'Poor', 'Poor', 'Good', 'Poor', 'Good', 'Good', 'Poor', 'Good', 'Poor', 'Poor', 'Poor', 'Poor', 'Good', 'Good', 'Poor', 'Good', 'Good', 'Poor', 'Poor', 'Good', 'Poor', 'Poor', 'Poor', 'Poor', 'Poor', 'Poor', 'Poor', 'Poor', 'Poor', 'Poor', 'Poor', 'Poor', 'Poor', 'Poor', 'Poor', 'Poor', 'Poor', 'Poor', 'Poor', 'Poor', 'Poor', 'Poor', 'Poor', 'Good', 'Poor', 'Poor', 'Good', 'Poor', 'Poor', 'Good', 'Good', 'Good', 'Poor', 'Poor', 'Poor', 'Poor', 'Poor', 'Poor', 'Poor', 'Poor', 'Poor', 'Poor', 'Good', 'Good', 'Good', 'Good', 'Good', 'Good', 'Good', 'Poor', 'Poor', 'Poor', 'Poor', 'Good', 'Poor', 'Poor', 'Poor', 'Good', 'Poor', 'Poor', 'Poor', 'Poor', 'Poor', 'Poor', 'Good', 'Poor', 'Poor', 'Good', 'Poor', 'Poor', 'Poor', 'Poor', 'Poor', 'Poor', 'Poor', 'Poor', 'Poor', 'Poor', 'Poor', 'Poor', 'Poor', 'Good', 'Good', 'Poor', 'Poor', 'Poor', 'Poor', 'Poor', 'Good', 'Poor', 'Poor', 'Poor', 'Poor', 'Poor', 'Poor', 'Poor', 'Poor', 'Poor', 'Poor', 'Poor', 'Poor', 'Poor', 'Poor', 'Poor', 'Poor', 'Poor', 'Poor', 'Poor', 'Poor', 'Poor', 'Poor', 'Poor', 'Poor', 'Poor', 'Poor', 'Poor', 'Poor', 'Poor', 'Good', 'Poor', 'Poor', 'Poor', 'Poor', 'Poor', 'Poor', 'Poor', 'Poor', 'Good', 'Poor', 'Poor', 'Poor', 'Poor', 'Good', 'Good', 'Poor', 'Poor', 'Poor', 'Poor', 'Poor', 'Poor', 'Poor', 'Poor', 'Poor', 'Poor', 'Poor', 'Poor', 'Good', 'Poor', 'Poor', 'Poor', 'Poor', 'Poor', 'Poor', 'Poor', 'Good', 'Poor', 'Good', 'Poor', 'Poor', 'Poor', 'Poor', 'Poor', 'Poor', 'Poor', 'Poor', 'Poor', 'Poor', 'Good', 'Poor', 'Poor', 'Poor', 'Poor', 'Poor', 'Poor', 'Poor', 'Poor', 'Poor', 'Poor', 'Good', 'Poor', 'Poor', 'Poor', 'Poor', 'Poor', 'Poor', 'Poor', 'Poor', 'Poor', 'Poor', 'Poor', 'Poor', 'Poor', 'Poor', 'Poor', 'Poor', 'Poor', 'Poor', 'Poor', 'Poor', 'Poor', 'Poor', 'Good', 'Poor', 'Poor', 'Poor', 'Poor', 'Poor', 'Good', 'Good', 'Good', 'Good', 'Good', 'Good', 'Poor', 'Poor', 'Good', 'Poor', 'Good', 'Good', 'Poor', 'Poor', 'Good', 'Poor', 'Poor', 'Poor', 'Good', 'Poor', 'Poor', 'Poor', 'Poor', 'Poor', 'Poor', 'Poor', 'Poor', 'Poor', 'Good', 'Poor', 'Poor', 'Poor', 'Poor', 'Poor', 'Poor', 'Poor', 'Poor', 'Poor', 'Poor', 'Poor', 'Poor', 'Poor', 'Poor', 'Good', 'Poor', 'Poor', 'Poor', 'Poor', 'Poor', 'Good', 'Poor', 'Poor', 'Poor', 'Poor', 'Poor', 'Poor', 'Poor', 'Poor', 'Good', 'Good', 'Poor', 'Poor', 'Poor', 'Poor', 'Poor', 'Poor', 'Good', 'Poor', 'Poor', 'Poor', 'Poor', 'Good', 'Good', 'Poor', 'Good', 'Poor', 'Poor', 'Good', 'Good', 'Poor', 'Good', 'Poor', 'Poor', 'Poor', 'Poor', 'Poor', 'Poor', 'Poor', 'Good', 'Good', 'Good', 'Poor', 'Good', 'Good', 'Poor', 'Poor', 'Poor', 'Poor', 'Poor', 'Poor', 'Good', 'Poor', 'Poor', 'Poor', 'Poor', 'Poor', 'Poor', 'Good', 'Poor', 'Poor', 'Poor', 'Poor', 'Poor', 'Poor', 'Poor', 'Poor', 'Poor', 'Poor', 'Poor', 'Poor', 'Poor', 'Poor', 'Poor', 'Poor', 'Poor', 'Poor', 'Poor', 'Poor', 'Poor', 'Poor', 'Poor', 'Poor', 'Poor', 'Poor', 'Poor', 'Poor', 'Poor', 'Poor', 'Good', 'Good', 'Good', 'Good', 'Good', 'Poor', 'Poor', 'Poor', 'Good', 'Poor', 'Poor', 'Good', 'Good', 'Poor', 'Poor', 'Poor', 'Poor', 'Poor', 'Poor', 'Poor', 'Poor', 'Poor', 'Poor', 'Good', 'Poor', 'Poor', 'Poor', 'Poor', 'Poor', 'Poor', 'Good', 'Poor', 'Poor', 'Poor', 'Poor', 'Poor', 'Poor', 'Poor', 'Poor', 'Poor', 'Poor', 'Poor', 'Good', 'Poor', 'Poor', 'Poor', 'Poor', 'Poor', 'Poor', 'Poor', 'Poor', 'Poor', 'Good', 'Poor', 'Poor', 'Poor', 'Poor', 'Poor', 'Poor', 'Poor', 'Poor', 'Good', 'Good', 'Good', 'Poor', 'Poor', 'Poor', 'Poor', 'Poor', 'Poor', 'Poor', 'Poor', 'Poor', 'Poor', 'Poor', 'Poor', 'Good', 'Good', 'Poor', 'Poor', 'Poor', 'Poor', 'Good', 'Poor', 'Poor', 'Poor', 'Poor', 'Good', 'Poor', 'Poor', 'Poor', 'Poor', 'Poor', 'Poor', 'Poor', 'Poor', 'Poor', 'Good', 'Poor', 'Poor', 'Poor', 'Poor', 'Poor', 'Poor', 'Good', 'Good', 'Poor', 'Good', 'Poor', 'Poor', 'Poor', 'Poor', 'Poor', 'Poor', 'Poor', 'Good', 'Good', 'Good', 'Good', 'Good', 'Good', 'Poor', 'Poor', 'Good', 'Good', 'Good', 'Poor', 'Good', 'Good', 'Poor', 'Poor', 'Poor', 'Poor', 'Good', 'Poor', 'Poor', 'Good', 'Poor', 'Poor', 'Poor', 'Poor', 'Good', 'Good', 'Poor', 'Poor', 'Poor', 'Poor', 'Poor', 'Poor', 'Poor', 'Poor', 'Poor', 'Poor', 'Good', 'Poor', 'Poor', 'Poor', 'Poor', 'Poor', 'Poor', 'Poor', 'Poor', 'Poor', 'Poor', 'Poor', 'Good', 'Poor', 'Poor', 'Poor', 'Poor', 'Poor', 'Poor', 'Poor', 'Poor', 'Poor', 'Poor', 'Poor', 'Poor', 'Poor', 'Poor', 'Poor', 'Poor', 'Good', 'Poor', 'Good', 'Good', 'Poor', 'Poor', 'Poor', 'Poor', 'Poor', 'Poor', 'Poor', 'Poor', 'Poor', 'Poor', 'Poor', 'Good', 'Poor', 'Poor', 'Good', 'Poor', 'Poor', 'Poor', 'Poor', 'Poor', 'Poor', 'Poor', 'Poor', 'Poor', 'Poor', 'Poor', 'Poor', 'Poor', 'Poor', 'Poor', 'Poor', 'Poor', 'Poor', 'Good', 'Poor', 'Poor', 'Poor', 'Poor', 'Good', 'Good', 'Poor', 'Poor', 'Poor', 'Poor', 'Poor', 'Poor', 'Poor', 'Poor', 'Good', 'Poor', 'Poor', 'Poor', 'Poor', 'Poor', 'Poor', 'Poor', 'Poor', 'Poor', 'Poor', 'Poor', 'Poor', 'Poor', 'Poor', 'Poor', 'Poor', 'Poor', 'Poor', 'Poor', 'Poor', 'Poor', 'Poor', 'Poor', 'Poor', 'Poor', 'Poor', 'Poor', 'Poor', 'Poor', 'Poor', 'Good', 'Poor', 'Poor', 'Poor', 'Poor', 'Poor', 'Poor', 'Good', 'Good', 'Poor', 'Good', 'Good', 'Good', 'Poor', 'Poor', 'Good', 'Poor', 'Poor', 'Poor', 'Poor', 'Poor', 'Poor', 'Poor', 'Poor', 'Poor', 'Good', 'Good', 'Good', 'Good', 'Good', 'Good', 'Good', 'Good', 'Good', 'Poor', 'Poor', 'Poor', 'Poor', 'Poor', 'Poor', 'Good', 'Poor', 'Poor', 'Poor', 'Poor', 'Poor', 'Poor', 'Poor', 'Poor', 'Poor', 'Poor', 'Poor', 'Poor', 'Poor', 'Poor', 'Poor', 'Poor', 'Poor', 'Poor', 'Poor', 'Poor', 'Poor', 'Poor', 'Poor', 'Poor', 'Poor', 'Poor', 'Poor', 'Poor', 'Poor', 'Poor', 'Poor', 'Poor', 'Poor', 'Poor', 'Poor', 'Poor', 'Poor', 'Poor', 'Poor', 'Poor', 'Poor', 'Poor', 'Poor', 'Poor', 'Poor', 'Poor', 'Poor', 'Poor', 'Poor', 'Poor', 'Poor', 'Poor', 'Poor', 'Poor', 'Poor', 'Poor', 'Poor', 'Poor', 'Good', 'Poor', 'Poor', 'Good', 'Poor', 'Good', 'Good', 'Good', 'Good', 'Poor', 'Poor', 'Poor', 'Poor', 'Poor', 'Poor', 'Poor', 'Poor', 'Poor', 'Poor', 'Poor', 'Poor', 'Poor', 'Poor', 'Poor', 'Poor', 'Poor', 'Poor', 'Poor', 'Poor', 'Poor', 'Poor', 'Poor', 'Poor', 'Poor', 'Poor', 'Poor', 'Poor', 'Poor', 'Poor', 'Poor', 'Poor', 'Poor', 'Poor', 'Poor', 'Poor', 'Poor', 'Poor', 'Poor', 'Poor', 'Poor', 'Poor', 'Poor', 'Good', 'Poor', 'Poor', 'Poor', 'Poor', 'Poor', 'Poor', 'Poor', 'Poor', 'Poor', 'Poor', 'Poor', 'Poor', 'Poor', 'Poor', 'Poor', 'Poor', 'Poor', 'Poor', 'Poor', 'Poor', 'Poor', 'Poor', 'Poor', 'Poor', 'Poor', 'Poor', 'Poor', 'Poor', 'Poor', 'Poor', 'Poor', 'Poor', 'Poor', 'Poor', 'Poor', 'Poor', 'Poor', 'Poor', 'Poor', 'Poor', 'Poor', 'Poor', 'Poor', 'Poor', 'Good', 'Poor', 'Poor', 'Poor', 'Poor', 'Poor', 'Poor', 'Poor', 'Poor', 'Poor', 'Poor', 'Poor', 'Poor', 'Poor', 'Poor', 'Poor', 'Poor', 'Poor', 'Poor', 'Poor', 'Poor', 'Poor', 'Poor', 'Poor', 'Poor', 'Poor', 'Poor', 'Poor', 'Poor', 'Poor', 'Poor', 'Poor', 'Poor', 'Poor', 'Poor', 'Poor', 'Poor', 'Poor', 'Poor', 'Poor', 'Poor', 'Poor', 'Poor', 'Poor', 'Poor', 'Poor', 'Poor', 'Poor', 'Poor', 'Poor', 'Poor', 'Poor', 'Poor', 'Poor', 'Poor', 'Poor', 'Good', 'Poor', 'Poor', 'Good', 'Good', 'Good', 'Poor', 'Poor', 'Poor', 'Poor', 'Poor', 'Poor', 'Good', 'Good', 'Poor', 'Good', 'Good', 'Poor', 'Poor', 'Good', 'Poor', 'Poor', 'Poor', 'Poor', 'Poor', 'Poor', 'Poor', 'Poor', 'Poor', 'Poor', 'Poor', 'Poor', 'Poor', 'Poor', 'Poor', 'Poor', 'Poor', 'Poor', 'Poor', 'Poor', 'Good', 'Poor', 'Poor', 'Poor', 'Poor', 'Poor', 'Poor', 'Poor', 'Poor', 'Good', 'Poor', 'Poor', 'Poor', 'Poor', 'Poor', 'Poor', 'Good', 'Poor', 'Good', 'Good', 'Poor', 'Poor', 'Good', 'Good', 'Poor', 'Poor', 'Poor', 'Poor', 'Poor', 'Poor', 'Good', 'Good', 'Good', 'Poor', 'Poor', 'Poor', 'Poor', 'Poor', 'Poor', 'Poor', 'Poor', 'Poor', 'Poor', 'Good', 'Poor', 'Poor', 'Good', 'Good', 'Good', 'Poor', 'Poor', 'Poor', 'Good', 'Poor', 'Good', 'Good', 'Good', 'Good', 'Good', 'Poor', 'Poor', 'Poor', 'Poor', 'Poor', 'Good', 'Good', 'Poor', 'Poor', 'Good', 'Good', 'Poor', 'Poor', 'Poor', 'Poor', 'Good', 'Good', 'Poor', 'Poor', 'Good', 'Poor', 'Poor', 'Poor', 'Poor', 'Poor', 'Poor', 'Poor', 'Poor', 'Poor', 'Poor', 'Poor', 'Poor', 'Poor', 'Good', 'Poor', 'Poor', 'Good', 'Good', 'Poor', 'Good', 'Poor', 'Poor', 'Poor', 'Poor', 'Poor', 'Good', 'Poor', 'Poor', 'Good', 'Poor', 'Poor', 'Poor', 'Good', 'Poor', 'Poor', 'Poor', 'Good', 'Poor', 'Poor', 'Poor', 'Poor', 'Poor', 'Poor', 'Poor', 'Poor', 'Poor', 'Poor', 'Poor', 'Poor', 'Poor', 'Poor', 'Poor', 'Poor', 'Poor', 'Poor', 'Poor', 'Poor', 'Poor', 'Poor', 'Good', 'Poor', 'Poor', 'Poor', 'Poor', 'Poor', 'Poor', 'Poor', 'Poor', 'Poor', 'Poor', 'Poor', 'Poor', 'Poor', 'Poor', 'Good', 'Poor', 'Poor', 'Poor', 'Good', 'Good', 'Poor', 'Poor', 'Poor', 'Poor', 'Good', 'Good', 'Poor', 'Good', 'Good', 'Good', 'Poor', 'Poor', 'Poor', 'Poor', 'Poor', 'Good', 'Poor', 'Poor', 'Poor', 'Poor', 'Poor', 'Poor', 'Poor', 'Poor', 'Poor', 'Poor', 'Poor', 'Good', 'Good', 'Good', 'Poor', 'Poor', 'Poor', 'Poor', 'Poor', 'Poor', 'Poor', 'Good', 'Good', 'Poor', 'Poor', 'Poor', 'Good', 'Good', 'Good', 'Good', 'Poor', 'Poor', 'Poor', 'Poor', 'Poor', 'Poor', 'Poor', 'Poor', 'Good', 'Poor', 'Poor', 'Good', 'Poor', 'Poor', 'Poor', 'Poor', 'Poor', 'Poor', 'Poor', 'Good', 'Poor', 'Poor', 'Poor', 'Poor', 'Poor', 'Good', 'Poor', 'Poor', 'Poor', 'Poor', 'Good', 'Poor', 'Poor', 'Poor', 'Poor', 'Poor', 'Good', 'Poor', 'Poor', 'Poor', 'Poor', 'Poor', 'Poor', 'Good', 'Poor', 'Poor', 'Poor', 'Poor', 'Poor', 'Poor', 'Poor', 'Poor', 'Poor', 'Poor', 'Poor', 'Poor', 'Poor', 'Poor', 'Poor', 'Good', 'Poor', 'Poor', 'Poor', 'Poor', 'Poor', 'Poor', 'Good', 'Poor', 'Poor', 'Poor', 'Poor', 'Poor', 'Good', 'Poor', 'Poor', 'Poor', 'Poor', 'Poor', 'Poor', 'Poor', 'Poor', 'Poor', 'Good', 'Good', 'Poor', 'Poor', 'Poor', 'Poor', 'Poor', 'Poor', 'Poor', 'Poor', 'Good', 'Poor']\n"
          ]
        }
      ]
    },
    {
      "cell_type": "code",
      "source": [
        "df['quality_cat'] = quality_cat"
      ],
      "metadata": {
        "id": "CS7A01STsk76"
      },
      "execution_count": null,
      "outputs": []
    },
    {
      "cell_type": "markdown",
      "source": [
        "Let's make sure that it's working as intended."
      ],
      "metadata": {
        "id": "Vv_WLiGZtAfi"
      }
    },
    {
      "cell_type": "code",
      "source": [
        "df.info()"
      ],
      "metadata": {
        "colab": {
          "base_uri": "https://localhost:8080/"
        },
        "id": "L0mLoPtAsqqh",
        "outputId": "388084ee-2b4a-4f09-ccff-ceec7f2909c2"
      },
      "execution_count": null,
      "outputs": [
        {
          "output_type": "stream",
          "name": "stdout",
          "text": [
            "<class 'pandas.core.frame.DataFrame'>\n",
            "RangeIndex: 4898 entries, 0 to 4897\n",
            "Data columns (total 13 columns):\n",
            " #   Column                Non-Null Count  Dtype  \n",
            "---  ------                --------------  -----  \n",
            " 0   fixed acidity         4898 non-null   float64\n",
            " 1   volatile acidity      4898 non-null   float64\n",
            " 2   citric acid           4898 non-null   float64\n",
            " 3   residual sugar        4898 non-null   float64\n",
            " 4   chlorides             4898 non-null   float64\n",
            " 5   free sulfur dioxide   4898 non-null   float64\n",
            " 6   total sulfur dioxide  4898 non-null   float64\n",
            " 7   density               4898 non-null   float64\n",
            " 8   pH                    4898 non-null   float64\n",
            " 9   sulphates             4898 non-null   float64\n",
            " 10  alcohol               4898 non-null   float64\n",
            " 11  quality               4898 non-null   int64  \n",
            " 12  quality_cat           4898 non-null   object \n",
            "dtypes: float64(11), int64(1), object(1)\n",
            "memory usage: 497.6+ KB\n"
          ]
        }
      ]
    },
    {
      "cell_type": "code",
      "source": [
        "df.head()"
      ],
      "metadata": {
        "colab": {
          "base_uri": "https://localhost:8080/",
          "height": 305
        },
        "id": "mWE-1KFbsyDh",
        "outputId": "d15da311-1336-4a8a-a84c-28c9b0711f2c"
      },
      "execution_count": null,
      "outputs": [
        {
          "output_type": "execute_result",
          "data": {
            "text/plain": [
              "   fixed acidity  volatile acidity  citric acid  residual sugar  chlorides  \\\n",
              "0            7.0              0.27         0.36            20.7      0.045   \n",
              "1            6.3              0.30         0.34             1.6      0.049   \n",
              "2            8.1              0.28         0.40             6.9      0.050   \n",
              "3            7.2              0.23         0.32             8.5      0.058   \n",
              "4            7.2              0.23         0.32             8.5      0.058   \n",
              "\n",
              "   free sulfur dioxide  total sulfur dioxide  density    pH  sulphates  \\\n",
              "0                 45.0                 170.0   1.0010  3.00       0.45   \n",
              "1                 14.0                 132.0   0.9940  3.30       0.49   \n",
              "2                 30.0                  97.0   0.9951  3.26       0.44   \n",
              "3                 47.0                 186.0   0.9956  3.19       0.40   \n",
              "4                 47.0                 186.0   0.9956  3.19       0.40   \n",
              "\n",
              "   alcohol  quality quality_cat  \n",
              "0      8.8        6        Poor  \n",
              "1      9.5        6        Poor  \n",
              "2     10.1        6        Poor  \n",
              "3      9.9        6        Poor  \n",
              "4      9.9        6        Poor  "
            ],
            "text/html": [
              "\n",
              "  <div id=\"df-cb8046eb-7d86-457e-a51a-8f95afc6b133\">\n",
              "    <div class=\"colab-df-container\">\n",
              "      <div>\n",
              "<style scoped>\n",
              "    .dataframe tbody tr th:only-of-type {\n",
              "        vertical-align: middle;\n",
              "    }\n",
              "\n",
              "    .dataframe tbody tr th {\n",
              "        vertical-align: top;\n",
              "    }\n",
              "\n",
              "    .dataframe thead th {\n",
              "        text-align: right;\n",
              "    }\n",
              "</style>\n",
              "<table border=\"1\" class=\"dataframe\">\n",
              "  <thead>\n",
              "    <tr style=\"text-align: right;\">\n",
              "      <th></th>\n",
              "      <th>fixed acidity</th>\n",
              "      <th>volatile acidity</th>\n",
              "      <th>citric acid</th>\n",
              "      <th>residual sugar</th>\n",
              "      <th>chlorides</th>\n",
              "      <th>free sulfur dioxide</th>\n",
              "      <th>total sulfur dioxide</th>\n",
              "      <th>density</th>\n",
              "      <th>pH</th>\n",
              "      <th>sulphates</th>\n",
              "      <th>alcohol</th>\n",
              "      <th>quality</th>\n",
              "      <th>quality_cat</th>\n",
              "    </tr>\n",
              "  </thead>\n",
              "  <tbody>\n",
              "    <tr>\n",
              "      <th>0</th>\n",
              "      <td>7.0</td>\n",
              "      <td>0.27</td>\n",
              "      <td>0.36</td>\n",
              "      <td>20.7</td>\n",
              "      <td>0.045</td>\n",
              "      <td>45.0</td>\n",
              "      <td>170.0</td>\n",
              "      <td>1.0010</td>\n",
              "      <td>3.00</td>\n",
              "      <td>0.45</td>\n",
              "      <td>8.8</td>\n",
              "      <td>6</td>\n",
              "      <td>Poor</td>\n",
              "    </tr>\n",
              "    <tr>\n",
              "      <th>1</th>\n",
              "      <td>6.3</td>\n",
              "      <td>0.30</td>\n",
              "      <td>0.34</td>\n",
              "      <td>1.6</td>\n",
              "      <td>0.049</td>\n",
              "      <td>14.0</td>\n",
              "      <td>132.0</td>\n",
              "      <td>0.9940</td>\n",
              "      <td>3.30</td>\n",
              "      <td>0.49</td>\n",
              "      <td>9.5</td>\n",
              "      <td>6</td>\n",
              "      <td>Poor</td>\n",
              "    </tr>\n",
              "    <tr>\n",
              "      <th>2</th>\n",
              "      <td>8.1</td>\n",
              "      <td>0.28</td>\n",
              "      <td>0.40</td>\n",
              "      <td>6.9</td>\n",
              "      <td>0.050</td>\n",
              "      <td>30.0</td>\n",
              "      <td>97.0</td>\n",
              "      <td>0.9951</td>\n",
              "      <td>3.26</td>\n",
              "      <td>0.44</td>\n",
              "      <td>10.1</td>\n",
              "      <td>6</td>\n",
              "      <td>Poor</td>\n",
              "    </tr>\n",
              "    <tr>\n",
              "      <th>3</th>\n",
              "      <td>7.2</td>\n",
              "      <td>0.23</td>\n",
              "      <td>0.32</td>\n",
              "      <td>8.5</td>\n",
              "      <td>0.058</td>\n",
              "      <td>47.0</td>\n",
              "      <td>186.0</td>\n",
              "      <td>0.9956</td>\n",
              "      <td>3.19</td>\n",
              "      <td>0.40</td>\n",
              "      <td>9.9</td>\n",
              "      <td>6</td>\n",
              "      <td>Poor</td>\n",
              "    </tr>\n",
              "    <tr>\n",
              "      <th>4</th>\n",
              "      <td>7.2</td>\n",
              "      <td>0.23</td>\n",
              "      <td>0.32</td>\n",
              "      <td>8.5</td>\n",
              "      <td>0.058</td>\n",
              "      <td>47.0</td>\n",
              "      <td>186.0</td>\n",
              "      <td>0.9956</td>\n",
              "      <td>3.19</td>\n",
              "      <td>0.40</td>\n",
              "      <td>9.9</td>\n",
              "      <td>6</td>\n",
              "      <td>Poor</td>\n",
              "    </tr>\n",
              "  </tbody>\n",
              "</table>\n",
              "</div>\n",
              "      <button class=\"colab-df-convert\" onclick=\"convertToInteractive('df-cb8046eb-7d86-457e-a51a-8f95afc6b133')\"\n",
              "              title=\"Convert this dataframe to an interactive table.\"\n",
              "              style=\"display:none;\">\n",
              "        \n",
              "  <svg xmlns=\"http://www.w3.org/2000/svg\" height=\"24px\"viewBox=\"0 0 24 24\"\n",
              "       width=\"24px\">\n",
              "    <path d=\"M0 0h24v24H0V0z\" fill=\"none\"/>\n",
              "    <path d=\"M18.56 5.44l.94 2.06.94-2.06 2.06-.94-2.06-.94-.94-2.06-.94 2.06-2.06.94zm-11 1L8.5 8.5l.94-2.06 2.06-.94-2.06-.94L8.5 2.5l-.94 2.06-2.06.94zm10 10l.94 2.06.94-2.06 2.06-.94-2.06-.94-.94-2.06-.94 2.06-2.06.94z\"/><path d=\"M17.41 7.96l-1.37-1.37c-.4-.4-.92-.59-1.43-.59-.52 0-1.04.2-1.43.59L10.3 9.45l-7.72 7.72c-.78.78-.78 2.05 0 2.83L4 21.41c.39.39.9.59 1.41.59.51 0 1.02-.2 1.41-.59l7.78-7.78 2.81-2.81c.8-.78.8-2.07 0-2.86zM5.41 20L4 18.59l7.72-7.72 1.47 1.35L5.41 20z\"/>\n",
              "  </svg>\n",
              "      </button>\n",
              "      \n",
              "  <style>\n",
              "    .colab-df-container {\n",
              "      display:flex;\n",
              "      flex-wrap:wrap;\n",
              "      gap: 12px;\n",
              "    }\n",
              "\n",
              "    .colab-df-convert {\n",
              "      background-color: #E8F0FE;\n",
              "      border: none;\n",
              "      border-radius: 50%;\n",
              "      cursor: pointer;\n",
              "      display: none;\n",
              "      fill: #1967D2;\n",
              "      height: 32px;\n",
              "      padding: 0 0 0 0;\n",
              "      width: 32px;\n",
              "    }\n",
              "\n",
              "    .colab-df-convert:hover {\n",
              "      background-color: #E2EBFA;\n",
              "      box-shadow: 0px 1px 2px rgba(60, 64, 67, 0.3), 0px 1px 3px 1px rgba(60, 64, 67, 0.15);\n",
              "      fill: #174EA6;\n",
              "    }\n",
              "\n",
              "    [theme=dark] .colab-df-convert {\n",
              "      background-color: #3B4455;\n",
              "      fill: #D2E3FC;\n",
              "    }\n",
              "\n",
              "    [theme=dark] .colab-df-convert:hover {\n",
              "      background-color: #434B5C;\n",
              "      box-shadow: 0px 1px 3px 1px rgba(0, 0, 0, 0.15);\n",
              "      filter: drop-shadow(0px 1px 2px rgba(0, 0, 0, 0.3));\n",
              "      fill: #FFFFFF;\n",
              "    }\n",
              "  </style>\n",
              "\n",
              "      <script>\n",
              "        const buttonEl =\n",
              "          document.querySelector('#df-cb8046eb-7d86-457e-a51a-8f95afc6b133 button.colab-df-convert');\n",
              "        buttonEl.style.display =\n",
              "          google.colab.kernel.accessAllowed ? 'block' : 'none';\n",
              "\n",
              "        async function convertToInteractive(key) {\n",
              "          const element = document.querySelector('#df-cb8046eb-7d86-457e-a51a-8f95afc6b133');\n",
              "          const dataTable =\n",
              "            await google.colab.kernel.invokeFunction('convertToInteractive',\n",
              "                                                     [key], {});\n",
              "          if (!dataTable) return;\n",
              "\n",
              "          const docLinkHtml = 'Like what you see? Visit the ' +\n",
              "            '<a target=\"_blank\" href=https://colab.research.google.com/notebooks/data_table.ipynb>data table notebook</a>'\n",
              "            + ' to learn more about interactive tables.';\n",
              "          element.innerHTML = '';\n",
              "          dataTable['output_type'] = 'display_data';\n",
              "          await google.colab.output.renderOutput(dataTable, element);\n",
              "          const docLink = document.createElement('div');\n",
              "          docLink.innerHTML = docLinkHtml;\n",
              "          element.appendChild(docLink);\n",
              "        }\n",
              "      </script>\n",
              "    </div>\n",
              "  </div>\n",
              "  "
            ]
          },
          "metadata": {},
          "execution_count": 24
        }
      ]
    },
    {
      "cell_type": "markdown",
      "source": [
        "Let's get an idea of how many wines are poor vs good using sns."
      ],
      "metadata": {
        "id": "xUc3yo2jtkIM"
      }
    },
    {
      "cell_type": "code",
      "source": [
        "sns.countplot(x=quality_cat, data=df)"
      ],
      "metadata": {
        "colab": {
          "base_uri": "https://localhost:8080/",
          "height": 285
        },
        "id": "BhselKp1szMg",
        "outputId": "481053e3-0891-4cd0-ff6c-92109c4e2d18"
      },
      "execution_count": null,
      "outputs": [
        {
          "output_type": "execute_result",
          "data": {
            "text/plain": [
              "<Axes: ylabel='count'>"
            ]
          },
          "metadata": {},
          "execution_count": 25
        },
        {
          "output_type": "display_data",
          "data": {
            "text/plain": [
              "<Figure size 432x288 with 1 Axes>"
            ],
            "image/png": "[encoded data removed]"
          },
          "metadata": {
            "needs_background": "light"
          }
        }
      ]
    },
    {
      "cell_type": "code",
      "source": [
        "round(df['quality_cat'].value_counts()/len(df),4)"
      ],
      "metadata": {
        "colab": {
          "base_uri": "https://localhost:8080/"
        },
        "id": "rpk3scqQtf1u",
        "outputId": "2e9875e3-004c-46e8-9ed1-63da070f7ff6"
      },
      "execution_count": null,
      "outputs": [
        {
          "output_type": "execute_result",
          "data": {
            "text/plain": [
              "Poor    0.7836\n",
              "Good    0.2164\n",
              "Name: quality_cat, dtype: float64"
            ]
          },
          "metadata": {},
          "execution_count": 26
        }
      ]
    },
    {
      "cell_type": "markdown",
      "source": [
        "As you can see Poor quality wines make up about 78.36% of all our wines. While Good quality wines only make up 21.64% of our wines."
      ],
      "metadata": {
        "id": "tuWdtoYTuIfv"
      }
    },
    {
      "cell_type": "code",
      "source": [
        "pH_cat = []\n",
        "for i in df['pH']:\n",
        "  if i >= 3.27:\n",
        "    pH_cat.append('Base')\n",
        "  else:\n",
        "    pH_cat.append('Acidic')\n",
        "\n",
        "print(pH_cat)"
      ],
      "metadata": {
        "colab": {
          "base_uri": "https://localhost:8080/"
        },
        "id": "QdimE1hCt1lS",
        "outputId": "5d7dc6a6-9860-4b5a-85fd-c5b1e353849f"
      },
      "execution_count": null,
      "outputs": [
        {
          "output_type": "stream",
          "name": "stdout",
          "text": [
            "['Acidic', 'Base', 'Acidic', 'Acidic', 'Acidic', 'Acidic', 'Acidic', 'Acidic', 'Base', 'Acidic', 'Acidic', 'Acidic', 'Acidic', 'Base', 'Acidic', 'Acidic', 'Acidic', 'Base', 'Acidic', 'Acidic', 'Base', 'Acidic', 'Base', 'Acidic', 'Base', 'Acidic', 'Base', 'Base', 'Acidic', 'Acidic', 'Acidic', 'Base', 'Acidic', 'Base', 'Base', 'Acidic', 'Acidic', 'Acidic', 'Acidic', 'Acidic', 'Acidic', 'Acidic', 'Acidic', 'Acidic', 'Acidic', 'Acidic', 'Base', 'Acidic', 'Acidic', 'Base', 'Base', 'Base', 'Base', 'Base', 'Acidic', 'Acidic', 'Acidic', 'Base', 'Acidic', 'Base', 'Acidic', 'Base', 'Acidic', 'Acidic', 'Acidic', 'Acidic', 'Acidic', 'Acidic', 'Base', 'Acidic', 'Acidic', 'Base', 'Base', 'Acidic', 'Base', 'Acidic', 'Acidic', 'Base', 'Acidic', 'Base', 'Base', 'Acidic', 'Acidic', 'Base', 'Acidic', 'Acidic', 'Acidic', 'Acidic', 'Acidic', 'Acidic', 'Acidic', 'Acidic', 'Acidic', 'Acidic', 'Acidic', 'Acidic', 'Acidic', 'Acidic', 'Acidic', 'Acidic', 'Acidic', 'Base', 'Base', 'Acidic', 'Acidic', 'Acidic', 'Base', 'Acidic', 'Acidic', 'Base', 'Acidic', 'Acidic', 'Acidic', 'Acidic', 'Acidic', 'Base', 'Base', 'Acidic', 'Acidic', 'Acidic', 'Acidic', 'Acidic', 'Base', 'Base', 'Acidic', 'Base', 'Acidic', 'Base', 'Base', 'Base', 'Base', 'Base', 'Acidic', 'Acidic', 'Acidic', 'Acidic', 'Acidic', 'Acidic', 'Acidic', 'Acidic', 'Base', 'Acidic', 'Acidic', 'Acidic', 'Acidic', 'Acidic', 'Base', 'Base', 'Base', 'Acidic', 'Acidic', 'Acidic', 'Acidic', 'Acidic', 'Acidic', 'Acidic', 'Acidic', 'Base', 'Base', 'Base', 'Base', 'Acidic', 'Base', 'Acidic', 'Acidic', 'Acidic', 'Acidic', 'Acidic', 'Acidic', 'Acidic', 'Acidic', 'Acidic', 'Acidic', 'Base', 'Acidic', 'Acidic', 'Acidic', 'Base', 'Acidic', 'Acidic', 'Acidic', 'Acidic', 'Acidic', 'Acidic', 'Acidic', 'Acidic', 'Acidic', 'Acidic', 'Acidic', 'Acidic', 'Acidic', 'Acidic', 'Acidic', 'Base', 'Acidic', 'Acidic', 'Acidic', 'Acidic', 'Acidic', 'Acidic', 'Acidic', 'Acidic', 'Acidic', 'Base', 'Base', 'Acidic', 'Acidic', 'Acidic', 'Base', 'Acidic', 'Base', 'Base', 'Acidic', 'Base', 'Base', 'Base', 'Acidic', 'Base', 'Base', 'Acidic', 'Acidic', 'Acidic', 'Base', 'Base', 'Base', 'Base', 'Base', 'Acidic', 'Base', 'Base', 'Base', 'Base', 'Base', 'Acidic', 'Acidic', 'Acidic', 'Acidic', 'Base', 'Base', 'Base', 'Acidic', 'Acidic', 'Acidic', 'Base', 'Acidic', 'Base', 'Acidic', 'Acidic', 'Acidic', 'Base', 'Base', 'Acidic', 'Acidic', 'Base', 'Acidic', 'Base', 'Base', 'Base', 'Base', 'Base', 'Base', 'Acidic', 'Acidic', 'Acidic', 'Acidic', 'Acidic', 'Acidic', 'Base', 'Base', 'Base', 'Acidic', 'Base', 'Base', 'Acidic', 'Acidic', 'Acidic', 'Acidic', 'Acidic', 'Acidic', 'Acidic', 'Acidic', 'Base', 'Acidic', 'Acidic', 'Acidic', 'Acidic', 'Acidic', 'Acidic', 'Acidic', 'Acidic', 'Acidic', 'Base', 'Acidic', 'Base', 'Acidic', 'Base', 'Acidic', 'Acidic', 'Acidic', 'Acidic', 'Base', 'Acidic', 'Base', 'Base', 'Acidic', 'Acidic', 'Acidic', 'Acidic', 'Acidic', 'Acidic', 'Base', 'Base', 'Base', 'Base', 'Base', 'Acidic', 'Acidic', 'Acidic', 'Base', 'Base', 'Base', 'Acidic', 'Acidic', 'Acidic', 'Acidic', 'Acidic', 'Acidic', 'Acidic', 'Acidic', 'Acidic', 'Base', 'Acidic', 'Base', 'Acidic', 'Acidic', 'Base', 'Base', 'Base', 'Base', 'Base', 'Acidic', 'Acidic', 'Acidic', 'Base', 'Base', 'Base', 'Base', 'Acidic', 'Acidic', 'Acidic', 'Base', 'Acidic', 'Acidic', 'Acidic', 'Acidic', 'Acidic', 'Acidic', 'Acidic', 'Acidic', 'Acidic', 'Base', 'Acidic', 'Base', 'Acidic', 'Base', 'Base', 'Base', 'Acidic', 'Acidic', 'Acidic', 'Acidic', 'Acidic', 'Base', 'Acidic', 'Base', 'Base', 'Base', 'Acidic', 'Acidic', 'Base', 'Acidic', 'Acidic', 'Acidic', 'Acidic', 'Base', 'Base', 'Base', 'Acidic', 'Base', 'Acidic', 'Acidic', 'Acidic', 'Base', 'Acidic', 'Acidic', 'Acidic', 'Acidic', 'Base', 'Base', 'Base', 'Base', 'Acidic', 'Acidic', 'Acidic', 'Acidic', 'Acidic', 'Base', 'Acidic', 'Acidic', 'Acidic', 'Acidic', 'Base', 'Acidic', 'Acidic', 'Acidic', 'Base', 'Acidic', 'Acidic', 'Acidic', 'Base', 'Acidic', 'Acidic', 'Acidic', 'Acidic', 'Base', 'Acidic', 'Acidic', 'Acidic', 'Acidic', 'Acidic', 'Acidic', 'Acidic', 'Acidic', 'Acidic', 'Base', 'Base', 'Base', 'Base', 'Acidic', 'Acidic', 'Base', 'Base', 'Base', 'Acidic', 'Acidic', 'Acidic', 'Base', 'Base', 'Base', 'Base', 'Acidic', 'Acidic', 'Base', 'Base', 'Base', 'Base', 'Base', 'Acidic', 'Base', 'Base', 'Acidic', 'Acidic', 'Base', 'Acidic', 'Acidic', 'Acidic', 'Acidic', 'Acidic', 'Acidic', 'Acidic', 'Acidic', 'Acidic', 'Acidic', 'Base', 'Acidic', 'Acidic', 'Acidic', 'Acidic', 'Acidic', 'Base', 'Acidic', 'Base', 'Base', 'Acidic', 'Base', 'Base', 'Base', 'Acidic', 'Base', 'Acidic', 'Acidic', 'Acidic', 'Acidic', 'Acidic', 'Base', 'Base', 'Acidic', 'Base', 'Base', 'Acidic', 'Acidic', 'Acidic', 'Acidic', 'Acidic', 'Acidic', 'Acidic', 'Acidic', 'Base', 'Base', 'Base', 'Acidic', 'Acidic', 'Acidic', 'Acidic', 'Acidic', 'Base', 'Acidic', 'Acidic', 'Base', 'Acidic', 'Acidic', 'Acidic', 'Acidic', 'Acidic', 'Base', 'Acidic', 'Acidic', 'Base', 'Base', 'Base', 'Base', 'Acidic', 'Acidic', 'Acidic', 'Acidic', 'Acidic', 'Acidic', 'Acidic', 'Base', 'Base', 'Base', 'Acidic', 'Base', 'Acidic', 'Acidic', 'Base', 'Base', 'Base', 'Base', 'Acidic', 'Acidic', 'Acidic', 'Acidic', 'Acidic', 'Acidic', 'Acidic', 'Acidic', 'Base', 'Acidic', 'Acidic', 'Acidic', 'Acidic', 'Acidic', 'Acidic', 'Acidic', 'Acidic', 'Acidic', 'Acidic', 'Acidic', 'Acidic', 'Acidic', 'Base', 'Acidic', 'Acidic', 'Acidic', 'Acidic', 'Acidic', 'Acidic', 'Base', 'Base', 'Acidic', 'Base', 'Acidic', 'Acidic', 'Base', 'Acidic', 'Acidic', 'Base', 'Base', 'Acidic', 'Acidic', 'Base', 'Acidic', 'Acidic', 'Acidic', 'Base', 'Acidic', 'Acidic', 'Base', 'Acidic', 'Acidic', 'Acidic', 'Acidic', 'Acidic', 'Acidic', 'Acidic', 'Base', 'Base', 'Base', 'Base', 'Acidic', 'Acidic', 'Acidic', 'Acidic', 'Acidic', 'Acidic', 'Acidic', 'Acidic', 'Acidic', 'Acidic', 'Acidic', 'Acidic', 'Base', 'Acidic', 'Acidic', 'Base', 'Base', 'Acidic', 'Acidic', 'Acidic', 'Acidic', 'Acidic', 'Acidic', 'Base', 'Base', 'Base', 'Base', 'Acidic', 'Base', 'Base', 'Base', 'Acidic', 'Base', 'Base', 'Base', 'Acidic', 'Acidic', 'Acidic', 'Acidic', 'Acidic', 'Acidic', 'Acidic', 'Acidic', 'Base', 'Base', 'Acidic', 'Acidic', 'Acidic', 'Acidic', 'Acidic', 'Acidic', 'Base', 'Base', 'Acidic', 'Base', 'Base', 'Base', 'Base', 'Base', 'Acidic', 'Acidic', 'Base', 'Base', 'Base', 'Acidic', 'Acidic', 'Acidic', 'Base', 'Base', 'Base', 'Acidic', 'Acidic', 'Acidic', 'Acidic', 'Acidic', 'Acidic', 'Base', 'Acidic', 'Acidic', 'Acidic', 'Base', 'Acidic', 'Acidic', 'Acidic', 'Acidic', 'Acidic', 'Acidic', 'Acidic', 'Acidic', 'Acidic', 'Acidic', 'Base', 'Acidic', 'Acidic', 'Base', 'Acidic', 'Acidic', 'Acidic', 'Acidic', 'Acidic', 'Base', 'Acidic', 'Acidic', 'Base', 'Base', 'Base', 'Acidic', 'Acidic', 'Base', 'Base', 'Acidic', 'Base', 'Base', 'Acidic', 'Acidic', 'Acidic', 'Base', 'Acidic', 'Base', 'Acidic', 'Base', 'Acidic', 'Acidic', 'Acidic', 'Base', 'Acidic', 'Acidic', 'Base', 'Acidic', 'Acidic', 'Base', 'Base', 'Base', 'Base', 'Acidic', 'Acidic', 'Acidic', 'Acidic', 'Base', 'Acidic', 'Acidic', 'Acidic', 'Acidic', 'Acidic', 'Acidic', 'Acidic', 'Base', 'Base', 'Base', 'Base', 'Base', 'Base', 'Acidic', 'Base', 'Acidic', 'Acidic', 'Acidic', 'Acidic', 'Base', 'Base', 'Base', 'Acidic', 'Acidic', 'Base', 'Acidic', 'Acidic', 'Acidic', 'Acidic', 'Base', 'Base', 'Base', 'Acidic', 'Base', 'Base', 'Acidic', 'Base', 'Base', 'Base', 'Base', 'Base', 'Base', 'Base', 'Acidic', 'Base', 'Acidic', 'Acidic', 'Acidic', 'Base', 'Base', 'Base', 'Acidic', 'Acidic', 'Acidic', 'Base', 'Acidic', 'Acidic', 'Acidic', 'Acidic', 'Acidic', 'Acidic', 'Acidic', 'Acidic', 'Base', 'Base', 'Acidic', 'Acidic', 'Acidic', 'Acidic', 'Acidic', 'Acidic', 'Base', 'Acidic', 'Base', 'Base', 'Acidic', 'Acidic', 'Base', 'Base', 'Acidic', 'Acidic', 'Base', 'Acidic', 'Base', 'Acidic', 'Base', 'Acidic', 'Acidic', 'Acidic', 'Acidic', 'Acidic', 'Acidic', 'Acidic', 'Acidic', 'Acidic', 'Base', 'Base', 'Acidic', 'Acidic', 'Acidic', 'Base', 'Acidic', 'Acidic', 'Base', 'Acidic', 'Base', 'Base', 'Acidic', 'Acidic', 'Acidic', 'Acidic', 'Acidic', 'Base', 'Base', 'Acidic', 'Base', 'Acidic', 'Base', 'Acidic', 'Base', 'Acidic', 'Acidic', 'Acidic', 'Acidic', 'Acidic', 'Base', 'Acidic', 'Base', 'Acidic', 'Acidic', 'Base', 'Acidic', 'Acidic', 'Acidic', 'Acidic', 'Base', 'Base', 'Acidic', 'Base', 'Acidic', 'Base', 'Base', 'Base', 'Base', 'Acidic', 'Base', 'Acidic', 'Acidic', 'Acidic', 'Acidic', 'Acidic', 'Base', 'Acidic', 'Acidic', 'Acidic', 'Acidic', 'Acidic', 'Acidic', 'Base', 'Base', 'Acidic', 'Acidic', 'Acidic', 'Acidic', 'Base', 'Acidic', 'Base', 'Base', 'Acidic', 'Acidic', 'Acidic', 'Base', 'Acidic', 'Acidic', 'Acidic', 'Base', 'Base', 'Base', 'Acidic', 'Base', 'Acidic', 'Acidic', 'Acidic', 'Acidic', 'Acidic', 'Acidic', 'Acidic', 'Acidic', 'Acidic', 'Base', 'Acidic', 'Acidic', 'Acidic', 'Base', 'Acidic', 'Base', 'Base', 'Acidic', 'Acidic', 'Base', 'Acidic', 'Acidic', 'Acidic', 'Acidic', 'Acidic', 'Acidic', 'Acidic', 'Acidic', 'Base', 'Base', 'Acidic', 'Acidic', 'Acidic', 'Acidic', 'Base', 'Base', 'Acidic', 'Acidic', 'Acidic', 'Base', 'Base', 'Base', 'Base', 'Acidic', 'Base', 'Base', 'Acidic', 'Base', 'Acidic', 'Base', 'Acidic', 'Acidic', 'Base', 'Base', 'Base', 'Base', 'Base', 'Acidic', 'Acidic', 'Base', 'Acidic', 'Acidic', 'Acidic', 'Acidic', 'Base', 'Acidic', 'Acidic', 'Base', 'Base', 'Acidic', 'Acidic', 'Acidic', 'Acidic', 'Acidic', 'Base', 'Base', 'Base', 'Base', 'Base', 'Base', 'Acidic', 'Acidic', 'Acidic', 'Acidic', 'Acidic', 'Base', 'Acidic', 'Acidic', 'Acidic', 'Acidic', 'Acidic', 'Acidic', 'Acidic', 'Acidic', 'Acidic', 'Base', 'Base', 'Base', 'Acidic', 'Base', 'Acidic', 'Base', 'Base', 'Base', 'Base', 'Acidic', 'Acidic', 'Base', 'Acidic', 'Base', 'Acidic', 'Acidic', 'Acidic', 'Acidic', 'Acidic', 'Acidic', 'Acidic', 'Base', 'Acidic', 'Acidic', 'Base', 'Acidic', 'Acidic', 'Acidic', 'Acidic', 'Acidic', 'Acidic', 'Base', 'Base', 'Base', 'Base', 'Acidic', 'Base', 'Base', 'Base', 'Base', 'Acidic', 'Acidic', 'Acidic', 'Acidic', 'Base', 'Acidic', 'Acidic', 'Acidic', 'Acidic', 'Acidic', 'Acidic', 'Base', 'Acidic', 'Base', 'Base', 'Base', 'Base', 'Base', 'Acidic', 'Base', 'Acidic', 'Base', 'Acidic', 'Acidic', 'Acidic', 'Acidic', 'Acidic', 'Base', 'Acidic', 'Acidic', 'Base', 'Base', 'Base', 'Base', 'Base', 'Base', 'Base', 'Base', 'Acidic', 'Acidic', 'Base', 'Base', 'Base', 'Acidic', 'Acidic', 'Base', 'Acidic', 'Base', 'Base', 'Acidic', 'Acidic', 'Base', 'Base', 'Base', 'Base', 'Base', 'Acidic', 'Base', 'Acidic', 'Acidic', 'Acidic', 'Acidic', 'Acidic', 'Base', 'Acidic', 'Acidic', 'Acidic', 'Acidic', 'Acidic', 'Acidic', 'Base', 'Base', 'Base', 'Acidic', 'Acidic', 'Acidic', 'Acidic', 'Acidic', 'Acidic', 'Acidic', 'Acidic', 'Acidic', 'Acidic', 'Acidic', 'Acidic', 'Acidic', 'Acidic', 'Base', 'Base', 'Base', 'Base', 'Acidic', 'Acidic', 'Base', 'Acidic', 'Base', 'Acidic', 'Acidic', 'Base', 'Acidic', 'Base', 'Acidic', 'Acidic', 'Acidic', 'Base', 'Base', 'Acidic', 'Acidic', 'Base', 'Base', 'Acidic', 'Base', 'Base', 'Acidic', 'Acidic', 'Acidic', 'Acidic', 'Base', 'Acidic', 'Acidic', 'Acidic', 'Acidic', 'Acidic', 'Acidic', 'Acidic', 'Acidic', 'Acidic', 'Acidic', 'Base', 'Base', 'Acidic', 'Acidic', 'Base', 'Acidic', 'Acidic', 'Base', 'Base', 'Acidic', 'Base', 'Base', 'Acidic', 'Acidic', 'Acidic', 'Base', 'Acidic', 'Acidic', 'Base', 'Acidic', 'Base', 'Acidic', 'Acidic', 'Acidic', 'Acidic', 'Acidic', 'Acidic', 'Base', 'Base', 'Acidic', 'Acidic', 'Acidic', 'Acidic', 'Acidic', 'Acidic', 'Acidic', 'Acidic', 'Acidic', 'Acidic', 'Acidic', 'Base', 'Base', 'Acidic', 'Acidic', 'Acidic', 'Acidic', 'Acidic', 'Base', 'Base', 'Acidic', 'Acidic', 'Base', 'Acidic', 'Acidic', 'Acidic', 'Base', 'Acidic', 'Base', 'Acidic', 'Acidic', 'Base', 'Acidic', 'Base', 'Base', 'Base', 'Acidic', 'Acidic', 'Acidic', 'Base', 'Base', 'Acidic', 'Base', 'Base', 'Acidic', 'Acidic', 'Acidic', 'Acidic', 'Acidic', 'Acidic', 'Acidic', 'Acidic', 'Acidic', 'Acidic', 'Acidic', 'Acidic', 'Base', 'Base', 'Acidic', 'Acidic', 'Acidic', 'Acidic', 'Acidic', 'Acidic', 'Acidic', 'Acidic', 'Acidic', 'Base', 'Acidic', 'Acidic', 'Base', 'Acidic', 'Acidic', 'Acidic', 'Base', 'Acidic', 'Base', 'Acidic', 'Acidic', 'Acidic', 'Base', 'Acidic', 'Acidic', 'Base', 'Acidic', 'Acidic', 'Acidic', 'Acidic', 'Base', 'Acidic', 'Acidic', 'Acidic', 'Acidic', 'Acidic', 'Acidic', 'Base', 'Base', 'Acidic', 'Acidic', 'Acidic', 'Base', 'Base', 'Acidic', 'Acidic', 'Acidic', 'Acidic', 'Base', 'Acidic', 'Acidic', 'Base', 'Acidic', 'Acidic', 'Acidic', 'Base', 'Acidic', 'Base', 'Base', 'Acidic', 'Base', 'Acidic', 'Acidic', 'Base', 'Acidic', 'Base', 'Acidic', 'Acidic', 'Acidic', 'Acidic', 'Base', 'Base', 'Base', 'Base', 'Base', 'Acidic', 'Base', 'Acidic', 'Base', 'Base', 'Base', 'Base', 'Acidic', 'Acidic', 'Acidic', 'Base', 'Acidic', 'Acidic', 'Base', 'Acidic', 'Acidic', 'Acidic', 'Acidic', 'Acidic', 'Acidic', 'Base', 'Acidic', 'Acidic', 'Base', 'Acidic', 'Base', 'Base', 'Acidic', 'Acidic', 'Acidic', 'Base', 'Base', 'Base', 'Acidic', 'Acidic', 'Base', 'Acidic', 'Base', 'Base', 'Base', 'Acidic', 'Acidic', 'Acidic', 'Acidic', 'Acidic', 'Acidic', 'Acidic', 'Base', 'Base', 'Acidic', 'Acidic', 'Acidic', 'Acidic', 'Acidic', 'Acidic', 'Base', 'Acidic', 'Acidic', 'Acidic', 'Base', 'Base', 'Base', 'Acidic', 'Acidic', 'Acidic', 'Acidic', 'Base', 'Base', 'Acidic', 'Acidic', 'Acidic', 'Acidic', 'Acidic', 'Acidic', 'Base', 'Acidic', 'Base', 'Acidic', 'Acidic', 'Acidic', 'Acidic', 'Acidic', 'Acidic', 'Acidic', 'Acidic', 'Acidic', 'Acidic', 'Acidic', 'Acidic', 'Acidic', 'Acidic', 'Base', 'Acidic', 'Acidic', 'Acidic', 'Acidic', 'Acidic', 'Acidic', 'Acidic', 'Acidic', 'Acidic', 'Base', 'Acidic', 'Base', 'Acidic', 'Base', 'Base', 'Acidic', 'Acidic', 'Acidic', 'Base', 'Acidic', 'Acidic', 'Acidic', 'Acidic', 'Acidic', 'Acidic', 'Acidic', 'Acidic', 'Acidic', 'Base', 'Acidic', 'Acidic', 'Acidic', 'Base', 'Base', 'Base', 'Base', 'Acidic', 'Acidic', 'Acidic', 'Base', 'Base', 'Acidic', 'Acidic', 'Base', 'Acidic', 'Acidic', 'Acidic', 'Acidic', 'Acidic', 'Base', 'Acidic', 'Acidic', 'Acidic', 'Acidic', 'Acidic', 'Acidic', 'Base', 'Acidic', 'Acidic', 'Acidic', 'Acidic', 'Base', 'Acidic', 'Acidic', 'Acidic', 'Acidic', 'Acidic', 'Acidic', 'Acidic', 'Acidic', 'Acidic', 'Acidic', 'Acidic', 'Acidic', 'Acidic', 'Acidic', 'Base', 'Base', 'Acidic', 'Acidic', 'Acidic', 'Acidic', 'Base', 'Acidic', 'Acidic', 'Acidic', 'Acidic', 'Base', 'Acidic', 'Acidic', 'Acidic', 'Acidic', 'Acidic', 'Base', 'Acidic', 'Acidic', 'Acidic', 'Acidic', 'Acidic', 'Acidic', 'Acidic', 'Base', 'Acidic', 'Acidic', 'Acidic', 'Base', 'Base', 'Base', 'Base', 'Acidic', 'Acidic', 'Base', 'Acidic', 'Base', 'Acidic', 'Base', 'Base', 'Acidic', 'Acidic', 'Acidic', 'Base', 'Base', 'Acidic', 'Acidic', 'Base', 'Base', 'Acidic', 'Acidic', 'Base', 'Base', 'Base', 'Base', 'Acidic', 'Acidic', 'Acidic', 'Acidic', 'Base', 'Acidic', 'Acidic', 'Acidic', 'Acidic', 'Acidic', 'Base', 'Acidic', 'Base', 'Acidic', 'Acidic', 'Acidic', 'Acidic', 'Acidic', 'Acidic', 'Base', 'Acidic', 'Acidic', 'Acidic', 'Base', 'Base', 'Acidic', 'Base', 'Acidic', 'Base', 'Acidic', 'Acidic', 'Acidic', 'Acidic', 'Acidic', 'Acidic', 'Acidic', 'Base', 'Acidic', 'Acidic', 'Acidic', 'Base', 'Acidic', 'Acidic', 'Acidic', 'Base', 'Acidic', 'Base', 'Base', 'Acidic', 'Acidic', 'Acidic', 'Acidic', 'Acidic', 'Base', 'Acidic', 'Acidic', 'Acidic', 'Acidic', 'Acidic', 'Acidic', 'Acidic', 'Acidic', 'Base', 'Base', 'Acidic', 'Base', 'Acidic', 'Base', 'Acidic', 'Base', 'Base', 'Acidic', 'Acidic', 'Acidic', 'Acidic', 'Acidic', 'Acidic', 'Acidic', 'Acidic', 'Acidic', 'Acidic', 'Acidic', 'Acidic', 'Acidic', 'Acidic', 'Base', 'Base', 'Acidic', 'Acidic', 'Acidic', 'Acidic', 'Acidic', 'Base', 'Acidic', 'Acidic', 'Base', 'Acidic', 'Base', 'Acidic', 'Base', 'Base', 'Acidic', 'Base', 'Acidic', 'Acidic', 'Acidic', 'Acidic', 'Base', 'Acidic', 'Base', 'Base', 'Acidic', 'Acidic', 'Base', 'Acidic', 'Base', 'Acidic', 'Acidic', 'Base', 'Base', 'Base', 'Base', 'Acidic', 'Acidic', 'Acidic', 'Acidic', 'Base', 'Base', 'Base', 'Base', 'Base', 'Acidic', 'Acidic', 'Acidic', 'Base', 'Acidic', 'Base', 'Acidic', 'Acidic', 'Acidic', 'Base', 'Base', 'Base', 'Acidic', 'Base', 'Base', 'Base', 'Acidic', 'Base', 'Acidic', 'Acidic', 'Acidic', 'Base', 'Acidic', 'Acidic', 'Base', 'Base', 'Acidic', 'Base', 'Acidic', 'Acidic', 'Acidic', 'Acidic', 'Acidic', 'Acidic', 'Acidic', 'Acidic', 'Acidic', 'Acidic', 'Base', 'Acidic', 'Acidic', 'Base', 'Acidic', 'Base', 'Base', 'Acidic', 'Acidic', 'Acidic', 'Acidic', 'Acidic', 'Base', 'Acidic', 'Base', 'Base', 'Acidic', 'Acidic', 'Acidic', 'Base', 'Acidic', 'Acidic', 'Acidic', 'Base', 'Acidic', 'Acidic', 'Acidic', 'Acidic', 'Base', 'Base', 'Base', 'Base', 'Acidic', 'Base', 'Acidic', 'Base', 'Base', 'Acidic', 'Acidic', 'Base', 'Acidic', 'Acidic', 'Acidic', 'Base', 'Acidic', 'Base', 'Base', 'Acidic', 'Acidic', 'Base', 'Acidic', 'Base', 'Acidic', 'Acidic', 'Acidic', 'Base', 'Acidic', 'Acidic', 'Acidic', 'Base', 'Acidic', 'Base', 'Acidic', 'Acidic', 'Base', 'Acidic', 'Acidic', 'Acidic', 'Base', 'Acidic', 'Base', 'Acidic', 'Acidic', 'Acidic', 'Acidic', 'Base', 'Acidic', 'Base', 'Acidic', 'Base', 'Base', 'Acidic', 'Acidic', 'Acidic', 'Acidic', 'Acidic', 'Base', 'Acidic', 'Acidic', 'Base', 'Base', 'Acidic', 'Base', 'Base', 'Acidic', 'Base', 'Base', 'Base', 'Acidic', 'Base', 'Acidic', 'Acidic', 'Acidic', 'Base', 'Base', 'Base', 'Base', 'Acidic', 'Acidic', 'Acidic', 'Acidic', 'Acidic', 'Base', 'Acidic', 'Acidic', 'Acidic', 'Base', 'Acidic', 'Base', 'Acidic', 'Acidic', 'Acidic', 'Base', 'Base', 'Acidic', 'Acidic', 'Acidic', 'Base', 'Acidic', 'Acidic', 'Acidic', 'Acidic', 'Acidic', 'Acidic', 'Acidic', 'Acidic', 'Base', 'Acidic', 'Acidic', 'Base', 'Base', 'Acidic', 'Acidic', 'Acidic', 'Base', 'Base', 'Acidic', 'Acidic', 'Acidic', 'Acidic', 'Base', 'Base', 'Acidic', 'Acidic', 'Acidic', 'Acidic', 'Acidic', 'Acidic', 'Acidic', 'Acidic', 'Acidic', 'Acidic', 'Acidic', 'Acidic', 'Acidic', 'Acidic', 'Acidic', 'Acidic', 'Acidic', 'Acidic', 'Acidic', 'Acidic', 'Acidic', 'Acidic', 'Base', 'Acidic', 'Acidic', 'Acidic', 'Acidic', 'Acidic', 'Acidic', 'Acidic', 'Acidic', 'Acidic', 'Acidic', 'Acidic', 'Acidic', 'Acidic', 'Acidic', 'Acidic', 'Base', 'Acidic', 'Acidic', 'Acidic', 'Acidic', 'Acidic', 'Acidic', 'Acidic', 'Base', 'Acidic', 'Base', 'Acidic', 'Acidic', 'Acidic', 'Acidic', 'Base', 'Acidic', 'Acidic', 'Base', 'Base', 'Acidic', 'Acidic', 'Acidic', 'Acidic', 'Acidic', 'Acidic', 'Acidic', 'Acidic', 'Acidic', 'Acidic', 'Base', 'Base', 'Acidic', 'Base', 'Acidic', 'Acidic', 'Acidic', 'Acidic', 'Base', 'Acidic', 'Acidic', 'Acidic', 'Acidic', 'Acidic', 'Acidic', 'Acidic', 'Acidic', 'Acidic', 'Acidic', 'Acidic', 'Acidic', 'Acidic', 'Acidic', 'Acidic', 'Base', 'Acidic', 'Base', 'Base', 'Base', 'Base', 'Base', 'Acidic', 'Acidic', 'Acidic', 'Base', 'Acidic', 'Base', 'Base', 'Base', 'Base', 'Base', 'Acidic', 'Acidic', 'Base', 'Base', 'Acidic', 'Acidic', 'Acidic', 'Base', 'Acidic', 'Acidic', 'Acidic', 'Acidic', 'Acidic', 'Acidic', 'Acidic', 'Acidic', 'Acidic', 'Acidic', 'Acidic', 'Acidic', 'Acidic', 'Acidic', 'Acidic', 'Acidic', 'Base', 'Acidic', 'Acidic', 'Base', 'Acidic', 'Base', 'Acidic', 'Acidic', 'Base', 'Base', 'Acidic', 'Base', 'Acidic', 'Base', 'Acidic', 'Acidic', 'Base', 'Acidic', 'Base', 'Base', 'Acidic', 'Acidic', 'Acidic', 'Base', 'Base', 'Acidic', 'Acidic', 'Acidic', 'Base', 'Acidic', 'Base', 'Base', 'Acidic', 'Acidic', 'Acidic', 'Base', 'Acidic', 'Acidic', 'Acidic', 'Base', 'Base', 'Base', 'Base', 'Base', 'Base', 'Base', 'Base', 'Base', 'Acidic', 'Acidic', 'Acidic', 'Base', 'Base', 'Acidic', 'Acidic', 'Acidic', 'Base', 'Acidic', 'Acidic', 'Base', 'Acidic', 'Acidic', 'Base', 'Acidic', 'Base', 'Base', 'Base', 'Base', 'Acidic', 'Acidic', 'Acidic', 'Base', 'Acidic', 'Acidic', 'Acidic', 'Base', 'Acidic', 'Base', 'Base', 'Base', 'Base', 'Acidic', 'Base', 'Acidic', 'Acidic', 'Base', 'Acidic', 'Acidic', 'Acidic', 'Base', 'Acidic', 'Acidic', 'Acidic', 'Base', 'Acidic', 'Base', 'Base', 'Base', 'Base', 'Base', 'Acidic', 'Acidic', 'Base', 'Acidic', 'Base', 'Base', 'Acidic', 'Base', 'Base', 'Acidic', 'Base', 'Acidic', 'Base', 'Base', 'Acidic', 'Acidic', 'Acidic', 'Acidic', 'Base', 'Acidic', 'Base', 'Acidic', 'Acidic', 'Acidic', 'Acidic', 'Base', 'Base', 'Base', 'Acidic', 'Acidic', 'Acidic', 'Acidic', 'Acidic', 'Acidic', 'Acidic', 'Acidic', 'Acidic', 'Acidic', 'Acidic', 'Acidic', 'Acidic', 'Acidic', 'Acidic', 'Acidic', 'Acidic', 'Acidic', 'Acidic', 'Base', 'Acidic', 'Acidic', 'Acidic', 'Base', 'Acidic', 'Acidic', 'Acidic', 'Base', 'Acidic', 'Base', 'Acidic', 'Base', 'Acidic', 'Base', 'Acidic', 'Acidic', 'Acidic', 'Acidic', 'Acidic', 'Acidic', 'Acidic', 'Acidic', 'Acidic', 'Acidic', 'Acidic', 'Acidic', 'Acidic', 'Acidic', 'Acidic', 'Acidic', 'Base', 'Acidic', 'Base', 'Acidic', 'Acidic', 'Base', 'Acidic', 'Base', 'Base', 'Acidic', 'Acidic', 'Acidic', 'Base', 'Acidic', 'Acidic', 'Acidic', 'Acidic', 'Acidic', 'Acidic', 'Acidic', 'Acidic', 'Acidic', 'Base', 'Acidic', 'Base', 'Acidic', 'Acidic', 'Base', 'Base', 'Acidic', 'Acidic', 'Acidic', 'Base', 'Acidic', 'Acidic', 'Acidic', 'Base', 'Base', 'Acidic', 'Acidic', 'Base', 'Acidic', 'Acidic', 'Acidic', 'Base', 'Acidic', 'Acidic', 'Acidic', 'Acidic', 'Acidic', 'Acidic', 'Acidic', 'Acidic', 'Base', 'Acidic', 'Acidic', 'Base', 'Base', 'Acidic', 'Base', 'Base', 'Base', 'Base', 'Base', 'Acidic', 'Acidic', 'Base', 'Acidic', 'Acidic', 'Base', 'Base', 'Acidic', 'Acidic', 'Acidic', 'Acidic', 'Acidic', 'Acidic', 'Acidic', 'Acidic', 'Base', 'Acidic', 'Acidic', 'Acidic', 'Base', 'Acidic', 'Base', 'Acidic', 'Base', 'Base', 'Base', 'Base', 'Acidic', 'Acidic', 'Acidic', 'Base', 'Acidic', 'Acidic', 'Acidic', 'Acidic', 'Acidic', 'Base', 'Acidic', 'Base', 'Base', 'Base', 'Acidic', 'Acidic', 'Acidic', 'Base', 'Acidic', 'Base', 'Acidic', 'Base', 'Acidic', 'Acidic', 'Acidic', 'Acidic', 'Acidic', 'Acidic', 'Acidic', 'Acidic', 'Base', 'Base', 'Base', 'Acidic', 'Base', 'Acidic', 'Base', 'Acidic', 'Base', 'Base', 'Acidic', 'Base', 'Acidic', 'Acidic', 'Acidic', 'Acidic', 'Acidic', 'Acidic', 'Base', 'Acidic', 'Acidic', 'Base', 'Base', 'Acidic', 'Base', 'Acidic', 'Acidic', 'Acidic', 'Acidic', 'Base', 'Base', 'Base', 'Base', 'Acidic', 'Acidic', 'Acidic', 'Acidic', 'Base', 'Base', 'Acidic', 'Base', 'Acidic', 'Base', 'Base', 'Base', 'Base', 'Acidic', 'Base', 'Base', 'Base', 'Acidic', 'Base', 'Acidic', 'Acidic', 'Base', 'Base', 'Acidic', 'Base', 'Base', 'Acidic', 'Acidic', 'Acidic', 'Base', 'Base', 'Acidic', 'Acidic', 'Acidic', 'Base', 'Acidic', 'Acidic', 'Acidic', 'Acidic', 'Acidic', 'Acidic', 'Acidic', 'Base', 'Acidic', 'Base', 'Base', 'Acidic', 'Base', 'Base', 'Base', 'Acidic', 'Base', 'Acidic', 'Acidic', 'Base', 'Acidic', 'Acidic', 'Base', 'Base', 'Base', 'Base', 'Base', 'Acidic', 'Base', 'Acidic', 'Acidic', 'Acidic', 'Acidic', 'Acidic', 'Acidic', 'Acidic', 'Acidic', 'Acidic', 'Acidic', 'Base', 'Acidic', 'Acidic', 'Acidic', 'Acidic', 'Acidic', 'Acidic', 'Acidic', 'Base', 'Base', 'Base', 'Base', 'Base', 'Base', 'Base', 'Base', 'Acidic', 'Acidic', 'Acidic', 'Acidic', 'Acidic', 'Acidic', 'Acidic', 'Acidic', 'Base', 'Acidic', 'Acidic', 'Acidic', 'Acidic', 'Acidic', 'Acidic', 'Acidic', 'Base', 'Acidic', 'Acidic', 'Base', 'Acidic', 'Acidic', 'Base', 'Acidic', 'Base', 'Acidic', 'Acidic', 'Acidic', 'Acidic', 'Acidic', 'Acidic', 'Acidic', 'Acidic', 'Acidic', 'Acidic', 'Base', 'Acidic', 'Acidic', 'Acidic', 'Acidic', 'Acidic', 'Acidic', 'Base', 'Base', 'Base', 'Base', 'Acidic', 'Acidic', 'Acidic', 'Acidic', 'Acidic', 'Acidic', 'Base', 'Base', 'Acidic', 'Acidic', 'Acidic', 'Base', 'Acidic', 'Base', 'Acidic', 'Base', 'Acidic', 'Acidic', 'Acidic', 'Acidic', 'Base', 'Acidic', 'Acidic', 'Acidic', 'Acidic', 'Base', 'Base', 'Base', 'Acidic', 'Base', 'Acidic', 'Acidic', 'Acidic', 'Acidic', 'Acidic', 'Acidic', 'Base', 'Base', 'Base', 'Acidic', 'Acidic', 'Acidic', 'Acidic', 'Acidic', 'Acidic', 'Base', 'Acidic', 'Acidic', 'Acidic', 'Acidic', 'Acidic', 'Acidic', 'Acidic', 'Acidic', 'Acidic', 'Acidic', 'Acidic', 'Acidic', 'Acidic', 'Acidic', 'Acidic', 'Acidic', 'Acidic', 'Acidic', 'Acidic', 'Acidic', 'Base', 'Acidic', 'Base', 'Base', 'Acidic', 'Base', 'Acidic', 'Acidic', 'Acidic', 'Acidic', 'Acidic', 'Base', 'Acidic', 'Acidic', 'Acidic', 'Acidic', 'Acidic', 'Acidic', 'Acidic', 'Acidic', 'Acidic', 'Acidic', 'Acidic', 'Base', 'Base', 'Acidic', 'Acidic', 'Base', 'Acidic', 'Acidic', 'Acidic', 'Acidic', 'Base', 'Acidic', 'Base', 'Acidic', 'Base', 'Base', 'Acidic', 'Base', 'Acidic', 'Acidic', 'Acidic', 'Acidic', 'Acidic', 'Base', 'Acidic', 'Base', 'Base', 'Base', 'Base', 'Acidic', 'Acidic', 'Acidic', 'Acidic', 'Acidic', 'Base', 'Base', 'Base', 'Base', 'Base', 'Base', 'Base', 'Base', 'Acidic', 'Acidic', 'Acidic', 'Acidic', 'Acidic', 'Acidic', 'Acidic', 'Base', 'Acidic', 'Acidic', 'Acidic', 'Acidic', 'Acidic', 'Acidic', 'Base', 'Base', 'Acidic', 'Base', 'Acidic', 'Acidic', 'Acidic', 'Acidic', 'Acidic', 'Base', 'Acidic', 'Acidic', 'Base', 'Acidic', 'Acidic', 'Acidic', 'Acidic', 'Acidic', 'Acidic', 'Base', 'Base', 'Base', 'Acidic', 'Acidic', 'Acidic', 'Base', 'Base', 'Acidic', 'Acidic', 'Acidic', 'Acidic', 'Acidic', 'Acidic', 'Acidic', 'Acidic', 'Acidic', 'Acidic', 'Acidic', 'Acidic', 'Base', 'Acidic', 'Acidic', 'Acidic', 'Acidic', 'Acidic', 'Acidic', 'Acidic', 'Acidic', 'Base', 'Acidic', 'Base', 'Acidic', 'Acidic', 'Acidic', 'Acidic', 'Acidic', 'Acidic', 'Acidic', 'Acidic', 'Acidic', 'Acidic', 'Acidic', 'Acidic', 'Acidic', 'Acidic', 'Acidic', 'Base', 'Acidic', 'Acidic', 'Acidic', 'Acidic', 'Acidic', 'Acidic', 'Acidic', 'Acidic', 'Acidic', 'Acidic', 'Acidic', 'Base', 'Acidic', 'Acidic', 'Base', 'Acidic', 'Acidic', 'Base', 'Acidic', 'Acidic', 'Acidic', 'Base', 'Acidic', 'Acidic', 'Acidic', 'Acidic', 'Acidic', 'Acidic', 'Acidic', 'Acidic', 'Acidic', 'Acidic', 'Acidic', 'Acidic', 'Acidic', 'Acidic', 'Base', 'Acidic', 'Base', 'Acidic', 'Acidic', 'Base', 'Acidic', 'Base', 'Acidic', 'Base', 'Base', 'Acidic', 'Acidic', 'Acidic', 'Acidic', 'Acidic', 'Acidic', 'Acidic', 'Acidic', 'Acidic', 'Acidic', 'Acidic', 'Acidic', 'Base', 'Base', 'Acidic', 'Acidic', 'Acidic', 'Acidic', 'Base', 'Acidic', 'Acidic', 'Base', 'Base', 'Base', 'Base', 'Base', 'Acidic', 'Acidic', 'Acidic', 'Acidic', 'Acidic', 'Base', 'Acidic', 'Acidic', 'Acidic', 'Acidic', 'Acidic', 'Acidic', 'Acidic', 'Acidic', 'Acidic', 'Acidic', 'Acidic', 'Base', 'Acidic', 'Acidic', 'Base', 'Acidic', 'Acidic', 'Acidic', 'Base', 'Acidic', 'Acidic', 'Base', 'Base', 'Base', 'Acidic', 'Acidic', 'Base', 'Acidic', 'Base', 'Acidic', 'Base', 'Acidic', 'Acidic', 'Acidic', 'Acidic', 'Acidic', 'Base', 'Base', 'Acidic', 'Acidic', 'Acidic', 'Acidic', 'Acidic', 'Base', 'Acidic', 'Acidic', 'Acidic', 'Acidic', 'Acidic', 'Acidic', 'Base', 'Acidic', 'Acidic', 'Acidic', 'Acidic', 'Acidic', 'Base', 'Acidic', 'Acidic', 'Acidic', 'Acidic', 'Acidic', 'Base', 'Acidic', 'Acidic', 'Base', 'Acidic', 'Acidic', 'Acidic', 'Acidic', 'Acidic', 'Base', 'Acidic', 'Base', 'Base', 'Base', 'Acidic', 'Acidic', 'Acidic', 'Acidic', 'Acidic', 'Base', 'Acidic', 'Acidic', 'Acidic', 'Acidic', 'Acidic', 'Base', 'Acidic', 'Acidic', 'Acidic', 'Acidic', 'Acidic', 'Acidic', 'Acidic', 'Acidic', 'Base', 'Acidic', 'Acidic', 'Acidic', 'Acidic', 'Acidic', 'Base', 'Acidic', 'Base', 'Base', 'Acidic', 'Acidic', 'Base', 'Base', 'Base', 'Base', 'Base', 'Base', 'Acidic', 'Acidic', 'Base', 'Acidic', 'Acidic', 'Acidic', 'Base', 'Base', 'Acidic', 'Acidic', 'Acidic', 'Acidic', 'Acidic', 'Acidic', 'Acidic', 'Acidic', 'Base', 'Acidic', 'Acidic', 'Acidic', 'Acidic', 'Base', 'Acidic', 'Acidic', 'Acidic', 'Acidic', 'Base', 'Acidic', 'Acidic', 'Base', 'Acidic', 'Base', 'Acidic', 'Acidic', 'Acidic', 'Acidic', 'Acidic', 'Acidic', 'Acidic', 'Acidic', 'Base', 'Base', 'Base', 'Acidic', 'Acidic', 'Acidic', 'Base', 'Acidic', 'Acidic', 'Base', 'Acidic', 'Acidic', 'Acidic', 'Base', 'Acidic', 'Acidic', 'Acidic', 'Acidic', 'Acidic', 'Base', 'Base', 'Acidic', 'Acidic', 'Acidic', 'Acidic', 'Acidic', 'Acidic', 'Acidic', 'Acidic', 'Acidic', 'Acidic', 'Acidic', 'Acidic', 'Acidic', 'Acidic', 'Acidic', 'Acidic', 'Base', 'Acidic', 'Acidic', 'Acidic', 'Acidic', 'Acidic', 'Acidic', 'Acidic', 'Base', 'Base', 'Acidic', 'Acidic', 'Acidic', 'Acidic', 'Acidic', 'Acidic', 'Acidic', 'Acidic', 'Acidic', 'Acidic', 'Base', 'Acidic', 'Acidic', 'Acidic', 'Acidic', 'Base', 'Base', 'Acidic', 'Acidic', 'Acidic', 'Acidic', 'Acidic', 'Acidic', 'Acidic', 'Acidic', 'Acidic', 'Acidic', 'Acidic', 'Acidic', 'Base', 'Acidic', 'Acidic', 'Acidic', 'Base', 'Acidic', 'Acidic', 'Acidic', 'Acidic', 'Acidic', 'Acidic', 'Base', 'Acidic', 'Acidic', 'Acidic', 'Base', 'Acidic', 'Acidic', 'Acidic', 'Acidic', 'Acidic', 'Acidic', 'Acidic', 'Acidic', 'Acidic', 'Acidic', 'Acidic', 'Acidic', 'Acidic', 'Base', 'Acidic', 'Acidic', 'Acidic', 'Acidic', 'Acidic', 'Acidic', 'Acidic', 'Acidic', 'Acidic', 'Acidic', 'Acidic', 'Acidic', 'Acidic', 'Acidic', 'Acidic', 'Acidic', 'Acidic', 'Acidic', 'Acidic', 'Acidic', 'Acidic', 'Acidic', 'Acidic', 'Base', 'Acidic', 'Acidic', 'Acidic', 'Acidic', 'Base', 'Acidic', 'Acidic', 'Base', 'Acidic', 'Acidic', 'Acidic', 'Acidic', 'Acidic', 'Acidic', 'Acidic', 'Acidic', 'Acidic', 'Acidic', 'Acidic', 'Acidic', 'Acidic', 'Acidic', 'Acidic', 'Base', 'Acidic', 'Acidic', 'Acidic', 'Acidic', 'Acidic', 'Acidic', 'Acidic', 'Acidic', 'Acidic', 'Acidic', 'Base', 'Acidic', 'Acidic', 'Acidic', 'Acidic', 'Acidic', 'Acidic', 'Acidic', 'Acidic', 'Acidic', 'Acidic', 'Acidic', 'Acidic', 'Base', 'Base', 'Acidic', 'Acidic', 'Acidic', 'Acidic', 'Base', 'Acidic', 'Acidic', 'Acidic', 'Acidic', 'Acidic', 'Acidic', 'Acidic', 'Base', 'Acidic', 'Acidic', 'Acidic', 'Acidic', 'Acidic', 'Acidic', 'Base', 'Acidic', 'Acidic', 'Acidic', 'Acidic', 'Acidic', 'Acidic', 'Base', 'Acidic', 'Acidic', 'Acidic', 'Base', 'Acidic', 'Acidic', 'Acidic', 'Acidic', 'Base', 'Acidic', 'Acidic', 'Acidic', 'Acidic', 'Acidic', 'Acidic', 'Acidic', 'Acidic', 'Acidic', 'Acidic', 'Acidic', 'Acidic', 'Acidic', 'Acidic', 'Acidic', 'Acidic', 'Acidic', 'Base', 'Acidic', 'Acidic', 'Acidic', 'Acidic', 'Acidic', 'Acidic', 'Acidic', 'Acidic', 'Acidic', 'Acidic', 'Acidic', 'Acidic', 'Base', 'Acidic', 'Acidic', 'Acidic', 'Acidic', 'Acidic', 'Acidic', 'Acidic', 'Acidic', 'Acidic', 'Acidic', 'Acidic', 'Acidic', 'Acidic', 'Base', 'Acidic', 'Acidic', 'Acidic', 'Base', 'Acidic', 'Acidic', 'Acidic', 'Acidic', 'Acidic', 'Base', 'Acidic', 'Acidic', 'Acidic', 'Acidic', 'Base', 'Acidic', 'Acidic', 'Acidic', 'Acidic', 'Acidic', 'Acidic', 'Base', 'Acidic', 'Acidic', 'Base', 'Acidic', 'Acidic', 'Acidic', 'Acidic', 'Acidic', 'Acidic', 'Acidic', 'Acidic', 'Acidic', 'Acidic', 'Acidic', 'Acidic', 'Base', 'Acidic', 'Acidic', 'Acidic', 'Acidic', 'Acidic', 'Acidic', 'Acidic', 'Acidic', 'Acidic', 'Acidic', 'Base', 'Acidic', 'Acidic', 'Acidic', 'Acidic', 'Acidic', 'Acidic', 'Acidic', 'Acidic', 'Acidic', 'Acidic', 'Base', 'Base', 'Acidic', 'Acidic', 'Base', 'Base', 'Acidic', 'Base', 'Acidic', 'Base', 'Base', 'Acidic', 'Acidic', 'Acidic', 'Base', 'Acidic', 'Acidic', 'Acidic', 'Acidic', 'Acidic', 'Acidic', 'Acidic', 'Acidic', 'Acidic', 'Acidic', 'Acidic', 'Acidic', 'Acidic', 'Acidic', 'Acidic', 'Base', 'Acidic', 'Acidic', 'Acidic', 'Base', 'Acidic', 'Acidic', 'Acidic', 'Acidic', 'Base', 'Base', 'Acidic', 'Base', 'Acidic', 'Acidic', 'Acidic', 'Acidic', 'Base', 'Acidic', 'Acidic', 'Acidic', 'Acidic', 'Acidic', 'Acidic', 'Acidic', 'Base', 'Acidic', 'Base', 'Base', 'Acidic', 'Acidic', 'Acidic', 'Acidic', 'Base', 'Base', 'Acidic', 'Acidic', 'Acidic', 'Acidic', 'Acidic', 'Acidic', 'Acidic', 'Acidic', 'Acidic', 'Acidic', 'Acidic', 'Base', 'Acidic', 'Acidic', 'Acidic', 'Acidic', 'Acidic', 'Acidic', 'Acidic', 'Acidic', 'Base', 'Acidic', 'Acidic', 'Acidic', 'Acidic', 'Base', 'Acidic', 'Acidic', 'Acidic', 'Acidic', 'Acidic', 'Acidic', 'Base', 'Acidic', 'Acidic', 'Acidic', 'Acidic', 'Acidic', 'Acidic', 'Acidic', 'Acidic', 'Acidic', 'Acidic', 'Base', 'Acidic', 'Base', 'Acidic', 'Acidic', 'Acidic', 'Acidic', 'Acidic', 'Base', 'Acidic', 'Base', 'Base', 'Acidic', 'Acidic', 'Acidic', 'Acidic', 'Acidic', 'Acidic', 'Acidic', 'Acidic', 'Acidic', 'Acidic', 'Acidic', 'Acidic', 'Acidic', 'Acidic', 'Base', 'Acidic', 'Acidic', 'Acidic', 'Acidic', 'Acidic', 'Acidic', 'Acidic', 'Acidic', 'Base', 'Acidic', 'Base', 'Acidic', 'Acidic', 'Acidic', 'Acidic', 'Acidic', 'Base', 'Acidic', 'Acidic', 'Acidic', 'Base', 'Acidic', 'Acidic', 'Acidic', 'Base', 'Base', 'Base', 'Base', 'Base', 'Base', 'Base', 'Base', 'Base', 'Acidic', 'Acidic', 'Acidic', 'Acidic', 'Acidic', 'Acidic', 'Acidic', 'Acidic', 'Acidic', 'Acidic', 'Acidic', 'Acidic', 'Acidic', 'Acidic', 'Acidic', 'Acidic', 'Base', 'Acidic', 'Acidic', 'Acidic', 'Acidic', 'Acidic', 'Acidic', 'Acidic', 'Acidic', 'Base', 'Base', 'Acidic', 'Acidic', 'Acidic', 'Acidic', 'Acidic', 'Acidic', 'Acidic', 'Acidic', 'Acidic', 'Acidic', 'Acidic', 'Acidic', 'Acidic', 'Base', 'Acidic', 'Acidic', 'Base', 'Acidic', 'Acidic', 'Base', 'Acidic', 'Acidic', 'Acidic', 'Acidic', 'Acidic', 'Acidic', 'Acidic', 'Acidic', 'Acidic', 'Acidic', 'Acidic', 'Acidic', 'Acidic', 'Acidic', 'Acidic', 'Base', 'Acidic', 'Base', 'Base', 'Base', 'Base', 'Acidic', 'Base', 'Acidic', 'Acidic', 'Base', 'Base', 'Base', 'Acidic', 'Acidic', 'Acidic', 'Acidic', 'Acidic', 'Base', 'Acidic', 'Acidic', 'Acidic', 'Acidic', 'Acidic', 'Acidic', 'Acidic', 'Acidic', 'Base', 'Acidic', 'Acidic', 'Base', 'Base', 'Acidic', 'Acidic', 'Acidic', 'Acidic', 'Acidic', 'Acidic', 'Acidic', 'Acidic', 'Acidic', 'Acidic', 'Acidic', 'Acidic', 'Acidic', 'Acidic', 'Acidic', 'Acidic', 'Acidic', 'Base', 'Base', 'Acidic', 'Acidic', 'Acidic', 'Acidic', 'Base', 'Acidic', 'Acidic', 'Acidic', 'Acidic', 'Acidic', 'Acidic', 'Base', 'Acidic', 'Acidic', 'Acidic', 'Acidic', 'Acidic', 'Acidic', 'Acidic', 'Acidic', 'Acidic', 'Acidic', 'Acidic', 'Acidic', 'Acidic', 'Acidic', 'Base', 'Acidic', 'Acidic', 'Acidic', 'Acidic', 'Acidic', 'Acidic', 'Acidic', 'Acidic', 'Acidic', 'Acidic', 'Base', 'Acidic', 'Acidic', 'Acidic', 'Base', 'Acidic', 'Acidic', 'Acidic', 'Acidic', 'Base', 'Base', 'Base', 'Acidic', 'Acidic', 'Acidic', 'Acidic', 'Base', 'Base', 'Acidic', 'Base', 'Base', 'Acidic', 'Acidic', 'Acidic', 'Acidic', 'Base', 'Acidic', 'Acidic', 'Acidic', 'Base', 'Base', 'Acidic', 'Acidic', 'Acidic', 'Acidic', 'Acidic', 'Acidic', 'Acidic', 'Acidic', 'Acidic', 'Acidic', 'Acidic', 'Acidic', 'Acidic', 'Acidic', 'Acidic', 'Acidic', 'Acidic', 'Acidic', 'Acidic', 'Acidic', 'Acidic', 'Acidic', 'Base', 'Acidic', 'Acidic', 'Acidic', 'Acidic', 'Acidic', 'Acidic', 'Acidic', 'Acidic', 'Acidic', 'Acidic', 'Acidic', 'Acidic', 'Acidic', 'Acidic', 'Acidic', 'Acidic', 'Base', 'Acidic', 'Base', 'Acidic', 'Acidic', 'Acidic', 'Base', 'Acidic', 'Acidic', 'Base', 'Base', 'Acidic', 'Base', 'Acidic', 'Acidic', 'Acidic', 'Acidic', 'Base', 'Acidic', 'Acidic', 'Acidic', 'Base', 'Base', 'Acidic', 'Base', 'Base', 'Acidic', 'Acidic', 'Acidic', 'Acidic', 'Acidic', 'Acidic', 'Acidic', 'Acidic', 'Acidic', 'Acidic', 'Base', 'Acidic', 'Base', 'Acidic', 'Acidic', 'Acidic', 'Acidic', 'Acidic', 'Acidic', 'Acidic', 'Acidic', 'Acidic', 'Acidic', 'Acidic', 'Acidic', 'Acidic', 'Acidic', 'Acidic', 'Acidic', 'Acidic', 'Acidic', 'Acidic', 'Base', 'Acidic', 'Acidic', 'Acidic', 'Acidic', 'Base', 'Acidic', 'Acidic', 'Acidic', 'Acidic', 'Base', 'Acidic', 'Acidic', 'Base', 'Base', 'Acidic', 'Base', 'Base', 'Base', 'Base', 'Acidic', 'Acidic', 'Base', 'Acidic', 'Base', 'Acidic', 'Acidic', 'Acidic', 'Base', 'Acidic', 'Acidic', 'Acidic', 'Acidic', 'Acidic', 'Acidic', 'Acidic', 'Acidic', 'Acidic', 'Base', 'Base', 'Acidic', 'Base', 'Base', 'Base', 'Base', 'Acidic', 'Base', 'Base', 'Base', 'Acidic', 'Acidic', 'Acidic', 'Acidic', 'Acidic', 'Base', 'Acidic', 'Acidic', 'Acidic', 'Acidic', 'Acidic', 'Acidic', 'Acidic', 'Acidic', 'Acidic', 'Base', 'Acidic', 'Acidic', 'Acidic', 'Base', 'Acidic', 'Base', 'Acidic', 'Acidic', 'Acidic', 'Acidic', 'Base', 'Acidic', 'Acidic', 'Acidic', 'Acidic', 'Acidic', 'Acidic', 'Acidic', 'Acidic', 'Acidic', 'Acidic', 'Acidic', 'Acidic', 'Acidic', 'Acidic', 'Acidic', 'Acidic', 'Acidic', 'Acidic', 'Acidic', 'Acidic', 'Acidic', 'Acidic', 'Acidic', 'Acidic', 'Acidic', 'Acidic', 'Acidic', 'Acidic', 'Acidic', 'Base', 'Acidic', 'Acidic', 'Base', 'Base', 'Acidic', 'Acidic', 'Acidic', 'Acidic', 'Acidic', 'Acidic', 'Base', 'Acidic', 'Acidic', 'Acidic', 'Base', 'Acidic', 'Acidic', 'Acidic', 'Acidic', 'Acidic', 'Acidic', 'Acidic', 'Acidic', 'Acidic', 'Acidic', 'Acidic', 'Acidic', 'Acidic', 'Acidic', 'Acidic', 'Base', 'Acidic', 'Acidic', 'Acidic', 'Base', 'Base', 'Base', 'Base', 'Base', 'Acidic', 'Base', 'Base', 'Base', 'Acidic', 'Acidic', 'Acidic', 'Acidic', 'Acidic', 'Acidic', 'Acidic', 'Acidic', 'Acidic', 'Acidic', 'Acidic', 'Acidic', 'Acidic', 'Acidic', 'Acidic', 'Acidic', 'Base', 'Acidic', 'Acidic', 'Acidic', 'Acidic', 'Acidic', 'Acidic', 'Acidic', 'Acidic', 'Acidic', 'Acidic', 'Acidic', 'Acidic', 'Acidic', 'Acidic', 'Acidic', 'Acidic', 'Acidic', 'Acidic', 'Acidic', 'Acidic', 'Acidic', 'Acidic', 'Acidic', 'Acidic', 'Acidic', 'Base', 'Acidic', 'Acidic', 'Acidic', 'Acidic', 'Acidic', 'Acidic', 'Acidic', 'Acidic', 'Acidic', 'Acidic', 'Acidic', 'Acidic', 'Acidic', 'Acidic', 'Acidic', 'Acidic', 'Acidic', 'Acidic', 'Acidic', 'Acidic', 'Acidic', 'Acidic', 'Acidic', 'Acidic', 'Acidic', 'Acidic', 'Acidic', 'Acidic', 'Acidic', 'Acidic', 'Acidic', 'Acidic', 'Base', 'Acidic', 'Base', 'Acidic', 'Acidic', 'Acidic', 'Acidic', 'Acidic', 'Acidic', 'Acidic', 'Acidic', 'Acidic', 'Base', 'Base', 'Base', 'Acidic', 'Acidic', 'Acidic', 'Acidic', 'Acidic', 'Acidic', 'Acidic', 'Acidic', 'Acidic', 'Acidic', 'Acidic', 'Acidic', 'Acidic', 'Acidic', 'Base', 'Acidic', 'Acidic', 'Acidic', 'Acidic', 'Acidic', 'Acidic', 'Acidic', 'Acidic', 'Acidic', 'Acidic', 'Acidic', 'Acidic', 'Acidic', 'Acidic', 'Acidic', 'Acidic', 'Acidic', 'Acidic', 'Acidic', 'Acidic', 'Acidic', 'Acidic', 'Acidic', 'Acidic', 'Base', 'Acidic', 'Acidic', 'Acidic', 'Acidic', 'Acidic', 'Acidic', 'Acidic', 'Acidic', 'Acidic', 'Acidic', 'Acidic', 'Acidic', 'Acidic', 'Acidic', 'Acidic', 'Acidic', 'Acidic', 'Acidic', 'Acidic', 'Acidic', 'Acidic', 'Acidic', 'Acidic', 'Acidic', 'Acidic', 'Acidic', 'Acidic', 'Acidic', 'Acidic', 'Acidic', 'Acidic', 'Acidic', 'Acidic', 'Acidic', 'Acidic', 'Base', 'Acidic', 'Acidic', 'Acidic', 'Acidic', 'Acidic', 'Acidic', 'Acidic', 'Acidic', 'Acidic', 'Acidic', 'Acidic', 'Acidic', 'Acidic', 'Acidic', 'Base', 'Acidic', 'Acidic', 'Acidic', 'Acidic', 'Acidic', 'Acidic', 'Acidic', 'Acidic', 'Acidic', 'Acidic', 'Acidic', 'Acidic', 'Acidic', 'Acidic', 'Acidic', 'Acidic', 'Acidic', 'Acidic', 'Acidic', 'Acidic', 'Acidic', 'Acidic', 'Acidic', 'Acidic', 'Base', 'Base', 'Acidic', 'Acidic', 'Acidic', 'Acidic', 'Acidic', 'Acidic', 'Acidic', 'Acidic', 'Acidic', 'Acidic', 'Acidic', 'Base', 'Base', 'Acidic', 'Acidic', 'Acidic', 'Acidic', 'Base', 'Acidic', 'Acidic', 'Acidic', 'Acidic', 'Acidic', 'Acidic', 'Acidic', 'Acidic', 'Acidic', 'Acidic', 'Acidic', 'Acidic', 'Acidic', 'Acidic', 'Acidic', 'Acidic', 'Acidic', 'Acidic', 'Acidic', 'Base', 'Acidic', 'Acidic', 'Acidic', 'Acidic', 'Acidic', 'Base', 'Acidic', 'Base', 'Base', 'Acidic', 'Acidic', 'Acidic', 'Acidic', 'Acidic', 'Acidic', 'Acidic', 'Acidic', 'Acidic', 'Acidic', 'Acidic', 'Acidic', 'Acidic', 'Acidic', 'Base', 'Acidic', 'Acidic', 'Acidic', 'Acidic', 'Acidic', 'Base', 'Acidic', 'Base', 'Base', 'Acidic', 'Acidic', 'Acidic', 'Acidic', 'Acidic', 'Acidic', 'Acidic', 'Acidic', 'Acidic', 'Acidic', 'Acidic', 'Acidic', 'Acidic', 'Acidic', 'Acidic', 'Acidic', 'Acidic', 'Acidic', 'Acidic', 'Acidic', 'Acidic', 'Acidic', 'Acidic', 'Acidic', 'Acidic', 'Acidic', 'Acidic', 'Acidic', 'Acidic', 'Acidic', 'Base', 'Base', 'Acidic', 'Acidic', 'Acidic', 'Base', 'Acidic', 'Acidic', 'Acidic', 'Acidic', 'Acidic', 'Acidic', 'Acidic', 'Acidic', 'Acidic', 'Acidic', 'Base', 'Acidic', 'Acidic', 'Acidic', 'Acidic', 'Base', 'Acidic', 'Acidic', 'Acidic', 'Acidic', 'Acidic', 'Acidic', 'Acidic', 'Acidic', 'Acidic', 'Acidic', 'Acidic', 'Acidic', 'Acidic', 'Base', 'Base', 'Acidic', 'Acidic', 'Acidic', 'Base', 'Acidic', 'Base', 'Acidic', 'Acidic', 'Acidic', 'Acidic', 'Acidic', 'Acidic', 'Acidic', 'Acidic', 'Acidic', 'Acidic', 'Acidic', 'Acidic', 'Acidic', 'Base', 'Base', 'Base', 'Acidic', 'Base', 'Acidic', 'Acidic', 'Acidic', 'Acidic', 'Acidic', 'Acidic', 'Acidic', 'Acidic', 'Acidic', 'Acidic', 'Acidic', 'Base', 'Acidic', 'Acidic', 'Acidic', 'Acidic', 'Acidic', 'Acidic', 'Acidic', 'Acidic', 'Acidic', 'Acidic', 'Acidic', 'Base', 'Acidic', 'Base', 'Acidic', 'Acidic', 'Acidic', 'Acidic', 'Acidic', 'Base', 'Acidic', 'Base', 'Acidic', 'Acidic', 'Acidic', 'Acidic', 'Base', 'Base', 'Acidic', 'Acidic', 'Acidic', 'Acidic', 'Acidic', 'Acidic', 'Acidic', 'Acidic', 'Base', 'Acidic', 'Acidic', 'Acidic', 'Acidic', 'Base', 'Base', 'Acidic', 'Acidic', 'Acidic', 'Acidic', 'Acidic', 'Acidic', 'Acidic', 'Base', 'Acidic', 'Acidic', 'Acidic', 'Acidic', 'Acidic', 'Acidic', 'Acidic', 'Base', 'Acidic', 'Acidic', 'Acidic', 'Acidic', 'Acidic', 'Base', 'Base', 'Acidic', 'Base', 'Base', 'Base', 'Acidic', 'Acidic', 'Acidic', 'Base', 'Acidic', 'Acidic', 'Acidic', 'Acidic', 'Acidic', 'Acidic', 'Acidic', 'Acidic', 'Acidic', 'Acidic', 'Base', 'Acidic', 'Acidic', 'Acidic', 'Acidic', 'Acidic', 'Acidic', 'Acidic', 'Acidic', 'Acidic', 'Acidic', 'Acidic', 'Acidic', 'Acidic', 'Acidic', 'Acidic', 'Acidic', 'Acidic', 'Base', 'Base', 'Acidic', 'Acidic', 'Acidic', 'Acidic', 'Acidic', 'Acidic', 'Acidic', 'Acidic', 'Acidic', 'Acidic', 'Base', 'Acidic', 'Acidic', 'Base', 'Acidic', 'Acidic', 'Acidic', 'Acidic', 'Acidic', 'Acidic', 'Acidic', 'Acidic', 'Acidic', 'Acidic', 'Acidic', 'Acidic', 'Acidic', 'Acidic', 'Acidic', 'Acidic', 'Acidic', 'Acidic', 'Acidic', 'Acidic', 'Acidic', 'Acidic', 'Base', 'Acidic', 'Acidic', 'Acidic', 'Acidic', 'Acidic', 'Base', 'Acidic', 'Acidic', 'Acidic', 'Acidic', 'Acidic', 'Acidic', 'Acidic', 'Acidic', 'Acidic', 'Acidic', 'Acidic', 'Acidic', 'Acidic', 'Acidic', 'Acidic', 'Acidic', 'Acidic', 'Acidic', 'Acidic', 'Acidic', 'Acidic', 'Acidic', 'Acidic', 'Acidic', 'Acidic', 'Acidic', 'Acidic', 'Acidic', 'Acidic', 'Acidic', 'Acidic', 'Acidic', 'Acidic', 'Acidic', 'Acidic', 'Acidic', 'Acidic', 'Acidic', 'Acidic', 'Acidic', 'Acidic', 'Acidic', 'Base', 'Acidic', 'Acidic', 'Acidic', 'Acidic', 'Acidic', 'Acidic', 'Base', 'Acidic', 'Acidic', 'Acidic', 'Acidic', 'Acidic', 'Acidic', 'Acidic', 'Base', 'Base', 'Base', 'Acidic', 'Acidic', 'Acidic', 'Acidic', 'Acidic', 'Acidic', 'Acidic', 'Acidic', 'Acidic', 'Acidic', 'Acidic', 'Acidic', 'Base', 'Acidic', 'Base', 'Acidic', 'Acidic', 'Acidic', 'Acidic', 'Base', 'Acidic', 'Acidic', 'Acidic', 'Base', 'Base', 'Acidic', 'Acidic', 'Acidic', 'Acidic', 'Acidic', 'Acidic', 'Acidic', 'Acidic', 'Acidic', 'Acidic', 'Acidic', 'Acidic', 'Acidic', 'Base', 'Acidic', 'Base', 'Acidic', 'Acidic', 'Acidic', 'Acidic', 'Acidic', 'Base', 'Acidic', 'Acidic', 'Acidic', 'Acidic', 'Acidic', 'Base', 'Acidic', 'Base', 'Acidic', 'Acidic', 'Acidic', 'Acidic', 'Acidic', 'Base', 'Acidic', 'Acidic', 'Acidic', 'Base', 'Base', 'Acidic', 'Acidic', 'Acidic', 'Acidic', 'Acidic', 'Acidic', 'Base', 'Acidic', 'Acidic', 'Acidic', 'Acidic', 'Acidic', 'Base', 'Base', 'Acidic', 'Acidic', 'Acidic', 'Acidic', 'Acidic', 'Base', 'Acidic', 'Acidic', 'Acidic', 'Acidic', 'Acidic', 'Acidic', 'Acidic', 'Acidic', 'Base', 'Acidic', 'Acidic', 'Acidic', 'Acidic', 'Acidic', 'Base', 'Base', 'Acidic', 'Acidic', 'Acidic', 'Acidic', 'Acidic', 'Base', 'Acidic', 'Acidic', 'Acidic', 'Base', 'Base', 'Base', 'Acidic', 'Base', 'Base', 'Acidic', 'Base', 'Acidic', 'Base', 'Acidic', 'Acidic', 'Base', 'Base', 'Acidic', 'Acidic', 'Acidic', 'Base', 'Acidic', 'Acidic', 'Base', 'Acidic', 'Acidic', 'Base', 'Acidic', 'Acidic', 'Acidic', 'Base', 'Base', 'Acidic', 'Acidic', 'Base', 'Acidic', 'Acidic', 'Acidic', 'Acidic', 'Base', 'Acidic', 'Acidic', 'Acidic', 'Acidic', 'Base', 'Acidic', 'Acidic', 'Acidic', 'Acidic', 'Acidic', 'Acidic', 'Acidic', 'Acidic', 'Acidic', 'Acidic', 'Acidic', 'Acidic', 'Acidic', 'Acidic', 'Acidic', 'Acidic', 'Acidic', 'Base', 'Acidic', 'Acidic', 'Acidic', 'Acidic', 'Acidic', 'Base', 'Acidic', 'Acidic', 'Base', 'Acidic', 'Acidic', 'Acidic', 'Acidic', 'Acidic', 'Base', 'Acidic', 'Acidic', 'Acidic', 'Base', 'Acidic', 'Base', 'Acidic', 'Acidic', 'Acidic', 'Base', 'Acidic', 'Acidic', 'Base', 'Base', 'Base', 'Acidic', 'Base', 'Base', 'Acidic', 'Acidic', 'Acidic', 'Acidic', 'Acidic', 'Acidic', 'Acidic', 'Acidic', 'Acidic', 'Base', 'Acidic', 'Acidic', 'Base', 'Base', 'Acidic', 'Acidic', 'Base', 'Base', 'Base', 'Acidic', 'Base', 'Base', 'Base', 'Base', 'Base', 'Acidic', 'Base', 'Acidic', 'Base', 'Acidic', 'Base', 'Acidic', 'Acidic', 'Base', 'Acidic', 'Acidic', 'Acidic', 'Acidic', 'Acidic', 'Acidic', 'Acidic', 'Base', 'Acidic', 'Acidic', 'Acidic', 'Acidic', 'Acidic', 'Acidic', 'Acidic', 'Acidic', 'Acidic', 'Acidic', 'Base', 'Acidic', 'Base', 'Acidic', 'Base', 'Base', 'Base', 'Base', 'Base', 'Base', 'Acidic', 'Acidic', 'Base', 'Acidic', 'Base', 'Acidic', 'Base', 'Acidic', 'Base', 'Acidic', 'Acidic', 'Base', 'Acidic', 'Base', 'Acidic', 'Acidic', 'Base', 'Acidic', 'Base', 'Base', 'Base', 'Base', 'Acidic', 'Acidic', 'Acidic', 'Base', 'Base', 'Acidic', 'Acidic', 'Acidic', 'Base', 'Base', 'Base', 'Acidic', 'Acidic', 'Acidic', 'Acidic', 'Base', 'Acidic', 'Acidic', 'Base', 'Acidic', 'Acidic', 'Acidic', 'Acidic', 'Acidic', 'Acidic', 'Acidic', 'Acidic', 'Base', 'Base', 'Acidic', 'Base', 'Base', 'Base', 'Acidic', 'Acidic', 'Acidic', 'Acidic', 'Acidic', 'Acidic', 'Acidic', 'Base', 'Acidic', 'Acidic', 'Acidic', 'Acidic', 'Acidic', 'Acidic', 'Acidic', 'Acidic', 'Acidic', 'Acidic', 'Base', 'Base', 'Acidic', 'Acidic', 'Acidic', 'Acidic', 'Base', 'Acidic', 'Acidic', 'Acidic', 'Acidic', 'Base', 'Acidic', 'Acidic', 'Base', 'Acidic', 'Base', 'Acidic', 'Acidic', 'Acidic', 'Acidic', 'Acidic', 'Acidic', 'Acidic', 'Base', 'Base', 'Base', 'Acidic', 'Acidic', 'Acidic', 'Acidic', 'Acidic', 'Acidic', 'Acidic', 'Acidic', 'Acidic', 'Acidic', 'Acidic', 'Acidic', 'Base', 'Base', 'Acidic', 'Acidic', 'Acidic', 'Acidic', 'Base', 'Acidic', 'Base', 'Base', 'Base', 'Acidic', 'Acidic', 'Base', 'Base', 'Base', 'Base', 'Acidic', 'Acidic', 'Base', 'Acidic', 'Base', 'Base', 'Acidic', 'Acidic', 'Acidic', 'Acidic', 'Base', 'Base', 'Acidic', 'Acidic', 'Acidic', 'Acidic', 'Acidic', 'Acidic', 'Acidic', 'Acidic', 'Base', 'Acidic', 'Base', 'Acidic', 'Base', 'Base', 'Base', 'Acidic', 'Acidic', 'Base', 'Acidic', 'Base', 'Base', 'Acidic', 'Base', 'Acidic', 'Acidic', 'Acidic', 'Acidic', 'Acidic', 'Acidic', 'Base', 'Acidic', 'Acidic', 'Acidic', 'Acidic', 'Acidic', 'Acidic', 'Acidic', 'Acidic', 'Base', 'Base', 'Acidic', 'Acidic', 'Base', 'Acidic']\n"
          ]
        }
      ]
    },
    {
      "cell_type": "code",
      "source": [
        "df['pH_cat'] = pH_cat"
      ],
      "metadata": {
        "id": "mXv-6XcAvB_d"
      },
      "execution_count": null,
      "outputs": []
    },
    {
      "cell_type": "code",
      "source": [
        "df.head()"
      ],
      "metadata": {
        "colab": {
          "base_uri": "https://localhost:8080/",
          "height": 305
        },
        "id": "mnalEGPbvJXN",
        "outputId": "0256d18b-f212-472d-b3ef-8d4c65b67747"
      },
      "execution_count": null,
      "outputs": [
        {
          "output_type": "execute_result",
          "data": {
            "text/plain": [
              "   fixed acidity  volatile acidity  citric acid  residual sugar  chlorides  \\\n",
              "0            7.0              0.27         0.36            20.7      0.045   \n",
              "1            6.3              0.30         0.34             1.6      0.049   \n",
              "2            8.1              0.28         0.40             6.9      0.050   \n",
              "3            7.2              0.23         0.32             8.5      0.058   \n",
              "4            7.2              0.23         0.32             8.5      0.058   \n",
              "\n",
              "   free sulfur dioxide  total sulfur dioxide  density    pH  sulphates  \\\n",
              "0                 45.0                 170.0   1.0010  3.00       0.45   \n",
              "1                 14.0                 132.0   0.9940  3.30       0.49   \n",
              "2                 30.0                  97.0   0.9951  3.26       0.44   \n",
              "3                 47.0                 186.0   0.9956  3.19       0.40   \n",
              "4                 47.0                 186.0   0.9956  3.19       0.40   \n",
              "\n",
              "   alcohol  quality quality_cat  pH_cat  \n",
              "0      8.8        6        Poor  Acidic  \n",
              "1      9.5        6        Poor    Base  \n",
              "2     10.1        6        Poor  Acidic  \n",
              "3      9.9        6        Poor  Acidic  \n",
              "4      9.9        6        Poor  Acidic  "
            ],
            "text/html": [
              "\n",
              "  <div id=\"df-f15e44c4-e546-41ae-9e2b-5352cf592139\">\n",
              "    <div class=\"colab-df-container\">\n",
              "      <div>\n",
              "<style scoped>\n",
              "    .dataframe tbody tr th:only-of-type {\n",
              "        vertical-align: middle;\n",
              "    }\n",
              "\n",
              "    .dataframe tbody tr th {\n",
              "        vertical-align: top;\n",
              "    }\n",
              "\n",
              "    .dataframe thead th {\n",
              "        text-align: right;\n",
              "    }\n",
              "</style>\n",
              "<table border=\"1\" class=\"dataframe\">\n",
              "  <thead>\n",
              "    <tr style=\"text-align: right;\">\n",
              "      <th></th>\n",
              "      <th>fixed acidity</th>\n",
              "      <th>volatile acidity</th>\n",
              "      <th>citric acid</th>\n",
              "      <th>residual sugar</th>\n",
              "      <th>chlorides</th>\n",
              "      <th>free sulfur dioxide</th>\n",
              "      <th>total sulfur dioxide</th>\n",
              "      <th>density</th>\n",
              "      <th>pH</th>\n",
              "      <th>sulphates</th>\n",
              "      <th>alcohol</th>\n",
              "      <th>quality</th>\n",
              "      <th>quality_cat</th>\n",
              "      <th>pH_cat</th>\n",
              "    </tr>\n",
              "  </thead>\n",
              "  <tbody>\n",
              "    <tr>\n",
              "      <th>0</th>\n",
              "      <td>7.0</td>\n",
              "      <td>0.27</td>\n",
              "      <td>0.36</td>\n",
              "      <td>20.7</td>\n",
              "      <td>0.045</td>\n",
              "      <td>45.0</td>\n",
              "      <td>170.0</td>\n",
              "      <td>1.0010</td>\n",
              "      <td>3.00</td>\n",
              "      <td>0.45</td>\n",
              "      <td>8.8</td>\n",
              "      <td>6</td>\n",
              "      <td>Poor</td>\n",
              "      <td>Acidic</td>\n",
              "    </tr>\n",
              "    <tr>\n",
              "      <th>1</th>\n",
              "      <td>6.3</td>\n",
              "      <td>0.30</td>\n",
              "      <td>0.34</td>\n",
              "      <td>1.6</td>\n",
              "      <td>0.049</td>\n",
              "      <td>14.0</td>\n",
              "      <td>132.0</td>\n",
              "      <td>0.9940</td>\n",
              "      <td>3.30</td>\n",
              "      <td>0.49</td>\n",
              "      <td>9.5</td>\n",
              "      <td>6</td>\n",
              "      <td>Poor</td>\n",
              "      <td>Base</td>\n",
              "    </tr>\n",
              "    <tr>\n",
              "      <th>2</th>\n",
              "      <td>8.1</td>\n",
              "      <td>0.28</td>\n",
              "      <td>0.40</td>\n",
              "      <td>6.9</td>\n",
              "      <td>0.050</td>\n",
              "      <td>30.0</td>\n",
              "      <td>97.0</td>\n",
              "      <td>0.9951</td>\n",
              "      <td>3.26</td>\n",
              "      <td>0.44</td>\n",
              "      <td>10.1</td>\n",
              "      <td>6</td>\n",
              "      <td>Poor</td>\n",
              "      <td>Acidic</td>\n",
              "    </tr>\n",
              "    <tr>\n",
              "      <th>3</th>\n",
              "      <td>7.2</td>\n",
              "      <td>0.23</td>\n",
              "      <td>0.32</td>\n",
              "      <td>8.5</td>\n",
              "      <td>0.058</td>\n",
              "      <td>47.0</td>\n",
              "      <td>186.0</td>\n",
              "      <td>0.9956</td>\n",
              "      <td>3.19</td>\n",
              "      <td>0.40</td>\n",
              "      <td>9.9</td>\n",
              "      <td>6</td>\n",
              "      <td>Poor</td>\n",
              "      <td>Acidic</td>\n",
              "    </tr>\n",
              "    <tr>\n",
              "      <th>4</th>\n",
              "      <td>7.2</td>\n",
              "      <td>0.23</td>\n",
              "      <td>0.32</td>\n",
              "      <td>8.5</td>\n",
              "      <td>0.058</td>\n",
              "      <td>47.0</td>\n",
              "      <td>186.0</td>\n",
              "      <td>0.9956</td>\n",
              "      <td>3.19</td>\n",
              "      <td>0.40</td>\n",
              "      <td>9.9</td>\n",
              "      <td>6</td>\n",
              "      <td>Poor</td>\n",
              "      <td>Acidic</td>\n",
              "    </tr>\n",
              "  </tbody>\n",
              "</table>\n",
              "</div>\n",
              "      <button class=\"colab-df-convert\" onclick=\"convertToInteractive('df-f15e44c4-e546-41ae-9e2b-5352cf592139')\"\n",
              "              title=\"Convert this dataframe to an interactive table.\"\n",
              "              style=\"display:none;\">\n",
              "        \n",
              "  <svg xmlns=\"http://www.w3.org/2000/svg\" height=\"24px\"viewBox=\"0 0 24 24\"\n",
              "       width=\"24px\">\n",
              "    <path d=\"M0 0h24v24H0V0z\" fill=\"none\"/>\n",
              "    <path d=\"M18.56 5.44l.94 2.06.94-2.06 2.06-.94-2.06-.94-.94-2.06-.94 2.06-2.06.94zm-11 1L8.5 8.5l.94-2.06 2.06-.94-2.06-.94L8.5 2.5l-.94 2.06-2.06.94zm10 10l.94 2.06.94-2.06 2.06-.94-2.06-.94-.94-2.06-.94 2.06-2.06.94z\"/><path d=\"M17.41 7.96l-1.37-1.37c-.4-.4-.92-.59-1.43-.59-.52 0-1.04.2-1.43.59L10.3 9.45l-7.72 7.72c-.78.78-.78 2.05 0 2.83L4 21.41c.39.39.9.59 1.41.59.51 0 1.02-.2 1.41-.59l7.78-7.78 2.81-2.81c.8-.78.8-2.07 0-2.86zM5.41 20L4 18.59l7.72-7.72 1.47 1.35L5.41 20z\"/>\n",
              "  </svg>\n",
              "      </button>\n",
              "      \n",
              "  <style>\n",
              "    .colab-df-container {\n",
              "      display:flex;\n",
              "      flex-wrap:wrap;\n",
              "      gap: 12px;\n",
              "    }\n",
              "\n",
              "    .colab-df-convert {\n",
              "      background-color: #E8F0FE;\n",
              "      border: none;\n",
              "      border-radius: 50%;\n",
              "      cursor: pointer;\n",
              "      display: none;\n",
              "      fill: #1967D2;\n",
              "      height: 32px;\n",
              "      padding: 0 0 0 0;\n",
              "      width: 32px;\n",
              "    }\n",
              "\n",
              "    .colab-df-convert:hover {\n",
              "      background-color: #E2EBFA;\n",
              "      box-shadow: 0px 1px 2px rgba(60, 64, 67, 0.3), 0px 1px 3px 1px rgba(60, 64, 67, 0.15);\n",
              "      fill: #174EA6;\n",
              "    }\n",
              "\n",
              "    [theme=dark] .colab-df-convert {\n",
              "      background-color: #3B4455;\n",
              "      fill: #D2E3FC;\n",
              "    }\n",
              "\n",
              "    [theme=dark] .colab-df-convert:hover {\n",
              "      background-color: #434B5C;\n",
              "      box-shadow: 0px 1px 3px 1px rgba(0, 0, 0, 0.15);\n",
              "      filter: drop-shadow(0px 1px 2px rgba(0, 0, 0, 0.3));\n",
              "      fill: #FFFFFF;\n",
              "    }\n",
              "  </style>\n",
              "\n",
              "      <script>\n",
              "        const buttonEl =\n",
              "          document.querySelector('#df-f15e44c4-e546-41ae-9e2b-5352cf592139 button.colab-df-convert');\n",
              "        buttonEl.style.display =\n",
              "          google.colab.kernel.accessAllowed ? 'block' : 'none';\n",
              "\n",
              "        async function convertToInteractive(key) {\n",
              "          const element = document.querySelector('#df-f15e44c4-e546-41ae-9e2b-5352cf592139');\n",
              "          const dataTable =\n",
              "            await google.colab.kernel.invokeFunction('convertToInteractive',\n",
              "                                                     [key], {});\n",
              "          if (!dataTable) return;\n",
              "\n",
              "          const docLinkHtml = 'Like what you see? Visit the ' +\n",
              "            '<a target=\"_blank\" href=https://colab.research.google.com/notebooks/data_table.ipynb>data table notebook</a>'\n",
              "            + ' to learn more about interactive tables.';\n",
              "          element.innerHTML = '';\n",
              "          dataTable['output_type'] = 'display_data';\n",
              "          await google.colab.output.renderOutput(dataTable, element);\n",
              "          const docLink = document.createElement('div');\n",
              "          docLink.innerHTML = docLinkHtml;\n",
              "          element.appendChild(docLink);\n",
              "        }\n",
              "      </script>\n",
              "    </div>\n",
              "  </div>\n",
              "  "
            ]
          },
          "metadata": {},
          "execution_count": 29
        }
      ]
    },
    {
      "cell_type": "code",
      "source": [
        "round(df['pH_cat'].value_counts()/len(df),4)"
      ],
      "metadata": {
        "colab": {
          "base_uri": "https://localhost:8080/"
        },
        "id": "vhAaJPuAvFI8",
        "outputId": "60eb632a-1b8a-4b18-ca17-e8940857b1f1"
      },
      "execution_count": null,
      "outputs": [
        {
          "output_type": "execute_result",
          "data": {
            "text/plain": [
              "Acidic    0.7229\n",
              "Base      0.2771\n",
              "Name: pH_cat, dtype: float64"
            ]
          },
          "metadata": {},
          "execution_count": 30
        }
      ]
    },
    {
      "cell_type": "markdown",
      "source": [
        "Mode acidic wines make up about 72.29% of the total wines. Making them the predominant pH category. Lets see how pH and quality compare to one another."
      ],
      "metadata": {
        "id": "1657Cfisvzc-"
      }
    },
    {
      "cell_type": "code",
      "source": [
        "sns.set(rc={'figure.figsize':(15,10)})\n",
        "edu = sns.countplot(x='quality_cat', hue='pH_cat', data=df)\n",
        "edu.set_xticklabels(['Poor','Good'])\n",
        "plt.show()"
      ],
      "metadata": {
        "colab": {
          "base_uri": "https://localhost:8080/",
          "height": 543
        },
        "id": "iuYbNQU2vx2T",
        "outputId": "f21c7a37-9b4f-4944-e1bd-a364feb03c3c"
      },
      "execution_count": null,
      "outputs": [
        {
          "output_type": "display_data",
          "data": {
            "text/plain": [
              "<Figure size 1080x720 with 1 Axes>"
            ],
            "image/png": "[encoded data removed]"
          },
          "metadata": {}
        }
      ]
    },
    {
      "cell_type": "code",
      "source": [
        "pd.crosstab(df.quality_cat,df.pH_cat,normalize='index',margins=True)"
      ],
      "metadata": {
        "colab": {
          "base_uri": "https://localhost:8080/",
          "height": 174
        },
        "id": "lTtwy76pwaP5",
        "outputId": "f549fe3b-44b3-42d2-8d61-320ae64ce485"
      },
      "execution_count": null,
      "outputs": [
        {
          "output_type": "execute_result",
          "data": {
            "text/plain": [
              "pH_cat         Acidic      Base\n",
              "quality_cat                    \n",
              "Good         0.625472  0.374528\n",
              "Poor         0.749870  0.250130\n",
              "All          0.722948  0.277052"
            ],
            "text/html": [
              "\n",
              "  <div id=\"df-3769e8b5-b319-4d15-8435-f02737aa9fee\">\n",
              "    <div class=\"colab-df-container\">\n",
              "      <div>\n",
              "<style scoped>\n",
              "    .dataframe tbody tr th:only-of-type {\n",
              "        vertical-align: middle;\n",
              "    }\n",
              "\n",
              "    .dataframe tbody tr th {\n",
              "        vertical-align: top;\n",
              "    }\n",
              "\n",
              "    .dataframe thead th {\n",
              "        text-align: right;\n",
              "    }\n",
              "</style>\n",
              "<table border=\"1\" class=\"dataframe\">\n",
              "  <thead>\n",
              "    <tr style=\"text-align: right;\">\n",
              "      <th>pH_cat</th>\n",
              "      <th>Acidic</th>\n",
              "      <th>Base</th>\n",
              "    </tr>\n",
              "    <tr>\n",
              "      <th>quality_cat</th>\n",
              "      <th></th>\n",
              "      <th></th>\n",
              "    </tr>\n",
              "  </thead>\n",
              "  <tbody>\n",
              "    <tr>\n",
              "      <th>Good</th>\n",
              "      <td>0.625472</td>\n",
              "      <td>0.374528</td>\n",
              "    </tr>\n",
              "    <tr>\n",
              "      <th>Poor</th>\n",
              "      <td>0.749870</td>\n",
              "      <td>0.250130</td>\n",
              "    </tr>\n",
              "    <tr>\n",
              "      <th>All</th>\n",
              "      <td>0.722948</td>\n",
              "      <td>0.277052</td>\n",
              "    </tr>\n",
              "  </tbody>\n",
              "</table>\n",
              "</div>\n",
              "      <button class=\"colab-df-convert\" onclick=\"convertToInteractive('df-3769e8b5-b319-4d15-8435-f02737aa9fee')\"\n",
              "              title=\"Convert this dataframe to an interactive table.\"\n",
              "              style=\"display:none;\">\n",
              "        \n",
              "  <svg xmlns=\"http://www.w3.org/2000/svg\" height=\"24px\"viewBox=\"0 0 24 24\"\n",
              "       width=\"24px\">\n",
              "    <path d=\"M0 0h24v24H0V0z\" fill=\"none\"/>\n",
              "    <path d=\"M18.56 5.44l.94 2.06.94-2.06 2.06-.94-2.06-.94-.94-2.06-.94 2.06-2.06.94zm-11 1L8.5 8.5l.94-2.06 2.06-.94-2.06-.94L8.5 2.5l-.94 2.06-2.06.94zm10 10l.94 2.06.94-2.06 2.06-.94-2.06-.94-.94-2.06-.94 2.06-2.06.94z\"/><path d=\"M17.41 7.96l-1.37-1.37c-.4-.4-.92-.59-1.43-.59-.52 0-1.04.2-1.43.59L10.3 9.45l-7.72 7.72c-.78.78-.78 2.05 0 2.83L4 21.41c.39.39.9.59 1.41.59.51 0 1.02-.2 1.41-.59l7.78-7.78 2.81-2.81c.8-.78.8-2.07 0-2.86zM5.41 20L4 18.59l7.72-7.72 1.47 1.35L5.41 20z\"/>\n",
              "  </svg>\n",
              "      </button>\n",
              "      \n",
              "  <style>\n",
              "    .colab-df-container {\n",
              "      display:flex;\n",
              "      flex-wrap:wrap;\n",
              "      gap: 12px;\n",
              "    }\n",
              "\n",
              "    .colab-df-convert {\n",
              "      background-color: #E8F0FE;\n",
              "      border: none;\n",
              "      border-radius: 50%;\n",
              "      cursor: pointer;\n",
              "      display: none;\n",
              "      fill: #1967D2;\n",
              "      height: 32px;\n",
              "      padding: 0 0 0 0;\n",
              "      width: 32px;\n",
              "    }\n",
              "\n",
              "    .colab-df-convert:hover {\n",
              "      background-color: #E2EBFA;\n",
              "      box-shadow: 0px 1px 2px rgba(60, 64, 67, 0.3), 0px 1px 3px 1px rgba(60, 64, 67, 0.15);\n",
              "      fill: #174EA6;\n",
              "    }\n",
              "\n",
              "    [theme=dark] .colab-df-convert {\n",
              "      background-color: #3B4455;\n",
              "      fill: #D2E3FC;\n",
              "    }\n",
              "\n",
              "    [theme=dark] .colab-df-convert:hover {\n",
              "      background-color: #434B5C;\n",
              "      box-shadow: 0px 1px 3px 1px rgba(0, 0, 0, 0.15);\n",
              "      filter: drop-shadow(0px 1px 2px rgba(0, 0, 0, 0.3));\n",
              "      fill: #FFFFFF;\n",
              "    }\n",
              "  </style>\n",
              "\n",
              "      <script>\n",
              "        const buttonEl =\n",
              "          document.querySelector('#df-3769e8b5-b319-4d15-8435-f02737aa9fee button.colab-df-convert');\n",
              "        buttonEl.style.display =\n",
              "          google.colab.kernel.accessAllowed ? 'block' : 'none';\n",
              "\n",
              "        async function convertToInteractive(key) {\n",
              "          const element = document.querySelector('#df-3769e8b5-b319-4d15-8435-f02737aa9fee');\n",
              "          const dataTable =\n",
              "            await google.colab.kernel.invokeFunction('convertToInteractive',\n",
              "                                                     [key], {});\n",
              "          if (!dataTable) return;\n",
              "\n",
              "          const docLinkHtml = 'Like what you see? Visit the ' +\n",
              "            '<a target=\"_blank\" href=https://colab.research.google.com/notebooks/data_table.ipynb>data table notebook</a>'\n",
              "            + ' to learn more about interactive tables.';\n",
              "          element.innerHTML = '';\n",
              "          dataTable['output_type'] = 'display_data';\n",
              "          await google.colab.output.renderOutput(dataTable, element);\n",
              "          const docLink = document.createElement('div');\n",
              "          docLink.innerHTML = docLinkHtml;\n",
              "          element.appendChild(docLink);\n",
              "        }\n",
              "      </script>\n",
              "    </div>\n",
              "  </div>\n",
              "  "
            ]
          },
          "metadata": {},
          "execution_count": 32
        }
      ]
    },
    {
      "cell_type": "code",
      "source": [
        "sns.set(rc={'figure.figsize':(30,10)})\n",
        "sns.set_context(\"talk\", font_scale=0.7)\n",
        "\n",
        "sns.heatmap(df.iloc[:,:-2].corr(method='spearman'), cmap='rainbow_r', annot=True)"
      ],
      "metadata": {
        "colab": {
          "base_uri": "https://localhost:8080/",
          "height": 323
        },
        "id": "lzysLkQswpgM",
        "outputId": "ed483d38-4d04-4f0f-bee1-b30aec794593"
      },
      "execution_count": null,
      "outputs": [
        {
          "output_type": "execute_result",
          "data": {
            "text/plain": [
              "<Axes: >"
            ]
          },
          "metadata": {},
          "execution_count": 33
        },
        {
          "output_type": "display_data",
          "data": {
            "text/plain": [
              "<Figure size 2160x720 with 2 Axes>"
            ],
            "image/png": "[encoded data removed]"
          },
          "metadata": {}
        }
      ]
    },
    {
      "cell_type": "markdown",
      "source": [
        "Now we know that the most important factor in wine tasting "
      ],
      "metadata": {
        "id": "TRxLifiRxtvM"
      }
    },
    {
      "cell_type": "code",
      "source": [
        "# Assuming 'df' is the DataFrame containing your data\n",
        "correlations = df.drop(\"quality_cat\", axis=1).apply(lambda x: x.corr(df.quality, method='spearman'))\n",
        "\n",
        "# Sort the correlations in descending order\n",
        "sorted_correlations = correlations.sort_values(ascending=False)\n",
        "\n",
        "print(sorted_correlations)"
      ],
      "metadata": {
        "id": "t8UHWtyzxi_G",
        "colab": {
          "base_uri": "https://localhost:8080/"
        },
        "outputId": "ac1a6743-21e9-41db-f596-0ef3e1ca9cce"
      },
      "execution_count": null,
      "outputs": [
        {
          "output_type": "stream",
          "name": "stdout",
          "text": [
            "quality                 1.000000\n",
            "alcohol                 0.440369\n",
            "pH_cat                  0.123646\n",
            "pH                      0.109362\n",
            "sulphates               0.033319\n",
            "free sulfur dioxide     0.023713\n",
            "citric acid             0.018333\n",
            "residual sugar         -0.082070\n",
            "fixed acidity          -0.084485\n",
            "volatile acidity       -0.196562\n",
            "total sulfur dioxide   -0.196680\n",
            "chlorides              -0.314488\n",
            "density                -0.348351\n",
            "dtype: float64\n"
          ]
        }
      ]
    }
  ]
}