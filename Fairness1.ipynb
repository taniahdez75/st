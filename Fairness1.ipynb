{
  "nbformat": 4,
  "nbformat_minor": 0,
  "metadata": {
    "colab": {
      "provenance": [],
      "include_colab_link": true
    },
    "kernelspec": {
      "name": "python3",
      "display_name": "Python 3"
    },
    "language_info": {
      "name": "python"
    }
  },
  "cells": [
    {
      "cell_type": "markdown",
      "metadata": {
        "id": "view-in-github",
        "colab_type": "text"
      },
      "source": [
        "<a href=\"https://colab.research.google.com/github/taniahdez75/st/blob/main/Fairness1.ipynb\" target=\"_parent\"><img src=\"https://colab.research.google.com/assets/colab-badge.svg\" alt=\"Open In Colab\"/></a>"
      ]
    },
    {
      "cell_type": "markdown",
      "source": [
        "Fairness analysis of adult income dataset.\n",
        "Dataset: https://archive.ics.uci.edu/ml/datasets/adult"
      ],
      "metadata": {
        "id": "9QChZHVTP8UY"
      }
    },
    {
      "cell_type": "code",
      "execution_count": null,
      "metadata": {
        "colab": {
          "base_uri": "https://localhost:8080/"
        },
        "id": "Yzl6fC_kNeLB",
        "outputId": "d3214731-549c-4f79-acd1-6c8ec653cadc"
      },
      "outputs": [
        {
          "output_type": "stream",
          "name": "stdout",
          "text": [
            "Looking in indexes: https://pypi.org/simple, https://us-python.pkg.dev/colab-wheels/public/simple/\n",
            "Collecting shap\n",
            "  Downloading shap-0.41.0-cp38-cp38-manylinux_2_12_x86_64.manylinux2010_x86_64.whl (575 kB)\n",
            "\u001b[2K     \u001b[90m━━━━━━━━━━━━━━━━━━━━━━━━━━━━━━━━━━━━━━\u001b[0m \u001b[32m575.9/575.9 KB\u001b[0m \u001b[31m10.8 MB/s\u001b[0m eta \u001b[36m0:00:00\u001b[0m\n",
            "\u001b[?25hRequirement already satisfied: scipy in /usr/local/lib/python3.8/dist-packages (from shap) (1.7.3)\n",
            "Requirement already satisfied: scikit-learn in /usr/local/lib/python3.8/dist-packages (from shap) (1.0.2)\n",
            "Collecting slicer==0.0.7\n",
            "  Downloading slicer-0.0.7-py3-none-any.whl (14 kB)\n",
            "Requirement already satisfied: tqdm>4.25.0 in /usr/local/lib/python3.8/dist-packages (from shap) (4.64.1)\n",
            "Requirement already satisfied: cloudpickle in /usr/local/lib/python3.8/dist-packages (from shap) (2.2.1)\n",
            "Requirement already satisfied: packaging>20.9 in /usr/local/lib/python3.8/dist-packages (from shap) (23.0)\n",
            "Requirement already satisfied: numba in /usr/local/lib/python3.8/dist-packages (from shap) (0.56.4)\n",
            "Requirement already satisfied: pandas in /usr/local/lib/python3.8/dist-packages (from shap) (1.3.5)\n",
            "Requirement already satisfied: numpy in /usr/local/lib/python3.8/dist-packages (from shap) (1.22.4)\n",
            "Requirement already satisfied: setuptools in /usr/local/lib/python3.8/dist-packages (from numba->shap) (57.4.0)\n",
            "Requirement already satisfied: llvmlite<0.40,>=0.39.0dev0 in /usr/local/lib/python3.8/dist-packages (from numba->shap) (0.39.1)\n",
            "Requirement already satisfied: importlib-metadata in /usr/local/lib/python3.8/dist-packages (from numba->shap) (6.0.0)\n",
            "Requirement already satisfied: pytz>=2017.3 in /usr/local/lib/python3.8/dist-packages (from pandas->shap) (2022.7.1)\n",
            "Requirement already satisfied: python-dateutil>=2.7.3 in /usr/local/lib/python3.8/dist-packages (from pandas->shap) (2.8.2)\n",
            "Requirement already satisfied: joblib>=0.11 in /usr/local/lib/python3.8/dist-packages (from scikit-learn->shap) (1.2.0)\n",
            "Requirement already satisfied: threadpoolctl>=2.0.0 in /usr/local/lib/python3.8/dist-packages (from scikit-learn->shap) (3.1.0)\n",
            "Requirement already satisfied: six>=1.5 in /usr/local/lib/python3.8/dist-packages (from python-dateutil>=2.7.3->pandas->shap) (1.15.0)\n",
            "Requirement already satisfied: zipp>=0.5 in /usr/local/lib/python3.8/dist-packages (from importlib-metadata->numba->shap) (3.14.0)\n",
            "Installing collected packages: slicer, shap\n",
            "Successfully installed shap-0.41.0 slicer-0.0.7\n"
          ]
        }
      ],
      "source": [
        "!pip install shap"
      ]
    },
    {
      "cell_type": "code",
      "source": [
        "import numpy as np\n",
        "import pandas as pd\n",
        "import matplotlib.pyplot as plt\n",
        "\n",
        "import xgboost as xgb\n",
        "from xgboost import plot_importance\n",
        "\n",
        "from sklearn.metrics import accuracy_score,confusion_matrix\n",
        "from sklearn.metrics import classification_report\n",
        "from sklearn.feature_selection import mutual_info_classif\n",
        "\n",
        "import shap"
      ],
      "metadata": {
        "id": "ppbr7UBBP_IC"
      },
      "execution_count": null,
      "outputs": []
    },
    {
      "cell_type": "code",
      "source": [
        "names = ['age','workclass','fnlwgt','education','education-num',\n",
        "        'marital-status','occupation','relationship','race','sex',\n",
        "        'capital-gain','capital-loss','hours-per-week','native-country',\n",
        "        'y']\n",
        "\n",
        "#Load dataset\n",
        "df = pd.read_csv('https://raw.githubusercontent.com/fenago/datasets/main/adult-all.csv',names=names,na_values='?')\n",
        "df = df.dropna()\n",
        "\n",
        "print(len(df))\n",
        "df.head()"
      ],
      "metadata": {
        "colab": {
          "base_uri": "https://localhost:8080/",
          "height": 372
        },
        "id": "7vvZO756QXLy",
        "outputId": "bf26c244-63db-4294-b376-61602526ae4a"
      },
      "execution_count": null,
      "outputs": [
        {
          "output_type": "stream",
          "name": "stdout",
          "text": [
            "45222\n"
          ]
        },
        {
          "output_type": "execute_result",
          "data": {
            "text/plain": [
              "   age         workclass  fnlwgt  education  education-num  \\\n",
              "0   39         State-gov   77516  Bachelors             13   \n",
              "1   50  Self-emp-not-inc   83311  Bachelors             13   \n",
              "2   38           Private  215646    HS-grad              9   \n",
              "3   53           Private  234721       11th              7   \n",
              "4   28           Private  338409  Bachelors             13   \n",
              "\n",
              "       marital-status         occupation   relationship   race     sex  \\\n",
              "0       Never-married       Adm-clerical  Not-in-family  White    Male   \n",
              "1  Married-civ-spouse    Exec-managerial        Husband  White    Male   \n",
              "2            Divorced  Handlers-cleaners  Not-in-family  White    Male   \n",
              "3  Married-civ-spouse  Handlers-cleaners        Husband  Black    Male   \n",
              "4  Married-civ-spouse     Prof-specialty           Wife  Black  Female   \n",
              "\n",
              "   capital-gain  capital-loss  hours-per-week native-country      y  \n",
              "0          2174             0              40  United-States  <=50K  \n",
              "1             0             0              13  United-States  <=50K  \n",
              "2             0             0              40  United-States  <=50K  \n",
              "3             0             0              40  United-States  <=50K  \n",
              "4             0             0              40           Cuba  <=50K  "
            ],
            "text/html": [
              "\n",
              "  <div id=\"df-b16b54ff-2dc5-442d-96d5-c4d97fa32fae\">\n",
              "    <div class=\"colab-df-container\">\n",
              "      <div>\n",
              "<style scoped>\n",
              "    .dataframe tbody tr th:only-of-type {\n",
              "        vertical-align: middle;\n",
              "    }\n",
              "\n",
              "    .dataframe tbody tr th {\n",
              "        vertical-align: top;\n",
              "    }\n",
              "\n",
              "    .dataframe thead th {\n",
              "        text-align: right;\n",
              "    }\n",
              "</style>\n",
              "<table border=\"1\" class=\"dataframe\">\n",
              "  <thead>\n",
              "    <tr style=\"text-align: right;\">\n",
              "      <th></th>\n",
              "      <th>age</th>\n",
              "      <th>workclass</th>\n",
              "      <th>fnlwgt</th>\n",
              "      <th>education</th>\n",
              "      <th>education-num</th>\n",
              "      <th>marital-status</th>\n",
              "      <th>occupation</th>\n",
              "      <th>relationship</th>\n",
              "      <th>race</th>\n",
              "      <th>sex</th>\n",
              "      <th>capital-gain</th>\n",
              "      <th>capital-loss</th>\n",
              "      <th>hours-per-week</th>\n",
              "      <th>native-country</th>\n",
              "      <th>y</th>\n",
              "    </tr>\n",
              "  </thead>\n",
              "  <tbody>\n",
              "    <tr>\n",
              "      <th>0</th>\n",
              "      <td>39</td>\n",
              "      <td>State-gov</td>\n",
              "      <td>77516</td>\n",
              "      <td>Bachelors</td>\n",
              "      <td>13</td>\n",
              "      <td>Never-married</td>\n",
              "      <td>Adm-clerical</td>\n",
              "      <td>Not-in-family</td>\n",
              "      <td>White</td>\n",
              "      <td>Male</td>\n",
              "      <td>2174</td>\n",
              "      <td>0</td>\n",
              "      <td>40</td>\n",
              "      <td>United-States</td>\n",
              "      <td>&lt;=50K</td>\n",
              "    </tr>\n",
              "    <tr>\n",
              "      <th>1</th>\n",
              "      <td>50</td>\n",
              "      <td>Self-emp-not-inc</td>\n",
              "      <td>83311</td>\n",
              "      <td>Bachelors</td>\n",
              "      <td>13</td>\n",
              "      <td>Married-civ-spouse</td>\n",
              "      <td>Exec-managerial</td>\n",
              "      <td>Husband</td>\n",
              "      <td>White</td>\n",
              "      <td>Male</td>\n",
              "      <td>0</td>\n",
              "      <td>0</td>\n",
              "      <td>13</td>\n",
              "      <td>United-States</td>\n",
              "      <td>&lt;=50K</td>\n",
              "    </tr>\n",
              "    <tr>\n",
              "      <th>2</th>\n",
              "      <td>38</td>\n",
              "      <td>Private</td>\n",
              "      <td>215646</td>\n",
              "      <td>HS-grad</td>\n",
              "      <td>9</td>\n",
              "      <td>Divorced</td>\n",
              "      <td>Handlers-cleaners</td>\n",
              "      <td>Not-in-family</td>\n",
              "      <td>White</td>\n",
              "      <td>Male</td>\n",
              "      <td>0</td>\n",
              "      <td>0</td>\n",
              "      <td>40</td>\n",
              "      <td>United-States</td>\n",
              "      <td>&lt;=50K</td>\n",
              "    </tr>\n",
              "    <tr>\n",
              "      <th>3</th>\n",
              "      <td>53</td>\n",
              "      <td>Private</td>\n",
              "      <td>234721</td>\n",
              "      <td>11th</td>\n",
              "      <td>7</td>\n",
              "      <td>Married-civ-spouse</td>\n",
              "      <td>Handlers-cleaners</td>\n",
              "      <td>Husband</td>\n",
              "      <td>Black</td>\n",
              "      <td>Male</td>\n",
              "      <td>0</td>\n",
              "      <td>0</td>\n",
              "      <td>40</td>\n",
              "      <td>United-States</td>\n",
              "      <td>&lt;=50K</td>\n",
              "    </tr>\n",
              "    <tr>\n",
              "      <th>4</th>\n",
              "      <td>28</td>\n",
              "      <td>Private</td>\n",
              "      <td>338409</td>\n",
              "      <td>Bachelors</td>\n",
              "      <td>13</td>\n",
              "      <td>Married-civ-spouse</td>\n",
              "      <td>Prof-specialty</td>\n",
              "      <td>Wife</td>\n",
              "      <td>Black</td>\n",
              "      <td>Female</td>\n",
              "      <td>0</td>\n",
              "      <td>0</td>\n",
              "      <td>40</td>\n",
              "      <td>Cuba</td>\n",
              "      <td>&lt;=50K</td>\n",
              "    </tr>\n",
              "  </tbody>\n",
              "</table>\n",
              "</div>\n",
              "      <button class=\"colab-df-convert\" onclick=\"convertToInteractive('df-b16b54ff-2dc5-442d-96d5-c4d97fa32fae')\"\n",
              "              title=\"Convert this dataframe to an interactive table.\"\n",
              "              style=\"display:none;\">\n",
              "        \n",
              "  <svg xmlns=\"http://www.w3.org/2000/svg\" height=\"24px\"viewBox=\"0 0 24 24\"\n",
              "       width=\"24px\">\n",
              "    <path d=\"M0 0h24v24H0V0z\" fill=\"none\"/>\n",
              "    <path d=\"M18.56 5.44l.94 2.06.94-2.06 2.06-.94-2.06-.94-.94-2.06-.94 2.06-2.06.94zm-11 1L8.5 8.5l.94-2.06 2.06-.94-2.06-.94L8.5 2.5l-.94 2.06-2.06.94zm10 10l.94 2.06.94-2.06 2.06-.94-2.06-.94-.94-2.06-.94 2.06-2.06.94z\"/><path d=\"M17.41 7.96l-1.37-1.37c-.4-.4-.92-.59-1.43-.59-.52 0-1.04.2-1.43.59L10.3 9.45l-7.72 7.72c-.78.78-.78 2.05 0 2.83L4 21.41c.39.39.9.59 1.41.59.51 0 1.02-.2 1.41-.59l7.78-7.78 2.81-2.81c.8-.78.8-2.07 0-2.86zM5.41 20L4 18.59l7.72-7.72 1.47 1.35L5.41 20z\"/>\n",
              "  </svg>\n",
              "      </button>\n",
              "      \n",
              "  <style>\n",
              "    .colab-df-container {\n",
              "      display:flex;\n",
              "      flex-wrap:wrap;\n",
              "      gap: 12px;\n",
              "    }\n",
              "\n",
              "    .colab-df-convert {\n",
              "      background-color: #E8F0FE;\n",
              "      border: none;\n",
              "      border-radius: 50%;\n",
              "      cursor: pointer;\n",
              "      display: none;\n",
              "      fill: #1967D2;\n",
              "      height: 32px;\n",
              "      padding: 0 0 0 0;\n",
              "      width: 32px;\n",
              "    }\n",
              "\n",
              "    .colab-df-convert:hover {\n",
              "      background-color: #E2EBFA;\n",
              "      box-shadow: 0px 1px 2px rgba(60, 64, 67, 0.3), 0px 1px 3px 1px rgba(60, 64, 67, 0.15);\n",
              "      fill: #174EA6;\n",
              "    }\n",
              "\n",
              "    [theme=dark] .colab-df-convert {\n",
              "      background-color: #3B4455;\n",
              "      fill: #D2E3FC;\n",
              "    }\n",
              "\n",
              "    [theme=dark] .colab-df-convert:hover {\n",
              "      background-color: #434B5C;\n",
              "      box-shadow: 0px 1px 3px 1px rgba(0, 0, 0, 0.15);\n",
              "      filter: drop-shadow(0px 1px 2px rgba(0, 0, 0, 0.3));\n",
              "      fill: #FFFFFF;\n",
              "    }\n",
              "  </style>\n",
              "\n",
              "      <script>\n",
              "        const buttonEl =\n",
              "          document.querySelector('#df-b16b54ff-2dc5-442d-96d5-c4d97fa32fae button.colab-df-convert');\n",
              "        buttonEl.style.display =\n",
              "          google.colab.kernel.accessAllowed ? 'block' : 'none';\n",
              "\n",
              "        async function convertToInteractive(key) {\n",
              "          const element = document.querySelector('#df-b16b54ff-2dc5-442d-96d5-c4d97fa32fae');\n",
              "          const dataTable =\n",
              "            await google.colab.kernel.invokeFunction('convertToInteractive',\n",
              "                                                     [key], {});\n",
              "          if (!dataTable) return;\n",
              "\n",
              "          const docLinkHtml = 'Like what you see? Visit the ' +\n",
              "            '<a target=\"_blank\" href=https://colab.research.google.com/notebooks/data_table.ipynb>data table notebook</a>'\n",
              "            + ' to learn more about interactive tables.';\n",
              "          element.innerHTML = '';\n",
              "          dataTable['output_type'] = 'display_data';\n",
              "          await google.colab.output.renderOutput(dataTable, element);\n",
              "          const docLink = document.createElement('div');\n",
              "          docLink.innerHTML = docLinkHtml;\n",
              "          element.appendChild(docLink);\n",
              "        }\n",
              "      </script>\n",
              "    </div>\n",
              "  </div>\n",
              "  "
            ]
          },
          "metadata": {},
          "execution_count": 3
        }
      ]
    },
    {
      "cell_type": "code",
      "source": [
        "#Snap shot of dataset\n",
        "df[['age','education-num','marital-status','occupation',\n",
        "    'hours-per-week','native-country',\n",
        "    'race','sex','y']].head(10)"
      ],
      "metadata": {
        "colab": {
          "base_uri": "https://localhost:8080/",
          "height": 363
        },
        "id": "5Y5LepnnXOlV",
        "outputId": "31887956-3c9e-4972-9d3a-80d5e3c93ad8"
      },
      "execution_count": null,
      "outputs": [
        {
          "output_type": "execute_result",
          "data": {
            "text/plain": [
              "   age  education-num         marital-status         occupation  \\\n",
              "0   39             13          Never-married       Adm-clerical   \n",
              "1   50             13     Married-civ-spouse    Exec-managerial   \n",
              "2   38              9               Divorced  Handlers-cleaners   \n",
              "3   53              7     Married-civ-spouse  Handlers-cleaners   \n",
              "4   28             13     Married-civ-spouse     Prof-specialty   \n",
              "5   37             14     Married-civ-spouse    Exec-managerial   \n",
              "6   49              5  Married-spouse-absent      Other-service   \n",
              "7   52              9     Married-civ-spouse    Exec-managerial   \n",
              "8   31             14          Never-married     Prof-specialty   \n",
              "9   42             13     Married-civ-spouse    Exec-managerial   \n",
              "\n",
              "   hours-per-week native-country   race     sex      y  \n",
              "0              40  United-States  White    Male  <=50K  \n",
              "1              13  United-States  White    Male  <=50K  \n",
              "2              40  United-States  White    Male  <=50K  \n",
              "3              40  United-States  Black    Male  <=50K  \n",
              "4              40           Cuba  Black  Female  <=50K  \n",
              "5              40  United-States  White  Female  <=50K  \n",
              "6              16        Jamaica  Black  Female  <=50K  \n",
              "7              45  United-States  White    Male   >50K  \n",
              "8              50  United-States  White  Female   >50K  \n",
              "9              40  United-States  White    Male   >50K  "
            ],
            "text/html": [
              "\n",
              "  <div id=\"df-95381604-1eb0-4b96-a54d-28dcfc110d64\">\n",
              "    <div class=\"colab-df-container\">\n",
              "      <div>\n",
              "<style scoped>\n",
              "    .dataframe tbody tr th:only-of-type {\n",
              "        vertical-align: middle;\n",
              "    }\n",
              "\n",
              "    .dataframe tbody tr th {\n",
              "        vertical-align: top;\n",
              "    }\n",
              "\n",
              "    .dataframe thead th {\n",
              "        text-align: right;\n",
              "    }\n",
              "</style>\n",
              "<table border=\"1\" class=\"dataframe\">\n",
              "  <thead>\n",
              "    <tr style=\"text-align: right;\">\n",
              "      <th></th>\n",
              "      <th>age</th>\n",
              "      <th>education-num</th>\n",
              "      <th>marital-status</th>\n",
              "      <th>occupation</th>\n",
              "      <th>hours-per-week</th>\n",
              "      <th>native-country</th>\n",
              "      <th>race</th>\n",
              "      <th>sex</th>\n",
              "      <th>y</th>\n",
              "    </tr>\n",
              "  </thead>\n",
              "  <tbody>\n",
              "    <tr>\n",
              "      <th>0</th>\n",
              "      <td>39</td>\n",
              "      <td>13</td>\n",
              "      <td>Never-married</td>\n",
              "      <td>Adm-clerical</td>\n",
              "      <td>40</td>\n",
              "      <td>United-States</td>\n",
              "      <td>White</td>\n",
              "      <td>Male</td>\n",
              "      <td>&lt;=50K</td>\n",
              "    </tr>\n",
              "    <tr>\n",
              "      <th>1</th>\n",
              "      <td>50</td>\n",
              "      <td>13</td>\n",
              "      <td>Married-civ-spouse</td>\n",
              "      <td>Exec-managerial</td>\n",
              "      <td>13</td>\n",
              "      <td>United-States</td>\n",
              "      <td>White</td>\n",
              "      <td>Male</td>\n",
              "      <td>&lt;=50K</td>\n",
              "    </tr>\n",
              "    <tr>\n",
              "      <th>2</th>\n",
              "      <td>38</td>\n",
              "      <td>9</td>\n",
              "      <td>Divorced</td>\n",
              "      <td>Handlers-cleaners</td>\n",
              "      <td>40</td>\n",
              "      <td>United-States</td>\n",
              "      <td>White</td>\n",
              "      <td>Male</td>\n",
              "      <td>&lt;=50K</td>\n",
              "    </tr>\n",
              "    <tr>\n",
              "      <th>3</th>\n",
              "      <td>53</td>\n",
              "      <td>7</td>\n",
              "      <td>Married-civ-spouse</td>\n",
              "      <td>Handlers-cleaners</td>\n",
              "      <td>40</td>\n",
              "      <td>United-States</td>\n",
              "      <td>Black</td>\n",
              "      <td>Male</td>\n",
              "      <td>&lt;=50K</td>\n",
              "    </tr>\n",
              "    <tr>\n",
              "      <th>4</th>\n",
              "      <td>28</td>\n",
              "      <td>13</td>\n",
              "      <td>Married-civ-spouse</td>\n",
              "      <td>Prof-specialty</td>\n",
              "      <td>40</td>\n",
              "      <td>Cuba</td>\n",
              "      <td>Black</td>\n",
              "      <td>Female</td>\n",
              "      <td>&lt;=50K</td>\n",
              "    </tr>\n",
              "    <tr>\n",
              "      <th>5</th>\n",
              "      <td>37</td>\n",
              "      <td>14</td>\n",
              "      <td>Married-civ-spouse</td>\n",
              "      <td>Exec-managerial</td>\n",
              "      <td>40</td>\n",
              "      <td>United-States</td>\n",
              "      <td>White</td>\n",
              "      <td>Female</td>\n",
              "      <td>&lt;=50K</td>\n",
              "    </tr>\n",
              "    <tr>\n",
              "      <th>6</th>\n",
              "      <td>49</td>\n",
              "      <td>5</td>\n",
              "      <td>Married-spouse-absent</td>\n",
              "      <td>Other-service</td>\n",
              "      <td>16</td>\n",
              "      <td>Jamaica</td>\n",
              "      <td>Black</td>\n",
              "      <td>Female</td>\n",
              "      <td>&lt;=50K</td>\n",
              "    </tr>\n",
              "    <tr>\n",
              "      <th>7</th>\n",
              "      <td>52</td>\n",
              "      <td>9</td>\n",
              "      <td>Married-civ-spouse</td>\n",
              "      <td>Exec-managerial</td>\n",
              "      <td>45</td>\n",
              "      <td>United-States</td>\n",
              "      <td>White</td>\n",
              "      <td>Male</td>\n",
              "      <td>&gt;50K</td>\n",
              "    </tr>\n",
              "    <tr>\n",
              "      <th>8</th>\n",
              "      <td>31</td>\n",
              "      <td>14</td>\n",
              "      <td>Never-married</td>\n",
              "      <td>Prof-specialty</td>\n",
              "      <td>50</td>\n",
              "      <td>United-States</td>\n",
              "      <td>White</td>\n",
              "      <td>Female</td>\n",
              "      <td>&gt;50K</td>\n",
              "    </tr>\n",
              "    <tr>\n",
              "      <th>9</th>\n",
              "      <td>42</td>\n",
              "      <td>13</td>\n",
              "      <td>Married-civ-spouse</td>\n",
              "      <td>Exec-managerial</td>\n",
              "      <td>40</td>\n",
              "      <td>United-States</td>\n",
              "      <td>White</td>\n",
              "      <td>Male</td>\n",
              "      <td>&gt;50K</td>\n",
              "    </tr>\n",
              "  </tbody>\n",
              "</table>\n",
              "</div>\n",
              "      <button class=\"colab-df-convert\" onclick=\"convertToInteractive('df-95381604-1eb0-4b96-a54d-28dcfc110d64')\"\n",
              "              title=\"Convert this dataframe to an interactive table.\"\n",
              "              style=\"display:none;\">\n",
              "        \n",
              "  <svg xmlns=\"http://www.w3.org/2000/svg\" height=\"24px\"viewBox=\"0 0 24 24\"\n",
              "       width=\"24px\">\n",
              "    <path d=\"M0 0h24v24H0V0z\" fill=\"none\"/>\n",
              "    <path d=\"M18.56 5.44l.94 2.06.94-2.06 2.06-.94-2.06-.94-.94-2.06-.94 2.06-2.06.94zm-11 1L8.5 8.5l.94-2.06 2.06-.94-2.06-.94L8.5 2.5l-.94 2.06-2.06.94zm10 10l.94 2.06.94-2.06 2.06-.94-2.06-.94-.94-2.06-.94 2.06-2.06.94z\"/><path d=\"M17.41 7.96l-1.37-1.37c-.4-.4-.92-.59-1.43-.59-.52 0-1.04.2-1.43.59L10.3 9.45l-7.72 7.72c-.78.78-.78 2.05 0 2.83L4 21.41c.39.39.9.59 1.41.59.51 0 1.02-.2 1.41-.59l7.78-7.78 2.81-2.81c.8-.78.8-2.07 0-2.86zM5.41 20L4 18.59l7.72-7.72 1.47 1.35L5.41 20z\"/>\n",
              "  </svg>\n",
              "      </button>\n",
              "      \n",
              "  <style>\n",
              "    .colab-df-container {\n",
              "      display:flex;\n",
              "      flex-wrap:wrap;\n",
              "      gap: 12px;\n",
              "    }\n",
              "\n",
              "    .colab-df-convert {\n",
              "      background-color: #E8F0FE;\n",
              "      border: none;\n",
              "      border-radius: 50%;\n",
              "      cursor: pointer;\n",
              "      display: none;\n",
              "      fill: #1967D2;\n",
              "      height: 32px;\n",
              "      padding: 0 0 0 0;\n",
              "      width: 32px;\n",
              "    }\n",
              "\n",
              "    .colab-df-convert:hover {\n",
              "      background-color: #E2EBFA;\n",
              "      box-shadow: 0px 1px 2px rgba(60, 64, 67, 0.3), 0px 1px 3px 1px rgba(60, 64, 67, 0.15);\n",
              "      fill: #174EA6;\n",
              "    }\n",
              "\n",
              "    [theme=dark] .colab-df-convert {\n",
              "      background-color: #3B4455;\n",
              "      fill: #D2E3FC;\n",
              "    }\n",
              "\n",
              "    [theme=dark] .colab-df-convert:hover {\n",
              "      background-color: #434B5C;\n",
              "      box-shadow: 0px 1px 3px 1px rgba(0, 0, 0, 0.15);\n",
              "      filter: drop-shadow(0px 1px 2px rgba(0, 0, 0, 0.3));\n",
              "      fill: #FFFFFF;\n",
              "    }\n",
              "  </style>\n",
              "\n",
              "      <script>\n",
              "        const buttonEl =\n",
              "          document.querySelector('#df-95381604-1eb0-4b96-a54d-28dcfc110d64 button.colab-df-convert');\n",
              "        buttonEl.style.display =\n",
              "          google.colab.kernel.accessAllowed ? 'block' : 'none';\n",
              "\n",
              "        async function convertToInteractive(key) {\n",
              "          const element = document.querySelector('#df-95381604-1eb0-4b96-a54d-28dcfc110d64');\n",
              "          const dataTable =\n",
              "            await google.colab.kernel.invokeFunction('convertToInteractive',\n",
              "                                                     [key], {});\n",
              "          if (!dataTable) return;\n",
              "\n",
              "          const docLinkHtml = 'Like what you see? Visit the ' +\n",
              "            '<a target=\"_blank\" href=https://colab.research.google.com/notebooks/data_table.ipynb>data table notebook</a>'\n",
              "            + ' to learn more about interactive tables.';\n",
              "          element.innerHTML = '';\n",
              "          dataTable['output_type'] = 'display_data';\n",
              "          await google.colab.output.renderOutput(dataTable, element);\n",
              "          const docLink = document.createElement('div');\n",
              "          docLink.innerHTML = docLinkHtml;\n",
              "          element.appendChild(docLink);\n",
              "        }\n",
              "      </script>\n",
              "    </div>\n",
              "  </div>\n",
              "  "
            ]
          },
          "metadata": {},
          "execution_count": 14
        }
      ]
    },
    {
      "cell_type": "code",
      "source": [
        "#Get population count by race\n",
        "counts = df['race'].value_counts()\n",
        "labels = counts.index\n",
        "\n",
        "#Plot pie chart\n",
        "plt.pie(counts, startangle=90)\n",
        "plt.legend(labels, loc=2,fontsize=15)\n",
        "plt.title(\"Race\",size=20)"
      ],
      "metadata": {
        "colab": {
          "base_uri": "https://localhost:8080/",
          "height": 286
        },
        "id": "nbXBI9YPSwG2",
        "outputId": "649447b0-a0cf-45fa-a764-4f34afe6d7f6"
      },
      "execution_count": null,
      "outputs": [
        {
          "output_type": "execute_result",
          "data": {
            "text/plain": [
              "Text(0.5, 1.0, 'Race')"
            ]
          },
          "metadata": {},
          "execution_count": 15
        },
        {
          "output_type": "display_data",
          "data": {
            "text/plain": [
              "<Figure size 432x288 with 1 Axes>"
            ],
            "image/png": "[encoded data removed]"
          },
          "metadata": {}
        }
      ]
    },
    {
      "cell_type": "code",
      "source": [
        "#Get population count by race\n",
        "counts = df['sex'].value_counts()\n",
        "labels = counts.index\n",
        "\n",
        "#Plot pie chart\n",
        "plt.pie(counts, startangle=90)\n",
        "plt.legend(labels, loc=2,fontsize=15)\n",
        "plt.title(\"Gender\",size=20)"
      ],
      "metadata": {
        "colab": {
          "base_uri": "https://localhost:8080/",
          "height": 286
        },
        "id": "AdC8_W-ZS5Nk",
        "outputId": "810906a9-8702-4b32-d322-8e6f2a17a0cd"
      },
      "execution_count": null,
      "outputs": [
        {
          "output_type": "execute_result",
          "data": {
            "text/plain": [
              "Text(0.5, 1.0, 'Gender')"
            ]
          },
          "metadata": {},
          "execution_count": 16
        },
        {
          "output_type": "display_data",
          "data": {
            "text/plain": [
              "<Figure size 432x288 with 1 Axes>"
            ],
            "image/png": "[encoded data removed]"
          },
          "metadata": {}
        }
      ]
    },
    {
      "cell_type": "code",
      "source": [
        "plt.figure(figsize=(14, 7))\n",
        "plt.subplot(121)\n",
        "\n",
        "#Plot breakdown by race\n",
        "counts = df['race'].value_counts()\n",
        "labels = counts.index\n",
        "\n",
        "plt.pie(counts, startangle=90)\n",
        "plt.legend(labels, loc=2,fontsize=15)\n",
        "plt.title(\"Race\",size=20)\n",
        "\n",
        "plt.subplot(122)\n",
        "\n",
        "#Plot breakdown by sex\n",
        "counts = df['sex'].value_counts()\n",
        "labels = counts.index\n",
        "\n",
        "plt.pie(counts, startangle=90)\n",
        "plt.legend(labels, loc=2,fontsize=15)\n",
        "plt.title(\"Sex\",size=20)\n",
        "\n",
        "\n",
        "plt.tight_layout(pad=2)\n",
        "# plt.savefig(path.format('unbalnced_datsets.png'),format='png',dpi=150)"
      ],
      "metadata": {
        "colab": {
          "base_uri": "https://localhost:8080/",
          "height": 508
        },
        "id": "-aLIRuVQXlxP",
        "outputId": "2eb1da31-43d2-4feb-ba79-bc1efad68df9"
      },
      "execution_count": null,
      "outputs": [
        {
          "output_type": "display_data",
          "data": {
            "text/plain": [
              "<Figure size 1008x504 with 2 Axes>"
            ],
            "image/png": "[encoded data removed]"
          },
          "metadata": {}
        }
      ]
    },
    {
      "cell_type": "code",
      "source": [
        "\n",
        "df_fair = df[['race','sex']]\n",
        "\n",
        "#Define protected features \n",
        "df_fair['priv_race'] = [1 if r=='White' else 0 for r in df_fair['race']]\n",
        "df_fair['priv_sex'] = [1 if s=='Male' else 0 for s in df_fair['sex']]\n",
        "\n",
        "#Define target variable \n",
        "df_fair['y'] =  [1 if y == '>50K'else 0 for y in df['y']]"
      ],
      "metadata": {
        "colab": {
          "base_uri": "https://localhost:8080/"
        },
        "id": "oOWq-myMUAjq",
        "outputId": "2d478f76-4d66-4797-f0fc-eed94699a8b3"
      },
      "execution_count": null,
      "outputs": [
        {
          "output_type": "stream",
          "name": "stderr",
          "text": [
            "\n",
            "A value is trying to be set on a copy of a slice from a DataFrame.\n",
            "Try using .loc[row_indexer,col_indexer] = value instead\n",
            "\n",
            "See the caveats in the documentation: https://pandas.pydata.org/pandas-docs/stable/user_guide/indexing.html#returning-a-view-versus-a-copy\n",
            "\n",
            "A value is trying to be set on a copy of a slice from a DataFrame.\n",
            "Try using .loc[row_indexer,col_indexer] = value instead\n",
            "\n",
            "See the caveats in the documentation: https://pandas.pydata.org/pandas-docs/stable/user_guide/indexing.html#returning-a-view-versus-a-copy\n",
            "\n",
            "A value is trying to be set on a copy of a slice from a DataFrame.\n",
            "Try using .loc[row_indexer,col_indexer] = value instead\n",
            "\n",
            "See the caveats in the documentation: https://pandas.pydata.org/pandas-docs/stable/user_guide/indexing.html#returning-a-view-versus-a-copy\n"
          ]
        }
      ]
    },
    {
      "cell_type": "code",
      "source": [
        "# Prevalence\n",
        "#Calculate prevelance\n",
        "prev = df_fair['y'].mean()\n",
        "prev_race = df_fair.groupby('priv_race')['y'].mean()\n",
        "prev_sex = df_fair.groupby('priv_sex')['y'].mean()\n",
        "prev_comb = df_fair.groupby(['priv_race','priv_sex'])['y'].mean()\n",
        "print(\"prev overall \" + str(prev))\n",
        "print(\"prev by race: \" + str(prev_race))\n",
        "print(\"prev by gender: \" + str(prev_sex))\n",
        "print(\"prev combo: \" + str(prev_comb))"
      ],
      "metadata": {
        "id": "Js8key1xUn9A",
        "colab": {
          "base_uri": "https://localhost:8080/"
        },
        "outputId": "b1a8e5c0-750d-46aa-b05f-3fa8d8a526b7"
      },
      "execution_count": null,
      "outputs": [
        {
          "output_type": "stream",
          "name": "stdout",
          "text": [
            "prev overall 0.2478439697492371\n",
            "prev by race: priv_race\n",
            "0    0.158411\n",
            "1    0.262371\n",
            "Name: y, dtype: float64\n",
            "prev by gender: priv_sex\n",
            "0    0.113576\n",
            "1    0.312477\n",
            "Name: y, dtype: float64\n",
            "prev combo: priv_race  priv_sex\n",
            "0          0           0.076102\n",
            "           1           0.224408\n",
            "1          0           0.122444\n",
            "           1           0.323908\n",
            "Name: y, dtype: float64\n"
          ]
        }
      ]
    },
    {
      "cell_type": "code",
      "source": [
        "# Proxy Variables\n",
        "# mutual information and feature importance\n",
        "#Target variable \n",
        "y = [1 if y == '>50K' else 0 for y in df['y']]\n",
        "\n",
        "#Model features\n",
        "X = df[['age','education-num','hours-per-week']]\n",
        "X['marital-status'] = [1 if x=='Married-civ-spouse' else 0 for x in df['marital-status']] \n",
        "X['native-country'] = [1 if x=='United-States' else 0 for x in df['native-country']] \n",
        "\n",
        "occ_groups = {\n",
        "    'Priv-house-serv':0,'Other-service':0,'Handlers-cleaners':0,\n",
        "    'Farming-fishing':1,'Machine-op-inspct':1,'Adm-clerical':1,\n",
        "    'Transport-moving':2,'Craft-repair':2,'Sales':2,\n",
        "    'Armed-Forces':3,'Tech-support':3,'Protective-serv':3,\n",
        "    'Prof-specialty':4,'Exec-managerial':4}\n",
        "\n",
        "X['occupation'] = [occ_groups[x] for x in df['occupation']]\n",
        "\n",
        "X.head()"
      ],
      "metadata": {
        "colab": {
          "base_uri": "https://localhost:8080/",
          "height": 467
        },
        "id": "nptFxigTZcQr",
        "outputId": "bd0875df-1405-43fd-e3c5-f895dfe7e92e"
      },
      "execution_count": null,
      "outputs": [
        {
          "output_type": "stream",
          "name": "stderr",
          "text": [
            "\n",
            "A value is trying to be set on a copy of a slice from a DataFrame.\n",
            "Try using .loc[row_indexer,col_indexer] = value instead\n",
            "\n",
            "See the caveats in the documentation: https://pandas.pydata.org/pandas-docs/stable/user_guide/indexing.html#returning-a-view-versus-a-copy\n",
            "\n",
            "A value is trying to be set on a copy of a slice from a DataFrame.\n",
            "Try using .loc[row_indexer,col_indexer] = value instead\n",
            "\n",
            "See the caveats in the documentation: https://pandas.pydata.org/pandas-docs/stable/user_guide/indexing.html#returning-a-view-versus-a-copy\n",
            "\n",
            "A value is trying to be set on a copy of a slice from a DataFrame.\n",
            "Try using .loc[row_indexer,col_indexer] = value instead\n",
            "\n",
            "See the caveats in the documentation: https://pandas.pydata.org/pandas-docs/stable/user_guide/indexing.html#returning-a-view-versus-a-copy\n"
          ]
        },
        {
          "output_type": "execute_result",
          "data": {
            "text/plain": [
              "   age  education-num  hours-per-week  marital-status  native-country  \\\n",
              "0   39             13              40               0               1   \n",
              "1   50             13              13               1               1   \n",
              "2   38              9              40               0               1   \n",
              "3   53              7              40               1               1   \n",
              "4   28             13              40               1               0   \n",
              "\n",
              "   occupation  \n",
              "0           1  \n",
              "1           4  \n",
              "2           0  \n",
              "3           0  \n",
              "4           4  "
            ],
            "text/html": [
              "\n",
              "  <div id=\"df-2d733f21-9353-41f4-a79b-c8e34c3b4076\">\n",
              "    <div class=\"colab-df-container\">\n",
              "      <div>\n",
              "<style scoped>\n",
              "    .dataframe tbody tr th:only-of-type {\n",
              "        vertical-align: middle;\n",
              "    }\n",
              "\n",
              "    .dataframe tbody tr th {\n",
              "        vertical-align: top;\n",
              "    }\n",
              "\n",
              "    .dataframe thead th {\n",
              "        text-align: right;\n",
              "    }\n",
              "</style>\n",
              "<table border=\"1\" class=\"dataframe\">\n",
              "  <thead>\n",
              "    <tr style=\"text-align: right;\">\n",
              "      <th></th>\n",
              "      <th>age</th>\n",
              "      <th>education-num</th>\n",
              "      <th>hours-per-week</th>\n",
              "      <th>marital-status</th>\n",
              "      <th>native-country</th>\n",
              "      <th>occupation</th>\n",
              "    </tr>\n",
              "  </thead>\n",
              "  <tbody>\n",
              "    <tr>\n",
              "      <th>0</th>\n",
              "      <td>39</td>\n",
              "      <td>13</td>\n",
              "      <td>40</td>\n",
              "      <td>0</td>\n",
              "      <td>1</td>\n",
              "      <td>1</td>\n",
              "    </tr>\n",
              "    <tr>\n",
              "      <th>1</th>\n",
              "      <td>50</td>\n",
              "      <td>13</td>\n",
              "      <td>13</td>\n",
              "      <td>1</td>\n",
              "      <td>1</td>\n",
              "      <td>4</td>\n",
              "    </tr>\n",
              "    <tr>\n",
              "      <th>2</th>\n",
              "      <td>38</td>\n",
              "      <td>9</td>\n",
              "      <td>40</td>\n",
              "      <td>0</td>\n",
              "      <td>1</td>\n",
              "      <td>0</td>\n",
              "    </tr>\n",
              "    <tr>\n",
              "      <th>3</th>\n",
              "      <td>53</td>\n",
              "      <td>7</td>\n",
              "      <td>40</td>\n",
              "      <td>1</td>\n",
              "      <td>1</td>\n",
              "      <td>0</td>\n",
              "    </tr>\n",
              "    <tr>\n",
              "      <th>4</th>\n",
              "      <td>28</td>\n",
              "      <td>13</td>\n",
              "      <td>40</td>\n",
              "      <td>1</td>\n",
              "      <td>0</td>\n",
              "      <td>4</td>\n",
              "    </tr>\n",
              "  </tbody>\n",
              "</table>\n",
              "</div>\n",
              "      <button class=\"colab-df-convert\" onclick=\"convertToInteractive('df-2d733f21-9353-41f4-a79b-c8e34c3b4076')\"\n",
              "              title=\"Convert this dataframe to an interactive table.\"\n",
              "              style=\"display:none;\">\n",
              "        \n",
              "  <svg xmlns=\"http://www.w3.org/2000/svg\" height=\"24px\"viewBox=\"0 0 24 24\"\n",
              "       width=\"24px\">\n",
              "    <path d=\"M0 0h24v24H0V0z\" fill=\"none\"/>\n",
              "    <path d=\"M18.56 5.44l.94 2.06.94-2.06 2.06-.94-2.06-.94-.94-2.06-.94 2.06-2.06.94zm-11 1L8.5 8.5l.94-2.06 2.06-.94-2.06-.94L8.5 2.5l-.94 2.06-2.06.94zm10 10l.94 2.06.94-2.06 2.06-.94-2.06-.94-.94-2.06-.94 2.06-2.06.94z\"/><path d=\"M17.41 7.96l-1.37-1.37c-.4-.4-.92-.59-1.43-.59-.52 0-1.04.2-1.43.59L10.3 9.45l-7.72 7.72c-.78.78-.78 2.05 0 2.83L4 21.41c.39.39.9.59 1.41.59.51 0 1.02-.2 1.41-.59l7.78-7.78 2.81-2.81c.8-.78.8-2.07 0-2.86zM5.41 20L4 18.59l7.72-7.72 1.47 1.35L5.41 20z\"/>\n",
              "  </svg>\n",
              "      </button>\n",
              "      \n",
              "  <style>\n",
              "    .colab-df-container {\n",
              "      display:flex;\n",
              "      flex-wrap:wrap;\n",
              "      gap: 12px;\n",
              "    }\n",
              "\n",
              "    .colab-df-convert {\n",
              "      background-color: #E8F0FE;\n",
              "      border: none;\n",
              "      border-radius: 50%;\n",
              "      cursor: pointer;\n",
              "      display: none;\n",
              "      fill: #1967D2;\n",
              "      height: 32px;\n",
              "      padding: 0 0 0 0;\n",
              "      width: 32px;\n",
              "    }\n",
              "\n",
              "    .colab-df-convert:hover {\n",
              "      background-color: #E2EBFA;\n",
              "      box-shadow: 0px 1px 2px rgba(60, 64, 67, 0.3), 0px 1px 3px 1px rgba(60, 64, 67, 0.15);\n",
              "      fill: #174EA6;\n",
              "    }\n",
              "\n",
              "    [theme=dark] .colab-df-convert {\n",
              "      background-color: #3B4455;\n",
              "      fill: #D2E3FC;\n",
              "    }\n",
              "\n",
              "    [theme=dark] .colab-df-convert:hover {\n",
              "      background-color: #434B5C;\n",
              "      box-shadow: 0px 1px 3px 1px rgba(0, 0, 0, 0.15);\n",
              "      filter: drop-shadow(0px 1px 2px rgba(0, 0, 0, 0.3));\n",
              "      fill: #FFFFFF;\n",
              "    }\n",
              "  </style>\n",
              "\n",
              "      <script>\n",
              "        const buttonEl =\n",
              "          document.querySelector('#df-2d733f21-9353-41f4-a79b-c8e34c3b4076 button.colab-df-convert');\n",
              "        buttonEl.style.display =\n",
              "          google.colab.kernel.accessAllowed ? 'block' : 'none';\n",
              "\n",
              "        async function convertToInteractive(key) {\n",
              "          const element = document.querySelector('#df-2d733f21-9353-41f4-a79b-c8e34c3b4076');\n",
              "          const dataTable =\n",
              "            await google.colab.kernel.invokeFunction('convertToInteractive',\n",
              "                                                     [key], {});\n",
              "          if (!dataTable) return;\n",
              "\n",
              "          const docLinkHtml = 'Like what you see? Visit the ' +\n",
              "            '<a target=\"_blank\" href=https://colab.research.google.com/notebooks/data_table.ipynb>data table notebook</a>'\n",
              "            + ' to learn more about interactive tables.';\n",
              "          element.innerHTML = '';\n",
              "          dataTable['output_type'] = 'display_data';\n",
              "          await google.colab.output.renderOutput(dataTable, element);\n",
              "          const docLink = document.createElement('div');\n",
              "          docLink.innerHTML = docLinkHtml;\n",
              "          element.appendChild(docLink);\n",
              "        }\n",
              "      </script>\n",
              "    </div>\n",
              "  </div>\n",
              "  "
            ]
          },
          "metadata": {},
          "execution_count": 21
        }
      ]
    },
    {
      "cell_type": "code",
      "source": [
        "#Mutual information \n",
        "\n",
        "#Calcualte mutual information\n",
        "mut_race = mutual_info_classif(X,df_fair['priv_race'],discrete_features=[1,3,4,5])\n",
        "mut_sex = mutual_info_classif(X,df_fair['priv_sex'],discrete_features=[1,3,4,5])\n",
        "\n",
        "\n",
        "#Plot mutual information \n",
        "plt.figure(figsize=(10, 5))\n",
        "\n",
        "labels = ['age', 'education-num', 'hours-per-week', 'marital-status',\n",
        "       'native-country', 'occupation']\n",
        "x = np.arange(len(labels)) \n",
        "width = 0.4\n",
        "plt.bar(x-width/2,height= mut_race,width=width,label='Race')\n",
        "plt.bar(x+width/2,height= mut_sex,width=width,label='Sex')\n",
        "plt.legend(fontsize=15)\n",
        "\n",
        "plt.ylabel('Mutual Information',size=15)\n",
        "plt.xticks(ticks=x,labels=labels)"
      ],
      "metadata": {
        "colab": {
          "base_uri": "https://localhost:8080/",
          "height": 528
        },
        "id": "MJ9XXPZNcOmG",
        "outputId": "7298a6f0-5d89-4999-8be7-cfa99565aa70"
      },
      "execution_count": null,
      "outputs": [
        {
          "output_type": "execute_result",
          "data": {
            "text/plain": [
              "([<matplotlib.axis.XTick at 0x7f5d434b7c40>,\n",
              "  <matplotlib.axis.XTick at 0x7f5d434b7c10>,\n",
              "  <matplotlib.axis.XTick at 0x7f5d434be280>,\n",
              "  <matplotlib.axis.XTick at 0x7f5d43486040>,\n",
              "  <matplotlib.axis.XTick at 0x7f5d43486640>,\n",
              "  <matplotlib.axis.XTick at 0x7f5d43486d90>],\n",
              " [Text(0, 0, 'age'),\n",
              "  Text(1, 0, 'education-num'),\n",
              "  Text(2, 0, 'hours-per-week'),\n",
              "  Text(3, 0, 'marital-status'),\n",
              "  Text(4, 0, 'native-country'),\n",
              "  Text(5, 0, 'occupation')])"
            ]
          },
          "metadata": {},
          "execution_count": 23
        },
        {
          "output_type": "display_data",
          "data": {
            "text/plain": [
              "<Figure size 720x360 with 1 Axes>"
            ],
            "image/png": "[encoded data removed]"
          },
          "metadata": {
            "needs_background": "light"
          }
        }
      ]
    },
    {
      "cell_type": "code",
      "source": [
        "#Feature importance race\n",
        "\n",
        "# Get balanced sample \n",
        "y_race_0 = df_fair[df_fair['priv_race'] == 0]['priv_race']\n",
        "y_race_1 = df_fair[df_fair['priv_race'] == 1]['priv_race']\n",
        "y_race_1 = y_race_1.sample(len(y_race_0))\n",
        "y_race = y_race_0.append(y_race_1)\n",
        "\n",
        "X_race = X.loc[y_race.index]\n",
        "\n",
        "#Train model and get predictions\n",
        "model = xgb.XGBClassifier(objective=\"binary:logistic\")\n",
        "model.fit(X_race, y_race)\n",
        "y_pred = model.predict(X_race)\n",
        "\n",
        "#Calculate accuracy \n",
        "acc_race = accuracy_score(y_race, y_pred)\n",
        "\n",
        "#Get feature importance \n",
        "fi_race = model.get_booster().get_score(importance_type='weight')\n",
        "\n",
        "\n",
        "#Output results \n",
        "print(acc_race)\n",
        "print(confusion_matrix(y_race, y_pred))\n",
        "print(classification_report(y_race, y_pred))"
      ],
      "metadata": {
        "colab": {
          "base_uri": "https://localhost:8080/"
        },
        "id": "v8viVMs8e7NG",
        "outputId": "fabc6085-1bb1-4cb6-f880-b6cc4ab9bb9b"
      },
      "execution_count": null,
      "outputs": [
        {
          "output_type": "stream",
          "name": "stdout",
          "text": [
            "0.6711504984965976\n",
            "[[4188 2131]\n",
            " [2025 4294]]\n",
            "              precision    recall  f1-score   support\n",
            "\n",
            "           0       0.67      0.66      0.67      6319\n",
            "           1       0.67      0.68      0.67      6319\n",
            "\n",
            "    accuracy                           0.67     12638\n",
            "   macro avg       0.67      0.67      0.67     12638\n",
            "weighted avg       0.67      0.67      0.67     12638\n",
            "\n"
          ]
        }
      ]
    },
    {
      "cell_type": "code",
      "source": [
        "#Feature importance sex\n",
        "\n",
        "# Get balanced sample \n",
        "y_sex_0 = df_fair[df_fair['priv_sex'] == 0]['priv_sex']\n",
        "y_sex_1 = df_fair[df_fair['priv_sex'] == 1]['priv_sex']\n",
        "y_sex_1 = y_sex_1.sample(len(y_sex_0))\n",
        "y_sex = y_sex_0.append(y_sex_1)\n",
        "\n",
        "X_sex = X.loc[y_sex.index]\n",
        "\n",
        "#Train model and get predictions\n",
        "model = xgb.XGBClassifier(objective=\"binary:logistic\")\n",
        "model.fit(X_sex, y_sex)\n",
        "\n",
        "y_pred = model.predict(X_sex)\n",
        "\n",
        "#Calculate accuracy \n",
        "acc_sex = accuracy_score(y_sex, y_pred)\n",
        "\n",
        "#Get feature importance \n",
        "fi_sex = model.get_booster().get_score(importance_type='weight')\n",
        "\n",
        "#Output results \n",
        "print(acc_sex)\n",
        "print(confusion_matrix(y_sex, y_pred))\n",
        "print(classification_report(y_sex, y_pred))"
      ],
      "metadata": {
        "colab": {
          "base_uri": "https://localhost:8080/"
        },
        "id": "jQ6zWaftfCQS",
        "outputId": "9bc0608f-1a69-417c-c0b3-19f2201648a7"
      },
      "execution_count": null,
      "outputs": [
        {
          "output_type": "stream",
          "name": "stdout",
          "text": [
            "0.7656005444028581\n",
            "[[12057  2638]\n",
            " [ 4251 10444]]\n",
            "              precision    recall  f1-score   support\n",
            "\n",
            "           0       0.74      0.82      0.78     14695\n",
            "           1       0.80      0.71      0.75     14695\n",
            "\n",
            "    accuracy                           0.77     29390\n",
            "   macro avg       0.77      0.77      0.76     29390\n",
            "weighted avg       0.77      0.77      0.76     29390\n",
            "\n"
          ]
        }
      ]
    },
    {
      "cell_type": "code",
      "source": [
        "#Plot feature importance\n",
        "plt.figure(figsize=(10, 5))\n",
        "\n",
        "labels = ['age', 'education-num', 'hours-per-week', 'marital-status',\n",
        "       'native-country', 'occupation']\n",
        "\n",
        "fi_race = [fi_race[l] for l in labels]\n",
        "fi_sex = [fi_sex[l] for l in labels]\n",
        "\n",
        "\n",
        "x = np.arange(len(labels)) \n",
        "width = 0.4\n",
        "plt.bar(x-width/2,height= fi_race,width=width,label='Race')\n",
        "plt.bar(x+width/2,height= fi_sex,width=width,label='Sex')\n",
        "plt.legend(fontsize=15)\n",
        "\n",
        "plt.ylabel('Feature Importance',size=15)\n",
        "plt.xticks(ticks=x,labels=labels)"
      ],
      "metadata": {
        "colab": {
          "base_uri": "https://localhost:8080/",
          "height": 528
        },
        "id": "tdxITfBygbMR",
        "outputId": "67b04a82-6dc4-473e-c86f-7cd4f2915685"
      },
      "execution_count": null,
      "outputs": [
        {
          "output_type": "execute_result",
          "data": {
            "text/plain": [
              "([<matplotlib.axis.XTick at 0x7f5d431ba160>,\n",
              "  <matplotlib.axis.XTick at 0x7f5d431ba130>,\n",
              "  <matplotlib.axis.XTick at 0x7f5d431b5820>,\n",
              "  <matplotlib.axis.XTick at 0x7f5d4318a3d0>,\n",
              "  <matplotlib.axis.XTick at 0x7f5d4318ab20>,\n",
              "  <matplotlib.axis.XTick at 0x7f5d431902e0>],\n",
              " [Text(0, 0, 'age'),\n",
              "  Text(1, 0, 'education-num'),\n",
              "  Text(2, 0, 'hours-per-week'),\n",
              "  Text(3, 0, 'marital-status'),\n",
              "  Text(4, 0, 'native-country'),\n",
              "  Text(5, 0, 'occupation')])"
            ]
          },
          "metadata": {},
          "execution_count": 26
        },
        {
          "output_type": "display_data",
          "data": {
            "text/plain": [
              "<Figure size 720x360 with 1 Axes>"
            ],
            "image/png": "[encoded data removed]"
          },
          "metadata": {
            "needs_background": "light"
          }
        }
      ]
    },
    {
      "cell_type": "code",
      "source": [
        "# Model - Measuring Fairness\n",
        "#Train model \n",
        "model = xgb.XGBClassifier(objective=\"binary:logistic\")\n",
        "model.fit(X, y)\n",
        "\n",
        "#Get predictions\n",
        "y_pred = model.predict(X)\n",
        "df_fair['y_pred'] = y_pred\n",
        "\n",
        "print(confusion_matrix(y, y_pred))\n",
        "print(accuracy_score(y, y_pred))\n",
        "print(classification_report(y, y_pred))"
      ],
      "metadata": {
        "colab": {
          "base_uri": "https://localhost:8080/"
        },
        "id": "vdy-Mh-Sh6LS",
        "outputId": "cbb9f257-d46e-431c-df7a-e88aebc81ff9"
      },
      "execution_count": null,
      "outputs": [
        {
          "output_type": "stream",
          "name": "stdout",
          "text": [
            "[[31323  2691]\n",
            " [ 4863  6345]]\n",
            "0.8329574101101234\n",
            "              precision    recall  f1-score   support\n",
            "\n",
            "           0       0.87      0.92      0.89     34014\n",
            "           1       0.70      0.57      0.63     11208\n",
            "\n",
            "    accuracy                           0.83     45222\n",
            "   macro avg       0.78      0.74      0.76     45222\n",
            "weighted avg       0.83      0.83      0.83     45222\n",
            "\n"
          ]
        },
        {
          "output_type": "stream",
          "name": "stderr",
          "text": [
            "\n",
            "A value is trying to be set on a copy of a slice from a DataFrame.\n",
            "Try using .loc[row_indexer,col_indexer] = value instead\n",
            "\n",
            "See the caveats in the documentation: https://pandas.pydata.org/pandas-docs/stable/user_guide/indexing.html#returning-a-view-versus-a-copy\n"
          ]
        }
      ]
    },
    {
      "cell_type": "code",
      "source": [
        "def fairness_metrics(df):\n",
        "    \"\"\"Calculate fairness for subgroup of population\"\"\"\n",
        "    \n",
        "    #Confusion Matrix\n",
        "    cm=confusion_matrix(df['y'],df['y_pred'])\n",
        "    TN, FP, FN, TP = cm.ravel()\n",
        "    \n",
        "    N = TP+FP+FN+TN\n",
        "    \n",
        "    # Overall accuracy\n",
        "    ACC = (TP+TN)/N\n",
        "    \n",
        "    # True positive rate\n",
        "    TPR = TP/(TP+FN)\n",
        "    \n",
        "    # False positive rate\n",
        "    FPR = FP/(FP+TN)\n",
        "    \n",
        "    # False negative rate\n",
        "    FNR = FN/(TP+FN)\n",
        "    \n",
        "    # Percentage predicted as positive\n",
        "    PPP = (TP + FP)/N\n",
        "    \n",
        "    return np.array([ACC, TPR, FPR, FNR, PPP])  "
      ],
      "metadata": {
        "id": "6aePSL9nkpP0"
      },
      "execution_count": null,
      "outputs": []
    },
    {
      "cell_type": "code",
      "source": [
        "#Calculate fairness metrics for race\n",
        "fm_race_1 = fairness_metrics(df_fair[df_fair.priv_race==1])\n",
        "fm_race_0 = fairness_metrics(df_fair[df_fair.priv_race==0])\n",
        "\n",
        "#Get ratio of fairness metrics\n",
        "fm_race = fm_race_0/fm_race_1\n",
        "\n",
        "print(fm_race_1)\n",
        "print(fm_race_0)\n",
        "print(fm_race)"
      ],
      "metadata": {
        "colab": {
          "base_uri": "https://localhost:8080/"
        },
        "id": "6N8fYMS_ky_W",
        "outputId": "f0f73ddf-fb55-4eda-9709-397d1f285cb0"
      },
      "execution_count": null,
      "outputs": [
        {
          "output_type": "stream",
          "name": "stdout",
          "text": [
            "[0.82502635 0.57294014 0.08530806 0.42705986 0.21324834]\n",
            "[0.88178509 0.4965035  0.04569387 0.5034965  0.11710714]\n",
            "[1.06879628 0.86658878 0.5356337  1.17898344 0.54915851]\n"
          ]
        }
      ]
    },
    {
      "cell_type": "code",
      "source": [
        "#Calculate fairness metrics for sex\n",
        "fm_sex_1 = fairness_metrics(df_fair[df_fair.priv_sex==1])\n",
        "fm_sex_0 = fairness_metrics(df_fair[df_fair.priv_sex==0])\n",
        "\n",
        "\n",
        "#Get ratio of fairness metrics\n",
        "fm_sex = fm_sex_0/fm_sex_1\n",
        "\n",
        "print(fm_sex_1)\n",
        "print(fm_sex_0)\n",
        "print(fm_sex)"
      ],
      "metadata": {
        "colab": {
          "base_uri": "https://localhost:8080/"
        },
        "id": "QRTnisX7l-og",
        "outputId": "28ec40c2-ed27-4ab4-e4d8-8d97d647f407"
      },
      "execution_count": null,
      "outputs": [
        {
          "output_type": "stream",
          "name": "stdout",
          "text": [
            "[0.79460805 0.59922424 0.11659043 0.40077576 0.26740263]\n",
            "[0.91262334 0.37687238 0.01873177 0.62312762 0.05940796]\n",
            "[1.14852013 0.6289338  0.16066299 1.55480366 0.22216671]\n"
          ]
        }
      ]
    },
    {
      "cell_type": "code",
      "source": [
        "df_fair['marital-status'] = X['marital-status']\n",
        "\n",
        "#Calculate figures\n",
        "count_ms = df_fair.groupby(['priv_sex','marital-status'])['priv_sex'].count()\n",
        "prev_ms = df_fair.groupby(['marital-status'])['y'].mean()\n",
        "prev_sex = df_fair.groupby(['priv_sex'])['y'].mean()\n",
        "\n",
        "print(count_ms)\n",
        "print(prev_ms)\n",
        "print(prev_sex)"
      ],
      "metadata": {
        "id": "DdHOF8NsmJ6k",
        "outputId": "01291e95-52f0-422c-e1dd-882392934964",
        "colab": {
          "base_uri": "https://localhost:8080/"
        }
      },
      "execution_count": null,
      "outputs": [
        {
          "output_type": "stream",
          "name": "stdout",
          "text": [
            "priv_sex  marital-status\n",
            "0         0                 12482\n",
            "          1                  2213\n",
            "1         0                 11685\n",
            "          1                 18842\n",
            "Name: priv_sex, dtype: int64\n",
            "marital-status\n",
            "0    0.068027\n",
            "1    0.454239\n",
            "Name: y, dtype: float64\n",
            "priv_sex\n",
            "0    0.113576\n",
            "1    0.312477\n",
            "Name: y, dtype: float64\n"
          ]
        },
        {
          "output_type": "stream",
          "name": "stderr",
          "text": [
            "\n",
            "A value is trying to be set on a copy of a slice from a DataFrame.\n",
            "Try using .loc[row_indexer,col_indexer] = value instead\n",
            "\n",
            "See the caveats in the documentation: https://pandas.pydata.org/pandas-docs/stable/user_guide/indexing.html#returning-a-view-versus-a-copy\n"
          ]
        }
      ]
    }
  ]
}