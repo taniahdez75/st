{
  "nbformat": 4,
  "nbformat_minor": 0,
  "metadata": {
    "colab": {
      "provenance": [],
      "authorship_tag": "ABX9TyNwlWhSoVc+qAfg50wOIeXw",
      "include_colab_link": true
    },
    "kernelspec": {
      "name": "python3",
      "display_name": "Python 3"
    },
    "language_info": {
      "name": "python"
    }
  },
  "cells": [
    {
      "cell_type": "markdown",
      "metadata": {
        "id": "view-in-github",
        "colab_type": "text"
      },
      "source": [
        "<a href=\"https://colab.research.google.com/github/taniahdez75/st/blob/main/Homework3_Tania.ipynb\" target=\"_parent\"><img src=\"https://colab.research.google.com/assets/colab-badge.svg\" alt=\"Open In Colab\"/></a>"
      ]
    },
    {
      "cell_type": "code",
      "execution_count": 7,
      "metadata": {
        "id": "jgSHKcFrx4_2"
      },
      "outputs": [],
      "source": [
        "#Feature Importance\n",
        "#Dataframe for CAse MAnangement Evaluation\n",
        "import pandas as pd\n",
        "import numpy as np\n",
        "import requests\n",
        "\n",
        "#Visualization\n",
        "import matplotlib\n",
        "import matplotlib.pyplot as plt\n",
        "import seaborn as sns\n",
        "import plotly.express as px\n",
        "\n",
        "#MAchine learning model\n",
        "from sklearn .linear_model import LogisticRegression\n",
        "\n",
        "\n"
      ]
    },
    {
      "cell_type": "code",
      "source": [
        "#Creating Member Data\n",
        "\n",
        "import numpy as np\n",
        "import pandas as pd\n",
        "import datetime\n",
        "\n",
        "# Define the number of records\n",
        "num_records = 1000\n",
        "\n",
        "# Define member_id as a sequence of integers\n",
        "member_id = list(range(1, num_records + 1))\n",
        "\n",
        "# Define sex, age, diabetes and dementia as random variables\n",
        "sex = np.random.choice(['M', 'F'], size=num_records)\n",
        "age = np.random.normal(50, 10, size=num_records)\n",
        "diabetes = np.random.choice([0, 1], size=num_records)\n",
        "dementia = np.random.choice([0, 1], size=num_records)\n",
        "\n",
        "#SDOH\n",
        "HousingIns = np.random.uniform(low=1.0, high=10.0, size=num_records)\n",
        "FoodIns = np.random.uniform(low=1.0, high=20.0, size=num_records)\n",
        "SVIFactor = np.random.uniform(low=1.0, high=30.0, size=num_records)\n",
        "TranspIns = np.random.uniform(low=1.0, high=40.0, size=num_records)\n",
        "\n",
        "# Define case_management_date as a random date\n",
        "start_date = '2019-01-01'\n",
        "end_date = '2022-12-31'\n",
        "case_management_date = pd.to_datetime(np.random.choice(pd.date_range(start=start_date, end=end_date), size=num_records))\n",
        "\n",
        "# Define the CM flag column\n",
        "CM = np.random.choice([0, 1], size=num_records)\n",
        "\n",
        "# Define risk_level as a random variable\n",
        "risk_level = np.random.choice(['High', 'Medium', 'Low', 'None'], size=num_records)\n",
        "\n",
        "# Create a dataframe with the generated columns\n",
        "data = {\n",
        "    'member_id': member_id,\n",
        "    'sex': sex,\n",
        "    'age': age,\n",
        "    'diabetes': diabetes,\n",
        "    'dementia': dementia,\n",
        "    'HousingIns':HousingIns,\n",
        "    'FoodIns':FoodIns,\n",
        "    'SVIFactor':SVIFactor,\n",
        "    'TranspIns':TranspIns,\n",
        "    'case_management_date': case_management_date,\n",
        "    'CM': CM,\n",
        "    'risk_level':risk_level\n",
        "}\n",
        "\n",
        "df = pd.DataFrame(data)\n",
        "\n",
        "# Preview the dataframe\n",
        "print(df.head())"
      ],
      "metadata": {
        "colab": {
          "base_uri": "https://localhost:8080/"
        },
        "id": "a5VWOSreNNoO",
        "outputId": "948e5166-a6f6-4f29-c4d4-bdc2f7d2ba4d"
      },
      "execution_count": 8,
      "outputs": [
        {
          "output_type": "stream",
          "name": "stdout",
          "text": [
            "   member_id sex        age  diabetes  dementia  HousingIns    FoodIns  \\\n",
            "0          1   F  48.702670         0         1    3.068120  17.563781   \n",
            "1          2   M  54.962374         0         0    5.297407  16.107555   \n",
            "2          3   F  54.696571         1         1    4.989313   9.638523   \n",
            "3          4   F  55.169737         0         0    4.224295  11.569407   \n",
            "4          5   M  38.601591         0         1    2.217510   2.704904   \n",
            "\n",
            "   SVIFactor  TranspIns case_management_date  CM risk_level  \n",
            "0  17.887988  29.563134           2022-12-19   0     Medium  \n",
            "1  17.195904   7.117386           2021-04-19   0     Medium  \n",
            "2  13.852421  27.299715           2022-01-28   0       High  \n",
            "3   9.566202  23.612140           2022-03-07   0       High  \n",
            "4   1.919772  17.041419           2021-06-30   0     Medium  \n"
          ]
        }
      ]
    },
    {
      "cell_type": "code",
      "source": [
        "# Creating Cost Data\n",
        "#Define the number of records\n",
        "num_records1 = 10000\n",
        "\n",
        "# Get a random selection of values in df1 column A\n",
        "values_A = np.random.choice(df['member_id'], size=num_records)\n",
        "\n",
        "# Define cost_before_CM and cost_after_CM as random amounts of money\n",
        "cost = np.random.normal(500, 100, size=num_records1)\n",
        "\n",
        "# Define claim_type as a random variable\n",
        "claim_type = np.random.choice(['ER', 'IP', 'RX'], size=num_records1)\n",
        "period = np.random.choice(['PRE', 'POS'], size=num_records1)\n",
        "  \n",
        "# Create a dataframe with the generated columns\n",
        "data = {\n",
        "    'member_id':np.random.choice(values_A, size=num_records1),\n",
        "    'period':period,\n",
        "    'cost': cost,\n",
        "    'claim_type': claim_type\n",
        "}\n",
        "\n",
        "df1 = pd.DataFrame(data)\n",
        "\n",
        "# Preview the dataframe\n",
        "print(df1.head())"
      ],
      "metadata": {
        "colab": {
          "base_uri": "https://localhost:8080/"
        },
        "id": "IoUNUOMZO6Z_",
        "outputId": "a90b500f-5b32-45e0-b6b8-f11bbecd8248"
      },
      "execution_count": 9,
      "outputs": [
        {
          "output_type": "stream",
          "name": "stdout",
          "text": [
            "   member_id period        cost claim_type\n",
            "0        849    POS  650.316460         ER\n",
            "1        275    PRE  506.226657         ER\n",
            "2        757    PRE  358.435484         IP\n",
            "3        319    PRE  514.125302         ER\n",
            "4        196    PRE  464.832920         IP\n"
          ]
        }
      ]
    },
    {
      "cell_type": "code",
      "source": [
        "# group by id, p, and ct and sum c\n",
        "df2 = df1.groupby(['member_id', 'period', 'claim_type'], as_index=False)['cost'].sum()\n"
      ],
      "metadata": {
        "id": "GBWo3qMGUu_B"
      },
      "execution_count": 12,
      "outputs": []
    },
    {
      "cell_type": "code",
      "source": [
        "# perform left join\n",
        "df_left_join = pd.merge(df, df2, on='member_id', how='left')\n",
        "\n",
        "# print result\n",
        "print(df_left_join)"
      ],
      "metadata": {
        "id": "VLGXGvJtP40-",
        "outputId": "d6bc603a-559f-4dce-fae4-9805554c1cc8",
        "colab": {
          "base_uri": "https://localhost:8080/"
        }
      },
      "execution_count": 13,
      "outputs": [
        {
          "output_type": "stream",
          "name": "stdout",
          "text": [
            "      member_id sex        age  diabetes  dementia  HousingIns    FoodIns  \\\n",
            "0             1   F  48.702670         0         1    3.068120  17.563781   \n",
            "1             1   F  48.702670         0         1    3.068120  17.563781   \n",
            "2             1   F  48.702670         0         1    3.068120  17.563781   \n",
            "3             1   F  48.702670         0         1    3.068120  17.563781   \n",
            "4             1   F  48.702670         0         1    3.068120  17.563781   \n",
            "...         ...  ..        ...       ...       ...         ...        ...   \n",
            "3675       1000   M  34.369628         0         1    2.383269  11.929602   \n",
            "3676       1000   M  34.369628         0         1    2.383269  11.929602   \n",
            "3677       1000   M  34.369628         0         1    2.383269  11.929602   \n",
            "3678       1000   M  34.369628         0         1    2.383269  11.929602   \n",
            "3679       1000   M  34.369628         0         1    2.383269  11.929602   \n",
            "\n",
            "      SVIFactor  TranspIns case_management_date  CM risk_level period  \\\n",
            "0     17.887988  29.563134           2022-12-19   0     Medium    POS   \n",
            "1     17.887988  29.563134           2022-12-19   0     Medium    POS   \n",
            "2     17.887988  29.563134           2022-12-19   0     Medium    POS   \n",
            "3     17.887988  29.563134           2022-12-19   0     Medium    PRE   \n",
            "4     17.887988  29.563134           2022-12-19   0     Medium    PRE   \n",
            "...         ...        ...                  ...  ..        ...    ...   \n",
            "3675   1.690577   7.799482           2022-06-06   1     Medium    POS   \n",
            "3676   1.690577   7.799482           2022-06-06   1     Medium    POS   \n",
            "3677   1.690577   7.799482           2022-06-06   1     Medium    PRE   \n",
            "3678   1.690577   7.799482           2022-06-06   1     Medium    PRE   \n",
            "3679   1.690577   7.799482           2022-06-06   1     Medium    PRE   \n",
            "\n",
            "     claim_type         cost  \n",
            "0            ER  1778.036249  \n",
            "1            IP  3791.135562  \n",
            "2            RX  4581.763001  \n",
            "3            ER  2658.119062  \n",
            "4            IP  3049.485014  \n",
            "...         ...          ...  \n",
            "3675         IP  1684.949640  \n",
            "3676         RX  2427.328586  \n",
            "3677         ER   950.478505  \n",
            "3678         IP  3491.588744  \n",
            "3679         RX   997.121584  \n",
            "\n",
            "[3680 rows x 15 columns]\n"
          ]
        }
      ]
    }
  ]
}