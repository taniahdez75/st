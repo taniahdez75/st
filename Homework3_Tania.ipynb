{
  "nbformat": 4,
  "nbformat_minor": 0,
  "metadata": {
    "colab": {
      "provenance": [],
      "authorship_tag": "ABX9TyO5cReloMLSkMTl17/++0Gz",
      "include_colab_link": true
    },
    "kernelspec": {
      "name": "python3",
      "display_name": "Python 3"
    },
    "language_info": {
      "name": "python"
    }
  },
  "cells": [
    {
      "cell_type": "markdown",
      "metadata": {
        "id": "view-in-github",
        "colab_type": "text"
      },
      "source": [
        "<a href=\"https://colab.research.google.com/github/taniahdez75/st/blob/main/Homework3_Tania.ipynb\" target=\"_parent\"><img src=\"https://colab.research.google.com/assets/colab-badge.svg\" alt=\"Open In Colab\"/></a>"
      ]
    },
    {
      "cell_type": "code",
      "execution_count": 9,
      "metadata": {
        "id": "jgSHKcFrx4_2"
      },
      "outputs": [],
      "source": [
        "#Feature Importance\n",
        "#Dataframe for CAse MAnangement Evaluation\n",
        "import pandas as pd\n",
        "import numpy as np\n",
        "import requests\n",
        "\n",
        "#Visualization\n",
        "import matplotlib\n",
        "import matplotlib.pyplot as plt\n",
        "import seaborn as sns\n",
        "import plotly.express as px\n",
        "\n",
        "#MAchine learning model\n",
        "from sklearn .linear_model import LogisticRegression\n",
        "\n",
        "\n"
      ]
    },
    {
      "cell_type": "code",
      "source": [
        "import numpy as np\n",
        "import pandas as pd\n",
        "\n",
        "# Define the number of records\n",
        "num_records = 1000\n",
        "\n",
        "# Define member_id as a sequence of integers\n",
        "member_id = list(range(1, num_records + 1))\n",
        "\n",
        "# Define sex, age, diabetes and dementia as random variables\n",
        "sex = np.random.choice(['M', 'F'], size=num_records)\n",
        "age = np.random.normal(50, 10, size=num_records)\n",
        "diabetes = np.random.choice([0, 1], size=num_records)\n",
        "dementia = np.random.choice([0, 1], size=num_records)\n",
        "\n",
        "#SDOH\n",
        "HousingIns = np.random.uniform(low=1.0, high=10.0, size=num_records)\n",
        "FoodIns = np.random.uniform(low=1.0, high=20.0, size=num_records)\n",
        "SVIFactor = np.random.uniform(low=1.0, high=30.0, size=num_records)\n",
        "TranspIns = np.random.uniform(low=1.0, high=40.0, size=num_records)\n",
        "\n",
        "# Define case_management_date as a random date\n",
        "start_date = '2019-01-01'\n",
        "end_date = '2022-12-31'\n",
        "case_management_date = pd.to_datetime(np.random.choice(pd.date_range(start=start_date, end=end_date), size=num_records))\n",
        "\n",
        "# Define cost_before_CM and cost_after_CM as random amounts of money\n",
        "cost = np.random.normal(500, 100, size=num_records)\n",
        "#PercentC=(cost_after_cm-cost_before_cm)/cost_before_CM\n",
        "\n",
        "# Define claim_type as a random variable\n",
        "claim_type = np.random.choice(['ER', 'IP', 'RX'], size=num_records)\n",
        "period = np.random.choice(['PRE', 'POS'], size=num_records)\n",
        "\n",
        "# Define the CM flag column\n",
        "CM = np.random.choice([0, 1], size=num_records)\n",
        "\n",
        "# Create a dataframe with the generated columns\n",
        "data = {\n",
        "    'member_id': member_id,\n",
        "    'sex': sex,\n",
        "    'age': age,\n",
        "    'diabetes': diabetes,\n",
        "    'dementia': dementia,\n",
        "    'HousingIns':HousingIns,\n",
        "    'FoodIns':FoodIns,\n",
        "    'SVIFactor':SVIFactor,\n",
        "    'TranspIns':TranspIns,\n",
        "    'case_management_date': case_management_date,\n",
        "    'period':period,\n",
        "    'cost': cost,\n",
        "    #'PercentC':PercentC,\n",
        "    'claim_type': claim_type,\n",
        "    'CM': CM\n",
        "}\n",
        "\n",
        "df = pd.DataFrame(data)\n",
        "\n",
        "\n",
        "# Preview the dataframe\n",
        "print(df.head())"
      ],
      "metadata": {
        "colab": {
          "base_uri": "https://localhost:8080/"
        },
        "id": "joW5YPsu2Pfm",
        "outputId": "13514a79-91a1-4fe1-db85-4321425ed63a"
      },
      "execution_count": 15,
      "outputs": [
        {
          "output_type": "stream",
          "name": "stdout",
          "text": [
            "   member_id sex        age  diabetes  dementia  HousingIns    FoodIns  \\\n",
            "0          1   M  47.926572         0         0    2.982010   8.678582   \n",
            "1          2   F  62.744690         1         0    7.925448   1.003018   \n",
            "2          3   F  57.953869         0         0    8.100730  19.906322   \n",
            "3          4   M  60.350932         0         1    1.347110  17.757221   \n",
            "4          5   F  63.253447         1         1    1.816304  14.727484   \n",
            "\n",
            "   SVIFactor  TranspIns case_management_date  cost_before_CM  cost_after_CM  \\\n",
            "0   4.822735  21.442993           2020-04-14      547.251294     265.065347   \n",
            "1  19.339878  31.060123           2020-07-25      589.360000     276.814017   \n",
            "2  29.213508   4.020342           2022-12-10      248.794944     316.798922   \n",
            "3  13.283522  34.298680           2020-06-21      655.645839     341.499737   \n",
            "4   3.534093  32.071848           2022-01-08      560.619986     693.019057   \n",
            "\n",
            "  claim_type  CM  \n",
            "0         ER   1  \n",
            "1         IP   0  \n",
            "2         RX   0  \n",
            "3         ER   0  \n",
            "4         IP   0  \n"
          ]
        }
      ]
    },
    {
      "cell_type": "code",
      "source": [
        "import numpy as np\n",
        "import pandas as pd\n",
        "import datetime\n",
        "\n",
        "# Define the number of records\n",
        "num_records = 1000\n",
        "\n",
        "# Define member_id as a sequence of integers\n",
        "member_id = list(range(1, num_records + 1))\n",
        "\n",
        "# Define sex, age, diabetes and dementia as random variables\n",
        "sex = np.random.choice(['M', 'F'], size=num_records)\n",
        "age = np.random.normal(50, 10, size=num_records)\n",
        "diabetes = np.random.choice([0, 1], size=num_records)\n",
        "dementia = np.random.choice([0, 1], size=num_records)\n",
        "\n",
        "#SDOH\n",
        "HousingIns = np.random.uniform(low=1.0, high=10.0, size=num_records)\n",
        "FoodIns = np.random.uniform(low=1.0, high=20.0, size=num_records)\n",
        "SVIFactor = np.random.uniform(low=1.0, high=30.0, size=num_records)\n",
        "TranspIns = np.random.uniform(low=1.0, high=40.0, size=num_records)\n",
        "\n",
        "# Define case_management_date as a random date\n",
        "start_date = '2019-01-01'\n",
        "end_date = '2022-12-31'\n",
        "case_management_date = pd.to_datetime(np.random.choice(pd.date_range(start=start_date, end=end_date), size=num_records))\n",
        "\n",
        "# Define the CM flag column\n",
        "CM = np.random.choice([0, 1], size=num_records)\n",
        "\n",
        "# Define risk_level as a random variable\n",
        "risk_level = np.random.choice(['High', 'Medium', 'Low', 'None'], size=num_records)\n",
        "\n",
        "# Create a dataframe with the generated columns\n",
        "data = {\n",
        "    'member_id': member_id,\n",
        "    'sex': sex,\n",
        "    'age': age,\n",
        "    'diabetes': diabetes,\n",
        "    'dementia': dementia,\n",
        "    'HousingIns':HousingIns,\n",
        "    'FoodIns':FoodIns,\n",
        "    'SVIFactor':SVIFactor,\n",
        "    'TranspIns':TranspIns,\n",
        "    'case_management_date': case_management_date,\n",
        "    'CM': CM,\n",
        "    'risk_level':risk_level\n",
        "}\n",
        "\n",
        "df = pd.DataFrame(data)\n",
        "\n",
        "# Preview the dataframe\n",
        "print(df.head())"
      ],
      "metadata": {
        "colab": {
          "base_uri": "https://localhost:8080/"
        },
        "id": "a5VWOSreNNoO",
        "outputId": "c00cd871-c13f-4190-fd51-4bb5d76ebe30"
      },
      "execution_count": 23,
      "outputs": [
        {
          "output_type": "stream",
          "name": "stdout",
          "text": [
            "   member_id sex        age  diabetes  dementia  HousingIns    FoodIns  \\\n",
            "0          1   M  46.180594         0         0    6.635952   7.067327   \n",
            "1          2   M  47.177194         0         1    5.148405  10.418863   \n",
            "2          3   F  48.715255         0         0    6.309930  10.090995   \n",
            "3          4   F  51.614580         0         1    8.037127  10.190092   \n",
            "4          5   M  68.287872         1         1    3.253468   1.605287   \n",
            "\n",
            "   SVIFactor  TranspIns case_management_date  CM risk_level  \n",
            "0  20.031134   5.766205           2019-03-20   1       None  \n",
            "1  20.132919  36.120196           2022-08-01   1       High  \n",
            "2  12.674410  30.853335           2021-02-16   0        Low  \n",
            "3  17.925573  14.299612           2021-07-24   1     Medium  \n",
            "4  13.271521  35.010903           2019-01-11   1       None  \n"
          ]
        }
      ]
    },
    {
      "cell_type": "code",
      "source": [
        "# Define the number of records\n",
        "num_records1 = 10000\n",
        "\n",
        "# Get a random selection of values in df1 column A\n",
        "values_A = np.random.choice(df['member_id'], size=num_records)\n",
        "\n",
        "# Define cost_before_CM and cost_after_CM as random amounts of money\n",
        "cost = np.random.normal(500, 100, size=num_records1)\n",
        "\n",
        "# Define claim_type as a random variable\n",
        "claim_type = np.random.choice(['ER', 'IP', 'RX'], size=num_records1)\n",
        "period = np.random.choice(['PRE', 'POS'], size=num_records1)\n",
        "  \n",
        "# Create a dataframe with the generated columns\n",
        "data = {\n",
        "    'member_id':np.random.choice(values_A, size=num_records1),\n",
        "    'period':period,\n",
        "    'cost': cost,\n",
        "    'claim_type': claim_type\n",
        "}\n",
        "\n",
        "df1 = pd.DataFrame(data)\n",
        "\n",
        "# Preview the dataframe\n",
        "print(df1.head())"
      ],
      "metadata": {
        "colab": {
          "base_uri": "https://localhost:8080/"
        },
        "id": "IoUNUOMZO6Z_",
        "outputId": "a91ea469-6731-4a88-a8cd-5014d172dc9e"
      },
      "execution_count": 25,
      "outputs": [
        {
          "output_type": "stream",
          "name": "stdout",
          "text": [
            "   member_id period        cost claim_type\n",
            "0        858    POS  458.172001         ER\n",
            "1        198    PRE  655.962247         RX\n",
            "2        733    POS  689.390077         ER\n",
            "3        835    POS  623.215111         IP\n",
            "4        562    POS  404.956085         IP\n"
          ]
        }
      ]
    },
    {
      "cell_type": "code",
      "source": [],
      "metadata": {
        "id": "VLGXGvJtP40-"
      },
      "execution_count": null,
      "outputs": []
    }
  ]
}