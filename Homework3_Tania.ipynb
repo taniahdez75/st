{
  "nbformat": 4,
  "nbformat_minor": 0,
  "metadata": {
    "colab": {
      "provenance": [],
      "authorship_tag": "ABX9TyPk6uGSSOJOESbcEfR6Cm19",
      "include_colab_link": true
    },
    "kernelspec": {
      "name": "python3",
      "display_name": "Python 3"
    },
    "language_info": {
      "name": "python"
    }
  },
  "cells": [
    {
      "cell_type": "markdown",
      "metadata": {
        "id": "view-in-github",
        "colab_type": "text"
      },
      "source": [
        "<a href=\"https://colab.research.google.com/github/taniahdez75/st/blob/main/Homework3_Tania.ipynb\" target=\"_parent\"><img src=\"https://colab.research.google.com/assets/colab-badge.svg\" alt=\"Open In Colab\"/></a>"
      ]
    },
    {
      "cell_type": "markdown",
      "source": [
        "Tania Hernandez - Homework 3"
      ],
      "metadata": {
        "id": "Jeps8tSToMf-"
      }
    },
    {
      "cell_type": "markdown",
      "source": [
        "I created a generic dataset with a real situation I have in my daily work\n",
        "\n",
        "Situation will be in a healthcare company setting.\n",
        "We have 2 datasets, \n",
        " -- one with member general information\n",
        " -- one with medical cost\n",
        "\n",
        " General Info:\n",
        " -- Age, Gender, diabetes flag, dementia flag, num indicator of housing insecurity, food insecurity, transportation insecurity asn social vulnerability index, a flag if the member is enrolled in CM, date of enrollment\n",
        "\n",
        " Medical Cost:\n",
        "  -- member_id, period of the cost, total_cost, and claim types\n",
        "\n",
        "\n",
        "Redifined the objective to get which features are relevant to estimate the risk level of each member.\n",
        "\n",
        "Step 2 - Divided Numeric Values from Categorical Values. Remove date.\n",
        "Step 3- Scale numerics and create dummies for Categoricals\n",
        "\n",
        "Importance:\n",
        "\n",
        "A) with Random Forest Classifier: Relevant variables were TranspInsecurity, Hosuing Insecurity, Food Insecurity, Age, and SVI factor.\n",
        "\n",
        " member_id    0.160536\n",
        "14      TranspIns    0.154162\n",
        "11     HousingIns    0.144553\n",
        "12        FoodIns    0.135384\n",
        "8             age    0.128958\n",
        "13      SVIFactor    0.125642\n",
        "16           cost    0.040105\n",
        "10       dementia    0.031722\n",
        "15             CM    0.027712\n",
        "9        diabetes    0.022168\n",
        "1           sex_M    0.013402\n",
        "0           sex_F    0.009671\n",
        "5   claim_type_IP    0.001677\n",
        "4   claim_type_ER    0.001557\n",
        "6   claim_type_RX    0.001160\n",
        "2      period_POS    0.000858\n",
        "3      period_PRE    0.000731\n",
        "\n",
        "\n",
        "B- with Permutations age and food insecurity were the less important.\n",
        "\n",
        "C- with the  logistic regression method, shorter columns were Diabetes, dementia, age, claim_type are the ones with less importance\n",
        "\n",
        "\n",
        "In a real situation I will remove a few columns with the less importance and rerun the model to compare results."
      ],
      "metadata": {
        "id": "xJJO0JiMoalx"
      }
    },
    {
      "cell_type": "code",
      "source": [],
      "metadata": {
        "id": "cV6THSO_oUwm"
      },
      "execution_count": null,
      "outputs": []
    },
    {
      "cell_type": "code",
      "execution_count": 34,
      "metadata": {
        "id": "jgSHKcFrx4_2"
      },
      "outputs": [],
      "source": [
        "#Feature Importance\n",
        "#Dataframe for CAse MAnangement Evaluation\n",
        "import pandas as pd\n",
        "import numpy as np\n",
        "import requests\n",
        "\n",
        "#Visualization\n",
        "import matplotlib\n",
        "import matplotlib.pyplot as plt\n",
        "import seaborn as sns\n",
        "import plotly.express as px\n",
        "\n",
        "#MAchine learning model\n",
        "from sklearn .linear_model import LogisticRegression\n",
        "\n",
        "\n"
      ]
    },
    {
      "cell_type": "code",
      "source": [
        "#Creating Member Data\n",
        "\n",
        "import numpy as np\n",
        "import pandas as pd\n",
        "import datetime\n",
        "\n",
        "# Define the number of records\n",
        "num_records = 1000\n",
        "\n",
        "# Define member_id as a sequence of integers\n",
        "member_id = list(range(1, num_records + 1))\n",
        "\n",
        "# Define sex, age, diabetes and dementia as random variables\n",
        "sex = np.random.choice(['M', 'F'], size=num_records)\n",
        "age = np.random.normal(50, 10, size=num_records)\n",
        "diabetes = np.random.choice([0, 1], size=num_records)\n",
        "dementia = np.random.choice([0, 1], size=num_records)\n",
        "\n",
        "#SDOH\n",
        "HousingIns = np.random.uniform(low=1.0, high=10.0, size=num_records)\n",
        "FoodIns = np.random.uniform(low=1.0, high=20.0, size=num_records)\n",
        "SVIFactor = np.random.uniform(low=1.0, high=30.0, size=num_records)\n",
        "TranspIns = np.random.uniform(low=1.0, high=40.0, size=num_records)\n",
        "\n",
        "# Define case_management_date as a random date\n",
        "start_date = '2019-01-01'\n",
        "end_date = '2022-12-31'\n",
        "case_management_date = pd.to_datetime(np.random.choice(pd.date_range(start=start_date, end=end_date), size=num_records))\n",
        "\n",
        "# Define the CM flag column\n",
        "CM = np.random.choice([0, 1], size=num_records)\n",
        "\n",
        "# Define risk_level as a random variable\n",
        "risk_level = np.random.choice(['High', 'Medium', 'Low', 'None'], size=num_records)\n",
        "\n",
        "# Create a dataframe with the generated columns\n",
        "data = {\n",
        "    'member_id': member_id,\n",
        "    'sex': sex,\n",
        "    'age': age,\n",
        "    'diabetes': diabetes,\n",
        "    'dementia': dementia,\n",
        "    'HousingIns':HousingIns,\n",
        "    'FoodIns':FoodIns,\n",
        "    'SVIFactor':SVIFactor,\n",
        "    'TranspIns':TranspIns,\n",
        "    'case_management_date': case_management_date,\n",
        "    'CM': CM,\n",
        "    'risk_level':risk_level\n",
        "}\n",
        "\n",
        "df = pd.DataFrame(data)\n",
        "\n",
        "# Preview the dataframe\n",
        "print(df.head())"
      ],
      "metadata": {
        "colab": {
          "base_uri": "https://localhost:8080/"
        },
        "id": "a5VWOSreNNoO",
        "outputId": "fe675cee-cebb-4719-83a7-91a6b214e71b"
      },
      "execution_count": 35,
      "outputs": [
        {
          "output_type": "stream",
          "name": "stdout",
          "text": [
            "   member_id sex        age  diabetes  dementia  HousingIns    FoodIns  \\\n",
            "0          1   M  45.217691         0         1    1.383515  14.061466   \n",
            "1          2   F  61.096420         0         0    6.886903   6.207973   \n",
            "2          3   F  40.636393         0         0    4.399141  12.709342   \n",
            "3          4   F  63.704485         1         1    2.705061  14.105173   \n",
            "4          5   M  51.333475         1         0    7.333744  18.374600   \n",
            "\n",
            "   SVIFactor  TranspIns case_management_date  CM risk_level  \n",
            "0  13.022920  38.154226           2022-10-07   0     Medium  \n",
            "1  25.279004  20.862849           2022-03-02   0       None  \n",
            "2  27.675680  25.441214           2020-10-04   1       None  \n",
            "3  16.870478   7.098348           2022-01-14   0        Low  \n",
            "4  27.566443  37.185255           2021-08-29   0        Low  \n"
          ]
        }
      ]
    },
    {
      "cell_type": "code",
      "source": [
        "# Creating Cost Data\n",
        "#Define the number of records\n",
        "num_records1 = 10000\n",
        "\n",
        "# Get a random selection of values in df1 column A\n",
        "values_A = np.random.choice(df['member_id'], size=num_records)\n",
        "\n",
        "# Define cost_before_CM and cost_after_CM as random amounts of money\n",
        "cost = np.random.normal(500, 100, size=num_records1)\n",
        "\n",
        "# Define claim_type as a random variable\n",
        "claim_type = np.random.choice(['ER', 'IP', 'RX'], size=num_records1)\n",
        "period = np.random.choice(['PRE', 'POS'], size=num_records1)\n",
        "  \n",
        "# Create a dataframe with the generated columns\n",
        "data = {\n",
        "    'member_id':np.random.choice(values_A, size=num_records1),\n",
        "    'period':period,\n",
        "    'cost': cost,\n",
        "    'claim_type': claim_type\n",
        "}\n",
        "\n",
        "df1 = pd.DataFrame(data)\n",
        "\n",
        "# Preview the dataframe\n",
        "print(df1.head())"
      ],
      "metadata": {
        "colab": {
          "base_uri": "https://localhost:8080/"
        },
        "id": "IoUNUOMZO6Z_",
        "outputId": "bc3aeb04-7b65-4667-8039-7618c834e8aa"
      },
      "execution_count": 36,
      "outputs": [
        {
          "output_type": "stream",
          "name": "stdout",
          "text": [
            "   member_id period        cost claim_type\n",
            "0        686    PRE  426.154260         IP\n",
            "1        492    PRE  277.358936         RX\n",
            "2        456    POS  441.900354         IP\n",
            "3        617    PRE  294.683195         ER\n",
            "4        639    PRE  475.695922         RX\n"
          ]
        }
      ]
    },
    {
      "cell_type": "code",
      "source": [
        "# group by id, p, and ct and sum c\n",
        "df2 = df1.groupby(['member_id', 'period', 'claim_type'], as_index=False)['cost'].sum()\n"
      ],
      "metadata": {
        "id": "GBWo3qMGUu_B"
      },
      "execution_count": 37,
      "outputs": []
    },
    {
      "cell_type": "code",
      "source": [
        "# perform left join\n",
        "df_left_join = pd.merge(df, df2, on='member_id', how='left')\n",
        "\n",
        "# print result\n",
        "print(df_left_join)"
      ],
      "metadata": {
        "id": "VLGXGvJtP40-",
        "outputId": "44aee0f8-dba0-43dd-d643-f067e020a790",
        "colab": {
          "base_uri": "https://localhost:8080/"
        }
      },
      "execution_count": 38,
      "outputs": [
        {
          "output_type": "stream",
          "name": "stdout",
          "text": [
            "      member_id sex        age  diabetes  dementia  HousingIns    FoodIns  \\\n",
            "0             1   M  45.217691         0         1    1.383515  14.061466   \n",
            "1             2   F  61.096420         0         0    6.886903   6.207973   \n",
            "2             3   F  40.636393         0         0    4.399141  12.709342   \n",
            "3             3   F  40.636393         0         0    4.399141  12.709342   \n",
            "4             4   F  63.704485         1         1    2.705061  14.105173   \n",
            "...         ...  ..        ...       ...       ...         ...        ...   \n",
            "3709       1000   F  45.730441         0         0    9.991314  19.460572   \n",
            "3710       1000   F  45.730441         0         0    9.991314  19.460572   \n",
            "3711       1000   F  45.730441         0         0    9.991314  19.460572   \n",
            "3712       1000   F  45.730441         0         0    9.991314  19.460572   \n",
            "3713       1000   F  45.730441         0         0    9.991314  19.460572   \n",
            "\n",
            "      SVIFactor  TranspIns case_management_date  CM risk_level period  \\\n",
            "0     13.022920  38.154226           2022-10-07   0     Medium    NaN   \n",
            "1     25.279004  20.862849           2022-03-02   0       None    NaN   \n",
            "2     27.675680  25.441214           2020-10-04   1       None    POS   \n",
            "3     27.675680  25.441214           2020-10-04   1       None    PRE   \n",
            "4     16.870478   7.098348           2022-01-14   0        Low    NaN   \n",
            "...         ...        ...                  ...  ..        ...    ...   \n",
            "3709   3.099691  23.650099           2020-10-09   0     Medium    POS   \n",
            "3710   3.099691  23.650099           2020-10-09   0     Medium    POS   \n",
            "3711   3.099691  23.650099           2020-10-09   0     Medium    PRE   \n",
            "3712   3.099691  23.650099           2020-10-09   0     Medium    PRE   \n",
            "3713   3.099691  23.650099           2020-10-09   0     Medium    PRE   \n",
            "\n",
            "     claim_type         cost  \n",
            "0           NaN          NaN  \n",
            "1           NaN          NaN  \n",
            "2            RX   386.239878  \n",
            "3            ER  1025.642485  \n",
            "4           NaN          NaN  \n",
            "...         ...          ...  \n",
            "3709         IP   611.347005  \n",
            "3710         RX  1386.828803  \n",
            "3711         ER  1104.110375  \n",
            "3712         IP  2084.205673  \n",
            "3713         RX  1049.496673  \n",
            "\n",
            "[3714 rows x 15 columns]\n"
          ]
        }
      ]
    },
    {
      "cell_type": "code",
      "source": [
        "df_left_join.sample(5)"
      ],
      "metadata": {
        "id": "o23FXSxTVjVf",
        "outputId": "429564d1-73e6-46ad-b934-ac222394a7dd",
        "colab": {
          "base_uri": "https://localhost:8080/",
          "height": 206
        }
      },
      "execution_count": 39,
      "outputs": [
        {
          "output_type": "execute_result",
          "data": {
            "text/plain": [
              "      member_id sex        age  diabetes  dementia  HousingIns    FoodIns  \\\n",
              "1404        390   M  47.550297         0         1    4.965513   8.178932   \n",
              "2935        784   F  56.743334         0         0    6.692511   5.387241   \n",
              "2583        691   F  41.210640         0         1    3.939928   1.106732   \n",
              "325          92   F  52.456690         1         1    7.189458  18.768625   \n",
              "737         205   M  50.902646         0         0    8.431908  11.946285   \n",
              "\n",
              "      SVIFactor  TranspIns case_management_date  CM risk_level period  \\\n",
              "1404   6.638518  20.430650           2021-11-24   0        Low    POS   \n",
              "2935  21.751538   5.883276           2022-07-28   1     Medium    PRE   \n",
              "2583   1.189341   4.648118           2020-06-29   1     Medium    POS   \n",
              "325   15.428215  23.262697           2019-01-10   1        Low    PRE   \n",
              "737   15.707415  37.130991           2021-11-29   1     Medium    POS   \n",
              "\n",
              "     claim_type         cost  \n",
              "1404         IP  1084.728923  \n",
              "2935         ER  1185.332056  \n",
              "2583         ER  1303.593034  \n",
              "325          IP   746.101415  \n",
              "737          RX   472.358703  "
            ],
            "text/html": [
              "\n",
              "  <div id=\"df-d9204248-e7a5-4f79-a678-80c32fbe1b30\">\n",
              "    <div class=\"colab-df-container\">\n",
              "      <div>\n",
              "<style scoped>\n",
              "    .dataframe tbody tr th:only-of-type {\n",
              "        vertical-align: middle;\n",
              "    }\n",
              "\n",
              "    .dataframe tbody tr th {\n",
              "        vertical-align: top;\n",
              "    }\n",
              "\n",
              "    .dataframe thead th {\n",
              "        text-align: right;\n",
              "    }\n",
              "</style>\n",
              "<table border=\"1\" class=\"dataframe\">\n",
              "  <thead>\n",
              "    <tr style=\"text-align: right;\">\n",
              "      <th></th>\n",
              "      <th>member_id</th>\n",
              "      <th>sex</th>\n",
              "      <th>age</th>\n",
              "      <th>diabetes</th>\n",
              "      <th>dementia</th>\n",
              "      <th>HousingIns</th>\n",
              "      <th>FoodIns</th>\n",
              "      <th>SVIFactor</th>\n",
              "      <th>TranspIns</th>\n",
              "      <th>case_management_date</th>\n",
              "      <th>CM</th>\n",
              "      <th>risk_level</th>\n",
              "      <th>period</th>\n",
              "      <th>claim_type</th>\n",
              "      <th>cost</th>\n",
              "    </tr>\n",
              "  </thead>\n",
              "  <tbody>\n",
              "    <tr>\n",
              "      <th>1404</th>\n",
              "      <td>390</td>\n",
              "      <td>M</td>\n",
              "      <td>47.550297</td>\n",
              "      <td>0</td>\n",
              "      <td>1</td>\n",
              "      <td>4.965513</td>\n",
              "      <td>8.178932</td>\n",
              "      <td>6.638518</td>\n",
              "      <td>20.430650</td>\n",
              "      <td>2021-11-24</td>\n",
              "      <td>0</td>\n",
              "      <td>Low</td>\n",
              "      <td>POS</td>\n",
              "      <td>IP</td>\n",
              "      <td>1084.728923</td>\n",
              "    </tr>\n",
              "    <tr>\n",
              "      <th>2935</th>\n",
              "      <td>784</td>\n",
              "      <td>F</td>\n",
              "      <td>56.743334</td>\n",
              "      <td>0</td>\n",
              "      <td>0</td>\n",
              "      <td>6.692511</td>\n",
              "      <td>5.387241</td>\n",
              "      <td>21.751538</td>\n",
              "      <td>5.883276</td>\n",
              "      <td>2022-07-28</td>\n",
              "      <td>1</td>\n",
              "      <td>Medium</td>\n",
              "      <td>PRE</td>\n",
              "      <td>ER</td>\n",
              "      <td>1185.332056</td>\n",
              "    </tr>\n",
              "    <tr>\n",
              "      <th>2583</th>\n",
              "      <td>691</td>\n",
              "      <td>F</td>\n",
              "      <td>41.210640</td>\n",
              "      <td>0</td>\n",
              "      <td>1</td>\n",
              "      <td>3.939928</td>\n",
              "      <td>1.106732</td>\n",
              "      <td>1.189341</td>\n",
              "      <td>4.648118</td>\n",
              "      <td>2020-06-29</td>\n",
              "      <td>1</td>\n",
              "      <td>Medium</td>\n",
              "      <td>POS</td>\n",
              "      <td>ER</td>\n",
              "      <td>1303.593034</td>\n",
              "    </tr>\n",
              "    <tr>\n",
              "      <th>325</th>\n",
              "      <td>92</td>\n",
              "      <td>F</td>\n",
              "      <td>52.456690</td>\n",
              "      <td>1</td>\n",
              "      <td>1</td>\n",
              "      <td>7.189458</td>\n",
              "      <td>18.768625</td>\n",
              "      <td>15.428215</td>\n",
              "      <td>23.262697</td>\n",
              "      <td>2019-01-10</td>\n",
              "      <td>1</td>\n",
              "      <td>Low</td>\n",
              "      <td>PRE</td>\n",
              "      <td>IP</td>\n",
              "      <td>746.101415</td>\n",
              "    </tr>\n",
              "    <tr>\n",
              "      <th>737</th>\n",
              "      <td>205</td>\n",
              "      <td>M</td>\n",
              "      <td>50.902646</td>\n",
              "      <td>0</td>\n",
              "      <td>0</td>\n",
              "      <td>8.431908</td>\n",
              "      <td>11.946285</td>\n",
              "      <td>15.707415</td>\n",
              "      <td>37.130991</td>\n",
              "      <td>2021-11-29</td>\n",
              "      <td>1</td>\n",
              "      <td>Medium</td>\n",
              "      <td>POS</td>\n",
              "      <td>RX</td>\n",
              "      <td>472.358703</td>\n",
              "    </tr>\n",
              "  </tbody>\n",
              "</table>\n",
              "</div>\n",
              "      <button class=\"colab-df-convert\" onclick=\"convertToInteractive('df-d9204248-e7a5-4f79-a678-80c32fbe1b30')\"\n",
              "              title=\"Convert this dataframe to an interactive table.\"\n",
              "              style=\"display:none;\">\n",
              "        \n",
              "  <svg xmlns=\"http://www.w3.org/2000/svg\" height=\"24px\"viewBox=\"0 0 24 24\"\n",
              "       width=\"24px\">\n",
              "    <path d=\"M0 0h24v24H0V0z\" fill=\"none\"/>\n",
              "    <path d=\"M18.56 5.44l.94 2.06.94-2.06 2.06-.94-2.06-.94-.94-2.06-.94 2.06-2.06.94zm-11 1L8.5 8.5l.94-2.06 2.06-.94-2.06-.94L8.5 2.5l-.94 2.06-2.06.94zm10 10l.94 2.06.94-2.06 2.06-.94-2.06-.94-.94-2.06-.94 2.06-2.06.94z\"/><path d=\"M17.41 7.96l-1.37-1.37c-.4-.4-.92-.59-1.43-.59-.52 0-1.04.2-1.43.59L10.3 9.45l-7.72 7.72c-.78.78-.78 2.05 0 2.83L4 21.41c.39.39.9.59 1.41.59.51 0 1.02-.2 1.41-.59l7.78-7.78 2.81-2.81c.8-.78.8-2.07 0-2.86zM5.41 20L4 18.59l7.72-7.72 1.47 1.35L5.41 20z\"/>\n",
              "  </svg>\n",
              "      </button>\n",
              "      \n",
              "  <style>\n",
              "    .colab-df-container {\n",
              "      display:flex;\n",
              "      flex-wrap:wrap;\n",
              "      gap: 12px;\n",
              "    }\n",
              "\n",
              "    .colab-df-convert {\n",
              "      background-color: #E8F0FE;\n",
              "      border: none;\n",
              "      border-radius: 50%;\n",
              "      cursor: pointer;\n",
              "      display: none;\n",
              "      fill: #1967D2;\n",
              "      height: 32px;\n",
              "      padding: 0 0 0 0;\n",
              "      width: 32px;\n",
              "    }\n",
              "\n",
              "    .colab-df-convert:hover {\n",
              "      background-color: #E2EBFA;\n",
              "      box-shadow: 0px 1px 2px rgba(60, 64, 67, 0.3), 0px 1px 3px 1px rgba(60, 64, 67, 0.15);\n",
              "      fill: #174EA6;\n",
              "    }\n",
              "\n",
              "    [theme=dark] .colab-df-convert {\n",
              "      background-color: #3B4455;\n",
              "      fill: #D2E3FC;\n",
              "    }\n",
              "\n",
              "    [theme=dark] .colab-df-convert:hover {\n",
              "      background-color: #434B5C;\n",
              "      box-shadow: 0px 1px 3px 1px rgba(0, 0, 0, 0.15);\n",
              "      filter: drop-shadow(0px 1px 2px rgba(0, 0, 0, 0.3));\n",
              "      fill: #FFFFFF;\n",
              "    }\n",
              "  </style>\n",
              "\n",
              "      <script>\n",
              "        const buttonEl =\n",
              "          document.querySelector('#df-d9204248-e7a5-4f79-a678-80c32fbe1b30 button.colab-df-convert');\n",
              "        buttonEl.style.display =\n",
              "          google.colab.kernel.accessAllowed ? 'block' : 'none';\n",
              "\n",
              "        async function convertToInteractive(key) {\n",
              "          const element = document.querySelector('#df-d9204248-e7a5-4f79-a678-80c32fbe1b30');\n",
              "          const dataTable =\n",
              "            await google.colab.kernel.invokeFunction('convertToInteractive',\n",
              "                                                     [key], {});\n",
              "          if (!dataTable) return;\n",
              "\n",
              "          const docLinkHtml = 'Like what you see? Visit the ' +\n",
              "            '<a target=\"_blank\" href=https://colab.research.google.com/notebooks/data_table.ipynb>data table notebook</a>'\n",
              "            + ' to learn more about interactive tables.';\n",
              "          element.innerHTML = '';\n",
              "          dataTable['output_type'] = 'display_data';\n",
              "          await google.colab.output.renderOutput(dataTable, element);\n",
              "          const docLink = document.createElement('div');\n",
              "          docLink.innerHTML = docLinkHtml;\n",
              "          element.appendChild(docLink);\n",
              "        }\n",
              "      </script>\n",
              "    </div>\n",
              "  </div>\n",
              "  "
            ]
          },
          "metadata": {},
          "execution_count": 39
        }
      ]
    },
    {
      "cell_type": "code",
      "source": [
        "df_left_join.isnull().sum()\n"
      ],
      "metadata": {
        "id": "Qw7Pb_XTVt-M",
        "outputId": "19b74edf-05b1-4233-8a87-14a478e667a4",
        "colab": {
          "base_uri": "https://localhost:8080/"
        }
      },
      "execution_count": 40,
      "outputs": [
        {
          "output_type": "execute_result",
          "data": {
            "text/plain": [
              "member_id                 0\n",
              "sex                       0\n",
              "age                       0\n",
              "diabetes                  0\n",
              "dementia                  0\n",
              "HousingIns                0\n",
              "FoodIns                   0\n",
              "SVIFactor                 0\n",
              "TranspIns                 0\n",
              "case_management_date      0\n",
              "CM                        0\n",
              "risk_level                0\n",
              "period                  371\n",
              "claim_type              371\n",
              "cost                    371\n",
              "dtype: int64"
            ]
          },
          "metadata": {},
          "execution_count": 40
        }
      ]
    },
    {
      "cell_type": "code",
      "source": [
        "df=df_left_join\n",
        "df = df.dropna(subset=['period'])\n",
        "df.sample(5)"
      ],
      "metadata": {
        "id": "Z-6cSLuMW1uo",
        "outputId": "87f9cb7d-6a4c-42f5-8df5-3b7c6271a08b",
        "colab": {
          "base_uri": "https://localhost:8080/",
          "height": 206
        }
      },
      "execution_count": 43,
      "outputs": [
        {
          "output_type": "execute_result",
          "data": {
            "text/plain": [
              "      member_id sex        age  diabetes  dementia  HousingIns    FoodIns  \\\n",
              "677         186   F  44.903056         1         0    2.682854   7.407978   \n",
              "2422        650   F  48.421966         1         1    4.183431  14.908487   \n",
              "3124        837   F  69.832240         0         1    9.976404  12.372507   \n",
              "3215        859   F  43.009578         0         1    2.550732  11.642291   \n",
              "510         139   F  59.532670         1         1    3.297564  11.267387   \n",
              "\n",
              "      SVIFactor  TranspIns case_management_date  CM risk_level period  \\\n",
              "677    2.733855   6.935111           2022-01-09   0       High    PRE   \n",
              "2422   3.755653  23.431860           2020-12-02   0        Low    POS   \n",
              "3124  11.392689  18.130476           2022-12-04   0     Medium    POS   \n",
              "3215  12.315706  26.276918           2021-10-04   0       High    POS   \n",
              "510   29.003303  14.921342           2022-06-12   1     Medium    PRE   \n",
              "\n",
              "     claim_type         cost  \n",
              "677          IP  2146.258445  \n",
              "2422         RX  2347.193147  \n",
              "3124         ER  1444.158307  \n",
              "3215         RX   622.399145  \n",
              "510          RX  2535.047679  "
            ],
            "text/html": [
              "\n",
              "  <div id=\"df-12455feb-56bd-46ab-8604-44a1432bafaf\">\n",
              "    <div class=\"colab-df-container\">\n",
              "      <div>\n",
              "<style scoped>\n",
              "    .dataframe tbody tr th:only-of-type {\n",
              "        vertical-align: middle;\n",
              "    }\n",
              "\n",
              "    .dataframe tbody tr th {\n",
              "        vertical-align: top;\n",
              "    }\n",
              "\n",
              "    .dataframe thead th {\n",
              "        text-align: right;\n",
              "    }\n",
              "</style>\n",
              "<table border=\"1\" class=\"dataframe\">\n",
              "  <thead>\n",
              "    <tr style=\"text-align: right;\">\n",
              "      <th></th>\n",
              "      <th>member_id</th>\n",
              "      <th>sex</th>\n",
              "      <th>age</th>\n",
              "      <th>diabetes</th>\n",
              "      <th>dementia</th>\n",
              "      <th>HousingIns</th>\n",
              "      <th>FoodIns</th>\n",
              "      <th>SVIFactor</th>\n",
              "      <th>TranspIns</th>\n",
              "      <th>case_management_date</th>\n",
              "      <th>CM</th>\n",
              "      <th>risk_level</th>\n",
              "      <th>period</th>\n",
              "      <th>claim_type</th>\n",
              "      <th>cost</th>\n",
              "    </tr>\n",
              "  </thead>\n",
              "  <tbody>\n",
              "    <tr>\n",
              "      <th>677</th>\n",
              "      <td>186</td>\n",
              "      <td>F</td>\n",
              "      <td>44.903056</td>\n",
              "      <td>1</td>\n",
              "      <td>0</td>\n",
              "      <td>2.682854</td>\n",
              "      <td>7.407978</td>\n",
              "      <td>2.733855</td>\n",
              "      <td>6.935111</td>\n",
              "      <td>2022-01-09</td>\n",
              "      <td>0</td>\n",
              "      <td>High</td>\n",
              "      <td>PRE</td>\n",
              "      <td>IP</td>\n",
              "      <td>2146.258445</td>\n",
              "    </tr>\n",
              "    <tr>\n",
              "      <th>2422</th>\n",
              "      <td>650</td>\n",
              "      <td>F</td>\n",
              "      <td>48.421966</td>\n",
              "      <td>1</td>\n",
              "      <td>1</td>\n",
              "      <td>4.183431</td>\n",
              "      <td>14.908487</td>\n",
              "      <td>3.755653</td>\n",
              "      <td>23.431860</td>\n",
              "      <td>2020-12-02</td>\n",
              "      <td>0</td>\n",
              "      <td>Low</td>\n",
              "      <td>POS</td>\n",
              "      <td>RX</td>\n",
              "      <td>2347.193147</td>\n",
              "    </tr>\n",
              "    <tr>\n",
              "      <th>3124</th>\n",
              "      <td>837</td>\n",
              "      <td>F</td>\n",
              "      <td>69.832240</td>\n",
              "      <td>0</td>\n",
              "      <td>1</td>\n",
              "      <td>9.976404</td>\n",
              "      <td>12.372507</td>\n",
              "      <td>11.392689</td>\n",
              "      <td>18.130476</td>\n",
              "      <td>2022-12-04</td>\n",
              "      <td>0</td>\n",
              "      <td>Medium</td>\n",
              "      <td>POS</td>\n",
              "      <td>ER</td>\n",
              "      <td>1444.158307</td>\n",
              "    </tr>\n",
              "    <tr>\n",
              "      <th>3215</th>\n",
              "      <td>859</td>\n",
              "      <td>F</td>\n",
              "      <td>43.009578</td>\n",
              "      <td>0</td>\n",
              "      <td>1</td>\n",
              "      <td>2.550732</td>\n",
              "      <td>11.642291</td>\n",
              "      <td>12.315706</td>\n",
              "      <td>26.276918</td>\n",
              "      <td>2021-10-04</td>\n",
              "      <td>0</td>\n",
              "      <td>High</td>\n",
              "      <td>POS</td>\n",
              "      <td>RX</td>\n",
              "      <td>622.399145</td>\n",
              "    </tr>\n",
              "    <tr>\n",
              "      <th>510</th>\n",
              "      <td>139</td>\n",
              "      <td>F</td>\n",
              "      <td>59.532670</td>\n",
              "      <td>1</td>\n",
              "      <td>1</td>\n",
              "      <td>3.297564</td>\n",
              "      <td>11.267387</td>\n",
              "      <td>29.003303</td>\n",
              "      <td>14.921342</td>\n",
              "      <td>2022-06-12</td>\n",
              "      <td>1</td>\n",
              "      <td>Medium</td>\n",
              "      <td>PRE</td>\n",
              "      <td>RX</td>\n",
              "      <td>2535.047679</td>\n",
              "    </tr>\n",
              "  </tbody>\n",
              "</table>\n",
              "</div>\n",
              "      <button class=\"colab-df-convert\" onclick=\"convertToInteractive('df-12455feb-56bd-46ab-8604-44a1432bafaf')\"\n",
              "              title=\"Convert this dataframe to an interactive table.\"\n",
              "              style=\"display:none;\">\n",
              "        \n",
              "  <svg xmlns=\"http://www.w3.org/2000/svg\" height=\"24px\"viewBox=\"0 0 24 24\"\n",
              "       width=\"24px\">\n",
              "    <path d=\"M0 0h24v24H0V0z\" fill=\"none\"/>\n",
              "    <path d=\"M18.56 5.44l.94 2.06.94-2.06 2.06-.94-2.06-.94-.94-2.06-.94 2.06-2.06.94zm-11 1L8.5 8.5l.94-2.06 2.06-.94-2.06-.94L8.5 2.5l-.94 2.06-2.06.94zm10 10l.94 2.06.94-2.06 2.06-.94-2.06-.94-.94-2.06-.94 2.06-2.06.94z\"/><path d=\"M17.41 7.96l-1.37-1.37c-.4-.4-.92-.59-1.43-.59-.52 0-1.04.2-1.43.59L10.3 9.45l-7.72 7.72c-.78.78-.78 2.05 0 2.83L4 21.41c.39.39.9.59 1.41.59.51 0 1.02-.2 1.41-.59l7.78-7.78 2.81-2.81c.8-.78.8-2.07 0-2.86zM5.41 20L4 18.59l7.72-7.72 1.47 1.35L5.41 20z\"/>\n",
              "  </svg>\n",
              "      </button>\n",
              "      \n",
              "  <style>\n",
              "    .colab-df-container {\n",
              "      display:flex;\n",
              "      flex-wrap:wrap;\n",
              "      gap: 12px;\n",
              "    }\n",
              "\n",
              "    .colab-df-convert {\n",
              "      background-color: #E8F0FE;\n",
              "      border: none;\n",
              "      border-radius: 50%;\n",
              "      cursor: pointer;\n",
              "      display: none;\n",
              "      fill: #1967D2;\n",
              "      height: 32px;\n",
              "      padding: 0 0 0 0;\n",
              "      width: 32px;\n",
              "    }\n",
              "\n",
              "    .colab-df-convert:hover {\n",
              "      background-color: #E2EBFA;\n",
              "      box-shadow: 0px 1px 2px rgba(60, 64, 67, 0.3), 0px 1px 3px 1px rgba(60, 64, 67, 0.15);\n",
              "      fill: #174EA6;\n",
              "    }\n",
              "\n",
              "    [theme=dark] .colab-df-convert {\n",
              "      background-color: #3B4455;\n",
              "      fill: #D2E3FC;\n",
              "    }\n",
              "\n",
              "    [theme=dark] .colab-df-convert:hover {\n",
              "      background-color: #434B5C;\n",
              "      box-shadow: 0px 1px 3px 1px rgba(0, 0, 0, 0.15);\n",
              "      filter: drop-shadow(0px 1px 2px rgba(0, 0, 0, 0.3));\n",
              "      fill: #FFFFFF;\n",
              "    }\n",
              "  </style>\n",
              "\n",
              "      <script>\n",
              "        const buttonEl =\n",
              "          document.querySelector('#df-12455feb-56bd-46ab-8604-44a1432bafaf button.colab-df-convert');\n",
              "        buttonEl.style.display =\n",
              "          google.colab.kernel.accessAllowed ? 'block' : 'none';\n",
              "\n",
              "        async function convertToInteractive(key) {\n",
              "          const element = document.querySelector('#df-12455feb-56bd-46ab-8604-44a1432bafaf');\n",
              "          const dataTable =\n",
              "            await google.colab.kernel.invokeFunction('convertToInteractive',\n",
              "                                                     [key], {});\n",
              "          if (!dataTable) return;\n",
              "\n",
              "          const docLinkHtml = 'Like what you see? Visit the ' +\n",
              "            '<a target=\"_blank\" href=https://colab.research.google.com/notebooks/data_table.ipynb>data table notebook</a>'\n",
              "            + ' to learn more about interactive tables.';\n",
              "          element.innerHTML = '';\n",
              "          dataTable['output_type'] = 'display_data';\n",
              "          await google.colab.output.renderOutput(dataTable, element);\n",
              "          const docLink = document.createElement('div');\n",
              "          docLink.innerHTML = docLinkHtml;\n",
              "          element.appendChild(docLink);\n",
              "        }\n",
              "      </script>\n",
              "    </div>\n",
              "  </div>\n",
              "  "
            ]
          },
          "metadata": {},
          "execution_count": 43
        }
      ]
    },
    {
      "cell_type": "code",
      "source": [
        "df=df.drop('case_management_date',axis=1)"
      ],
      "metadata": {
        "id": "Hz1Yf9SGak4B"
      },
      "execution_count": 50,
      "outputs": []
    },
    {
      "cell_type": "code",
      "source": [
        "df.isnull().sum()"
      ],
      "metadata": {
        "id": "QGdMXwc2YCm8",
        "outputId": "7c17cff6-a725-452c-af71-ec635bae510a",
        "colab": {
          "base_uri": "https://localhost:8080/"
        }
      },
      "execution_count": 51,
      "outputs": [
        {
          "output_type": "execute_result",
          "data": {
            "text/plain": [
              "member_id     0\n",
              "sex           0\n",
              "age           0\n",
              "diabetes      0\n",
              "dementia      0\n",
              "HousingIns    0\n",
              "FoodIns       0\n",
              "SVIFactor     0\n",
              "TranspIns     0\n",
              "CM            0\n",
              "risk_level    0\n",
              "period        0\n",
              "claim_type    0\n",
              "cost          0\n",
              "dtype: int64"
            ]
          },
          "metadata": {},
          "execution_count": 51
        }
      ]
    },
    {
      "cell_type": "code",
      "source": [
        "df.nunique()"
      ],
      "metadata": {
        "id": "vWLEfbe7YIPH",
        "outputId": "edee2a25-bb66-4514-e7b9-f6e790a896c0",
        "colab": {
          "base_uri": "https://localhost:8080/"
        }
      },
      "execution_count": 52,
      "outputs": [
        {
          "output_type": "execute_result",
          "data": {
            "text/plain": [
              "member_id      629\n",
              "sex              2\n",
              "age            629\n",
              "diabetes         2\n",
              "dementia         2\n",
              "HousingIns     629\n",
              "FoodIns        629\n",
              "SVIFactor      629\n",
              "TranspIns      629\n",
              "CM               2\n",
              "risk_level       4\n",
              "period           2\n",
              "claim_type       3\n",
              "cost          3343\n",
              "dtype: int64"
            ]
          },
          "metadata": {},
          "execution_count": 52
        }
      ]
    },
    {
      "cell_type": "code",
      "source": [
        "from sklearn.preprocessing import RobustScaler\n",
        "scaler=RobustScaler()"
      ],
      "metadata": {
        "id": "orZTeB1gZB4X"
      },
      "execution_count": 65,
      "outputs": []
    },
    {
      "cell_type": "code",
      "source": [
        "df.dtypes"
      ],
      "metadata": {
        "id": "xuKIrdyLZtVM",
        "outputId": "44a9007f-78fd-4998-d4a5-37a22613b815",
        "colab": {
          "base_uri": "https://localhost:8080/"
        }
      },
      "execution_count": 54,
      "outputs": [
        {
          "output_type": "execute_result",
          "data": {
            "text/plain": [
              "member_id       int64\n",
              "sex            object\n",
              "age           float64\n",
              "diabetes        int64\n",
              "dementia        int64\n",
              "HousingIns    float64\n",
              "FoodIns       float64\n",
              "SVIFactor     float64\n",
              "TranspIns     float64\n",
              "CM              int64\n",
              "risk_level     object\n",
              "period         object\n",
              "claim_type     object\n",
              "cost          float64\n",
              "dtype: object"
            ]
          },
          "metadata": {},
          "execution_count": 54
        }
      ]
    },
    {
      "cell_type": "code",
      "source": [
        "numerics=['int64','float64']\n",
        "catDF= df.select_dtypes(exclude=numerics)\n",
        "numDF= df.select_dtypes(include=numerics)"
      ],
      "metadata": {
        "id": "9TYyHW86Z6TC"
      },
      "execution_count": 59,
      "outputs": []
    },
    {
      "cell_type": "code",
      "source": [
        "catDF.head()"
      ],
      "metadata": {
        "id": "8gQOHUl8az1B",
        "outputId": "90de70c3-2940-482c-9346-42c051cbd824",
        "colab": {
          "base_uri": "https://localhost:8080/",
          "height": 206
        }
      },
      "execution_count": 56,
      "outputs": [
        {
          "output_type": "execute_result",
          "data": {
            "text/plain": [
              "  sex risk_level period claim_type\n",
              "2   F       None    POS         RX\n",
              "3   F       None    PRE         ER\n",
              "6   M       None    POS         ER\n",
              "7   M       None    POS         IP\n",
              "8   M       None    POS         RX"
            ],
            "text/html": [
              "\n",
              "  <div id=\"df-46b7eb3b-c5db-4862-9e64-c232ec7d9ef6\">\n",
              "    <div class=\"colab-df-container\">\n",
              "      <div>\n",
              "<style scoped>\n",
              "    .dataframe tbody tr th:only-of-type {\n",
              "        vertical-align: middle;\n",
              "    }\n",
              "\n",
              "    .dataframe tbody tr th {\n",
              "        vertical-align: top;\n",
              "    }\n",
              "\n",
              "    .dataframe thead th {\n",
              "        text-align: right;\n",
              "    }\n",
              "</style>\n",
              "<table border=\"1\" class=\"dataframe\">\n",
              "  <thead>\n",
              "    <tr style=\"text-align: right;\">\n",
              "      <th></th>\n",
              "      <th>sex</th>\n",
              "      <th>risk_level</th>\n",
              "      <th>period</th>\n",
              "      <th>claim_type</th>\n",
              "    </tr>\n",
              "  </thead>\n",
              "  <tbody>\n",
              "    <tr>\n",
              "      <th>2</th>\n",
              "      <td>F</td>\n",
              "      <td>None</td>\n",
              "      <td>POS</td>\n",
              "      <td>RX</td>\n",
              "    </tr>\n",
              "    <tr>\n",
              "      <th>3</th>\n",
              "      <td>F</td>\n",
              "      <td>None</td>\n",
              "      <td>PRE</td>\n",
              "      <td>ER</td>\n",
              "    </tr>\n",
              "    <tr>\n",
              "      <th>6</th>\n",
              "      <td>M</td>\n",
              "      <td>None</td>\n",
              "      <td>POS</td>\n",
              "      <td>ER</td>\n",
              "    </tr>\n",
              "    <tr>\n",
              "      <th>7</th>\n",
              "      <td>M</td>\n",
              "      <td>None</td>\n",
              "      <td>POS</td>\n",
              "      <td>IP</td>\n",
              "    </tr>\n",
              "    <tr>\n",
              "      <th>8</th>\n",
              "      <td>M</td>\n",
              "      <td>None</td>\n",
              "      <td>POS</td>\n",
              "      <td>RX</td>\n",
              "    </tr>\n",
              "  </tbody>\n",
              "</table>\n",
              "</div>\n",
              "      <button class=\"colab-df-convert\" onclick=\"convertToInteractive('df-46b7eb3b-c5db-4862-9e64-c232ec7d9ef6')\"\n",
              "              title=\"Convert this dataframe to an interactive table.\"\n",
              "              style=\"display:none;\">\n",
              "        \n",
              "  <svg xmlns=\"http://www.w3.org/2000/svg\" height=\"24px\"viewBox=\"0 0 24 24\"\n",
              "       width=\"24px\">\n",
              "    <path d=\"M0 0h24v24H0V0z\" fill=\"none\"/>\n",
              "    <path d=\"M18.56 5.44l.94 2.06.94-2.06 2.06-.94-2.06-.94-.94-2.06-.94 2.06-2.06.94zm-11 1L8.5 8.5l.94-2.06 2.06-.94-2.06-.94L8.5 2.5l-.94 2.06-2.06.94zm10 10l.94 2.06.94-2.06 2.06-.94-2.06-.94-.94-2.06-.94 2.06-2.06.94z\"/><path d=\"M17.41 7.96l-1.37-1.37c-.4-.4-.92-.59-1.43-.59-.52 0-1.04.2-1.43.59L10.3 9.45l-7.72 7.72c-.78.78-.78 2.05 0 2.83L4 21.41c.39.39.9.59 1.41.59.51 0 1.02-.2 1.41-.59l7.78-7.78 2.81-2.81c.8-.78.8-2.07 0-2.86zM5.41 20L4 18.59l7.72-7.72 1.47 1.35L5.41 20z\"/>\n",
              "  </svg>\n",
              "      </button>\n",
              "      \n",
              "  <style>\n",
              "    .colab-df-container {\n",
              "      display:flex;\n",
              "      flex-wrap:wrap;\n",
              "      gap: 12px;\n",
              "    }\n",
              "\n",
              "    .colab-df-convert {\n",
              "      background-color: #E8F0FE;\n",
              "      border: none;\n",
              "      border-radius: 50%;\n",
              "      cursor: pointer;\n",
              "      display: none;\n",
              "      fill: #1967D2;\n",
              "      height: 32px;\n",
              "      padding: 0 0 0 0;\n",
              "      width: 32px;\n",
              "    }\n",
              "\n",
              "    .colab-df-convert:hover {\n",
              "      background-color: #E2EBFA;\n",
              "      box-shadow: 0px 1px 2px rgba(60, 64, 67, 0.3), 0px 1px 3px 1px rgba(60, 64, 67, 0.15);\n",
              "      fill: #174EA6;\n",
              "    }\n",
              "\n",
              "    [theme=dark] .colab-df-convert {\n",
              "      background-color: #3B4455;\n",
              "      fill: #D2E3FC;\n",
              "    }\n",
              "\n",
              "    [theme=dark] .colab-df-convert:hover {\n",
              "      background-color: #434B5C;\n",
              "      box-shadow: 0px 1px 3px 1px rgba(0, 0, 0, 0.15);\n",
              "      filter: drop-shadow(0px 1px 2px rgba(0, 0, 0, 0.3));\n",
              "      fill: #FFFFFF;\n",
              "    }\n",
              "  </style>\n",
              "\n",
              "      <script>\n",
              "        const buttonEl =\n",
              "          document.querySelector('#df-46b7eb3b-c5db-4862-9e64-c232ec7d9ef6 button.colab-df-convert');\n",
              "        buttonEl.style.display =\n",
              "          google.colab.kernel.accessAllowed ? 'block' : 'none';\n",
              "\n",
              "        async function convertToInteractive(key) {\n",
              "          const element = document.querySelector('#df-46b7eb3b-c5db-4862-9e64-c232ec7d9ef6');\n",
              "          const dataTable =\n",
              "            await google.colab.kernel.invokeFunction('convertToInteractive',\n",
              "                                                     [key], {});\n",
              "          if (!dataTable) return;\n",
              "\n",
              "          const docLinkHtml = 'Like what you see? Visit the ' +\n",
              "            '<a target=\"_blank\" href=https://colab.research.google.com/notebooks/data_table.ipynb>data table notebook</a>'\n",
              "            + ' to learn more about interactive tables.';\n",
              "          element.innerHTML = '';\n",
              "          dataTable['output_type'] = 'display_data';\n",
              "          await google.colab.output.renderOutput(dataTable, element);\n",
              "          const docLink = document.createElement('div');\n",
              "          docLink.innerHTML = docLinkHtml;\n",
              "          element.appendChild(docLink);\n",
              "        }\n",
              "      </script>\n",
              "    </div>\n",
              "  </div>\n",
              "  "
            ]
          },
          "metadata": {},
          "execution_count": 56
        }
      ]
    },
    {
      "cell_type": "code",
      "source": [
        "#Scale all numeric column\n",
        "#numeric_cols = df.select_dtypes(include=['int', 'float']).columns\n",
        "numDF = pd.DataFrame(scaler.fit_transform(numDF.values),columns=numDF.columns,index=numDF.index)\n",
        "#scaled_df = pd.DataFrame(scaler.fit_transform(df[numeric_cols]), columns=numeric_cols, index=df.index)\n",
        "numDF.head()"
      ],
      "metadata": {
        "id": "KoJ0LsB7a7K8",
        "outputId": "6fbbe2a3-7491-436f-886d-eed497df30b7",
        "colab": {
          "base_uri": "https://localhost:8080/",
          "height": 206
        }
      },
      "execution_count": 70,
      "outputs": [
        {
          "output_type": "execute_result",
          "data": {
            "text/plain": [
              "   member_id       age  diabetes  dementia  HousingIns   FoodIns  SVIFactor  \\\n",
              "2  -1.050420 -0.787935       0.0       0.0   -0.229331  0.270062   0.928928   \n",
              "3  -1.050420 -0.787935       0.0       0.0   -0.229331  0.270062   0.928928   \n",
              "6  -1.044118  0.419108       1.0       1.0   -0.750772  0.498780  -0.535942   \n",
              "7  -1.044118  0.419108       1.0       1.0   -0.750772  0.498780  -0.535942   \n",
              "8  -1.044118  0.419108       1.0       1.0   -0.750772  0.498780  -0.535942   \n",
              "\n",
              "   TranspIns   CM      cost  \n",
              "2   0.225341  0.0 -0.669774  \n",
              "3   0.225341  0.0 -0.176453  \n",
              "6  -0.344083  0.0  1.792717  \n",
              "7  -0.344083  0.0  0.586307  \n",
              "8  -0.344083  0.0  1.559697  "
            ],
            "text/html": [
              "\n",
              "  <div id=\"df-94563cac-c7d2-4c24-bb1d-81936b88ac20\">\n",
              "    <div class=\"colab-df-container\">\n",
              "      <div>\n",
              "<style scoped>\n",
              "    .dataframe tbody tr th:only-of-type {\n",
              "        vertical-align: middle;\n",
              "    }\n",
              "\n",
              "    .dataframe tbody tr th {\n",
              "        vertical-align: top;\n",
              "    }\n",
              "\n",
              "    .dataframe thead th {\n",
              "        text-align: right;\n",
              "    }\n",
              "</style>\n",
              "<table border=\"1\" class=\"dataframe\">\n",
              "  <thead>\n",
              "    <tr style=\"text-align: right;\">\n",
              "      <th></th>\n",
              "      <th>member_id</th>\n",
              "      <th>age</th>\n",
              "      <th>diabetes</th>\n",
              "      <th>dementia</th>\n",
              "      <th>HousingIns</th>\n",
              "      <th>FoodIns</th>\n",
              "      <th>SVIFactor</th>\n",
              "      <th>TranspIns</th>\n",
              "      <th>CM</th>\n",
              "      <th>cost</th>\n",
              "    </tr>\n",
              "  </thead>\n",
              "  <tbody>\n",
              "    <tr>\n",
              "      <th>2</th>\n",
              "      <td>-1.050420</td>\n",
              "      <td>-0.787935</td>\n",
              "      <td>0.0</td>\n",
              "      <td>0.0</td>\n",
              "      <td>-0.229331</td>\n",
              "      <td>0.270062</td>\n",
              "      <td>0.928928</td>\n",
              "      <td>0.225341</td>\n",
              "      <td>0.0</td>\n",
              "      <td>-0.669774</td>\n",
              "    </tr>\n",
              "    <tr>\n",
              "      <th>3</th>\n",
              "      <td>-1.050420</td>\n",
              "      <td>-0.787935</td>\n",
              "      <td>0.0</td>\n",
              "      <td>0.0</td>\n",
              "      <td>-0.229331</td>\n",
              "      <td>0.270062</td>\n",
              "      <td>0.928928</td>\n",
              "      <td>0.225341</td>\n",
              "      <td>0.0</td>\n",
              "      <td>-0.176453</td>\n",
              "    </tr>\n",
              "    <tr>\n",
              "      <th>6</th>\n",
              "      <td>-1.044118</td>\n",
              "      <td>0.419108</td>\n",
              "      <td>1.0</td>\n",
              "      <td>1.0</td>\n",
              "      <td>-0.750772</td>\n",
              "      <td>0.498780</td>\n",
              "      <td>-0.535942</td>\n",
              "      <td>-0.344083</td>\n",
              "      <td>0.0</td>\n",
              "      <td>1.792717</td>\n",
              "    </tr>\n",
              "    <tr>\n",
              "      <th>7</th>\n",
              "      <td>-1.044118</td>\n",
              "      <td>0.419108</td>\n",
              "      <td>1.0</td>\n",
              "      <td>1.0</td>\n",
              "      <td>-0.750772</td>\n",
              "      <td>0.498780</td>\n",
              "      <td>-0.535942</td>\n",
              "      <td>-0.344083</td>\n",
              "      <td>0.0</td>\n",
              "      <td>0.586307</td>\n",
              "    </tr>\n",
              "    <tr>\n",
              "      <th>8</th>\n",
              "      <td>-1.044118</td>\n",
              "      <td>0.419108</td>\n",
              "      <td>1.0</td>\n",
              "      <td>1.0</td>\n",
              "      <td>-0.750772</td>\n",
              "      <td>0.498780</td>\n",
              "      <td>-0.535942</td>\n",
              "      <td>-0.344083</td>\n",
              "      <td>0.0</td>\n",
              "      <td>1.559697</td>\n",
              "    </tr>\n",
              "  </tbody>\n",
              "</table>\n",
              "</div>\n",
              "      <button class=\"colab-df-convert\" onclick=\"convertToInteractive('df-94563cac-c7d2-4c24-bb1d-81936b88ac20')\"\n",
              "              title=\"Convert this dataframe to an interactive table.\"\n",
              "              style=\"display:none;\">\n",
              "        \n",
              "  <svg xmlns=\"http://www.w3.org/2000/svg\" height=\"24px\"viewBox=\"0 0 24 24\"\n",
              "       width=\"24px\">\n",
              "    <path d=\"M0 0h24v24H0V0z\" fill=\"none\"/>\n",
              "    <path d=\"M18.56 5.44l.94 2.06.94-2.06 2.06-.94-2.06-.94-.94-2.06-.94 2.06-2.06.94zm-11 1L8.5 8.5l.94-2.06 2.06-.94-2.06-.94L8.5 2.5l-.94 2.06-2.06.94zm10 10l.94 2.06.94-2.06 2.06-.94-2.06-.94-.94-2.06-.94 2.06-2.06.94z\"/><path d=\"M17.41 7.96l-1.37-1.37c-.4-.4-.92-.59-1.43-.59-.52 0-1.04.2-1.43.59L10.3 9.45l-7.72 7.72c-.78.78-.78 2.05 0 2.83L4 21.41c.39.39.9.59 1.41.59.51 0 1.02-.2 1.41-.59l7.78-7.78 2.81-2.81c.8-.78.8-2.07 0-2.86zM5.41 20L4 18.59l7.72-7.72 1.47 1.35L5.41 20z\"/>\n",
              "  </svg>\n",
              "      </button>\n",
              "      \n",
              "  <style>\n",
              "    .colab-df-container {\n",
              "      display:flex;\n",
              "      flex-wrap:wrap;\n",
              "      gap: 12px;\n",
              "    }\n",
              "\n",
              "    .colab-df-convert {\n",
              "      background-color: #E8F0FE;\n",
              "      border: none;\n",
              "      border-radius: 50%;\n",
              "      cursor: pointer;\n",
              "      display: none;\n",
              "      fill: #1967D2;\n",
              "      height: 32px;\n",
              "      padding: 0 0 0 0;\n",
              "      width: 32px;\n",
              "    }\n",
              "\n",
              "    .colab-df-convert:hover {\n",
              "      background-color: #E2EBFA;\n",
              "      box-shadow: 0px 1px 2px rgba(60, 64, 67, 0.3), 0px 1px 3px 1px rgba(60, 64, 67, 0.15);\n",
              "      fill: #174EA6;\n",
              "    }\n",
              "\n",
              "    [theme=dark] .colab-df-convert {\n",
              "      background-color: #3B4455;\n",
              "      fill: #D2E3FC;\n",
              "    }\n",
              "\n",
              "    [theme=dark] .colab-df-convert:hover {\n",
              "      background-color: #434B5C;\n",
              "      box-shadow: 0px 1px 3px 1px rgba(0, 0, 0, 0.15);\n",
              "      filter: drop-shadow(0px 1px 2px rgba(0, 0, 0, 0.3));\n",
              "      fill: #FFFFFF;\n",
              "    }\n",
              "  </style>\n",
              "\n",
              "      <script>\n",
              "        const buttonEl =\n",
              "          document.querySelector('#df-94563cac-c7d2-4c24-bb1d-81936b88ac20 button.colab-df-convert');\n",
              "        buttonEl.style.display =\n",
              "          google.colab.kernel.accessAllowed ? 'block' : 'none';\n",
              "\n",
              "        async function convertToInteractive(key) {\n",
              "          const element = document.querySelector('#df-94563cac-c7d2-4c24-bb1d-81936b88ac20');\n",
              "          const dataTable =\n",
              "            await google.colab.kernel.invokeFunction('convertToInteractive',\n",
              "                                                     [key], {});\n",
              "          if (!dataTable) return;\n",
              "\n",
              "          const docLinkHtml = 'Like what you see? Visit the ' +\n",
              "            '<a target=\"_blank\" href=https://colab.research.google.com/notebooks/data_table.ipynb>data table notebook</a>'\n",
              "            + ' to learn more about interactive tables.';\n",
              "          element.innerHTML = '';\n",
              "          dataTable['output_type'] = 'display_data';\n",
              "          await google.colab.output.renderOutput(dataTable, element);\n",
              "          const docLink = document.createElement('div');\n",
              "          docLink.innerHTML = docLinkHtml;\n",
              "          element.appendChild(docLink);\n",
              "        }\n",
              "      </script>\n",
              "    </div>\n",
              "  </div>\n",
              "  "
            ]
          },
          "metadata": {},
          "execution_count": 70
        }
      ]
    },
    {
      "cell_type": "code",
      "source": [
        "#Feature Distribution\n",
        "numDF.hist(bins=25, figsize=(15, 25), layout=(-1, 2), edgecolor=\"black\")\n",
        "plt.tight_layout()\n",
        "plt.show()"
      ],
      "metadata": {
        "id": "D1OszwhCdKxK",
        "outputId": "683cffc7-ebd0-42f3-8dd5-08229ce1eac4",
        "colab": {
          "base_uri": "https://localhost:8080/",
          "height": 1000
        }
      },
      "execution_count": 73,
      "outputs": [
        {
          "output_type": "display_data",
          "data": {
            "text/plain": [
              "<Figure size 1080x1800 with 10 Axes>"
            ],
            "image/png": "[encoded data removed]"
          },
          "metadata": {
            "needs_background": "light"
          }
        }
      ]
    },
    {
      "cell_type": "code",
      "source": [
        "catDF.drop(['risk_level'],axis=1,inplace=True)"
      ],
      "metadata": {
        "id": "HZPoJJHnezA5",
        "outputId": "8e331c88-9886-43f2-ca3b-b408f56d6b69",
        "colab": {
          "base_uri": "https://localhost:8080/"
        }
      },
      "execution_count": 79,
      "outputs": [
        {
          "output_type": "stream",
          "name": "stderr",
          "text": [
            "/usr/local/lib/python3.8/dist-packages/pandas/core/frame.py:4906: SettingWithCopyWarning: \n",
            "A value is trying to be set on a copy of a slice from a DataFrame\n",
            "\n",
            "See the caveats in the documentation: https://pandas.pydata.org/pandas-docs/stable/user_guide/indexing.html#returning-a-view-versus-a-copy\n",
            "  return super().drop(\n"
          ]
        }
      ]
    },
    {
      "cell_type": "code",
      "source": [
        "catDF.head()"
      ],
      "metadata": {
        "id": "943H9GI9fc6O",
        "outputId": "8a886d00-0ff6-4735-9e1d-bed48dced9a9",
        "colab": {
          "base_uri": "https://localhost:8080/",
          "height": 206
        }
      },
      "execution_count": 82,
      "outputs": [
        {
          "output_type": "execute_result",
          "data": {
            "text/plain": [
              "  sex period claim_type\n",
              "2   F    POS         RX\n",
              "3   F    PRE         ER\n",
              "6   M    POS         ER\n",
              "7   M    POS         IP\n",
              "8   M    POS         RX"
            ],
            "text/html": [
              "\n",
              "  <div id=\"df-fe0dc35b-3bbf-4b03-b7ef-26cd14d2124f\">\n",
              "    <div class=\"colab-df-container\">\n",
              "      <div>\n",
              "<style scoped>\n",
              "    .dataframe tbody tr th:only-of-type {\n",
              "        vertical-align: middle;\n",
              "    }\n",
              "\n",
              "    .dataframe tbody tr th {\n",
              "        vertical-align: top;\n",
              "    }\n",
              "\n",
              "    .dataframe thead th {\n",
              "        text-align: right;\n",
              "    }\n",
              "</style>\n",
              "<table border=\"1\" class=\"dataframe\">\n",
              "  <thead>\n",
              "    <tr style=\"text-align: right;\">\n",
              "      <th></th>\n",
              "      <th>sex</th>\n",
              "      <th>period</th>\n",
              "      <th>claim_type</th>\n",
              "    </tr>\n",
              "  </thead>\n",
              "  <tbody>\n",
              "    <tr>\n",
              "      <th>2</th>\n",
              "      <td>F</td>\n",
              "      <td>POS</td>\n",
              "      <td>RX</td>\n",
              "    </tr>\n",
              "    <tr>\n",
              "      <th>3</th>\n",
              "      <td>F</td>\n",
              "      <td>PRE</td>\n",
              "      <td>ER</td>\n",
              "    </tr>\n",
              "    <tr>\n",
              "      <th>6</th>\n",
              "      <td>M</td>\n",
              "      <td>POS</td>\n",
              "      <td>ER</td>\n",
              "    </tr>\n",
              "    <tr>\n",
              "      <th>7</th>\n",
              "      <td>M</td>\n",
              "      <td>POS</td>\n",
              "      <td>IP</td>\n",
              "    </tr>\n",
              "    <tr>\n",
              "      <th>8</th>\n",
              "      <td>M</td>\n",
              "      <td>POS</td>\n",
              "      <td>RX</td>\n",
              "    </tr>\n",
              "  </tbody>\n",
              "</table>\n",
              "</div>\n",
              "      <button class=\"colab-df-convert\" onclick=\"convertToInteractive('df-fe0dc35b-3bbf-4b03-b7ef-26cd14d2124f')\"\n",
              "              title=\"Convert this dataframe to an interactive table.\"\n",
              "              style=\"display:none;\">\n",
              "        \n",
              "  <svg xmlns=\"http://www.w3.org/2000/svg\" height=\"24px\"viewBox=\"0 0 24 24\"\n",
              "       width=\"24px\">\n",
              "    <path d=\"M0 0h24v24H0V0z\" fill=\"none\"/>\n",
              "    <path d=\"M18.56 5.44l.94 2.06.94-2.06 2.06-.94-2.06-.94-.94-2.06-.94 2.06-2.06.94zm-11 1L8.5 8.5l.94-2.06 2.06-.94-2.06-.94L8.5 2.5l-.94 2.06-2.06.94zm10 10l.94 2.06.94-2.06 2.06-.94-2.06-.94-.94-2.06-.94 2.06-2.06.94z\"/><path d=\"M17.41 7.96l-1.37-1.37c-.4-.4-.92-.59-1.43-.59-.52 0-1.04.2-1.43.59L10.3 9.45l-7.72 7.72c-.78.78-.78 2.05 0 2.83L4 21.41c.39.39.9.59 1.41.59.51 0 1.02-.2 1.41-.59l7.78-7.78 2.81-2.81c.8-.78.8-2.07 0-2.86zM5.41 20L4 18.59l7.72-7.72 1.47 1.35L5.41 20z\"/>\n",
              "  </svg>\n",
              "      </button>\n",
              "      \n",
              "  <style>\n",
              "    .colab-df-container {\n",
              "      display:flex;\n",
              "      flex-wrap:wrap;\n",
              "      gap: 12px;\n",
              "    }\n",
              "\n",
              "    .colab-df-convert {\n",
              "      background-color: #E8F0FE;\n",
              "      border: none;\n",
              "      border-radius: 50%;\n",
              "      cursor: pointer;\n",
              "      display: none;\n",
              "      fill: #1967D2;\n",
              "      height: 32px;\n",
              "      padding: 0 0 0 0;\n",
              "      width: 32px;\n",
              "    }\n",
              "\n",
              "    .colab-df-convert:hover {\n",
              "      background-color: #E2EBFA;\n",
              "      box-shadow: 0px 1px 2px rgba(60, 64, 67, 0.3), 0px 1px 3px 1px rgba(60, 64, 67, 0.15);\n",
              "      fill: #174EA6;\n",
              "    }\n",
              "\n",
              "    [theme=dark] .colab-df-convert {\n",
              "      background-color: #3B4455;\n",
              "      fill: #D2E3FC;\n",
              "    }\n",
              "\n",
              "    [theme=dark] .colab-df-convert:hover {\n",
              "      background-color: #434B5C;\n",
              "      box-shadow: 0px 1px 3px 1px rgba(0, 0, 0, 0.15);\n",
              "      filter: drop-shadow(0px 1px 2px rgba(0, 0, 0, 0.3));\n",
              "      fill: #FFFFFF;\n",
              "    }\n",
              "  </style>\n",
              "\n",
              "      <script>\n",
              "        const buttonEl =\n",
              "          document.querySelector('#df-fe0dc35b-3bbf-4b03-b7ef-26cd14d2124f button.colab-df-convert');\n",
              "        buttonEl.style.display =\n",
              "          google.colab.kernel.accessAllowed ? 'block' : 'none';\n",
              "\n",
              "        async function convertToInteractive(key) {\n",
              "          const element = document.querySelector('#df-fe0dc35b-3bbf-4b03-b7ef-26cd14d2124f');\n",
              "          const dataTable =\n",
              "            await google.colab.kernel.invokeFunction('convertToInteractive',\n",
              "                                                     [key], {});\n",
              "          if (!dataTable) return;\n",
              "\n",
              "          const docLinkHtml = 'Like what you see? Visit the ' +\n",
              "            '<a target=\"_blank\" href=https://colab.research.google.com/notebooks/data_table.ipynb>data table notebook</a>'\n",
              "            + ' to learn more about interactive tables.';\n",
              "          element.innerHTML = '';\n",
              "          dataTable['output_type'] = 'display_data';\n",
              "          await google.colab.output.renderOutput(dataTable, element);\n",
              "          const docLink = document.createElement('div');\n",
              "          docLink.innerHTML = docLinkHtml;\n",
              "          element.appendChild(docLink);\n",
              "        }\n",
              "      </script>\n",
              "    </div>\n",
              "  </div>\n",
              "  "
            ]
          },
          "metadata": {},
          "execution_count": 82
        }
      ]
    },
    {
      "cell_type": "code",
      "source": [
        "catDF=pd.get_dummies(catDF)"
      ],
      "metadata": {
        "id": "vjfNkajffgC4"
      },
      "execution_count": 84,
      "outputs": []
    },
    {
      "cell_type": "code",
      "source": [
        "catDF.head()"
      ],
      "metadata": {
        "id": "kjYxC8wSf0a-",
        "outputId": "90b8d375-e842-4804-99bf-de2c49b05d25",
        "colab": {
          "base_uri": "https://localhost:8080/",
          "height": 206
        }
      },
      "execution_count": 86,
      "outputs": [
        {
          "output_type": "execute_result",
          "data": {
            "text/plain": [
              "   sex_F  sex_M  period_POS  period_PRE  claim_type_ER  claim_type_IP  \\\n",
              "2      1      0           1           0              0              0   \n",
              "3      1      0           0           1              1              0   \n",
              "6      0      1           1           0              1              0   \n",
              "7      0      1           1           0              0              1   \n",
              "8      0      1           1           0              0              0   \n",
              "\n",
              "   claim_type_RX  \n",
              "2              1  \n",
              "3              0  \n",
              "6              0  \n",
              "7              0  \n",
              "8              1  "
            ],
            "text/html": [
              "\n",
              "  <div id=\"df-a721cb3d-c1a2-4bf7-8cdc-94dba5dc390f\">\n",
              "    <div class=\"colab-df-container\">\n",
              "      <div>\n",
              "<style scoped>\n",
              "    .dataframe tbody tr th:only-of-type {\n",
              "        vertical-align: middle;\n",
              "    }\n",
              "\n",
              "    .dataframe tbody tr th {\n",
              "        vertical-align: top;\n",
              "    }\n",
              "\n",
              "    .dataframe thead th {\n",
              "        text-align: right;\n",
              "    }\n",
              "</style>\n",
              "<table border=\"1\" class=\"dataframe\">\n",
              "  <thead>\n",
              "    <tr style=\"text-align: right;\">\n",
              "      <th></th>\n",
              "      <th>sex_F</th>\n",
              "      <th>sex_M</th>\n",
              "      <th>period_POS</th>\n",
              "      <th>period_PRE</th>\n",
              "      <th>claim_type_ER</th>\n",
              "      <th>claim_type_IP</th>\n",
              "      <th>claim_type_RX</th>\n",
              "    </tr>\n",
              "  </thead>\n",
              "  <tbody>\n",
              "    <tr>\n",
              "      <th>2</th>\n",
              "      <td>1</td>\n",
              "      <td>0</td>\n",
              "      <td>1</td>\n",
              "      <td>0</td>\n",
              "      <td>0</td>\n",
              "      <td>0</td>\n",
              "      <td>1</td>\n",
              "    </tr>\n",
              "    <tr>\n",
              "      <th>3</th>\n",
              "      <td>1</td>\n",
              "      <td>0</td>\n",
              "      <td>0</td>\n",
              "      <td>1</td>\n",
              "      <td>1</td>\n",
              "      <td>0</td>\n",
              "      <td>0</td>\n",
              "    </tr>\n",
              "    <tr>\n",
              "      <th>6</th>\n",
              "      <td>0</td>\n",
              "      <td>1</td>\n",
              "      <td>1</td>\n",
              "      <td>0</td>\n",
              "      <td>1</td>\n",
              "      <td>0</td>\n",
              "      <td>0</td>\n",
              "    </tr>\n",
              "    <tr>\n",
              "      <th>7</th>\n",
              "      <td>0</td>\n",
              "      <td>1</td>\n",
              "      <td>1</td>\n",
              "      <td>0</td>\n",
              "      <td>0</td>\n",
              "      <td>1</td>\n",
              "      <td>0</td>\n",
              "    </tr>\n",
              "    <tr>\n",
              "      <th>8</th>\n",
              "      <td>0</td>\n",
              "      <td>1</td>\n",
              "      <td>1</td>\n",
              "      <td>0</td>\n",
              "      <td>0</td>\n",
              "      <td>0</td>\n",
              "      <td>1</td>\n",
              "    </tr>\n",
              "  </tbody>\n",
              "</table>\n",
              "</div>\n",
              "      <button class=\"colab-df-convert\" onclick=\"convertToInteractive('df-a721cb3d-c1a2-4bf7-8cdc-94dba5dc390f')\"\n",
              "              title=\"Convert this dataframe to an interactive table.\"\n",
              "              style=\"display:none;\">\n",
              "        \n",
              "  <svg xmlns=\"http://www.w3.org/2000/svg\" height=\"24px\"viewBox=\"0 0 24 24\"\n",
              "       width=\"24px\">\n",
              "    <path d=\"M0 0h24v24H0V0z\" fill=\"none\"/>\n",
              "    <path d=\"M18.56 5.44l.94 2.06.94-2.06 2.06-.94-2.06-.94-.94-2.06-.94 2.06-2.06.94zm-11 1L8.5 8.5l.94-2.06 2.06-.94-2.06-.94L8.5 2.5l-.94 2.06-2.06.94zm10 10l.94 2.06.94-2.06 2.06-.94-2.06-.94-.94-2.06-.94 2.06-2.06.94z\"/><path d=\"M17.41 7.96l-1.37-1.37c-.4-.4-.92-.59-1.43-.59-.52 0-1.04.2-1.43.59L10.3 9.45l-7.72 7.72c-.78.78-.78 2.05 0 2.83L4 21.41c.39.39.9.59 1.41.59.51 0 1.02-.2 1.41-.59l7.78-7.78 2.81-2.81c.8-.78.8-2.07 0-2.86zM5.41 20L4 18.59l7.72-7.72 1.47 1.35L5.41 20z\"/>\n",
              "  </svg>\n",
              "      </button>\n",
              "      \n",
              "  <style>\n",
              "    .colab-df-container {\n",
              "      display:flex;\n",
              "      flex-wrap:wrap;\n",
              "      gap: 12px;\n",
              "    }\n",
              "\n",
              "    .colab-df-convert {\n",
              "      background-color: #E8F0FE;\n",
              "      border: none;\n",
              "      border-radius: 50%;\n",
              "      cursor: pointer;\n",
              "      display: none;\n",
              "      fill: #1967D2;\n",
              "      height: 32px;\n",
              "      padding: 0 0 0 0;\n",
              "      width: 32px;\n",
              "    }\n",
              "\n",
              "    .colab-df-convert:hover {\n",
              "      background-color: #E2EBFA;\n",
              "      box-shadow: 0px 1px 2px rgba(60, 64, 67, 0.3), 0px 1px 3px 1px rgba(60, 64, 67, 0.15);\n",
              "      fill: #174EA6;\n",
              "    }\n",
              "\n",
              "    [theme=dark] .colab-df-convert {\n",
              "      background-color: #3B4455;\n",
              "      fill: #D2E3FC;\n",
              "    }\n",
              "\n",
              "    [theme=dark] .colab-df-convert:hover {\n",
              "      background-color: #434B5C;\n",
              "      box-shadow: 0px 1px 3px 1px rgba(0, 0, 0, 0.15);\n",
              "      filter: drop-shadow(0px 1px 2px rgba(0, 0, 0, 0.3));\n",
              "      fill: #FFFFFF;\n",
              "    }\n",
              "  </style>\n",
              "\n",
              "      <script>\n",
              "        const buttonEl =\n",
              "          document.querySelector('#df-a721cb3d-c1a2-4bf7-8cdc-94dba5dc390f button.colab-df-convert');\n",
              "        buttonEl.style.display =\n",
              "          google.colab.kernel.accessAllowed ? 'block' : 'none';\n",
              "\n",
              "        async function convertToInteractive(key) {\n",
              "          const element = document.querySelector('#df-a721cb3d-c1a2-4bf7-8cdc-94dba5dc390f');\n",
              "          const dataTable =\n",
              "            await google.colab.kernel.invokeFunction('convertToInteractive',\n",
              "                                                     [key], {});\n",
              "          if (!dataTable) return;\n",
              "\n",
              "          const docLinkHtml = 'Like what you see? Visit the ' +\n",
              "            '<a target=\"_blank\" href=https://colab.research.google.com/notebooks/data_table.ipynb>data table notebook</a>'\n",
              "            + ' to learn more about interactive tables.';\n",
              "          element.innerHTML = '';\n",
              "          dataTable['output_type'] = 'display_data';\n",
              "          await google.colab.output.renderOutput(dataTable, element);\n",
              "          const docLink = document.createElement('div');\n",
              "          docLink.innerHTML = docLinkHtml;\n",
              "          element.appendChild(docLink);\n",
              "        }\n",
              "      </script>\n",
              "    </div>\n",
              "  </div>\n",
              "  "
            ]
          },
          "metadata": {},
          "execution_count": 86
        }
      ]
    },
    {
      "cell_type": "code",
      "source": [
        "#MErge\n",
        "\n",
        "X=pd.concat([catDF,numDF], axis=1)\n",
        "print(X.shape)\n",
        "#Prepare Y\n",
        "Y=df['risk_level']"
      ],
      "metadata": {
        "id": "2xInsv9Yf-c0",
        "outputId": "bc5f40a4-8288-4a82-f021-d856ba33cf9e",
        "colab": {
          "base_uri": "https://localhost:8080/"
        }
      },
      "execution_count": 91,
      "outputs": [
        {
          "output_type": "stream",
          "name": "stdout",
          "text": [
            "(3343, 17)\n"
          ]
        }
      ]
    },
    {
      "cell_type": "code",
      "source": [],
      "metadata": {
        "id": "k1HLbJM5gK50"
      },
      "execution_count": null,
      "outputs": []
    },
    {
      "cell_type": "code",
      "source": [
        "Y=Y.replace(to_replace=['High','Medium','Low','None'],value=[0,1,2,3])\n",
        "Y.head()"
      ],
      "metadata": {
        "id": "-un2apfTgXah",
        "outputId": "4424f68f-a71b-428e-9250-2ce713895af2",
        "colab": {
          "base_uri": "https://localhost:8080/"
        }
      },
      "execution_count": 93,
      "outputs": [
        {
          "output_type": "execute_result",
          "data": {
            "text/plain": [
              "2    3\n",
              "3    3\n",
              "6    3\n",
              "7    3\n",
              "8    3\n",
              "Name: risk_level, dtype: int64"
            ]
          },
          "metadata": {},
          "execution_count": 93
        }
      ]
    },
    {
      "cell_type": "code",
      "source": [
        "from sklearn.model_selection import train_test_split\n",
        "X_train, X_test, y_train, y_test = train_test_split(X,Y,test_size=0.3,random_state=100,stratify=Y)\n"
      ],
      "metadata": {
        "id": "j3RLVgmFgwPi"
      },
      "execution_count": 95,
      "outputs": []
    },
    {
      "cell_type": "code",
      "source": [
        "from sklearn.ensemble import RandomForestClassifier\n",
        "rf= RandomForestClassifier(max_depth=5, random_state=43, n_estimators=300).fit(X_train, y_train)\n",
        "rf.feature_importances_\n",
        "feature_importances=pd.DataFrame({'feature': X.columns, 'importance': rf.feature_importances_})\n",
        "\n",
        "#sort\n",
        "feature_importances = feature_importances.sort_values('importance', ascending=False)\n",
        "\n",
        "print(feature_importances)"
      ],
      "metadata": {
        "id": "M-nRjfcXhsLO",
        "outputId": "28cf2246-26ec-4bd2-dbe0-9c8158fb95d2",
        "colab": {
          "base_uri": "https://localhost:8080/"
        }
      },
      "execution_count": 98,
      "outputs": [
        {
          "output_type": "stream",
          "name": "stdout",
          "text": [
            "          feature  importance\n",
            "7       member_id    0.160536\n",
            "14      TranspIns    0.154162\n",
            "11     HousingIns    0.144553\n",
            "12        FoodIns    0.135384\n",
            "8             age    0.128958\n",
            "13      SVIFactor    0.125642\n",
            "16           cost    0.040105\n",
            "10       dementia    0.031722\n",
            "15             CM    0.027712\n",
            "9        diabetes    0.022168\n",
            "1           sex_M    0.013402\n",
            "0           sex_F    0.009671\n",
            "5   claim_type_IP    0.001677\n",
            "4   claim_type_ER    0.001557\n",
            "6   claim_type_RX    0.001160\n",
            "2      period_POS    0.000858\n",
            "3      period_PRE    0.000731\n"
          ]
        }
      ]
    },
    {
      "cell_type": "code",
      "source": [
        "#Permutation\n",
        "\n",
        "from sklearn.inspection import permutation_importance\n",
        "r = permutation_importance(rf,X_test, y_test,\n",
        "                         n_repeats=10,\n",
        "                         random_state=0)\n",
        "perm=pd.DataFrame(columns=['AVG_Importance','STD_Importance'],index=[i for i in X_train.columns])\n",
        "perm['AVG_Importance']=r.importances_mean"
      ],
      "metadata": {
        "id": "lZ31PUPwjBTa"
      },
      "execution_count": 100,
      "outputs": []
    },
    {
      "cell_type": "code",
      "source": [
        "print(perm.to_string())"
      ],
      "metadata": {
        "id": "Wzdb1OyCkBy3",
        "outputId": "4ed07187-e4e9-4beb-b2fa-e115999262ea",
        "colab": {
          "base_uri": "https://localhost:8080/"
        }
      },
      "execution_count": 101,
      "outputs": [
        {
          "output_type": "stream",
          "name": "stdout",
          "text": [
            "               AVG_Importance STD_Importance\n",
            "sex_F            1.635095e-02            NaN\n",
            "sex_M            2.233300e-02            NaN\n",
            "period_POS       9.970090e-04            NaN\n",
            "period_PRE       0.000000e+00            NaN\n",
            "claim_type_ER    8.973081e-04            NaN\n",
            "claim_type_IP    3.330669e-17            NaN\n",
            "claim_type_RX   -2.991027e-04            NaN\n",
            "member_id        1.051844e-01            NaN\n",
            "age              9.242273e-02            NaN\n",
            "diabetes         3.409771e-02            NaN\n",
            "dementia         3.948156e-02            NaN\n",
            "HousingIns       1.018943e-01            NaN\n",
            "FoodIns          1.094716e-01            NaN\n",
            "SVIFactor        9.750748e-02            NaN\n",
            "TranspIns        1.069791e-01            NaN\n",
            "CM               3.629113e-02            NaN\n",
            "cost             4.440892e-17            NaN\n"
          ]
        }
      ]
    },
    {
      "cell_type": "code",
      "source": [
        "from sklearn.neighbors import KNeighborsClassifier\n",
        "kn=KNeighborsClassifier()\n",
        "kn.fit(X,Y)"
      ],
      "metadata": {
        "id": "4qDvyHxHkHoL",
        "outputId": "800fa020-1552-4bed-9b56-e40add062826",
        "colab": {
          "base_uri": "https://localhost:8080/"
        }
      },
      "execution_count": 103,
      "outputs": [
        {
          "output_type": "execute_result",
          "data": {
            "text/plain": [
              "KNeighborsClassifier()"
            ]
          },
          "metadata": {},
          "execution_count": 103
        }
      ]
    },
    {
      "cell_type": "code",
      "source": [
        "results=permutation_importance(kn,X_test,y_test,n_repeats=10,random_state=0)"
      ],
      "metadata": {
        "id": "Mi2esq-3kspQ"
      },
      "execution_count": 104,
      "outputs": []
    },
    {
      "cell_type": "code",
      "source": [
        "from matplotlib import pyplot\n",
        "#imp\n",
        "importance=feature_importances['importance']\n",
        "importance=results.importances_mean\n",
        "importance=np.sort(importance)\n",
        "\n",
        "#get feat names\n",
        "feature_names = feature_importances['feature']\n",
        "\n",
        "#sum\n",
        "for i, v in enumerate(importance):\n",
        "    print('Feature: {} - Score: {}'.format(i, feature_names[i], v))\n",
        "\n",
        "#plot\n",
        "pyplot.bar([x for x in range(len(importance))],importance)\n",
        "pyplot.xticks(range(len(importance)),feature_names, rotation=90)\n",
        "pyplot.show()"
      ],
      "metadata": {
        "id": "hHvblAaHk9VG",
        "outputId": "3aef26c7-3cd7-4b32-c4cf-4ee80a5d817c",
        "colab": {
          "base_uri": "https://localhost:8080/",
          "height": 623
        }
      },
      "execution_count": 108,
      "outputs": [
        {
          "output_type": "stream",
          "name": "stdout",
          "text": [
            "Feature: 0 - Score: sex_F\n",
            "Feature: 1 - Score: sex_M\n",
            "Feature: 2 - Score: period_POS\n",
            "Feature: 3 - Score: period_PRE\n",
            "Feature: 4 - Score: claim_type_ER\n",
            "Feature: 5 - Score: claim_type_IP\n",
            "Feature: 6 - Score: claim_type_RX\n",
            "Feature: 7 - Score: member_id\n",
            "Feature: 8 - Score: age\n",
            "Feature: 9 - Score: diabetes\n",
            "Feature: 10 - Score: dementia\n",
            "Feature: 11 - Score: HousingIns\n",
            "Feature: 12 - Score: FoodIns\n",
            "Feature: 13 - Score: SVIFactor\n",
            "Feature: 14 - Score: TranspIns\n",
            "Feature: 15 - Score: CM\n",
            "Feature: 16 - Score: cost\n"
          ]
        },
        {
          "output_type": "display_data",
          "data": {
            "text/plain": [
              "<Figure size 432x288 with 1 Axes>"
            ],
            "image/png": "[encoded data removed]"
          },
          "metadata": {
            "needs_background": "light"
          }
        }
      ]
    },
    {
      "cell_type": "code",
      "source": [
        "#Coefficients\n",
        "\n",
        "model=LogisticRegression()\n",
        "model.fit (X,Y)\n",
        "importance= model.coef_[0]\n",
        "importance=np.sort(importance)\n",
        "importance\n",
        "importance=pd.DataFrame({'feature':X.columns, 'importance': importance})\n",
        "importance=importance.sort_values('importance',ascending=False)\n",
        "\n",
        "#chart\n",
        "plt.figure(figsize=(20,10))\n",
        "plt.bar(importance['feature'], importance['importance'])\n",
        "plt.show()\n",
        "\n",
        "#for logistic regression this are the values that are considered important. We propably will remove the shorter columns for the model and compare results.\n",
        "#Diabetes, dementia, age, claim_type are the ones with less importance"
      ],
      "metadata": {
        "id": "MG_TKckUmVXM",
        "outputId": "d22c9b26-4f6e-4d9b-d03b-a5cd98df8414",
        "colab": {
          "base_uri": "https://localhost:8080/",
          "height": 592
        }
      },
      "execution_count": 113,
      "outputs": [
        {
          "output_type": "display_data",
          "data": {
            "text/plain": [
              "<Figure size 1440x720 with 1 Axes>"
            ],
            "image/png": "[encoded data removed]"
          },
          "metadata": {
            "needs_background": "light"
          }
        }
      ]
    }
  ]
}