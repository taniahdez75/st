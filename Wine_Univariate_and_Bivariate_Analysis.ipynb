{
  "nbformat": 4,
  "nbformat_minor": 0,
  "metadata": {
    "colab": {
      "provenance": [],
      "include_colab_link": true
    },
    "kernelspec": {
      "name": "python3",
      "display_name": "Python 3"
    },
    "language_info": {
      "name": "python"
    }
  },
  "cells": [
    {
      "cell_type": "markdown",
      "metadata": {
        "id": "view-in-github",
        "colab_type": "text"
      },
      "source": [
        "<a href=\"https://colab.research.google.com/github/taniahdez75/st/blob/main/Wine_Univariate_and_Bivariate_Analysis.ipynb\" target=\"_parent\"><img src=\"https://colab.research.google.com/assets/colab-badge.svg\" alt=\"Open In Colab\"/></a>"
      ]
    },
    {
      "cell_type": "code",
      "execution_count": null,
      "metadata": {
        "id": "stLIxqJAof_W"
      },
      "outputs": [],
      "source": [
        "# Import basic libraries\n",
        "import numpy as np \n",
        "import pandas as pd \n",
        "# import visualization libraries\n",
        "import seaborn as sns\n",
        "import matplotlib.pyplot as plt\n",
        "%matplotlib inline"
      ]
    },
    {
      "cell_type": "code",
      "source": [
        "df = pd.read_csv('winequality-white.csv', sep=';')"
      ],
      "metadata": {
        "id": "sg44jBM5o-ff"
      },
      "execution_count": null,
      "outputs": []
    },
    {
      "cell_type": "markdown",
      "source": [
        "Lets take a quick look at our dataset"
      ],
      "metadata": {
        "id": "fF7jjgqApyjI"
      }
    },
    {
      "cell_type": "code",
      "source": [
        "df.head()"
      ],
      "metadata": {
        "colab": {
          "base_uri": "https://localhost:8080/",
          "height": 305
        },
        "id": "dzxFlUMzpYuH",
        "outputId": "1acbd190-2496-4943-ac61-9ae364092219"
      },
      "execution_count": null,
      "outputs": [
        {
          "output_type": "execute_result",
          "data": {
            "text/plain": [
              "   fixed acidity  volatile acidity  citric acid  residual sugar  chlorides  \\\n",
              "0            7.0              0.27         0.36            20.7      0.045   \n",
              "1            6.3              0.30         0.34             1.6      0.049   \n",
              "2            8.1              0.28         0.40             6.9      0.050   \n",
              "3            7.2              0.23         0.32             8.5      0.058   \n",
              "4            7.2              0.23         0.32             8.5      0.058   \n",
              "\n",
              "   free sulfur dioxide  total sulfur dioxide  density    pH  sulphates  \\\n",
              "0                 45.0                 170.0   1.0010  3.00       0.45   \n",
              "1                 14.0                 132.0   0.9940  3.30       0.49   \n",
              "2                 30.0                  97.0   0.9951  3.26       0.44   \n",
              "3                 47.0                 186.0   0.9956  3.19       0.40   \n",
              "4                 47.0                 186.0   0.9956  3.19       0.40   \n",
              "\n",
              "   alcohol  quality  \n",
              "0      8.8        6  \n",
              "1      9.5        6  \n",
              "2     10.1        6  \n",
              "3      9.9        6  \n",
              "4      9.9        6  "
            ],
            "text/html": [
              "\n",
              "  <div id=\"df-270524db-6e60-40a2-bd6e-d1f414398ab3\">\n",
              "    <div class=\"colab-df-container\">\n",
              "      <div>\n",
              "<style scoped>\n",
              "    .dataframe tbody tr th:only-of-type {\n",
              "        vertical-align: middle;\n",
              "    }\n",
              "\n",
              "    .dataframe tbody tr th {\n",
              "        vertical-align: top;\n",
              "    }\n",
              "\n",
              "    .dataframe thead th {\n",
              "        text-align: right;\n",
              "    }\n",
              "</style>\n",
              "<table border=\"1\" class=\"dataframe\">\n",
              "  <thead>\n",
              "    <tr style=\"text-align: right;\">\n",
              "      <th></th>\n",
              "      <th>fixed acidity</th>\n",
              "      <th>volatile acidity</th>\n",
              "      <th>citric acid</th>\n",
              "      <th>residual sugar</th>\n",
              "      <th>chlorides</th>\n",
              "      <th>free sulfur dioxide</th>\n",
              "      <th>total sulfur dioxide</th>\n",
              "      <th>density</th>\n",
              "      <th>pH</th>\n",
              "      <th>sulphates</th>\n",
              "      <th>alcohol</th>\n",
              "      <th>quality</th>\n",
              "    </tr>\n",
              "  </thead>\n",
              "  <tbody>\n",
              "    <tr>\n",
              "      <th>0</th>\n",
              "      <td>7.0</td>\n",
              "      <td>0.27</td>\n",
              "      <td>0.36</td>\n",
              "      <td>20.7</td>\n",
              "      <td>0.045</td>\n",
              "      <td>45.0</td>\n",
              "      <td>170.0</td>\n",
              "      <td>1.0010</td>\n",
              "      <td>3.00</td>\n",
              "      <td>0.45</td>\n",
              "      <td>8.8</td>\n",
              "      <td>6</td>\n",
              "    </tr>\n",
              "    <tr>\n",
              "      <th>1</th>\n",
              "      <td>6.3</td>\n",
              "      <td>0.30</td>\n",
              "      <td>0.34</td>\n",
              "      <td>1.6</td>\n",
              "      <td>0.049</td>\n",
              "      <td>14.0</td>\n",
              "      <td>132.0</td>\n",
              "      <td>0.9940</td>\n",
              "      <td>3.30</td>\n",
              "      <td>0.49</td>\n",
              "      <td>9.5</td>\n",
              "      <td>6</td>\n",
              "    </tr>\n",
              "    <tr>\n",
              "      <th>2</th>\n",
              "      <td>8.1</td>\n",
              "      <td>0.28</td>\n",
              "      <td>0.40</td>\n",
              "      <td>6.9</td>\n",
              "      <td>0.050</td>\n",
              "      <td>30.0</td>\n",
              "      <td>97.0</td>\n",
              "      <td>0.9951</td>\n",
              "      <td>3.26</td>\n",
              "      <td>0.44</td>\n",
              "      <td>10.1</td>\n",
              "      <td>6</td>\n",
              "    </tr>\n",
              "    <tr>\n",
              "      <th>3</th>\n",
              "      <td>7.2</td>\n",
              "      <td>0.23</td>\n",
              "      <td>0.32</td>\n",
              "      <td>8.5</td>\n",
              "      <td>0.058</td>\n",
              "      <td>47.0</td>\n",
              "      <td>186.0</td>\n",
              "      <td>0.9956</td>\n",
              "      <td>3.19</td>\n",
              "      <td>0.40</td>\n",
              "      <td>9.9</td>\n",
              "      <td>6</td>\n",
              "    </tr>\n",
              "    <tr>\n",
              "      <th>4</th>\n",
              "      <td>7.2</td>\n",
              "      <td>0.23</td>\n",
              "      <td>0.32</td>\n",
              "      <td>8.5</td>\n",
              "      <td>0.058</td>\n",
              "      <td>47.0</td>\n",
              "      <td>186.0</td>\n",
              "      <td>0.9956</td>\n",
              "      <td>3.19</td>\n",
              "      <td>0.40</td>\n",
              "      <td>9.9</td>\n",
              "      <td>6</td>\n",
              "    </tr>\n",
              "  </tbody>\n",
              "</table>\n",
              "</div>\n",
              "      <button class=\"colab-df-convert\" onclick=\"convertToInteractive('df-270524db-6e60-40a2-bd6e-d1f414398ab3')\"\n",
              "              title=\"Convert this dataframe to an interactive table.\"\n",
              "              style=\"display:none;\">\n",
              "        \n",
              "  <svg xmlns=\"http://www.w3.org/2000/svg\" height=\"24px\"viewBox=\"0 0 24 24\"\n",
              "       width=\"24px\">\n",
              "    <path d=\"M0 0h24v24H0V0z\" fill=\"none\"/>\n",
              "    <path d=\"M18.56 5.44l.94 2.06.94-2.06 2.06-.94-2.06-.94-.94-2.06-.94 2.06-2.06.94zm-11 1L8.5 8.5l.94-2.06 2.06-.94-2.06-.94L8.5 2.5l-.94 2.06-2.06.94zm10 10l.94 2.06.94-2.06 2.06-.94-2.06-.94-.94-2.06-.94 2.06-2.06.94z\"/><path d=\"M17.41 7.96l-1.37-1.37c-.4-.4-.92-.59-1.43-.59-.52 0-1.04.2-1.43.59L10.3 9.45l-7.72 7.72c-.78.78-.78 2.05 0 2.83L4 21.41c.39.39.9.59 1.41.59.51 0 1.02-.2 1.41-.59l7.78-7.78 2.81-2.81c.8-.78.8-2.07 0-2.86zM5.41 20L4 18.59l7.72-7.72 1.47 1.35L5.41 20z\"/>\n",
              "  </svg>\n",
              "      </button>\n",
              "      \n",
              "  <style>\n",
              "    .colab-df-container {\n",
              "      display:flex;\n",
              "      flex-wrap:wrap;\n",
              "      gap: 12px;\n",
              "    }\n",
              "\n",
              "    .colab-df-convert {\n",
              "      background-color: #E8F0FE;\n",
              "      border: none;\n",
              "      border-radius: 50%;\n",
              "      cursor: pointer;\n",
              "      display: none;\n",
              "      fill: #1967D2;\n",
              "      height: 32px;\n",
              "      padding: 0 0 0 0;\n",
              "      width: 32px;\n",
              "    }\n",
              "\n",
              "    .colab-df-convert:hover {\n",
              "      background-color: #E2EBFA;\n",
              "      box-shadow: 0px 1px 2px rgba(60, 64, 67, 0.3), 0px 1px 3px 1px rgba(60, 64, 67, 0.15);\n",
              "      fill: #174EA6;\n",
              "    }\n",
              "\n",
              "    [theme=dark] .colab-df-convert {\n",
              "      background-color: #3B4455;\n",
              "      fill: #D2E3FC;\n",
              "    }\n",
              "\n",
              "    [theme=dark] .colab-df-convert:hover {\n",
              "      background-color: #434B5C;\n",
              "      box-shadow: 0px 1px 3px 1px rgba(0, 0, 0, 0.15);\n",
              "      filter: drop-shadow(0px 1px 2px rgba(0, 0, 0, 0.3));\n",
              "      fill: #FFFFFF;\n",
              "    }\n",
              "  </style>\n",
              "\n",
              "      <script>\n",
              "        const buttonEl =\n",
              "          document.querySelector('#df-270524db-6e60-40a2-bd6e-d1f414398ab3 button.colab-df-convert');\n",
              "        buttonEl.style.display =\n",
              "          google.colab.kernel.accessAllowed ? 'block' : 'none';\n",
              "\n",
              "        async function convertToInteractive(key) {\n",
              "          const element = document.querySelector('#df-270524db-6e60-40a2-bd6e-d1f414398ab3');\n",
              "          const dataTable =\n",
              "            await google.colab.kernel.invokeFunction('convertToInteractive',\n",
              "                                                     [key], {});\n",
              "          if (!dataTable) return;\n",
              "\n",
              "          const docLinkHtml = 'Like what you see? Visit the ' +\n",
              "            '<a target=\"_blank\" href=https://colab.research.google.com/notebooks/data_table.ipynb>data table notebook</a>'\n",
              "            + ' to learn more about interactive tables.';\n",
              "          element.innerHTML = '';\n",
              "          dataTable['output_type'] = 'display_data';\n",
              "          await google.colab.output.renderOutput(dataTable, element);\n",
              "          const docLink = document.createElement('div');\n",
              "          docLink.innerHTML = docLinkHtml;\n",
              "          element.appendChild(docLink);\n",
              "        }\n",
              "      </script>\n",
              "    </div>\n",
              "  </div>\n",
              "  "
            ]
          },
          "metadata": {},
          "execution_count": 14
        }
      ]
    },
    {
      "cell_type": "code",
      "source": [
        "df.info()"
      ],
      "metadata": {
        "colab": {
          "base_uri": "https://localhost:8080/"
        },
        "id": "9dsMhu4xpaIo",
        "outputId": "7f4383e7-17dd-4649-c9f9-827f690e70d2"
      },
      "execution_count": null,
      "outputs": [
        {
          "output_type": "stream",
          "name": "stdout",
          "text": [
            "<class 'pandas.core.frame.DataFrame'>\n",
            "RangeIndex: 4898 entries, 0 to 4897\n",
            "Data columns (total 12 columns):\n",
            " #   Column                Non-Null Count  Dtype  \n",
            "---  ------                --------------  -----  \n",
            " 0   fixed acidity         4898 non-null   float64\n",
            " 1   volatile acidity      4898 non-null   float64\n",
            " 2   citric acid           4898 non-null   float64\n",
            " 3   residual sugar        4898 non-null   float64\n",
            " 4   chlorides             4898 non-null   float64\n",
            " 5   free sulfur dioxide   4898 non-null   float64\n",
            " 6   total sulfur dioxide  4898 non-null   float64\n",
            " 7   density               4898 non-null   float64\n",
            " 8   pH                    4898 non-null   float64\n",
            " 9   sulphates             4898 non-null   float64\n",
            " 10  alcohol               4898 non-null   float64\n",
            " 11  quality               4898 non-null   int64  \n",
            "dtypes: float64(11), int64(1)\n",
            "memory usage: 459.3 KB\n"
          ]
        }
      ]
    },
    {
      "cell_type": "markdown",
      "source": [
        "As we can see, there are 4898 records (rows) and 12 parameters (columns). Let's check for NULLs."
      ],
      "metadata": {
        "id": "KuPFivM_p3b5"
      }
    },
    {
      "cell_type": "code",
      "source": [
        "df.isnull().sum()"
      ],
      "metadata": {
        "colab": {
          "base_uri": "https://localhost:8080/"
        },
        "id": "NE1Yq10wpaxy",
        "outputId": "4ac6f65b-c88e-4351-de1c-d9cc472b8ae4"
      },
      "execution_count": null,
      "outputs": [
        {
          "output_type": "execute_result",
          "data": {
            "text/plain": [
              "fixed acidity           0\n",
              "volatile acidity        0\n",
              "citric acid             0\n",
              "residual sugar          0\n",
              "chlorides               0\n",
              "free sulfur dioxide     0\n",
              "total sulfur dioxide    0\n",
              "density                 0\n",
              "pH                      0\n",
              "sulphates               0\n",
              "alcohol                 0\n",
              "quality                 0\n",
              "dtype: int64"
            ]
          },
          "metadata": {},
          "execution_count": 9
        }
      ]
    },
    {
      "cell_type": "markdown",
      "source": [
        "No null values. I am very happy. Lets check both quality and pH for their range."
      ],
      "metadata": {
        "id": "qZp2Iw0sqZ4W"
      }
    },
    {
      "cell_type": "code",
      "source": [
        "str(sorted(df['quality'].unique()))"
      ],
      "metadata": {
        "colab": {
          "base_uri": "https://localhost:8080/",
          "height": 35
        },
        "id": "QC7hE1jaqY4x",
        "outputId": "ba4bbae9-048d-4869-ed72-2e194261840c"
      },
      "execution_count": null,
      "outputs": [
        {
          "output_type": "execute_result",
          "data": {
            "text/plain": [
              "'[3, 4, 5, 6, 7, 8, 9]'"
            ],
            "application/vnd.google.colaboratory.intrinsic+json": {
              "type": "string"
            }
          },
          "metadata": {},
          "execution_count": 10
        }
      ]
    },
    {
      "cell_type": "markdown",
      "source": [
        "No values fall below 3 or above 9"
      ],
      "metadata": {
        "id": "J_E0LWkBqtSg"
      }
    },
    {
      "cell_type": "code",
      "source": [
        "df['pH'].min()"
      ],
      "metadata": {
        "colab": {
          "base_uri": "https://localhost:8080/"
        },
        "id": "L32TL9vLqr4c",
        "outputId": "20fe527e-286f-4577-991d-9c1210f8655e"
      },
      "execution_count": null,
      "outputs": [
        {
          "output_type": "execute_result",
          "data": {
            "text/plain": [
              "2.72"
            ]
          },
          "metadata": {},
          "execution_count": 15
        }
      ]
    },
    {
      "cell_type": "code",
      "source": [
        "df['pH'].max()"
      ],
      "metadata": {
        "colab": {
          "base_uri": "https://localhost:8080/"
        },
        "id": "LIGcbRWjrCCe",
        "outputId": "a35d9854-8fab-4101-ecd1-48c572072d23"
      },
      "execution_count": null,
      "outputs": [
        {
          "output_type": "execute_result",
          "data": {
            "text/plain": [
              "3.82"
            ]
          },
          "metadata": {},
          "execution_count": 16
        }
      ]
    },
    {
      "cell_type": "markdown",
      "source": [
        "Our range within the pH column is limited to 1.1. Let's add a column explaining the quality as either being Poor or Good."
      ],
      "metadata": {
        "id": "vxrUlXAurmlD"
      }
    },
    {
      "cell_type": "code",
      "source": [
        "quality_cat=[]\n",
        "for i in df['quality']:\n",
        "  if i <= 6:\n",
        "    quality_cat.append('Poor')\n",
        "  else:\n",
        "    quality_cat.append('Good')"
      ],
      "metadata": {
        "id": "xTs8Bo6mrjfk"
      },
      "execution_count": null,
      "outputs": []
    },
    {
      "cell_type": "code",
      "source": [
        "print(quality_cat)"
      ],
      "metadata": {
        "colab": {
          "base_uri": "https://localhost:8080/"
        },
        "id": "rOM-6zDBsjOn",
        "outputId": "93efc2d9-103e-4810-a0e3-181989eac0d5"
      },
      "execution_count": null,
      "outputs": [
        {
          "output_type": "stream",
          "name": "stdout",
          "text": [
            "['Poor', 'Poor', 'Poor', 'Poor', 'Poor', 'Poor', 'Poor', 'Poor', 'Poor', 'Poor', 'Poor', 'Poor', 'Poor', 'Good', 'Poor', 'Good', 'Poor', 'Good', 'Poor', 'Poor', 'Good', 'Good', 'Good', 'Poor', 'Poor', 'Poor', 'Poor', 'Poor', 'Poor', 'Good', 'Poor', 'Poor', 'Poor', 'Poor', 'Poor', 'Poor', 'Poor', 'Poor', 'Poor', 'Poor', 'Poor', 'Poor', 'Poor', 'Poor', 'Poor', 'Good', 'Poor', 'Poor', 'Poor', 'Poor', 'Poor', 'Good', 'Good', 'Poor', 'Poor', 'Poor', 'Poor', 'Poor', 'Poor', 'Poor', 'Poor', 'Poor', 'Poor', 'Poor', 'Poor', 'Poor', 'Good', 'Poor', 'Good', 'Poor', 'Poor', 'Poor', 'Poor', 'Poor', 'Good', 'Poor', 'Good', 'Good', 'Poor', 'Poor', 'Poor', 'Poor', 'Poor', 'Poor', 'Poor', 'Poor', 'Poor', 'Poor', 'Poor', 'Poor', 'Poor', 'Poor', 'Good', 'Good', 'Good', 'Poor', 'Poor', 'Good', 'Poor', 'Poor', 'Poor', 'Poor', 'Poor', 'Poor', 'Poor', 'Poor', 'Poor', 'Poor', 'Poor', 'Poor', 'Poor', 'Poor', 'Poor', 'Poor', 'Poor', 'Poor', 'Poor', 'Poor', 'Poor', 'Poor', 'Poor', 'Poor', 'Poor', 'Poor', 'Poor', 'Poor', 'Poor', 'Good', 'Good', 'Poor', 'Poor', 'Good', 'Poor', 'Poor', 'Poor', 'Poor', 'Poor', 'Poor', 'Good', 'Poor', 'Poor', 'Poor', 'Poor', 'Poor', 'Poor', 'Poor', 'Poor', 'Poor', 'Good', 'Poor', 'Good', 'Poor', 'Poor', 'Poor', 'Poor', 'Poor', 'Poor', 'Good', 'Good', 'Good', 'Good', 'Poor', 'Poor', 'Poor', 'Poor', 'Poor', 'Poor', 'Good', 'Poor', 'Poor', 'Poor', 'Poor', 'Poor', 'Good', 'Poor', 'Poor', 'Poor', 'Poor', 'Poor', 'Poor', 'Poor', 'Poor', 'Poor', 'Poor', 'Poor', 'Poor', 'Poor', 'Poor', 'Good', 'Poor', 'Poor', 'Poor', 'Poor', 'Poor', 'Poor', 'Poor', 'Poor', 'Poor', 'Poor', 'Poor', 'Poor', 'Poor', 'Poor', 'Poor', 'Poor', 'Poor', 'Poor', 'Poor', 'Poor', 'Poor', 'Poor', 'Good', 'Poor', 'Poor', 'Good', 'Poor', 'Poor', 'Poor', 'Poor', 'Poor', 'Poor', 'Poor', 'Good', 'Poor', 'Poor', 'Poor', 'Poor', 'Poor', 'Poor', 'Poor', 'Poor', 'Poor', 'Poor', 'Poor', 'Poor', 'Poor', 'Poor', 'Poor', 'Good', 'Poor', 'Poor', 'Poor', 'Good', 'Poor', 'Poor', 'Poor', 'Good', 'Good', 'Good', 'Poor', 'Poor', 'Poor', 'Poor', 'Poor', 'Poor', 'Good', 'Good', 'Good', 'Poor', 'Poor', 'Poor', 'Poor', 'Poor', 'Poor', 'Poor', 'Poor', 'Poor', 'Poor', 'Poor', 'Poor', 'Poor', 'Poor', 'Poor', 'Poor', 'Poor', 'Poor', 'Poor', 'Poor', 'Poor', 'Good', 'Good', 'Good', 'Poor', 'Poor', 'Poor', 'Poor', 'Poor', 'Good', 'Good', 'Good', 'Good', 'Poor', 'Poor', 'Good', 'Poor', 'Poor', 'Poor', 'Good', 'Poor', 'Poor', 'Poor', 'Poor', 'Poor', 'Poor', 'Poor', 'Poor', 'Poor', 'Poor', 'Good', 'Poor', 'Good', 'Good', 'Poor', 'Poor', 'Poor', 'Poor', 'Poor', 'Poor', 'Good', 'Poor', 'Good', 'Poor', 'Poor', 'Poor', 'Poor', 'Poor', 'Poor', 'Poor', 'Poor', 'Poor', 'Good', 'Poor', 'Poor', 'Poor', 'Poor', 'Poor', 'Poor', 'Poor', 'Poor', 'Good', 'Good', 'Poor', 'Poor', 'Poor', 'Poor', 'Poor', 'Good', 'Poor', 'Poor', 'Poor', 'Good', 'Good', 'Poor', 'Good', 'Poor', 'Poor', 'Poor', 'Poor', 'Poor', 'Poor', 'Poor', 'Poor', 'Poor', 'Poor', 'Good', 'Good', 'Poor', 'Poor', 'Poor', 'Poor', 'Poor', 'Poor', 'Poor', 'Poor', 'Good', 'Good', 'Good', 'Good', 'Poor', 'Good', 'Good', 'Poor', 'Poor', 'Poor', 'Good', 'Good', 'Good', 'Poor', 'Poor', 'Good', 'Good', 'Poor', 'Poor', 'Poor', 'Poor', 'Poor', 'Poor', 'Poor', 'Poor', 'Poor', 'Poor', 'Poor', 'Poor', 'Poor', 'Poor', 'Poor', 'Good', 'Poor', 'Poor', 'Poor', 'Poor', 'Poor', 'Poor', 'Poor', 'Poor', 'Poor', 'Poor', 'Poor', 'Poor', 'Poor', 'Good', 'Poor', 'Poor', 'Poor', 'Good', 'Poor', 'Poor', 'Poor', 'Poor', 'Poor', 'Poor', 'Poor', 'Good', 'Poor', 'Good', 'Good', 'Poor', 'Good', 'Good', 'Poor', 'Good', 'Poor', 'Good', 'Poor', 'Poor', 'Poor', 'Poor', 'Poor', 'Poor', 'Good', 'Poor', 'Poor', 'Good', 'Good', 'Good', 'Poor', 'Good', 'Poor', 'Poor', 'Poor', 'Poor', 'Poor', 'Poor', 'Poor', 'Poor', 'Poor', 'Poor', 'Poor', 'Poor', 'Poor', 'Poor', 'Poor', 'Poor', 'Good', 'Poor', 'Poor', 'Good', 'Poor', 'Poor', 'Poor', 'Poor', 'Poor', 'Poor', 'Poor', 'Poor', 'Poor', 'Poor', 'Poor', 'Poor', 'Poor', 'Poor', 'Good', 'Poor', 'Poor', 'Poor', 'Poor', 'Poor', 'Poor', 'Poor', 'Poor', 'Poor', 'Poor', 'Poor', 'Poor', 'Poor', 'Poor', 'Poor', 'Good', 'Poor', 'Good', 'Poor', 'Poor', 'Poor', 'Poor', 'Good', 'Poor', 'Poor', 'Poor', 'Poor', 'Poor', 'Poor', 'Poor', 'Poor', 'Poor', 'Poor', 'Poor', 'Poor', 'Poor', 'Poor', 'Poor', 'Poor', 'Poor', 'Poor', 'Poor', 'Poor', 'Poor', 'Poor', 'Poor', 'Poor', 'Poor', 'Poor', 'Poor', 'Poor', 'Poor', 'Poor', 'Poor', 'Poor', 'Poor', 'Good', 'Poor', 'Good', 'Good', 'Good', 'Good', 'Good', 'Good', 'Poor', 'Poor', 'Poor', 'Poor', 'Good', 'Poor', 'Poor', 'Good', 'Poor', 'Poor', 'Poor', 'Poor', 'Poor', 'Poor', 'Poor', 'Good', 'Poor', 'Good', 'Good', 'Poor', 'Poor', 'Good', 'Good', 'Good', 'Poor', 'Poor', 'Poor', 'Poor', 'Good', 'Poor', 'Poor', 'Good', 'Good', 'Poor', 'Poor', 'Poor', 'Poor', 'Poor', 'Poor', 'Good', 'Poor', 'Poor', 'Good', 'Good', 'Poor', 'Poor', 'Poor', 'Poor', 'Poor', 'Poor', 'Poor', 'Poor', 'Poor', 'Poor', 'Good', 'Poor', 'Poor', 'Poor', 'Poor', 'Poor', 'Good', 'Poor', 'Poor', 'Poor', 'Poor', 'Poor', 'Poor', 'Poor', 'Poor', 'Good', 'Poor', 'Poor', 'Poor', 'Poor', 'Poor', 'Poor', 'Poor', 'Poor', 'Poor', 'Poor', 'Good', 'Poor', 'Poor', 'Poor', 'Good', 'Poor', 'Poor', 'Poor', 'Poor', 'Poor', 'Poor', 'Poor', 'Poor', 'Good', 'Good', 'Good', 'Good', 'Poor', 'Good', 'Poor', 'Poor', 'Poor', 'Poor', 'Poor', 'Poor', 'Good', 'Poor', 'Poor', 'Poor', 'Poor', 'Poor', 'Poor', 'Poor', 'Poor', 'Poor', 'Poor', 'Good', 'Poor', 'Poor', 'Poor', 'Poor', 'Good', 'Good', 'Good', 'Poor', 'Poor', 'Poor', 'Poor', 'Poor', 'Poor', 'Good', 'Poor', 'Poor', 'Good', 'Poor', 'Poor', 'Poor', 'Poor', 'Poor', 'Poor', 'Poor', 'Poor', 'Poor', 'Poor', 'Poor', 'Good', 'Poor', 'Poor', 'Poor', 'Poor', 'Poor', 'Poor', 'Poor', 'Poor', 'Poor', 'Poor', 'Poor', 'Poor', 'Poor', 'Good', 'Poor', 'Poor', 'Good', 'Good', 'Poor', 'Poor', 'Poor', 'Good', 'Good', 'Poor', 'Good', 'Poor', 'Poor', 'Poor', 'Poor', 'Poor', 'Good', 'Poor', 'Poor', 'Poor', 'Poor', 'Poor', 'Good', 'Poor', 'Poor', 'Poor', 'Poor', 'Poor', 'Poor', 'Poor', 'Poor', 'Poor', 'Poor', 'Poor', 'Poor', 'Poor', 'Poor', 'Poor', 'Poor', 'Good', 'Poor', 'Poor', 'Good', 'Good', 'Poor', 'Poor', 'Poor', 'Poor', 'Poor', 'Poor', 'Poor', 'Poor', 'Good', 'Good', 'Good', 'Good', 'Good', 'Poor', 'Good', 'Poor', 'Poor', 'Poor', 'Good', 'Good', 'Poor', 'Poor', 'Good', 'Good', 'Poor', 'Poor', 'Poor', 'Poor', 'Good', 'Poor', 'Poor', 'Good', 'Poor', 'Good', 'Poor', 'Poor', 'Poor', 'Poor', 'Poor', 'Good', 'Poor', 'Poor', 'Poor', 'Good', 'Poor', 'Poor', 'Poor', 'Poor', 'Poor', 'Poor', 'Poor', 'Poor', 'Good', 'Poor', 'Poor', 'Poor', 'Poor', 'Poor', 'Poor', 'Poor', 'Good', 'Poor', 'Poor', 'Poor', 'Poor', 'Poor', 'Poor', 'Good', 'Good', 'Good', 'Poor', 'Poor', 'Good', 'Poor', 'Poor', 'Good', 'Good', 'Good', 'Good', 'Good', 'Good', 'Good', 'Good', 'Good', 'Good', 'Good', 'Poor', 'Poor', 'Good', 'Poor', 'Good', 'Poor', 'Good', 'Poor', 'Good', 'Good', 'Poor', 'Poor', 'Good', 'Poor', 'Good', 'Good', 'Poor', 'Poor', 'Poor', 'Poor', 'Good', 'Good', 'Good', 'Poor', 'Poor', 'Poor', 'Poor', 'Poor', 'Poor', 'Good', 'Good', 'Poor', 'Poor', 'Good', 'Good', 'Poor', 'Poor', 'Poor', 'Poor', 'Good', 'Poor', 'Good', 'Poor', 'Good', 'Poor', 'Good', 'Poor', 'Good', 'Good', 'Poor', 'Poor', 'Poor', 'Poor', 'Poor', 'Good', 'Poor', 'Poor', 'Poor', 'Good', 'Poor', 'Poor', 'Good', 'Poor', 'Poor', 'Poor', 'Poor', 'Poor', 'Poor', 'Poor', 'Poor', 'Good', 'Poor', 'Poor', 'Good', 'Good', 'Poor', 'Poor', 'Poor', 'Good', 'Poor', 'Poor', 'Good', 'Poor', 'Poor', 'Good', 'Poor', 'Poor', 'Poor', 'Poor', 'Poor', 'Poor', 'Poor', 'Poor', 'Good', 'Poor', 'Poor', 'Good', 'Good', 'Good', 'Good', 'Poor', 'Poor', 'Poor', 'Poor', 'Poor', 'Poor', 'Poor', 'Poor', 'Poor', 'Poor', 'Poor', 'Good', 'Good', 'Poor', 'Poor', 'Good', 'Poor', 'Poor', 'Poor', 'Poor', 'Poor', 'Poor', 'Good', 'Good', 'Good', 'Good', 'Poor', 'Good', 'Poor', 'Poor', 'Poor', 'Poor', 'Good', 'Poor', 'Poor', 'Good', 'Poor', 'Poor', 'Poor', 'Poor', 'Poor', 'Poor', 'Poor', 'Good', 'Poor', 'Poor', 'Poor', 'Poor', 'Poor', 'Poor', 'Poor', 'Poor', 'Poor', 'Good', 'Good', 'Poor', 'Poor', 'Good', 'Poor', 'Poor', 'Poor', 'Poor', 'Good', 'Poor', 'Poor', 'Good', 'Poor', 'Poor', 'Poor', 'Poor', 'Poor', 'Poor', 'Poor', 'Poor', 'Good', 'Good', 'Good', 'Poor', 'Poor', 'Poor', 'Poor', 'Poor', 'Good', 'Poor', 'Poor', 'Poor', 'Poor', 'Poor', 'Poor', 'Poor', 'Poor', 'Poor', 'Good', 'Poor', 'Poor', 'Poor', 'Poor', 'Poor', 'Good', 'Poor', 'Poor', 'Poor', 'Poor', 'Poor', 'Poor', 'Poor', 'Poor', 'Poor', 'Poor', 'Poor', 'Poor', 'Poor', 'Poor', 'Poor', 'Good', 'Poor', 'Poor', 'Poor', 'Poor', 'Poor', 'Poor', 'Good', 'Good', 'Poor', 'Good', 'Poor', 'Good', 'Poor', 'Poor', 'Good', 'Poor', 'Poor', 'Poor', 'Poor', 'Good', 'Poor', 'Poor', 'Poor', 'Good', 'Poor', 'Good', 'Good', 'Poor', 'Good', 'Poor', 'Poor', 'Poor', 'Good', 'Poor', 'Good', 'Poor', 'Good', 'Poor', 'Good', 'Poor', 'Poor', 'Poor', 'Poor', 'Poor', 'Good', 'Good', 'Good', 'Good', 'Poor', 'Good', 'Poor', 'Poor', 'Poor', 'Poor', 'Good', 'Poor', 'Poor', 'Poor', 'Poor', 'Poor', 'Poor', 'Good', 'Poor', 'Poor', 'Poor', 'Good', 'Good', 'Poor', 'Good', 'Poor', 'Poor', 'Poor', 'Poor', 'Poor', 'Poor', 'Good', 'Good', 'Poor', 'Poor', 'Poor', 'Poor', 'Poor', 'Poor', 'Poor', 'Poor', 'Poor', 'Poor', 'Poor', 'Poor', 'Poor', 'Poor', 'Poor', 'Poor', 'Poor', 'Poor', 'Poor', 'Poor', 'Poor', 'Poor', 'Poor', 'Poor', 'Good', 'Poor', 'Poor', 'Poor', 'Poor', 'Poor', 'Poor', 'Poor', 'Poor', 'Poor', 'Poor', 'Poor', 'Poor', 'Poor', 'Good', 'Poor', 'Poor', 'Poor', 'Poor', 'Poor', 'Poor', 'Poor', 'Good', 'Poor', 'Poor', 'Good', 'Poor', 'Poor', 'Poor', 'Good', 'Poor', 'Good', 'Poor', 'Poor', 'Good', 'Good', 'Poor', 'Good', 'Poor', 'Good', 'Poor', 'Poor', 'Poor', 'Poor', 'Poor', 'Poor', 'Poor', 'Poor', 'Poor', 'Poor', 'Poor', 'Poor', 'Poor', 'Poor', 'Good', 'Poor', 'Good', 'Good', 'Poor', 'Good', 'Poor', 'Poor', 'Good', 'Poor', 'Good', 'Poor', 'Poor', 'Poor', 'Poor', 'Good', 'Good', 'Poor', 'Poor', 'Poor', 'Poor', 'Poor', 'Good', 'Poor', 'Poor', 'Good', 'Good', 'Good', 'Poor', 'Poor', 'Good', 'Poor', 'Good', 'Poor', 'Good', 'Poor', 'Poor', 'Good', 'Poor', 'Poor', 'Poor', 'Poor', 'Poor', 'Poor', 'Poor', 'Poor', 'Poor', 'Poor', 'Poor', 'Good', 'Good', 'Good', 'Poor', 'Poor', 'Good', 'Poor', 'Poor', 'Poor', 'Poor', 'Poor', 'Good', 'Poor', 'Poor', 'Poor', 'Poor', 'Good', 'Poor', 'Good', 'Good', 'Poor', 'Good', 'Good', 'Good', 'Poor', 'Poor', 'Poor', 'Poor', 'Poor', 'Poor', 'Poor', 'Poor', 'Good', 'Poor', 'Poor', 'Poor', 'Poor', 'Poor', 'Poor', 'Poor', 'Good', 'Good', 'Poor', 'Poor', 'Poor', 'Poor', 'Poor', 'Poor', 'Poor', 'Poor', 'Poor', 'Poor', 'Poor', 'Poor', 'Poor', 'Poor', 'Poor', 'Poor', 'Poor', 'Poor', 'Good', 'Poor', 'Poor', 'Poor', 'Poor', 'Poor', 'Poor', 'Good', 'Good', 'Poor', 'Poor', 'Good', 'Poor', 'Poor', 'Poor', 'Poor', 'Poor', 'Poor', 'Poor', 'Good', 'Good', 'Good', 'Good', 'Good', 'Poor', 'Good', 'Good', 'Poor', 'Poor', 'Poor', 'Poor', 'Poor', 'Poor', 'Good', 'Good', 'Poor', 'Good', 'Good', 'Poor', 'Poor', 'Good', 'Poor', 'Poor', 'Poor', 'Poor', 'Poor', 'Good', 'Poor', 'Poor', 'Good', 'Good', 'Poor', 'Poor', 'Good', 'Poor', 'Good', 'Good', 'Poor', 'Poor', 'Poor', 'Poor', 'Good', 'Poor', 'Good', 'Poor', 'Poor', 'Poor', 'Poor', 'Poor', 'Good', 'Good', 'Good', 'Good', 'Good', 'Poor', 'Good', 'Poor', 'Good', 'Good', 'Poor', 'Poor', 'Good', 'Poor', 'Good', 'Poor', 'Poor', 'Poor', 'Good', 'Poor', 'Poor', 'Poor', 'Poor', 'Poor', 'Poor', 'Good', 'Poor', 'Poor', 'Poor', 'Poor', 'Poor', 'Poor', 'Poor', 'Poor', 'Good', 'Poor', 'Poor', 'Poor', 'Good', 'Poor', 'Poor', 'Poor', 'Poor', 'Good', 'Poor', 'Poor', 'Poor', 'Poor', 'Poor', 'Poor', 'Poor', 'Poor', 'Poor', 'Poor', 'Poor', 'Poor', 'Poor', 'Poor', 'Poor', 'Good', 'Poor', 'Poor', 'Poor', 'Poor', 'Poor', 'Poor', 'Poor', 'Poor', 'Poor', 'Poor', 'Good', 'Poor', 'Poor', 'Good', 'Poor', 'Poor', 'Good', 'Poor', 'Poor', 'Poor', 'Poor', 'Poor', 'Poor', 'Poor', 'Poor', 'Poor', 'Poor', 'Poor', 'Poor', 'Poor', 'Poor', 'Poor', 'Poor', 'Poor', 'Poor', 'Poor', 'Poor', 'Poor', 'Poor', 'Good', 'Good', 'Good', 'Poor', 'Good', 'Poor', 'Poor', 'Good', 'Poor', 'Poor', 'Good', 'Good', 'Good', 'Poor', 'Poor', 'Poor', 'Poor', 'Poor', 'Poor', 'Good', 'Poor', 'Good', 'Poor', 'Poor', 'Poor', 'Poor', 'Poor', 'Poor', 'Poor', 'Poor', 'Poor', 'Poor', 'Poor', 'Poor', 'Poor', 'Poor', 'Poor', 'Poor', 'Good', 'Good', 'Poor', 'Poor', 'Poor', 'Poor', 'Poor', 'Poor', 'Poor', 'Poor', 'Poor', 'Poor', 'Poor', 'Poor', 'Poor', 'Poor', 'Poor', 'Poor', 'Poor', 'Poor', 'Poor', 'Good', 'Good', 'Good', 'Good', 'Poor', 'Poor', 'Poor', 'Poor', 'Poor', 'Poor', 'Good', 'Poor', 'Poor', 'Poor', 'Poor', 'Poor', 'Poor', 'Poor', 'Poor', 'Poor', 'Poor', 'Poor', 'Poor', 'Poor', 'Poor', 'Poor', 'Poor', 'Poor', 'Poor', 'Poor', 'Good', 'Poor', 'Poor', 'Poor', 'Poor', 'Poor', 'Poor', 'Poor', 'Poor', 'Poor', 'Poor', 'Poor', 'Poor', 'Poor', 'Poor', 'Poor', 'Poor', 'Poor', 'Poor', 'Poor', 'Poor', 'Good', 'Poor', 'Good', 'Poor', 'Good', 'Poor', 'Good', 'Poor', 'Poor', 'Good', 'Good', 'Poor', 'Poor', 'Poor', 'Poor', 'Poor', 'Good', 'Good', 'Poor', 'Poor', 'Poor', 'Good', 'Poor', 'Poor', 'Poor', 'Poor', 'Poor', 'Poor', 'Poor', 'Good', 'Good', 'Poor', 'Poor', 'Poor', 'Poor', 'Poor', 'Poor', 'Poor', 'Poor', 'Good', 'Good', 'Good', 'Good', 'Poor', 'Good', 'Poor', 'Poor', 'Good', 'Poor', 'Poor', 'Poor', 'Poor', 'Poor', 'Poor', 'Poor', 'Poor', 'Poor', 'Poor', 'Poor', 'Good', 'Poor', 'Poor', 'Good', 'Poor', 'Poor', 'Good', 'Poor', 'Poor', 'Good', 'Poor', 'Poor', 'Poor', 'Poor', 'Good', 'Poor', 'Poor', 'Poor', 'Poor', 'Poor', 'Good', 'Good', 'Good', 'Good', 'Poor', 'Good', 'Poor', 'Poor', 'Poor', 'Good', 'Poor', 'Poor', 'Poor', 'Poor', 'Poor', 'Poor', 'Poor', 'Poor', 'Poor', 'Poor', 'Poor', 'Poor', 'Poor', 'Poor', 'Poor', 'Poor', 'Poor', 'Poor', 'Poor', 'Poor', 'Poor', 'Poor', 'Poor', 'Good', 'Poor', 'Poor', 'Poor', 'Poor', 'Good', 'Good', 'Poor', 'Good', 'Poor', 'Poor', 'Poor', 'Poor', 'Poor', 'Poor', 'Poor', 'Poor', 'Poor', 'Poor', 'Poor', 'Poor', 'Poor', 'Poor', 'Poor', 'Poor', 'Poor', 'Poor', 'Poor', 'Poor', 'Poor', 'Poor', 'Poor', 'Poor', 'Poor', 'Poor', 'Poor', 'Good', 'Poor', 'Good', 'Poor', 'Poor', 'Poor', 'Poor', 'Poor', 'Poor', 'Poor', 'Poor', 'Good', 'Poor', 'Poor', 'Poor', 'Poor', 'Poor', 'Poor', 'Good', 'Poor', 'Poor', 'Poor', 'Poor', 'Poor', 'Poor', 'Poor', 'Poor', 'Good', 'Good', 'Poor', 'Poor', 'Poor', 'Poor', 'Good', 'Poor', 'Good', 'Good', 'Poor', 'Good', 'Poor', 'Poor', 'Poor', 'Poor', 'Poor', 'Poor', 'Poor', 'Good', 'Poor', 'Poor', 'Poor', 'Poor', 'Poor', 'Poor', 'Poor', 'Poor', 'Poor', 'Poor', 'Poor', 'Poor', 'Poor', 'Poor', 'Poor', 'Poor', 'Good', 'Poor', 'Good', 'Poor', 'Poor', 'Poor', 'Poor', 'Poor', 'Good', 'Poor', 'Poor', 'Poor', 'Poor', 'Poor', 'Poor', 'Good', 'Good', 'Good', 'Good', 'Good', 'Poor', 'Poor', 'Poor', 'Good', 'Poor', 'Poor', 'Poor', 'Good', 'Poor', 'Poor', 'Poor', 'Poor', 'Poor', 'Poor', 'Poor', 'Poor', 'Good', 'Poor', 'Good', 'Poor', 'Good', 'Poor', 'Poor', 'Poor', 'Poor', 'Poor', 'Poor', 'Poor', 'Good', 'Poor', 'Poor', 'Poor', 'Poor', 'Poor', 'Good', 'Good', 'Poor', 'Poor', 'Poor', 'Poor', 'Poor', 'Poor', 'Poor', 'Poor', 'Poor', 'Poor', 'Poor', 'Poor', 'Poor', 'Poor', 'Poor', 'Poor', 'Poor', 'Poor', 'Poor', 'Poor', 'Poor', 'Poor', 'Poor', 'Poor', 'Poor', 'Poor', 'Poor', 'Poor', 'Poor', 'Good', 'Poor', 'Poor', 'Poor', 'Poor', 'Poor', 'Poor', 'Poor', 'Good', 'Good', 'Poor', 'Poor', 'Poor', 'Poor', 'Poor', 'Poor', 'Good', 'Poor', 'Poor', 'Poor', 'Poor', 'Good', 'Poor', 'Poor', 'Poor', 'Poor', 'Poor', 'Poor', 'Poor', 'Poor', 'Poor', 'Poor', 'Poor', 'Poor', 'Poor', 'Poor', 'Poor', 'Poor', 'Good', 'Poor', 'Poor', 'Poor', 'Poor', 'Poor', 'Poor', 'Poor', 'Poor', 'Poor', 'Poor', 'Good', 'Poor', 'Poor', 'Poor', 'Good', 'Poor', 'Poor', 'Poor', 'Poor', 'Poor', 'Poor', 'Poor', 'Poor', 'Poor', 'Poor', 'Poor', 'Poor', 'Poor', 'Poor', 'Good', 'Poor', 'Good', 'Poor', 'Good', 'Poor', 'Poor', 'Poor', 'Poor', 'Poor', 'Poor', 'Poor', 'Poor', 'Good', 'Good', 'Good', 'Good', 'Good', 'Poor', 'Poor', 'Poor', 'Poor', 'Good', 'Poor', 'Good', 'Poor', 'Poor', 'Poor', 'Poor', 'Poor', 'Poor', 'Poor', 'Poor', 'Poor', 'Poor', 'Poor', 'Poor', 'Poor', 'Poor', 'Poor', 'Poor', 'Poor', 'Good', 'Poor', 'Poor', 'Poor', 'Poor', 'Poor', 'Poor', 'Good', 'Poor', 'Good', 'Poor', 'Poor', 'Poor', 'Poor', 'Poor', 'Poor', 'Poor', 'Poor', 'Poor', 'Poor', 'Poor', 'Poor', 'Poor', 'Poor', 'Poor', 'Poor', 'Poor', 'Poor', 'Poor', 'Poor', 'Poor', 'Poor', 'Poor', 'Poor', 'Poor', 'Poor', 'Poor', 'Poor', 'Poor', 'Poor', 'Good', 'Poor', 'Poor', 'Poor', 'Poor', 'Poor', 'Poor', 'Poor', 'Good', 'Poor', 'Poor', 'Poor', 'Poor', 'Poor', 'Poor', 'Poor', 'Poor', 'Poor', 'Poor', 'Poor', 'Good', 'Poor', 'Poor', 'Poor', 'Poor', 'Poor', 'Poor', 'Poor', 'Poor', 'Poor', 'Poor', 'Poor', 'Poor', 'Poor', 'Poor', 'Poor', 'Poor', 'Poor', 'Poor', 'Poor', 'Poor', 'Poor', 'Poor', 'Poor', 'Poor', 'Poor', 'Poor', 'Poor', 'Poor', 'Poor', 'Poor', 'Poor', 'Poor', 'Poor', 'Poor', 'Poor', 'Poor', 'Poor', 'Poor', 'Poor', 'Poor', 'Poor', 'Poor', 'Poor', 'Poor', 'Poor', 'Poor', 'Poor', 'Poor', 'Poor', 'Poor', 'Poor', 'Good', 'Poor', 'Poor', 'Good', 'Poor', 'Poor', 'Poor', 'Poor', 'Poor', 'Poor', 'Poor', 'Poor', 'Poor', 'Poor', 'Poor', 'Poor', 'Poor', 'Poor', 'Poor', 'Poor', 'Poor', 'Poor', 'Good', 'Poor', 'Poor', 'Poor', 'Poor', 'Poor', 'Poor', 'Poor', 'Poor', 'Poor', 'Poor', 'Poor', 'Poor', 'Poor', 'Poor', 'Poor', 'Poor', 'Poor', 'Good', 'Poor', 'Poor', 'Poor', 'Poor', 'Poor', 'Good', 'Good', 'Good', 'Good', 'Good', 'Poor', 'Poor', 'Good', 'Good', 'Poor', 'Good', 'Poor', 'Poor', 'Poor', 'Poor', 'Poor', 'Poor', 'Poor', 'Good', 'Poor', 'Poor', 'Poor', 'Poor', 'Poor', 'Poor', 'Poor', 'Poor', 'Poor', 'Poor', 'Poor', 'Poor', 'Poor', 'Poor', 'Poor', 'Poor', 'Poor', 'Poor', 'Poor', 'Poor', 'Poor', 'Good', 'Poor', 'Poor', 'Good', 'Poor', 'Poor', 'Poor', 'Poor', 'Poor', 'Poor', 'Poor', 'Poor', 'Good', 'Poor', 'Poor', 'Good', 'Poor', 'Good', 'Poor', 'Poor', 'Poor', 'Good', 'Poor', 'Good', 'Poor', 'Poor', 'Poor', 'Poor', 'Poor', 'Poor', 'Poor', 'Poor', 'Poor', 'Poor', 'Poor', 'Poor', 'Poor', 'Poor', 'Good', 'Poor', 'Poor', 'Poor', 'Poor', 'Poor', 'Good', 'Poor', 'Poor', 'Poor', 'Poor', 'Poor', 'Poor', 'Poor', 'Poor', 'Poor', 'Poor', 'Poor', 'Poor', 'Poor', 'Poor', 'Poor', 'Poor', 'Poor', 'Poor', 'Good', 'Poor', 'Poor', 'Poor', 'Good', 'Poor', 'Poor', 'Poor', 'Poor', 'Poor', 'Poor', 'Poor', 'Poor', 'Poor', 'Poor', 'Poor', 'Poor', 'Poor', 'Poor', 'Good', 'Good', 'Poor', 'Poor', 'Good', 'Good', 'Poor', 'Good', 'Poor', 'Good', 'Good', 'Good', 'Poor', 'Poor', 'Poor', 'Poor', 'Good', 'Poor', 'Poor', 'Poor', 'Poor', 'Poor', 'Good', 'Poor', 'Good', 'Poor', 'Poor', 'Good', 'Poor', 'Poor', 'Good', 'Poor', 'Poor', 'Poor', 'Poor', 'Poor', 'Poor', 'Poor', 'Poor', 'Poor', 'Poor', 'Poor', 'Poor', 'Poor', 'Good', 'Poor', 'Poor', 'Poor', 'Poor', 'Poor', 'Poor', 'Poor', 'Poor', 'Good', 'Poor', 'Poor', 'Poor', 'Poor', 'Poor', 'Poor', 'Poor', 'Poor', 'Poor', 'Poor', 'Good', 'Poor', 'Good', 'Poor', 'Poor', 'Poor', 'Poor', 'Poor', 'Poor', 'Poor', 'Poor', 'Poor', 'Poor', 'Poor', 'Poor', 'Poor', 'Poor', 'Good', 'Poor', 'Poor', 'Poor', 'Poor', 'Poor', 'Poor', 'Poor', 'Poor', 'Poor', 'Poor', 'Poor', 'Good', 'Poor', 'Good', 'Poor', 'Poor', 'Poor', 'Poor', 'Good', 'Good', 'Poor', 'Good', 'Poor', 'Poor', 'Poor', 'Poor', 'Poor', 'Poor', 'Poor', 'Poor', 'Poor', 'Poor', 'Poor', 'Poor', 'Poor', 'Poor', 'Poor', 'Poor', 'Poor', 'Poor', 'Poor', 'Poor', 'Poor', 'Poor', 'Poor', 'Poor', 'Poor', 'Poor', 'Poor', 'Good', 'Poor', 'Poor', 'Poor', 'Poor', 'Poor', 'Poor', 'Poor', 'Poor', 'Poor', 'Poor', 'Poor', 'Poor', 'Poor', 'Poor', 'Poor', 'Poor', 'Poor', 'Poor', 'Poor', 'Poor', 'Poor', 'Poor', 'Poor', 'Poor', 'Poor', 'Poor', 'Poor', 'Poor', 'Poor', 'Poor', 'Poor', 'Good', 'Poor', 'Poor', 'Poor', 'Poor', 'Poor', 'Poor', 'Poor', 'Poor', 'Poor', 'Poor', 'Good', 'Poor', 'Poor', 'Poor', 'Poor', 'Poor', 'Poor', 'Poor', 'Good', 'Poor', 'Poor', 'Good', 'Poor', 'Poor', 'Good', 'Poor', 'Poor', 'Poor', 'Poor', 'Poor', 'Poor', 'Poor', 'Poor', 'Poor', 'Poor', 'Poor', 'Poor', 'Poor', 'Poor', 'Poor', 'Poor', 'Poor', 'Poor', 'Poor', 'Poor', 'Poor', 'Poor', 'Poor', 'Poor', 'Poor', 'Poor', 'Poor', 'Poor', 'Poor', 'Good', 'Poor', 'Poor', 'Poor', 'Poor', 'Poor', 'Poor', 'Good', 'Good', 'Poor', 'Poor', 'Good', 'Poor', 'Poor', 'Good', 'Good', 'Poor', 'Poor', 'Good', 'Good', 'Poor', 'Poor', 'Poor', 'Poor', 'Poor', 'Poor', 'Poor', 'Good', 'Poor', 'Poor', 'Poor', 'Poor', 'Poor', 'Poor', 'Poor', 'Poor', 'Poor', 'Poor', 'Poor', 'Poor', 'Poor', 'Poor', 'Poor', 'Poor', 'Poor', 'Poor', 'Good', 'Good', 'Good', 'Poor', 'Good', 'Good', 'Poor', 'Poor', 'Poor', 'Poor', 'Poor', 'Poor', 'Poor', 'Good', 'Poor', 'Poor', 'Poor', 'Poor', 'Poor', 'Poor', 'Poor', 'Poor', 'Poor', 'Poor', 'Poor', 'Good', 'Poor', 'Poor', 'Good', 'Good', 'Good', 'Good', 'Good', 'Good', 'Poor', 'Good', 'Poor', 'Poor', 'Good', 'Poor', 'Poor', 'Good', 'Poor', 'Poor', 'Poor', 'Poor', 'Poor', 'Good', 'Poor', 'Poor', 'Good', 'Good', 'Poor', 'Poor', 'Poor', 'Poor', 'Poor', 'Poor', 'Poor', 'Good', 'Poor', 'Poor', 'Good', 'Good', 'Good', 'Good', 'Poor', 'Poor', 'Poor', 'Good', 'Good', 'Poor', 'Poor', 'Good', 'Good', 'Poor', 'Poor', 'Poor', 'Good', 'Poor', 'Poor', 'Poor', 'Poor', 'Poor', 'Poor', 'Poor', 'Poor', 'Poor', 'Poor', 'Poor', 'Poor', 'Poor', 'Good', 'Good', 'Poor', 'Poor', 'Poor', 'Poor', 'Poor', 'Good', 'Poor', 'Poor', 'Poor', 'Poor', 'Good', 'Good', 'Poor', 'Poor', 'Poor', 'Poor', 'Good', 'Good', 'Poor', 'Good', 'Good', 'Poor', 'Poor', 'Good', 'Good', 'Good', 'Poor', 'Good', 'Good', 'Poor', 'Poor', 'Poor', 'Poor', 'Poor', 'Poor', 'Poor', 'Poor', 'Poor', 'Good', 'Poor', 'Poor', 'Poor', 'Poor', 'Poor', 'Poor', 'Poor', 'Poor', 'Poor', 'Poor', 'Poor', 'Poor', 'Poor', 'Poor', 'Good', 'Poor', 'Poor', 'Poor', 'Poor', 'Poor', 'Poor', 'Poor', 'Poor', 'Poor', 'Poor', 'Poor', 'Poor', 'Poor', 'Poor', 'Poor', 'Poor', 'Poor', 'Poor', 'Poor', 'Good', 'Poor', 'Good', 'Poor', 'Poor', 'Poor', 'Poor', 'Poor', 'Poor', 'Good', 'Poor', 'Poor', 'Poor', 'Good', 'Poor', 'Poor', 'Poor', 'Good', 'Poor', 'Good', 'Poor', 'Poor', 'Poor', 'Poor', 'Poor', 'Good', 'Poor', 'Poor', 'Good', 'Poor', 'Good', 'Poor', 'Poor', 'Good', 'Poor', 'Poor', 'Poor', 'Poor', 'Poor', 'Poor', 'Poor', 'Poor', 'Poor', 'Poor', 'Poor', 'Poor', 'Poor', 'Poor', 'Poor', 'Poor', 'Good', 'Poor', 'Good', 'Good', 'Good', 'Good', 'Good', 'Poor', 'Good', 'Poor', 'Poor', 'Poor', 'Poor', 'Poor', 'Poor', 'Poor', 'Poor', 'Poor', 'Poor', 'Poor', 'Poor', 'Poor', 'Poor', 'Good', 'Poor', 'Good', 'Good', 'Poor', 'Good', 'Good', 'Poor', 'Poor', 'Poor', 'Good', 'Good', 'Poor', 'Poor', 'Poor', 'Poor', 'Good', 'Good', 'Poor', 'Poor', 'Good', 'Good', 'Poor', 'Poor', 'Good', 'Poor', 'Poor', 'Poor', 'Poor', 'Poor', 'Poor', 'Poor', 'Poor', 'Poor', 'Good', 'Good', 'Poor', 'Poor', 'Poor', 'Poor', 'Good', 'Poor', 'Poor', 'Poor', 'Poor', 'Good', 'Good', 'Poor', 'Poor', 'Poor', 'Poor', 'Poor', 'Good', 'Good', 'Poor', 'Poor', 'Poor', 'Poor', 'Poor', 'Poor', 'Poor', 'Poor', 'Good', 'Good', 'Good', 'Good', 'Poor', 'Poor', 'Poor', 'Poor', 'Poor', 'Poor', 'Poor', 'Good', 'Good', 'Poor', 'Poor', 'Good', 'Poor', 'Good', 'Good', 'Good', 'Poor', 'Poor', 'Poor', 'Poor', 'Poor', 'Poor', 'Good', 'Poor', 'Good', 'Good', 'Poor', 'Poor', 'Poor', 'Poor', 'Poor', 'Good', 'Poor', 'Poor', 'Good', 'Good', 'Poor', 'Poor', 'Poor', 'Poor', 'Poor', 'Poor', 'Good', 'Poor', 'Poor', 'Good', 'Poor', 'Poor', 'Poor', 'Poor', 'Poor', 'Poor', 'Poor', 'Good', 'Poor', 'Poor', 'Poor', 'Poor', 'Good', 'Poor', 'Poor', 'Poor', 'Poor', 'Good', 'Poor', 'Poor', 'Poor', 'Good', 'Good', 'Good', 'Poor', 'Good', 'Good', 'Poor', 'Poor', 'Poor', 'Poor', 'Poor', 'Poor', 'Good', 'Good', 'Poor', 'Poor', 'Poor', 'Good', 'Poor', 'Good', 'Poor', 'Poor', 'Poor', 'Poor', 'Poor', 'Poor', 'Poor', 'Poor', 'Good', 'Poor', 'Poor', 'Poor', 'Poor', 'Good', 'Good', 'Poor', 'Poor', 'Good', 'Poor', 'Good', 'Poor', 'Poor', 'Poor', 'Poor', 'Poor', 'Poor', 'Poor', 'Poor', 'Poor', 'Poor', 'Poor', 'Poor', 'Poor', 'Good', 'Good', 'Good', 'Poor', 'Poor', 'Poor', 'Good', 'Good', 'Good', 'Good', 'Poor', 'Good', 'Good', 'Good', 'Good', 'Good', 'Poor', 'Good', 'Poor', 'Good', 'Good', 'Good', 'Good', 'Good', 'Good', 'Poor', 'Poor', 'Poor', 'Good', 'Good', 'Poor', 'Poor', 'Poor', 'Poor', 'Poor', 'Poor', 'Poor', 'Poor', 'Poor', 'Good', 'Poor', 'Poor', 'Poor', 'Poor', 'Poor', 'Poor', 'Good', 'Poor', 'Poor', 'Poor', 'Good', 'Good', 'Poor', 'Poor', 'Poor', 'Poor', 'Good', 'Poor', 'Poor', 'Poor', 'Poor', 'Poor', 'Poor', 'Poor', 'Poor', 'Poor', 'Poor', 'Poor', 'Poor', 'Poor', 'Poor', 'Poor', 'Poor', 'Good', 'Poor', 'Poor', 'Poor', 'Poor', 'Poor', 'Poor', 'Poor', 'Poor', 'Poor', 'Good', 'Poor', 'Poor', 'Poor', 'Poor', 'Poor', 'Poor', 'Good', 'Good', 'Good', 'Poor', 'Poor', 'Poor', 'Good', 'Poor', 'Poor', 'Poor', 'Poor', 'Poor', 'Poor', 'Poor', 'Good', 'Poor', 'Poor', 'Good', 'Poor', 'Poor', 'Good', 'Poor', 'Poor', 'Poor', 'Good', 'Poor', 'Poor', 'Good', 'Poor', 'Good', 'Good', 'Good', 'Poor', 'Poor', 'Good', 'Poor', 'Poor', 'Poor', 'Poor', 'Poor', 'Poor', 'Poor', 'Good', 'Poor', 'Poor', 'Poor', 'Poor', 'Good', 'Good', 'Good', 'Poor', 'Poor', 'Poor', 'Poor', 'Poor', 'Poor', 'Poor', 'Good', 'Poor', 'Poor', 'Poor', 'Poor', 'Poor', 'Poor', 'Poor', 'Poor', 'Poor', 'Poor', 'Poor', 'Poor', 'Poor', 'Poor', 'Good', 'Poor', 'Poor', 'Poor', 'Poor', 'Poor', 'Poor', 'Poor', 'Poor', 'Poor', 'Poor', 'Poor', 'Poor', 'Poor', 'Good', 'Poor', 'Good', 'Good', 'Poor', 'Poor', 'Poor', 'Good', 'Good', 'Poor', 'Poor', 'Poor', 'Good', 'Poor', 'Poor', 'Poor', 'Poor', 'Good', 'Good', 'Good', 'Poor', 'Poor', 'Poor', 'Poor', 'Poor', 'Poor', 'Poor', 'Poor', 'Poor', 'Good', 'Poor', 'Poor', 'Good', 'Good', 'Poor', 'Good', 'Poor', 'Poor', 'Poor', 'Poor', 'Poor', 'Good', 'Poor', 'Good', 'Good', 'Good', 'Poor', 'Good', 'Good', 'Poor', 'Good', 'Good', 'Poor', 'Poor', 'Poor', 'Poor', 'Poor', 'Poor', 'Poor', 'Poor', 'Poor', 'Poor', 'Poor', 'Poor', 'Good', 'Poor', 'Poor', 'Poor', 'Poor', 'Poor', 'Good', 'Poor', 'Poor', 'Poor', 'Good', 'Poor', 'Poor', 'Poor', 'Poor', 'Poor', 'Poor', 'Poor', 'Good', 'Poor', 'Good', 'Poor', 'Good', 'Poor', 'Good', 'Good', 'Poor', 'Poor', 'Poor', 'Good', 'Good', 'Poor', 'Poor', 'Good', 'Good', 'Poor', 'Poor', 'Poor', 'Poor', 'Poor', 'Poor', 'Poor', 'Poor', 'Good', 'Good', 'Poor', 'Poor', 'Poor', 'Poor', 'Poor', 'Poor', 'Poor', 'Good', 'Good', 'Good', 'Poor', 'Poor', 'Good', 'Good', 'Poor', 'Poor', 'Poor', 'Poor', 'Good', 'Poor', 'Poor', 'Good', 'Good', 'Good', 'Poor', 'Poor', 'Poor', 'Good', 'Poor', 'Good', 'Poor', 'Poor', 'Poor', 'Poor', 'Poor', 'Good', 'Poor', 'Good', 'Poor', 'Good', 'Good', 'Good', 'Good', 'Poor', 'Poor', 'Good', 'Good', 'Good', 'Good', 'Good', 'Poor', 'Good', 'Poor', 'Poor', 'Good', 'Poor', 'Poor', 'Poor', 'Good', 'Poor', 'Poor', 'Good', 'Poor', 'Good', 'Poor', 'Poor', 'Poor', 'Poor', 'Good', 'Poor', 'Poor', 'Poor', 'Poor', 'Poor', 'Poor', 'Poor', 'Poor', 'Poor', 'Poor', 'Good', 'Poor', 'Poor', 'Poor', 'Poor', 'Poor', 'Poor', 'Poor', 'Poor', 'Poor', 'Poor', 'Good', 'Poor', 'Poor', 'Good', 'Poor', 'Poor', 'Good', 'Poor', 'Poor', 'Poor', 'Poor', 'Good', 'Poor', 'Poor', 'Poor', 'Good', 'Poor', 'Poor', 'Poor', 'Good', 'Poor', 'Poor', 'Poor', 'Poor', 'Good', 'Poor', 'Good', 'Good', 'Good', 'Poor', 'Poor', 'Poor', 'Good', 'Poor', 'Poor', 'Good', 'Poor', 'Good', 'Poor', 'Poor', 'Poor', 'Poor', 'Poor', 'Poor', 'Poor', 'Poor', 'Poor', 'Poor', 'Poor', 'Poor', 'Poor', 'Poor', 'Poor', 'Poor', 'Poor', 'Poor', 'Good', 'Poor', 'Poor', 'Poor', 'Good', 'Good', 'Poor', 'Poor', 'Poor', 'Good', 'Poor', 'Good', 'Good', 'Poor', 'Poor', 'Poor', 'Poor', 'Poor', 'Poor', 'Poor', 'Poor', 'Poor', 'Poor', 'Good', 'Poor', 'Poor', 'Poor', 'Poor', 'Poor', 'Poor', 'Poor', 'Poor', 'Good', 'Poor', 'Poor', 'Good', 'Poor', 'Poor', 'Good', 'Good', 'Good', 'Good', 'Poor', 'Poor', 'Poor', 'Poor', 'Poor', 'Good', 'Good', 'Poor', 'Poor', 'Good', 'Poor', 'Good', 'Poor', 'Poor', 'Poor', 'Poor', 'Good', 'Poor', 'Good', 'Poor', 'Poor', 'Good', 'Poor', 'Poor', 'Good', 'Good', 'Poor', 'Good', 'Good', 'Poor', 'Good', 'Good', 'Good', 'Good', 'Poor', 'Poor', 'Poor', 'Good', 'Good', 'Poor', 'Good', 'Good', 'Poor', 'Good', 'Good', 'Poor', 'Poor', 'Good', 'Good', 'Poor', 'Poor', 'Good', 'Good', 'Good', 'Poor', 'Good', 'Poor', 'Poor', 'Poor', 'Good', 'Poor', 'Poor', 'Poor', 'Good', 'Good', 'Good', 'Poor', 'Good', 'Poor', 'Good', 'Poor', 'Poor', 'Poor', 'Poor', 'Poor', 'Poor', 'Poor', 'Good', 'Poor', 'Poor', 'Poor', 'Poor', 'Poor', 'Poor', 'Poor', 'Poor', 'Good', 'Poor', 'Poor', 'Poor', 'Poor', 'Poor', 'Poor', 'Poor', 'Poor', 'Poor', 'Poor', 'Poor', 'Poor', 'Poor', 'Poor', 'Poor', 'Poor', 'Poor', 'Good', 'Poor', 'Poor', 'Poor', 'Poor', 'Poor', 'Poor', 'Poor', 'Poor', 'Poor', 'Poor', 'Poor', 'Good', 'Poor', 'Poor', 'Poor', 'Poor', 'Poor', 'Poor', 'Good', 'Poor', 'Good', 'Poor', 'Good', 'Poor', 'Good', 'Poor', 'Poor', 'Good', 'Good', 'Good', 'Poor', 'Poor', 'Poor', 'Good', 'Poor', 'Good', 'Good', 'Good', 'Good', 'Good', 'Poor', 'Good', 'Poor', 'Poor', 'Good', 'Poor', 'Good', 'Poor', 'Poor', 'Poor', 'Poor', 'Poor', 'Poor', 'Poor', 'Poor', 'Poor', 'Poor', 'Poor', 'Poor', 'Poor', 'Poor', 'Good', 'Poor', 'Good', 'Good', 'Poor', 'Poor', 'Good', 'Poor', 'Poor', 'Poor', 'Poor', 'Poor', 'Poor', 'Poor', 'Poor', 'Poor', 'Good', 'Poor', 'Good', 'Good', 'Good', 'Poor', 'Poor', 'Poor', 'Poor', 'Poor', 'Good', 'Poor', 'Good', 'Good', 'Poor', 'Poor', 'Poor', 'Poor', 'Poor', 'Poor', 'Poor', 'Good', 'Good', 'Good', 'Good', 'Good', 'Good', 'Poor', 'Poor', 'Poor', 'Good', 'Good', 'Good', 'Good', 'Poor', 'Good', 'Poor', 'Good', 'Good', 'Good', 'Poor', 'Poor', 'Good', 'Poor', 'Poor', 'Good', 'Poor', 'Good', 'Good', 'Poor', 'Good', 'Poor', 'Poor', 'Poor', 'Poor', 'Good', 'Good', 'Poor', 'Good', 'Good', 'Poor', 'Poor', 'Good', 'Poor', 'Poor', 'Poor', 'Poor', 'Poor', 'Poor', 'Poor', 'Poor', 'Poor', 'Poor', 'Poor', 'Poor', 'Poor', 'Poor', 'Poor', 'Poor', 'Poor', 'Poor', 'Poor', 'Poor', 'Poor', 'Poor', 'Poor', 'Good', 'Poor', 'Poor', 'Good', 'Poor', 'Poor', 'Good', 'Good', 'Good', 'Poor', 'Poor', 'Poor', 'Poor', 'Poor', 'Poor', 'Poor', 'Poor', 'Poor', 'Poor', 'Good', 'Good', 'Good', 'Good', 'Good', 'Good', 'Good', 'Poor', 'Poor', 'Poor', 'Poor', 'Good', 'Poor', 'Poor', 'Poor', 'Good', 'Poor', 'Poor', 'Poor', 'Poor', 'Poor', 'Poor', 'Good', 'Poor', 'Poor', 'Good', 'Poor', 'Poor', 'Poor', 'Poor', 'Poor', 'Poor', 'Poor', 'Poor', 'Poor', 'Poor', 'Poor', 'Poor', 'Poor', 'Good', 'Good', 'Poor', 'Poor', 'Poor', 'Poor', 'Poor', 'Good', 'Poor', 'Poor', 'Poor', 'Poor', 'Poor', 'Poor', 'Poor', 'Poor', 'Poor', 'Poor', 'Poor', 'Poor', 'Poor', 'Poor', 'Poor', 'Poor', 'Poor', 'Poor', 'Poor', 'Poor', 'Poor', 'Poor', 'Poor', 'Poor', 'Poor', 'Poor', 'Poor', 'Poor', 'Poor', 'Good', 'Poor', 'Poor', 'Poor', 'Poor', 'Poor', 'Poor', 'Poor', 'Poor', 'Good', 'Poor', 'Poor', 'Poor', 'Poor', 'Good', 'Good', 'Poor', 'Poor', 'Poor', 'Poor', 'Poor', 'Poor', 'Poor', 'Poor', 'Poor', 'Poor', 'Poor', 'Poor', 'Good', 'Poor', 'Poor', 'Poor', 'Poor', 'Poor', 'Poor', 'Poor', 'Good', 'Poor', 'Good', 'Poor', 'Poor', 'Poor', 'Poor', 'Poor', 'Poor', 'Poor', 'Poor', 'Poor', 'Poor', 'Good', 'Poor', 'Poor', 'Poor', 'Poor', 'Poor', 'Poor', 'Poor', 'Poor', 'Poor', 'Poor', 'Good', 'Poor', 'Poor', 'Poor', 'Poor', 'Poor', 'Poor', 'Poor', 'Poor', 'Poor', 'Poor', 'Poor', 'Poor', 'Poor', 'Poor', 'Poor', 'Poor', 'Poor', 'Poor', 'Poor', 'Poor', 'Poor', 'Poor', 'Good', 'Poor', 'Poor', 'Poor', 'Poor', 'Poor', 'Good', 'Good', 'Good', 'Good', 'Good', 'Good', 'Poor', 'Poor', 'Good', 'Poor', 'Good', 'Good', 'Poor', 'Poor', 'Good', 'Poor', 'Poor', 'Poor', 'Good', 'Poor', 'Poor', 'Poor', 'Poor', 'Poor', 'Poor', 'Poor', 'Poor', 'Poor', 'Good', 'Poor', 'Poor', 'Poor', 'Poor', 'Poor', 'Poor', 'Poor', 'Poor', 'Poor', 'Poor', 'Poor', 'Poor', 'Poor', 'Poor', 'Good', 'Poor', 'Poor', 'Poor', 'Poor', 'Poor', 'Good', 'Poor', 'Poor', 'Poor', 'Poor', 'Poor', 'Poor', 'Poor', 'Poor', 'Good', 'Good', 'Poor', 'Poor', 'Poor', 'Poor', 'Poor', 'Poor', 'Good', 'Poor', 'Poor', 'Poor', 'Poor', 'Good', 'Good', 'Poor', 'Good', 'Poor', 'Poor', 'Good', 'Good', 'Poor', 'Good', 'Poor', 'Poor', 'Poor', 'Poor', 'Poor', 'Poor', 'Poor', 'Good', 'Good', 'Good', 'Poor', 'Good', 'Good', 'Poor', 'Poor', 'Poor', 'Poor', 'Poor', 'Poor', 'Good', 'Poor', 'Poor', 'Poor', 'Poor', 'Poor', 'Poor', 'Good', 'Poor', 'Poor', 'Poor', 'Poor', 'Poor', 'Poor', 'Poor', 'Poor', 'Poor', 'Poor', 'Poor', 'Poor', 'Poor', 'Poor', 'Poor', 'Poor', 'Poor', 'Poor', 'Poor', 'Poor', 'Poor', 'Poor', 'Poor', 'Poor', 'Poor', 'Poor', 'Poor', 'Poor', 'Poor', 'Poor', 'Good', 'Good', 'Good', 'Good', 'Good', 'Poor', 'Poor', 'Poor', 'Good', 'Poor', 'Poor', 'Good', 'Good', 'Poor', 'Poor', 'Poor', 'Poor', 'Poor', 'Poor', 'Poor', 'Poor', 'Poor', 'Poor', 'Good', 'Poor', 'Poor', 'Poor', 'Poor', 'Poor', 'Poor', 'Good', 'Poor', 'Poor', 'Poor', 'Poor', 'Poor', 'Poor', 'Poor', 'Poor', 'Poor', 'Poor', 'Poor', 'Good', 'Poor', 'Poor', 'Poor', 'Poor', 'Poor', 'Poor', 'Poor', 'Poor', 'Poor', 'Good', 'Poor', 'Poor', 'Poor', 'Poor', 'Poor', 'Poor', 'Poor', 'Poor', 'Good', 'Good', 'Good', 'Poor', 'Poor', 'Poor', 'Poor', 'Poor', 'Poor', 'Poor', 'Poor', 'Poor', 'Poor', 'Poor', 'Poor', 'Good', 'Good', 'Poor', 'Poor', 'Poor', 'Poor', 'Good', 'Poor', 'Poor', 'Poor', 'Poor', 'Good', 'Poor', 'Poor', 'Poor', 'Poor', 'Poor', 'Poor', 'Poor', 'Poor', 'Poor', 'Good', 'Poor', 'Poor', 'Poor', 'Poor', 'Poor', 'Poor', 'Good', 'Good', 'Poor', 'Good', 'Poor', 'Poor', 'Poor', 'Poor', 'Poor', 'Poor', 'Poor', 'Good', 'Good', 'Good', 'Good', 'Good', 'Good', 'Poor', 'Poor', 'Good', 'Good', 'Good', 'Poor', 'Good', 'Good', 'Poor', 'Poor', 'Poor', 'Poor', 'Good', 'Poor', 'Poor', 'Good', 'Poor', 'Poor', 'Poor', 'Poor', 'Good', 'Good', 'Poor', 'Poor', 'Poor', 'Poor', 'Poor', 'Poor', 'Poor', 'Poor', 'Poor', 'Poor', 'Good', 'Poor', 'Poor', 'Poor', 'Poor', 'Poor', 'Poor', 'Poor', 'Poor', 'Poor', 'Poor', 'Poor', 'Good', 'Poor', 'Poor', 'Poor', 'Poor', 'Poor', 'Poor', 'Poor', 'Poor', 'Poor', 'Poor', 'Poor', 'Poor', 'Poor', 'Poor', 'Poor', 'Poor', 'Good', 'Poor', 'Good', 'Good', 'Poor', 'Poor', 'Poor', 'Poor', 'Poor', 'Poor', 'Poor', 'Poor', 'Poor', 'Poor', 'Poor', 'Good', 'Poor', 'Poor', 'Good', 'Poor', 'Poor', 'Poor', 'Poor', 'Poor', 'Poor', 'Poor', 'Poor', 'Poor', 'Poor', 'Poor', 'Poor', 'Poor', 'Poor', 'Poor', 'Poor', 'Poor', 'Poor', 'Good', 'Poor', 'Poor', 'Poor', 'Poor', 'Good', 'Good', 'Poor', 'Poor', 'Poor', 'Poor', 'Poor', 'Poor', 'Poor', 'Poor', 'Good', 'Poor', 'Poor', 'Poor', 'Poor', 'Poor', 'Poor', 'Poor', 'Poor', 'Poor', 'Poor', 'Poor', 'Poor', 'Poor', 'Poor', 'Poor', 'Poor', 'Poor', 'Poor', 'Poor', 'Poor', 'Poor', 'Poor', 'Poor', 'Poor', 'Poor', 'Poor', 'Poor', 'Poor', 'Poor', 'Poor', 'Good', 'Poor', 'Poor', 'Poor', 'Poor', 'Poor', 'Poor', 'Good', 'Good', 'Poor', 'Good', 'Good', 'Good', 'Poor', 'Poor', 'Good', 'Poor', 'Poor', 'Poor', 'Poor', 'Poor', 'Poor', 'Poor', 'Poor', 'Poor', 'Good', 'Good', 'Good', 'Good', 'Good', 'Good', 'Good', 'Good', 'Good', 'Poor', 'Poor', 'Poor', 'Poor', 'Poor', 'Poor', 'Good', 'Poor', 'Poor', 'Poor', 'Poor', 'Poor', 'Poor', 'Poor', 'Poor', 'Poor', 'Poor', 'Poor', 'Poor', 'Poor', 'Poor', 'Poor', 'Poor', 'Poor', 'Poor', 'Poor', 'Poor', 'Poor', 'Poor', 'Poor', 'Poor', 'Poor', 'Poor', 'Poor', 'Poor', 'Poor', 'Poor', 'Poor', 'Poor', 'Poor', 'Poor', 'Poor', 'Poor', 'Poor', 'Poor', 'Poor', 'Poor', 'Poor', 'Poor', 'Poor', 'Poor', 'Poor', 'Poor', 'Poor', 'Poor', 'Poor', 'Poor', 'Poor', 'Poor', 'Poor', 'Poor', 'Poor', 'Poor', 'Poor', 'Poor', 'Good', 'Poor', 'Poor', 'Good', 'Poor', 'Good', 'Good', 'Good', 'Good', 'Poor', 'Poor', 'Poor', 'Poor', 'Poor', 'Poor', 'Poor', 'Poor', 'Poor', 'Poor', 'Poor', 'Poor', 'Poor', 'Poor', 'Poor', 'Poor', 'Poor', 'Poor', 'Poor', 'Poor', 'Poor', 'Poor', 'Poor', 'Poor', 'Poor', 'Poor', 'Poor', 'Poor', 'Poor', 'Poor', 'Poor', 'Poor', 'Poor', 'Poor', 'Poor', 'Poor', 'Poor', 'Poor', 'Poor', 'Poor', 'Poor', 'Poor', 'Poor', 'Good', 'Poor', 'Poor', 'Poor', 'Poor', 'Poor', 'Poor', 'Poor', 'Poor', 'Poor', 'Poor', 'Poor', 'Poor', 'Poor', 'Poor', 'Poor', 'Poor', 'Poor', 'Poor', 'Poor', 'Poor', 'Poor', 'Poor', 'Poor', 'Poor', 'Poor', 'Poor', 'Poor', 'Poor', 'Poor', 'Poor', 'Poor', 'Poor', 'Poor', 'Poor', 'Poor', 'Poor', 'Poor', 'Poor', 'Poor', 'Poor', 'Poor', 'Poor', 'Poor', 'Poor', 'Good', 'Poor', 'Poor', 'Poor', 'Poor', 'Poor', 'Poor', 'Poor', 'Poor', 'Poor', 'Poor', 'Poor', 'Poor', 'Poor', 'Poor', 'Poor', 'Poor', 'Poor', 'Poor', 'Poor', 'Poor', 'Poor', 'Poor', 'Poor', 'Poor', 'Poor', 'Poor', 'Poor', 'Poor', 'Poor', 'Poor', 'Poor', 'Poor', 'Poor', 'Poor', 'Poor', 'Poor', 'Poor', 'Poor', 'Poor', 'Poor', 'Poor', 'Poor', 'Poor', 'Poor', 'Poor', 'Poor', 'Poor', 'Poor', 'Poor', 'Poor', 'Poor', 'Poor', 'Poor', 'Poor', 'Poor', 'Good', 'Poor', 'Poor', 'Good', 'Good', 'Good', 'Poor', 'Poor', 'Poor', 'Poor', 'Poor', 'Poor', 'Good', 'Good', 'Poor', 'Good', 'Good', 'Poor', 'Poor', 'Good', 'Poor', 'Poor', 'Poor', 'Poor', 'Poor', 'Poor', 'Poor', 'Poor', 'Poor', 'Poor', 'Poor', 'Poor', 'Poor', 'Poor', 'Poor', 'Poor', 'Poor', 'Poor', 'Poor', 'Poor', 'Good', 'Poor', 'Poor', 'Poor', 'Poor', 'Poor', 'Poor', 'Poor', 'Poor', 'Good', 'Poor', 'Poor', 'Poor', 'Poor', 'Poor', 'Poor', 'Good', 'Poor', 'Good', 'Good', 'Poor', 'Poor', 'Good', 'Good', 'Poor', 'Poor', 'Poor', 'Poor', 'Poor', 'Poor', 'Good', 'Good', 'Good', 'Poor', 'Poor', 'Poor', 'Poor', 'Poor', 'Poor', 'Poor', 'Poor', 'Poor', 'Poor', 'Good', 'Poor', 'Poor', 'Good', 'Good', 'Good', 'Poor', 'Poor', 'Poor', 'Good', 'Poor', 'Good', 'Good', 'Good', 'Good', 'Good', 'Poor', 'Poor', 'Poor', 'Poor', 'Poor', 'Good', 'Good', 'Poor', 'Poor', 'Good', 'Good', 'Poor', 'Poor', 'Poor', 'Poor', 'Good', 'Good', 'Poor', 'Poor', 'Good', 'Poor', 'Poor', 'Poor', 'Poor', 'Poor', 'Poor', 'Poor', 'Poor', 'Poor', 'Poor', 'Poor', 'Poor', 'Poor', 'Good', 'Poor', 'Poor', 'Good', 'Good', 'Poor', 'Good', 'Poor', 'Poor', 'Poor', 'Poor', 'Poor', 'Good', 'Poor', 'Poor', 'Good', 'Poor', 'Poor', 'Poor', 'Good', 'Poor', 'Poor', 'Poor', 'Good', 'Poor', 'Poor', 'Poor', 'Poor', 'Poor', 'Poor', 'Poor', 'Poor', 'Poor', 'Poor', 'Poor', 'Poor', 'Poor', 'Poor', 'Poor', 'Poor', 'Poor', 'Poor', 'Poor', 'Poor', 'Poor', 'Poor', 'Good', 'Poor', 'Poor', 'Poor', 'Poor', 'Poor', 'Poor', 'Poor', 'Poor', 'Poor', 'Poor', 'Poor', 'Poor', 'Poor', 'Poor', 'Good', 'Poor', 'Poor', 'Poor', 'Good', 'Good', 'Poor', 'Poor', 'Poor', 'Poor', 'Good', 'Good', 'Poor', 'Good', 'Good', 'Good', 'Poor', 'Poor', 'Poor', 'Poor', 'Poor', 'Good', 'Poor', 'Poor', 'Poor', 'Poor', 'Poor', 'Poor', 'Poor', 'Poor', 'Poor', 'Poor', 'Poor', 'Good', 'Good', 'Good', 'Poor', 'Poor', 'Poor', 'Poor', 'Poor', 'Poor', 'Poor', 'Good', 'Good', 'Poor', 'Poor', 'Poor', 'Good', 'Good', 'Good', 'Good', 'Poor', 'Poor', 'Poor', 'Poor', 'Poor', 'Poor', 'Poor', 'Poor', 'Good', 'Poor', 'Poor', 'Good', 'Poor', 'Poor', 'Poor', 'Poor', 'Poor', 'Poor', 'Poor', 'Good', 'Poor', 'Poor', 'Poor', 'Poor', 'Poor', 'Good', 'Poor', 'Poor', 'Poor', 'Poor', 'Good', 'Poor', 'Poor', 'Poor', 'Poor', 'Poor', 'Good', 'Poor', 'Poor', 'Poor', 'Poor', 'Poor', 'Poor', 'Good', 'Poor', 'Poor', 'Poor', 'Poor', 'Poor', 'Poor', 'Poor', 'Poor', 'Poor', 'Poor', 'Poor', 'Poor', 'Poor', 'Poor', 'Poor', 'Good', 'Poor', 'Poor', 'Poor', 'Poor', 'Poor', 'Poor', 'Good', 'Poor', 'Poor', 'Poor', 'Poor', 'Poor', 'Good', 'Poor', 'Poor', 'Poor', 'Poor', 'Poor', 'Poor', 'Poor', 'Poor', 'Poor', 'Good', 'Good', 'Poor', 'Poor', 'Poor', 'Poor', 'Poor', 'Poor', 'Poor', 'Poor', 'Good', 'Poor']\n"
          ]
        }
      ]
    },
    {
      "cell_type": "code",
      "source": [
        "df['quality_cat'] = quality_cat"
      ],
      "metadata": {
        "id": "CS7A01STsk76"
      },
      "execution_count": null,
      "outputs": []
    },
    {
      "cell_type": "markdown",
      "source": [
        "Let's make sure that it's working as intended."
      ],
      "metadata": {
        "id": "Vv_WLiGZtAfi"
      }
    },
    {
      "cell_type": "code",
      "source": [
        "df.info()"
      ],
      "metadata": {
        "colab": {
          "base_uri": "https://localhost:8080/"
        },
        "id": "L0mLoPtAsqqh",
        "outputId": "cca9a569-f3ea-4ba4-c646-62b2f8fbec2c"
      },
      "execution_count": null,
      "outputs": [
        {
          "output_type": "stream",
          "name": "stdout",
          "text": [
            "<class 'pandas.core.frame.DataFrame'>\n",
            "RangeIndex: 4898 entries, 0 to 4897\n",
            "Data columns (total 13 columns):\n",
            " #   Column                Non-Null Count  Dtype  \n",
            "---  ------                --------------  -----  \n",
            " 0   fixed acidity         4898 non-null   float64\n",
            " 1   volatile acidity      4898 non-null   float64\n",
            " 2   citric acid           4898 non-null   float64\n",
            " 3   residual sugar        4898 non-null   float64\n",
            " 4   chlorides             4898 non-null   float64\n",
            " 5   free sulfur dioxide   4898 non-null   float64\n",
            " 6   total sulfur dioxide  4898 non-null   float64\n",
            " 7   density               4898 non-null   float64\n",
            " 8   pH                    4898 non-null   float64\n",
            " 9   sulphates             4898 non-null   float64\n",
            " 10  alcohol               4898 non-null   float64\n",
            " 11  quality               4898 non-null   int64  \n",
            " 12  quality_cat           4898 non-null   object \n",
            "dtypes: float64(11), int64(1), object(1)\n",
            "memory usage: 497.6+ KB\n"
          ]
        }
      ]
    },
    {
      "cell_type": "code",
      "source": [
        "df.head()"
      ],
      "metadata": {
        "colab": {
          "base_uri": "https://localhost:8080/",
          "height": 305
        },
        "id": "mWE-1KFbsyDh",
        "outputId": "4fa1fbe8-c6e4-4e5e-8ff0-6e26b69c2041"
      },
      "execution_count": null,
      "outputs": [
        {
          "output_type": "execute_result",
          "data": {
            "text/plain": [
              "   fixed acidity  volatile acidity  citric acid  residual sugar  chlorides  \\\n",
              "0            7.0              0.27         0.36            20.7      0.045   \n",
              "1            6.3              0.30         0.34             1.6      0.049   \n",
              "2            8.1              0.28         0.40             6.9      0.050   \n",
              "3            7.2              0.23         0.32             8.5      0.058   \n",
              "4            7.2              0.23         0.32             8.5      0.058   \n",
              "\n",
              "   free sulfur dioxide  total sulfur dioxide  density    pH  sulphates  \\\n",
              "0                 45.0                 170.0   1.0010  3.00       0.45   \n",
              "1                 14.0                 132.0   0.9940  3.30       0.49   \n",
              "2                 30.0                  97.0   0.9951  3.26       0.44   \n",
              "3                 47.0                 186.0   0.9956  3.19       0.40   \n",
              "4                 47.0                 186.0   0.9956  3.19       0.40   \n",
              "\n",
              "   alcohol  quality quality_cat  \n",
              "0      8.8        6        Poor  \n",
              "1      9.5        6        Poor  \n",
              "2     10.1        6        Poor  \n",
              "3      9.9        6        Poor  \n",
              "4      9.9        6        Poor  "
            ],
            "text/html": [
              "\n",
              "  <div id=\"df-8bf27d2b-edba-4bf2-954b-ff29f5e714b8\">\n",
              "    <div class=\"colab-df-container\">\n",
              "      <div>\n",
              "<style scoped>\n",
              "    .dataframe tbody tr th:only-of-type {\n",
              "        vertical-align: middle;\n",
              "    }\n",
              "\n",
              "    .dataframe tbody tr th {\n",
              "        vertical-align: top;\n",
              "    }\n",
              "\n",
              "    .dataframe thead th {\n",
              "        text-align: right;\n",
              "    }\n",
              "</style>\n",
              "<table border=\"1\" class=\"dataframe\">\n",
              "  <thead>\n",
              "    <tr style=\"text-align: right;\">\n",
              "      <th></th>\n",
              "      <th>fixed acidity</th>\n",
              "      <th>volatile acidity</th>\n",
              "      <th>citric acid</th>\n",
              "      <th>residual sugar</th>\n",
              "      <th>chlorides</th>\n",
              "      <th>free sulfur dioxide</th>\n",
              "      <th>total sulfur dioxide</th>\n",
              "      <th>density</th>\n",
              "      <th>pH</th>\n",
              "      <th>sulphates</th>\n",
              "      <th>alcohol</th>\n",
              "      <th>quality</th>\n",
              "      <th>quality_cat</th>\n",
              "    </tr>\n",
              "  </thead>\n",
              "  <tbody>\n",
              "    <tr>\n",
              "      <th>0</th>\n",
              "      <td>7.0</td>\n",
              "      <td>0.27</td>\n",
              "      <td>0.36</td>\n",
              "      <td>20.7</td>\n",
              "      <td>0.045</td>\n",
              "      <td>45.0</td>\n",
              "      <td>170.0</td>\n",
              "      <td>1.0010</td>\n",
              "      <td>3.00</td>\n",
              "      <td>0.45</td>\n",
              "      <td>8.8</td>\n",
              "      <td>6</td>\n",
              "      <td>Poor</td>\n",
              "    </tr>\n",
              "    <tr>\n",
              "      <th>1</th>\n",
              "      <td>6.3</td>\n",
              "      <td>0.30</td>\n",
              "      <td>0.34</td>\n",
              "      <td>1.6</td>\n",
              "      <td>0.049</td>\n",
              "      <td>14.0</td>\n",
              "      <td>132.0</td>\n",
              "      <td>0.9940</td>\n",
              "      <td>3.30</td>\n",
              "      <td>0.49</td>\n",
              "      <td>9.5</td>\n",
              "      <td>6</td>\n",
              "      <td>Poor</td>\n",
              "    </tr>\n",
              "    <tr>\n",
              "      <th>2</th>\n",
              "      <td>8.1</td>\n",
              "      <td>0.28</td>\n",
              "      <td>0.40</td>\n",
              "      <td>6.9</td>\n",
              "      <td>0.050</td>\n",
              "      <td>30.0</td>\n",
              "      <td>97.0</td>\n",
              "      <td>0.9951</td>\n",
              "      <td>3.26</td>\n",
              "      <td>0.44</td>\n",
              "      <td>10.1</td>\n",
              "      <td>6</td>\n",
              "      <td>Poor</td>\n",
              "    </tr>\n",
              "    <tr>\n",
              "      <th>3</th>\n",
              "      <td>7.2</td>\n",
              "      <td>0.23</td>\n",
              "      <td>0.32</td>\n",
              "      <td>8.5</td>\n",
              "      <td>0.058</td>\n",
              "      <td>47.0</td>\n",
              "      <td>186.0</td>\n",
              "      <td>0.9956</td>\n",
              "      <td>3.19</td>\n",
              "      <td>0.40</td>\n",
              "      <td>9.9</td>\n",
              "      <td>6</td>\n",
              "      <td>Poor</td>\n",
              "    </tr>\n",
              "    <tr>\n",
              "      <th>4</th>\n",
              "      <td>7.2</td>\n",
              "      <td>0.23</td>\n",
              "      <td>0.32</td>\n",
              "      <td>8.5</td>\n",
              "      <td>0.058</td>\n",
              "      <td>47.0</td>\n",
              "      <td>186.0</td>\n",
              "      <td>0.9956</td>\n",
              "      <td>3.19</td>\n",
              "      <td>0.40</td>\n",
              "      <td>9.9</td>\n",
              "      <td>6</td>\n",
              "      <td>Poor</td>\n",
              "    </tr>\n",
              "  </tbody>\n",
              "</table>\n",
              "</div>\n",
              "      <button class=\"colab-df-convert\" onclick=\"convertToInteractive('df-8bf27d2b-edba-4bf2-954b-ff29f5e714b8')\"\n",
              "              title=\"Convert this dataframe to an interactive table.\"\n",
              "              style=\"display:none;\">\n",
              "        \n",
              "  <svg xmlns=\"http://www.w3.org/2000/svg\" height=\"24px\"viewBox=\"0 0 24 24\"\n",
              "       width=\"24px\">\n",
              "    <path d=\"M0 0h24v24H0V0z\" fill=\"none\"/>\n",
              "    <path d=\"M18.56 5.44l.94 2.06.94-2.06 2.06-.94-2.06-.94-.94-2.06-.94 2.06-2.06.94zm-11 1L8.5 8.5l.94-2.06 2.06-.94-2.06-.94L8.5 2.5l-.94 2.06-2.06.94zm10 10l.94 2.06.94-2.06 2.06-.94-2.06-.94-.94-2.06-.94 2.06-2.06.94z\"/><path d=\"M17.41 7.96l-1.37-1.37c-.4-.4-.92-.59-1.43-.59-.52 0-1.04.2-1.43.59L10.3 9.45l-7.72 7.72c-.78.78-.78 2.05 0 2.83L4 21.41c.39.39.9.59 1.41.59.51 0 1.02-.2 1.41-.59l7.78-7.78 2.81-2.81c.8-.78.8-2.07 0-2.86zM5.41 20L4 18.59l7.72-7.72 1.47 1.35L5.41 20z\"/>\n",
              "  </svg>\n",
              "      </button>\n",
              "      \n",
              "  <style>\n",
              "    .colab-df-container {\n",
              "      display:flex;\n",
              "      flex-wrap:wrap;\n",
              "      gap: 12px;\n",
              "    }\n",
              "\n",
              "    .colab-df-convert {\n",
              "      background-color: #E8F0FE;\n",
              "      border: none;\n",
              "      border-radius: 50%;\n",
              "      cursor: pointer;\n",
              "      display: none;\n",
              "      fill: #1967D2;\n",
              "      height: 32px;\n",
              "      padding: 0 0 0 0;\n",
              "      width: 32px;\n",
              "    }\n",
              "\n",
              "    .colab-df-convert:hover {\n",
              "      background-color: #E2EBFA;\n",
              "      box-shadow: 0px 1px 2px rgba(60, 64, 67, 0.3), 0px 1px 3px 1px rgba(60, 64, 67, 0.15);\n",
              "      fill: #174EA6;\n",
              "    }\n",
              "\n",
              "    [theme=dark] .colab-df-convert {\n",
              "      background-color: #3B4455;\n",
              "      fill: #D2E3FC;\n",
              "    }\n",
              "\n",
              "    [theme=dark] .colab-df-convert:hover {\n",
              "      background-color: #434B5C;\n",
              "      box-shadow: 0px 1px 3px 1px rgba(0, 0, 0, 0.15);\n",
              "      filter: drop-shadow(0px 1px 2px rgba(0, 0, 0, 0.3));\n",
              "      fill: #FFFFFF;\n",
              "    }\n",
              "  </style>\n",
              "\n",
              "      <script>\n",
              "        const buttonEl =\n",
              "          document.querySelector('#df-8bf27d2b-edba-4bf2-954b-ff29f5e714b8 button.colab-df-convert');\n",
              "        buttonEl.style.display =\n",
              "          google.colab.kernel.accessAllowed ? 'block' : 'none';\n",
              "\n",
              "        async function convertToInteractive(key) {\n",
              "          const element = document.querySelector('#df-8bf27d2b-edba-4bf2-954b-ff29f5e714b8');\n",
              "          const dataTable =\n",
              "            await google.colab.kernel.invokeFunction('convertToInteractive',\n",
              "                                                     [key], {});\n",
              "          if (!dataTable) return;\n",
              "\n",
              "          const docLinkHtml = 'Like what you see? Visit the ' +\n",
              "            '<a target=\"_blank\" href=https://colab.research.google.com/notebooks/data_table.ipynb>data table notebook</a>'\n",
              "            + ' to learn more about interactive tables.';\n",
              "          element.innerHTML = '';\n",
              "          dataTable['output_type'] = 'display_data';\n",
              "          await google.colab.output.renderOutput(dataTable, element);\n",
              "          const docLink = document.createElement('div');\n",
              "          docLink.innerHTML = docLinkHtml;\n",
              "          element.appendChild(docLink);\n",
              "        }\n",
              "      </script>\n",
              "    </div>\n",
              "  </div>\n",
              "  "
            ]
          },
          "metadata": {},
          "execution_count": 22
        }
      ]
    },
    {
      "cell_type": "markdown",
      "source": [
        "Let's get an idea of how many wines are poor vs good using sns."
      ],
      "metadata": {
        "id": "xUc3yo2jtkIM"
      }
    },
    {
      "cell_type": "code",
      "source": [
        "sns.countplot(x=quality_cat, data=df)"
      ],
      "metadata": {
        "colab": {
          "base_uri": "https://localhost:8080/",
          "height": 286
        },
        "id": "BhselKp1szMg",
        "outputId": "67c63efc-1151-48a9-cf18-cbfefe39bc13"
      },
      "execution_count": null,
      "outputs": [
        {
          "output_type": "execute_result",
          "data": {
            "text/plain": [
              "<Axes: ylabel='count'>"
            ]
          },
          "metadata": {},
          "execution_count": 23
        },
        {
          "output_type": "display_data",
          "data": {
            "text/plain": [
              "<Figure size 432x288 with 1 Axes>"
            ],
            "image/png": "[encoded data removed]"
          },
          "metadata": {
            "needs_background": "light"
          }
        }
      ]
    },
    {
      "cell_type": "code",
      "source": [
        "round(df['quality_cat'].value_counts()/len(df),4)"
      ],
      "metadata": {
        "colab": {
          "base_uri": "https://localhost:8080/"
        },
        "id": "rpk3scqQtf1u",
        "outputId": "6ea87953-7815-4058-b5bf-1748c0fec6bc"
      },
      "execution_count": null,
      "outputs": [
        {
          "output_type": "execute_result",
          "data": {
            "text/plain": [
              "Poor    0.7836\n",
              "Good    0.2164\n",
              "Name: quality_cat, dtype: float64"
            ]
          },
          "metadata": {},
          "execution_count": 29
        }
      ]
    },
    {
      "cell_type": "markdown",
      "source": [
        "As you can see Poor quality wines make up about 78.36% of all our wines. While Good quality wines only make up 21.64% of our wines."
      ],
      "metadata": {
        "id": "tuWdtoYTuIfv"
      }
    },
    {
      "cell_type": "code",
      "source": [
        "pH_cat = []\n",
        "for i in df['pH']:\n",
        "  if i >= 3.27:\n",
        "    pH_cat.append('Base')\n",
        "  else:\n",
        "    pH_cat.append('Acidic')\n",
        "\n",
        "print(pH_cat)"
      ],
      "metadata": {
        "colab": {
          "base_uri": "https://localhost:8080/"
        },
        "id": "QdimE1hCt1lS",
        "outputId": "9ec83ba8-f16e-4f39-b8f0-cf2f08ccf928"
      },
      "execution_count": null,
      "outputs": [
        {
          "output_type": "stream",
          "name": "stdout",
          "text": [
            "['Acidic', 'Base', 'Acidic', 'Acidic', 'Acidic', 'Acidic', 'Acidic', 'Acidic', 'Base', 'Acidic', 'Acidic', 'Acidic', 'Acidic', 'Base', 'Acidic', 'Acidic', 'Acidic', 'Base', 'Acidic', 'Acidic', 'Base', 'Acidic', 'Base', 'Acidic', 'Base', 'Acidic', 'Base', 'Base', 'Acidic', 'Acidic', 'Acidic', 'Base', 'Acidic', 'Base', 'Base', 'Acidic', 'Acidic', 'Acidic', 'Acidic', 'Acidic', 'Acidic', 'Acidic', 'Acidic', 'Acidic', 'Acidic', 'Acidic', 'Base', 'Acidic', 'Acidic', 'Base', 'Base', 'Base', 'Base', 'Base', 'Acidic', 'Acidic', 'Acidic', 'Base', 'Acidic', 'Base', 'Acidic', 'Base', 'Acidic', 'Acidic', 'Acidic', 'Acidic', 'Acidic', 'Acidic', 'Base', 'Acidic', 'Acidic', 'Base', 'Base', 'Acidic', 'Base', 'Acidic', 'Acidic', 'Base', 'Acidic', 'Base', 'Base', 'Acidic', 'Acidic', 'Base', 'Acidic', 'Acidic', 'Acidic', 'Acidic', 'Acidic', 'Acidic', 'Acidic', 'Acidic', 'Acidic', 'Acidic', 'Acidic', 'Acidic', 'Acidic', 'Acidic', 'Acidic', 'Acidic', 'Acidic', 'Base', 'Base', 'Acidic', 'Acidic', 'Acidic', 'Base', 'Acidic', 'Acidic', 'Base', 'Acidic', 'Acidic', 'Acidic', 'Acidic', 'Acidic', 'Base', 'Base', 'Acidic', 'Acidic', 'Acidic', 'Acidic', 'Acidic', 'Base', 'Base', 'Acidic', 'Base', 'Acidic', 'Base', 'Base', 'Base', 'Base', 'Base', 'Acidic', 'Acidic', 'Acidic', 'Acidic', 'Acidic', 'Acidic', 'Acidic', 'Acidic', 'Base', 'Acidic', 'Acidic', 'Acidic', 'Acidic', 'Acidic', 'Base', 'Base', 'Base', 'Acidic', 'Acidic', 'Acidic', 'Acidic', 'Acidic', 'Acidic', 'Acidic', 'Acidic', 'Base', 'Base', 'Base', 'Base', 'Acidic', 'Base', 'Acidic', 'Acidic', 'Acidic', 'Acidic', 'Acidic', 'Acidic', 'Acidic', 'Acidic', 'Acidic', 'Acidic', 'Base', 'Acidic', 'Acidic', 'Acidic', 'Base', 'Acidic', 'Acidic', 'Acidic', 'Acidic', 'Acidic', 'Acidic', 'Acidic', 'Acidic', 'Acidic', 'Acidic', 'Acidic', 'Acidic', 'Acidic', 'Acidic', 'Acidic', 'Base', 'Acidic', 'Acidic', 'Acidic', 'Acidic', 'Acidic', 'Acidic', 'Acidic', 'Acidic', 'Acidic', 'Base', 'Base', 'Acidic', 'Acidic', 'Acidic', 'Base', 'Acidic', 'Base', 'Base', 'Acidic', 'Base', 'Base', 'Base', 'Acidic', 'Base', 'Base', 'Acidic', 'Acidic', 'Acidic', 'Base', 'Base', 'Base', 'Base', 'Base', 'Acidic', 'Base', 'Base', 'Base', 'Base', 'Base', 'Acidic', 'Acidic', 'Acidic', 'Acidic', 'Base', 'Base', 'Base', 'Acidic', 'Acidic', 'Acidic', 'Base', 'Acidic', 'Base', 'Acidic', 'Acidic', 'Acidic', 'Base', 'Base', 'Acidic', 'Acidic', 'Base', 'Acidic', 'Base', 'Base', 'Base', 'Base', 'Base', 'Base', 'Acidic', 'Acidic', 'Acidic', 'Acidic', 'Acidic', 'Acidic', 'Base', 'Base', 'Base', 'Acidic', 'Base', 'Base', 'Acidic', 'Acidic', 'Acidic', 'Acidic', 'Acidic', 'Acidic', 'Acidic', 'Acidic', 'Base', 'Acidic', 'Acidic', 'Acidic', 'Acidic', 'Acidic', 'Acidic', 'Acidic', 'Acidic', 'Acidic', 'Base', 'Acidic', 'Base', 'Acidic', 'Base', 'Acidic', 'Acidic', 'Acidic', 'Acidic', 'Base', 'Acidic', 'Base', 'Base', 'Acidic', 'Acidic', 'Acidic', 'Acidic', 'Acidic', 'Acidic', 'Base', 'Base', 'Base', 'Base', 'Base', 'Acidic', 'Acidic', 'Acidic', 'Base', 'Base', 'Base', 'Acidic', 'Acidic', 'Acidic', 'Acidic', 'Acidic', 'Acidic', 'Acidic', 'Acidic', 'Acidic', 'Base', 'Acidic', 'Base', 'Acidic', 'Acidic', 'Base', 'Base', 'Base', 'Base', 'Base', 'Acidic', 'Acidic', 'Acidic', 'Base', 'Base', 'Base', 'Base', 'Acidic', 'Acidic', 'Acidic', 'Base', 'Acidic', 'Acidic', 'Acidic', 'Acidic', 'Acidic', 'Acidic', 'Acidic', 'Acidic', 'Acidic', 'Base', 'Acidic', 'Base', 'Acidic', 'Base', 'Base', 'Base', 'Acidic', 'Acidic', 'Acidic', 'Acidic', 'Acidic', 'Base', 'Acidic', 'Base', 'Base', 'Base', 'Acidic', 'Acidic', 'Base', 'Acidic', 'Acidic', 'Acidic', 'Acidic', 'Base', 'Base', 'Base', 'Acidic', 'Base', 'Acidic', 'Acidic', 'Acidic', 'Base', 'Acidic', 'Acidic', 'Acidic', 'Acidic', 'Base', 'Base', 'Base', 'Base', 'Acidic', 'Acidic', 'Acidic', 'Acidic', 'Acidic', 'Base', 'Acidic', 'Acidic', 'Acidic', 'Acidic', 'Base', 'Acidic', 'Acidic', 'Acidic', 'Base', 'Acidic', 'Acidic', 'Acidic', 'Base', 'Acidic', 'Acidic', 'Acidic', 'Acidic', 'Base', 'Acidic', 'Acidic', 'Acidic', 'Acidic', 'Acidic', 'Acidic', 'Acidic', 'Acidic', 'Acidic', 'Base', 'Base', 'Base', 'Base', 'Acidic', 'Acidic', 'Base', 'Base', 'Base', 'Acidic', 'Acidic', 'Acidic', 'Base', 'Base', 'Base', 'Base', 'Acidic', 'Acidic', 'Base', 'Base', 'Base', 'Base', 'Base', 'Acidic', 'Base', 'Base', 'Acidic', 'Acidic', 'Base', 'Acidic', 'Acidic', 'Acidic', 'Acidic', 'Acidic', 'Acidic', 'Acidic', 'Acidic', 'Acidic', 'Acidic', 'Base', 'Acidic', 'Acidic', 'Acidic', 'Acidic', 'Acidic', 'Base', 'Acidic', 'Base', 'Base', 'Acidic', 'Base', 'Base', 'Base', 'Acidic', 'Base', 'Acidic', 'Acidic', 'Acidic', 'Acidic', 'Acidic', 'Base', 'Base', 'Acidic', 'Base', 'Base', 'Acidic', 'Acidic', 'Acidic', 'Acidic', 'Acidic', 'Acidic', 'Acidic', 'Acidic', 'Base', 'Base', 'Base', 'Acidic', 'Acidic', 'Acidic', 'Acidic', 'Acidic', 'Base', 'Acidic', 'Acidic', 'Base', 'Acidic', 'Acidic', 'Acidic', 'Acidic', 'Acidic', 'Base', 'Acidic', 'Acidic', 'Base', 'Base', 'Base', 'Base', 'Acidic', 'Acidic', 'Acidic', 'Acidic', 'Acidic', 'Acidic', 'Acidic', 'Base', 'Base', 'Base', 'Acidic', 'Base', 'Acidic', 'Acidic', 'Base', 'Base', 'Base', 'Base', 'Acidic', 'Acidic', 'Acidic', 'Acidic', 'Acidic', 'Acidic', 'Acidic', 'Acidic', 'Base', 'Acidic', 'Acidic', 'Acidic', 'Acidic', 'Acidic', 'Acidic', 'Acidic', 'Acidic', 'Acidic', 'Acidic', 'Acidic', 'Acidic', 'Acidic', 'Base', 'Acidic', 'Acidic', 'Acidic', 'Acidic', 'Acidic', 'Acidic', 'Base', 'Base', 'Acidic', 'Base', 'Acidic', 'Acidic', 'Base', 'Acidic', 'Acidic', 'Base', 'Base', 'Acidic', 'Acidic', 'Base', 'Acidic', 'Acidic', 'Acidic', 'Base', 'Acidic', 'Acidic', 'Base', 'Acidic', 'Acidic', 'Acidic', 'Acidic', 'Acidic', 'Acidic', 'Acidic', 'Base', 'Base', 'Base', 'Base', 'Acidic', 'Acidic', 'Acidic', 'Acidic', 'Acidic', 'Acidic', 'Acidic', 'Acidic', 'Acidic', 'Acidic', 'Acidic', 'Acidic', 'Base', 'Acidic', 'Acidic', 'Base', 'Base', 'Acidic', 'Acidic', 'Acidic', 'Acidic', 'Acidic', 'Acidic', 'Base', 'Base', 'Base', 'Base', 'Acidic', 'Base', 'Base', 'Base', 'Acidic', 'Base', 'Base', 'Base', 'Acidic', 'Acidic', 'Acidic', 'Acidic', 'Acidic', 'Acidic', 'Acidic', 'Acidic', 'Base', 'Base', 'Acidic', 'Acidic', 'Acidic', 'Acidic', 'Acidic', 'Acidic', 'Base', 'Base', 'Acidic', 'Base', 'Base', 'Base', 'Base', 'Base', 'Acidic', 'Acidic', 'Base', 'Base', 'Base', 'Acidic', 'Acidic', 'Acidic', 'Base', 'Base', 'Base', 'Acidic', 'Acidic', 'Acidic', 'Acidic', 'Acidic', 'Acidic', 'Base', 'Acidic', 'Acidic', 'Acidic', 'Base', 'Acidic', 'Acidic', 'Acidic', 'Acidic', 'Acidic', 'Acidic', 'Acidic', 'Acidic', 'Acidic', 'Acidic', 'Base', 'Acidic', 'Acidic', 'Base', 'Acidic', 'Acidic', 'Acidic', 'Acidic', 'Acidic', 'Base', 'Acidic', 'Acidic', 'Base', 'Base', 'Base', 'Acidic', 'Acidic', 'Base', 'Base', 'Acidic', 'Base', 'Base', 'Acidic', 'Acidic', 'Acidic', 'Base', 'Acidic', 'Base', 'Acidic', 'Base', 'Acidic', 'Acidic', 'Acidic', 'Base', 'Acidic', 'Acidic', 'Base', 'Acidic', 'Acidic', 'Base', 'Base', 'Base', 'Base', 'Acidic', 'Acidic', 'Acidic', 'Acidic', 'Base', 'Acidic', 'Acidic', 'Acidic', 'Acidic', 'Acidic', 'Acidic', 'Acidic', 'Base', 'Base', 'Base', 'Base', 'Base', 'Base', 'Acidic', 'Base', 'Acidic', 'Acidic', 'Acidic', 'Acidic', 'Base', 'Base', 'Base', 'Acidic', 'Acidic', 'Base', 'Acidic', 'Acidic', 'Acidic', 'Acidic', 'Base', 'Base', 'Base', 'Acidic', 'Base', 'Base', 'Acidic', 'Base', 'Base', 'Base', 'Base', 'Base', 'Base', 'Base', 'Acidic', 'Base', 'Acidic', 'Acidic', 'Acidic', 'Base', 'Base', 'Base', 'Acidic', 'Acidic', 'Acidic', 'Base', 'Acidic', 'Acidic', 'Acidic', 'Acidic', 'Acidic', 'Acidic', 'Acidic', 'Acidic', 'Base', 'Base', 'Acidic', 'Acidic', 'Acidic', 'Acidic', 'Acidic', 'Acidic', 'Base', 'Acidic', 'Base', 'Base', 'Acidic', 'Acidic', 'Base', 'Base', 'Acidic', 'Acidic', 'Base', 'Acidic', 'Base', 'Acidic', 'Base', 'Acidic', 'Acidic', 'Acidic', 'Acidic', 'Acidic', 'Acidic', 'Acidic', 'Acidic', 'Acidic', 'Base', 'Base', 'Acidic', 'Acidic', 'Acidic', 'Base', 'Acidic', 'Acidic', 'Base', 'Acidic', 'Base', 'Base', 'Acidic', 'Acidic', 'Acidic', 'Acidic', 'Acidic', 'Base', 'Base', 'Acidic', 'Base', 'Acidic', 'Base', 'Acidic', 'Base', 'Acidic', 'Acidic', 'Acidic', 'Acidic', 'Acidic', 'Base', 'Acidic', 'Base', 'Acidic', 'Acidic', 'Base', 'Acidic', 'Acidic', 'Acidic', 'Acidic', 'Base', 'Base', 'Acidic', 'Base', 'Acidic', 'Base', 'Base', 'Base', 'Base', 'Acidic', 'Base', 'Acidic', 'Acidic', 'Acidic', 'Acidic', 'Acidic', 'Base', 'Acidic', 'Acidic', 'Acidic', 'Acidic', 'Acidic', 'Acidic', 'Base', 'Base', 'Acidic', 'Acidic', 'Acidic', 'Acidic', 'Base', 'Acidic', 'Base', 'Base', 'Acidic', 'Acidic', 'Acidic', 'Base', 'Acidic', 'Acidic', 'Acidic', 'Base', 'Base', 'Base', 'Acidic', 'Base', 'Acidic', 'Acidic', 'Acidic', 'Acidic', 'Acidic', 'Acidic', 'Acidic', 'Acidic', 'Acidic', 'Base', 'Acidic', 'Acidic', 'Acidic', 'Base', 'Acidic', 'Base', 'Base', 'Acidic', 'Acidic', 'Base', 'Acidic', 'Acidic', 'Acidic', 'Acidic', 'Acidic', 'Acidic', 'Acidic', 'Acidic', 'Base', 'Base', 'Acidic', 'Acidic', 'Acidic', 'Acidic', 'Base', 'Base', 'Acidic', 'Acidic', 'Acidic', 'Base', 'Base', 'Base', 'Base', 'Acidic', 'Base', 'Base', 'Acidic', 'Base', 'Acidic', 'Base', 'Acidic', 'Acidic', 'Base', 'Base', 'Base', 'Base', 'Base', 'Acidic', 'Acidic', 'Base', 'Acidic', 'Acidic', 'Acidic', 'Acidic', 'Base', 'Acidic', 'Acidic', 'Base', 'Base', 'Acidic', 'Acidic', 'Acidic', 'Acidic', 'Acidic', 'Base', 'Base', 'Base', 'Base', 'Base', 'Base', 'Acidic', 'Acidic', 'Acidic', 'Acidic', 'Acidic', 'Base', 'Acidic', 'Acidic', 'Acidic', 'Acidic', 'Acidic', 'Acidic', 'Acidic', 'Acidic', 'Acidic', 'Base', 'Base', 'Base', 'Acidic', 'Base', 'Acidic', 'Base', 'Base', 'Base', 'Base', 'Acidic', 'Acidic', 'Base', 'Acidic', 'Base', 'Acidic', 'Acidic', 'Acidic', 'Acidic', 'Acidic', 'Acidic', 'Acidic', 'Base', 'Acidic', 'Acidic', 'Base', 'Acidic', 'Acidic', 'Acidic', 'Acidic', 'Acidic', 'Acidic', 'Base', 'Base', 'Base', 'Base', 'Acidic', 'Base', 'Base', 'Base', 'Base', 'Acidic', 'Acidic', 'Acidic', 'Acidic', 'Base', 'Acidic', 'Acidic', 'Acidic', 'Acidic', 'Acidic', 'Acidic', 'Base', 'Acidic', 'Base', 'Base', 'Base', 'Base', 'Base', 'Acidic', 'Base', 'Acidic', 'Base', 'Acidic', 'Acidic', 'Acidic', 'Acidic', 'Acidic', 'Base', 'Acidic', 'Acidic', 'Base', 'Base', 'Base', 'Base', 'Base', 'Base', 'Base', 'Base', 'Acidic', 'Acidic', 'Base', 'Base', 'Base', 'Acidic', 'Acidic', 'Base', 'Acidic', 'Base', 'Base', 'Acidic', 'Acidic', 'Base', 'Base', 'Base', 'Base', 'Base', 'Acidic', 'Base', 'Acidic', 'Acidic', 'Acidic', 'Acidic', 'Acidic', 'Base', 'Acidic', 'Acidic', 'Acidic', 'Acidic', 'Acidic', 'Acidic', 'Base', 'Base', 'Base', 'Acidic', 'Acidic', 'Acidic', 'Acidic', 'Acidic', 'Acidic', 'Acidic', 'Acidic', 'Acidic', 'Acidic', 'Acidic', 'Acidic', 'Acidic', 'Acidic', 'Base', 'Base', 'Base', 'Base', 'Acidic', 'Acidic', 'Base', 'Acidic', 'Base', 'Acidic', 'Acidic', 'Base', 'Acidic', 'Base', 'Acidic', 'Acidic', 'Acidic', 'Base', 'Base', 'Acidic', 'Acidic', 'Base', 'Base', 'Acidic', 'Base', 'Base', 'Acidic', 'Acidic', 'Acidic', 'Acidic', 'Base', 'Acidic', 'Acidic', 'Acidic', 'Acidic', 'Acidic', 'Acidic', 'Acidic', 'Acidic', 'Acidic', 'Acidic', 'Base', 'Base', 'Acidic', 'Acidic', 'Base', 'Acidic', 'Acidic', 'Base', 'Base', 'Acidic', 'Base', 'Base', 'Acidic', 'Acidic', 'Acidic', 'Base', 'Acidic', 'Acidic', 'Base', 'Acidic', 'Base', 'Acidic', 'Acidic', 'Acidic', 'Acidic', 'Acidic', 'Acidic', 'Base', 'Base', 'Acidic', 'Acidic', 'Acidic', 'Acidic', 'Acidic', 'Acidic', 'Acidic', 'Acidic', 'Acidic', 'Acidic', 'Acidic', 'Base', 'Base', 'Acidic', 'Acidic', 'Acidic', 'Acidic', 'Acidic', 'Base', 'Base', 'Acidic', 'Acidic', 'Base', 'Acidic', 'Acidic', 'Acidic', 'Base', 'Acidic', 'Base', 'Acidic', 'Acidic', 'Base', 'Acidic', 'Base', 'Base', 'Base', 'Acidic', 'Acidic', 'Acidic', 'Base', 'Base', 'Acidic', 'Base', 'Base', 'Acidic', 'Acidic', 'Acidic', 'Acidic', 'Acidic', 'Acidic', 'Acidic', 'Acidic', 'Acidic', 'Acidic', 'Acidic', 'Acidic', 'Base', 'Base', 'Acidic', 'Acidic', 'Acidic', 'Acidic', 'Acidic', 'Acidic', 'Acidic', 'Acidic', 'Acidic', 'Base', 'Acidic', 'Acidic', 'Base', 'Acidic', 'Acidic', 'Acidic', 'Base', 'Acidic', 'Base', 'Acidic', 'Acidic', 'Acidic', 'Base', 'Acidic', 'Acidic', 'Base', 'Acidic', 'Acidic', 'Acidic', 'Acidic', 'Base', 'Acidic', 'Acidic', 'Acidic', 'Acidic', 'Acidic', 'Acidic', 'Base', 'Base', 'Acidic', 'Acidic', 'Acidic', 'Base', 'Base', 'Acidic', 'Acidic', 'Acidic', 'Acidic', 'Base', 'Acidic', 'Acidic', 'Base', 'Acidic', 'Acidic', 'Acidic', 'Base', 'Acidic', 'Base', 'Base', 'Acidic', 'Base', 'Acidic', 'Acidic', 'Base', 'Acidic', 'Base', 'Acidic', 'Acidic', 'Acidic', 'Acidic', 'Base', 'Base', 'Base', 'Base', 'Base', 'Acidic', 'Base', 'Acidic', 'Base', 'Base', 'Base', 'Base', 'Acidic', 'Acidic', 'Acidic', 'Base', 'Acidic', 'Acidic', 'Base', 'Acidic', 'Acidic', 'Acidic', 'Acidic', 'Acidic', 'Acidic', 'Base', 'Acidic', 'Acidic', 'Base', 'Acidic', 'Base', 'Base', 'Acidic', 'Acidic', 'Acidic', 'Base', 'Base', 'Base', 'Acidic', 'Acidic', 'Base', 'Acidic', 'Base', 'Base', 'Base', 'Acidic', 'Acidic', 'Acidic', 'Acidic', 'Acidic', 'Acidic', 'Acidic', 'Base', 'Base', 'Acidic', 'Acidic', 'Acidic', 'Acidic', 'Acidic', 'Acidic', 'Base', 'Acidic', 'Acidic', 'Acidic', 'Base', 'Base', 'Base', 'Acidic', 'Acidic', 'Acidic', 'Acidic', 'Base', 'Base', 'Acidic', 'Acidic', 'Acidic', 'Acidic', 'Acidic', 'Acidic', 'Base', 'Acidic', 'Base', 'Acidic', 'Acidic', 'Acidic', 'Acidic', 'Acidic', 'Acidic', 'Acidic', 'Acidic', 'Acidic', 'Acidic', 'Acidic', 'Acidic', 'Acidic', 'Acidic', 'Base', 'Acidic', 'Acidic', 'Acidic', 'Acidic', 'Acidic', 'Acidic', 'Acidic', 'Acidic', 'Acidic', 'Base', 'Acidic', 'Base', 'Acidic', 'Base', 'Base', 'Acidic', 'Acidic', 'Acidic', 'Base', 'Acidic', 'Acidic', 'Acidic', 'Acidic', 'Acidic', 'Acidic', 'Acidic', 'Acidic', 'Acidic', 'Base', 'Acidic', 'Acidic', 'Acidic', 'Base', 'Base', 'Base', 'Base', 'Acidic', 'Acidic', 'Acidic', 'Base', 'Base', 'Acidic', 'Acidic', 'Base', 'Acidic', 'Acidic', 'Acidic', 'Acidic', 'Acidic', 'Base', 'Acidic', 'Acidic', 'Acidic', 'Acidic', 'Acidic', 'Acidic', 'Base', 'Acidic', 'Acidic', 'Acidic', 'Acidic', 'Base', 'Acidic', 'Acidic', 'Acidic', 'Acidic', 'Acidic', 'Acidic', 'Acidic', 'Acidic', 'Acidic', 'Acidic', 'Acidic', 'Acidic', 'Acidic', 'Acidic', 'Base', 'Base', 'Acidic', 'Acidic', 'Acidic', 'Acidic', 'Base', 'Acidic', 'Acidic', 'Acidic', 'Acidic', 'Base', 'Acidic', 'Acidic', 'Acidic', 'Acidic', 'Acidic', 'Base', 'Acidic', 'Acidic', 'Acidic', 'Acidic', 'Acidic', 'Acidic', 'Acidic', 'Base', 'Acidic', 'Acidic', 'Acidic', 'Base', 'Base', 'Base', 'Base', 'Acidic', 'Acidic', 'Base', 'Acidic', 'Base', 'Acidic', 'Base', 'Base', 'Acidic', 'Acidic', 'Acidic', 'Base', 'Base', 'Acidic', 'Acidic', 'Base', 'Base', 'Acidic', 'Acidic', 'Base', 'Base', 'Base', 'Base', 'Acidic', 'Acidic', 'Acidic', 'Acidic', 'Base', 'Acidic', 'Acidic', 'Acidic', 'Acidic', 'Acidic', 'Base', 'Acidic', 'Base', 'Acidic', 'Acidic', 'Acidic', 'Acidic', 'Acidic', 'Acidic', 'Base', 'Acidic', 'Acidic', 'Acidic', 'Base', 'Base', 'Acidic', 'Base', 'Acidic', 'Base', 'Acidic', 'Acidic', 'Acidic', 'Acidic', 'Acidic', 'Acidic', 'Acidic', 'Base', 'Acidic', 'Acidic', 'Acidic', 'Base', 'Acidic', 'Acidic', 'Acidic', 'Base', 'Acidic', 'Base', 'Base', 'Acidic', 'Acidic', 'Acidic', 'Acidic', 'Acidic', 'Base', 'Acidic', 'Acidic', 'Acidic', 'Acidic', 'Acidic', 'Acidic', 'Acidic', 'Acidic', 'Base', 'Base', 'Acidic', 'Base', 'Acidic', 'Base', 'Acidic', 'Base', 'Base', 'Acidic', 'Acidic', 'Acidic', 'Acidic', 'Acidic', 'Acidic', 'Acidic', 'Acidic', 'Acidic', 'Acidic', 'Acidic', 'Acidic', 'Acidic', 'Acidic', 'Base', 'Base', 'Acidic', 'Acidic', 'Acidic', 'Acidic', 'Acidic', 'Base', 'Acidic', 'Acidic', 'Base', 'Acidic', 'Base', 'Acidic', 'Base', 'Base', 'Acidic', 'Base', 'Acidic', 'Acidic', 'Acidic', 'Acidic', 'Base', 'Acidic', 'Base', 'Base', 'Acidic', 'Acidic', 'Base', 'Acidic', 'Base', 'Acidic', 'Acidic', 'Base', 'Base', 'Base', 'Base', 'Acidic', 'Acidic', 'Acidic', 'Acidic', 'Base', 'Base', 'Base', 'Base', 'Base', 'Acidic', 'Acidic', 'Acidic', 'Base', 'Acidic', 'Base', 'Acidic', 'Acidic', 'Acidic', 'Base', 'Base', 'Base', 'Acidic', 'Base', 'Base', 'Base', 'Acidic', 'Base', 'Acidic', 'Acidic', 'Acidic', 'Base', 'Acidic', 'Acidic', 'Base', 'Base', 'Acidic', 'Base', 'Acidic', 'Acidic', 'Acidic', 'Acidic', 'Acidic', 'Acidic', 'Acidic', 'Acidic', 'Acidic', 'Acidic', 'Base', 'Acidic', 'Acidic', 'Base', 'Acidic', 'Base', 'Base', 'Acidic', 'Acidic', 'Acidic', 'Acidic', 'Acidic', 'Base', 'Acidic', 'Base', 'Base', 'Acidic', 'Acidic', 'Acidic', 'Base', 'Acidic', 'Acidic', 'Acidic', 'Base', 'Acidic', 'Acidic', 'Acidic', 'Acidic', 'Base', 'Base', 'Base', 'Base', 'Acidic', 'Base', 'Acidic', 'Base', 'Base', 'Acidic', 'Acidic', 'Base', 'Acidic', 'Acidic', 'Acidic', 'Base', 'Acidic', 'Base', 'Base', 'Acidic', 'Acidic', 'Base', 'Acidic', 'Base', 'Acidic', 'Acidic', 'Acidic', 'Base', 'Acidic', 'Acidic', 'Acidic', 'Base', 'Acidic', 'Base', 'Acidic', 'Acidic', 'Base', 'Acidic', 'Acidic', 'Acidic', 'Base', 'Acidic', 'Base', 'Acidic', 'Acidic', 'Acidic', 'Acidic', 'Base', 'Acidic', 'Base', 'Acidic', 'Base', 'Base', 'Acidic', 'Acidic', 'Acidic', 'Acidic', 'Acidic', 'Base', 'Acidic', 'Acidic', 'Base', 'Base', 'Acidic', 'Base', 'Base', 'Acidic', 'Base', 'Base', 'Base', 'Acidic', 'Base', 'Acidic', 'Acidic', 'Acidic', 'Base', 'Base', 'Base', 'Base', 'Acidic', 'Acidic', 'Acidic', 'Acidic', 'Acidic', 'Base', 'Acidic', 'Acidic', 'Acidic', 'Base', 'Acidic', 'Base', 'Acidic', 'Acidic', 'Acidic', 'Base', 'Base', 'Acidic', 'Acidic', 'Acidic', 'Base', 'Acidic', 'Acidic', 'Acidic', 'Acidic', 'Acidic', 'Acidic', 'Acidic', 'Acidic', 'Base', 'Acidic', 'Acidic', 'Base', 'Base', 'Acidic', 'Acidic', 'Acidic', 'Base', 'Base', 'Acidic', 'Acidic', 'Acidic', 'Acidic', 'Base', 'Base', 'Acidic', 'Acidic', 'Acidic', 'Acidic', 'Acidic', 'Acidic', 'Acidic', 'Acidic', 'Acidic', 'Acidic', 'Acidic', 'Acidic', 'Acidic', 'Acidic', 'Acidic', 'Acidic', 'Acidic', 'Acidic', 'Acidic', 'Acidic', 'Acidic', 'Acidic', 'Base', 'Acidic', 'Acidic', 'Acidic', 'Acidic', 'Acidic', 'Acidic', 'Acidic', 'Acidic', 'Acidic', 'Acidic', 'Acidic', 'Acidic', 'Acidic', 'Acidic', 'Acidic', 'Base', 'Acidic', 'Acidic', 'Acidic', 'Acidic', 'Acidic', 'Acidic', 'Acidic', 'Base', 'Acidic', 'Base', 'Acidic', 'Acidic', 'Acidic', 'Acidic', 'Base', 'Acidic', 'Acidic', 'Base', 'Base', 'Acidic', 'Acidic', 'Acidic', 'Acidic', 'Acidic', 'Acidic', 'Acidic', 'Acidic', 'Acidic', 'Acidic', 'Base', 'Base', 'Acidic', 'Base', 'Acidic', 'Acidic', 'Acidic', 'Acidic', 'Base', 'Acidic', 'Acidic', 'Acidic', 'Acidic', 'Acidic', 'Acidic', 'Acidic', 'Acidic', 'Acidic', 'Acidic', 'Acidic', 'Acidic', 'Acidic', 'Acidic', 'Acidic', 'Base', 'Acidic', 'Base', 'Base', 'Base', 'Base', 'Base', 'Acidic', 'Acidic', 'Acidic', 'Base', 'Acidic', 'Base', 'Base', 'Base', 'Base', 'Base', 'Acidic', 'Acidic', 'Base', 'Base', 'Acidic', 'Acidic', 'Acidic', 'Base', 'Acidic', 'Acidic', 'Acidic', 'Acidic', 'Acidic', 'Acidic', 'Acidic', 'Acidic', 'Acidic', 'Acidic', 'Acidic', 'Acidic', 'Acidic', 'Acidic', 'Acidic', 'Acidic', 'Base', 'Acidic', 'Acidic', 'Base', 'Acidic', 'Base', 'Acidic', 'Acidic', 'Base', 'Base', 'Acidic', 'Base', 'Acidic', 'Base', 'Acidic', 'Acidic', 'Base', 'Acidic', 'Base', 'Base', 'Acidic', 'Acidic', 'Acidic', 'Base', 'Base', 'Acidic', 'Acidic', 'Acidic', 'Base', 'Acidic', 'Base', 'Base', 'Acidic', 'Acidic', 'Acidic', 'Base', 'Acidic', 'Acidic', 'Acidic', 'Base', 'Base', 'Base', 'Base', 'Base', 'Base', 'Base', 'Base', 'Base', 'Acidic', 'Acidic', 'Acidic', 'Base', 'Base', 'Acidic', 'Acidic', 'Acidic', 'Base', 'Acidic', 'Acidic', 'Base', 'Acidic', 'Acidic', 'Base', 'Acidic', 'Base', 'Base', 'Base', 'Base', 'Acidic', 'Acidic', 'Acidic', 'Base', 'Acidic', 'Acidic', 'Acidic', 'Base', 'Acidic', 'Base', 'Base', 'Base', 'Base', 'Acidic', 'Base', 'Acidic', 'Acidic', 'Base', 'Acidic', 'Acidic', 'Acidic', 'Base', 'Acidic', 'Acidic', 'Acidic', 'Base', 'Acidic', 'Base', 'Base', 'Base', 'Base', 'Base', 'Acidic', 'Acidic', 'Base', 'Acidic', 'Base', 'Base', 'Acidic', 'Base', 'Base', 'Acidic', 'Base', 'Acidic', 'Base', 'Base', 'Acidic', 'Acidic', 'Acidic', 'Acidic', 'Base', 'Acidic', 'Base', 'Acidic', 'Acidic', 'Acidic', 'Acidic', 'Base', 'Base', 'Base', 'Acidic', 'Acidic', 'Acidic', 'Acidic', 'Acidic', 'Acidic', 'Acidic', 'Acidic', 'Acidic', 'Acidic', 'Acidic', 'Acidic', 'Acidic', 'Acidic', 'Acidic', 'Acidic', 'Acidic', 'Acidic', 'Acidic', 'Base', 'Acidic', 'Acidic', 'Acidic', 'Base', 'Acidic', 'Acidic', 'Acidic', 'Base', 'Acidic', 'Base', 'Acidic', 'Base', 'Acidic', 'Base', 'Acidic', 'Acidic', 'Acidic', 'Acidic', 'Acidic', 'Acidic', 'Acidic', 'Acidic', 'Acidic', 'Acidic', 'Acidic', 'Acidic', 'Acidic', 'Acidic', 'Acidic', 'Acidic', 'Base', 'Acidic', 'Base', 'Acidic', 'Acidic', 'Base', 'Acidic', 'Base', 'Base', 'Acidic', 'Acidic', 'Acidic', 'Base', 'Acidic', 'Acidic', 'Acidic', 'Acidic', 'Acidic', 'Acidic', 'Acidic', 'Acidic', 'Acidic', 'Base', 'Acidic', 'Base', 'Acidic', 'Acidic', 'Base', 'Base', 'Acidic', 'Acidic', 'Acidic', 'Base', 'Acidic', 'Acidic', 'Acidic', 'Base', 'Base', 'Acidic', 'Acidic', 'Base', 'Acidic', 'Acidic', 'Acidic', 'Base', 'Acidic', 'Acidic', 'Acidic', 'Acidic', 'Acidic', 'Acidic', 'Acidic', 'Acidic', 'Base', 'Acidic', 'Acidic', 'Base', 'Base', 'Acidic', 'Base', 'Base', 'Base', 'Base', 'Base', 'Acidic', 'Acidic', 'Base', 'Acidic', 'Acidic', 'Base', 'Base', 'Acidic', 'Acidic', 'Acidic', 'Acidic', 'Acidic', 'Acidic', 'Acidic', 'Acidic', 'Base', 'Acidic', 'Acidic', 'Acidic', 'Base', 'Acidic', 'Base', 'Acidic', 'Base', 'Base', 'Base', 'Base', 'Acidic', 'Acidic', 'Acidic', 'Base', 'Acidic', 'Acidic', 'Acidic', 'Acidic', 'Acidic', 'Base', 'Acidic', 'Base', 'Base', 'Base', 'Acidic', 'Acidic', 'Acidic', 'Base', 'Acidic', 'Base', 'Acidic', 'Base', 'Acidic', 'Acidic', 'Acidic', 'Acidic', 'Acidic', 'Acidic', 'Acidic', 'Acidic', 'Base', 'Base', 'Base', 'Acidic', 'Base', 'Acidic', 'Base', 'Acidic', 'Base', 'Base', 'Acidic', 'Base', 'Acidic', 'Acidic', 'Acidic', 'Acidic', 'Acidic', 'Acidic', 'Base', 'Acidic', 'Acidic', 'Base', 'Base', 'Acidic', 'Base', 'Acidic', 'Acidic', 'Acidic', 'Acidic', 'Base', 'Base', 'Base', 'Base', 'Acidic', 'Acidic', 'Acidic', 'Acidic', 'Base', 'Base', 'Acidic', 'Base', 'Acidic', 'Base', 'Base', 'Base', 'Base', 'Acidic', 'Base', 'Base', 'Base', 'Acidic', 'Base', 'Acidic', 'Acidic', 'Base', 'Base', 'Acidic', 'Base', 'Base', 'Acidic', 'Acidic', 'Acidic', 'Base', 'Base', 'Acidic', 'Acidic', 'Acidic', 'Base', 'Acidic', 'Acidic', 'Acidic', 'Acidic', 'Acidic', 'Acidic', 'Acidic', 'Base', 'Acidic', 'Base', 'Base', 'Acidic', 'Base', 'Base', 'Base', 'Acidic', 'Base', 'Acidic', 'Acidic', 'Base', 'Acidic', 'Acidic', 'Base', 'Base', 'Base', 'Base', 'Base', 'Acidic', 'Base', 'Acidic', 'Acidic', 'Acidic', 'Acidic', 'Acidic', 'Acidic', 'Acidic', 'Acidic', 'Acidic', 'Acidic', 'Base', 'Acidic', 'Acidic', 'Acidic', 'Acidic', 'Acidic', 'Acidic', 'Acidic', 'Base', 'Base', 'Base', 'Base', 'Base', 'Base', 'Base', 'Base', 'Acidic', 'Acidic', 'Acidic', 'Acidic', 'Acidic', 'Acidic', 'Acidic', 'Acidic', 'Base', 'Acidic', 'Acidic', 'Acidic', 'Acidic', 'Acidic', 'Acidic', 'Acidic', 'Base', 'Acidic', 'Acidic', 'Base', 'Acidic', 'Acidic', 'Base', 'Acidic', 'Base', 'Acidic', 'Acidic', 'Acidic', 'Acidic', 'Acidic', 'Acidic', 'Acidic', 'Acidic', 'Acidic', 'Acidic', 'Base', 'Acidic', 'Acidic', 'Acidic', 'Acidic', 'Acidic', 'Acidic', 'Base', 'Base', 'Base', 'Base', 'Acidic', 'Acidic', 'Acidic', 'Acidic', 'Acidic', 'Acidic', 'Base', 'Base', 'Acidic', 'Acidic', 'Acidic', 'Base', 'Acidic', 'Base', 'Acidic', 'Base', 'Acidic', 'Acidic', 'Acidic', 'Acidic', 'Base', 'Acidic', 'Acidic', 'Acidic', 'Acidic', 'Base', 'Base', 'Base', 'Acidic', 'Base', 'Acidic', 'Acidic', 'Acidic', 'Acidic', 'Acidic', 'Acidic', 'Base', 'Base', 'Base', 'Acidic', 'Acidic', 'Acidic', 'Acidic', 'Acidic', 'Acidic', 'Base', 'Acidic', 'Acidic', 'Acidic', 'Acidic', 'Acidic', 'Acidic', 'Acidic', 'Acidic', 'Acidic', 'Acidic', 'Acidic', 'Acidic', 'Acidic', 'Acidic', 'Acidic', 'Acidic', 'Acidic', 'Acidic', 'Acidic', 'Acidic', 'Base', 'Acidic', 'Base', 'Base', 'Acidic', 'Base', 'Acidic', 'Acidic', 'Acidic', 'Acidic', 'Acidic', 'Base', 'Acidic', 'Acidic', 'Acidic', 'Acidic', 'Acidic', 'Acidic', 'Acidic', 'Acidic', 'Acidic', 'Acidic', 'Acidic', 'Base', 'Base', 'Acidic', 'Acidic', 'Base', 'Acidic', 'Acidic', 'Acidic', 'Acidic', 'Base', 'Acidic', 'Base', 'Acidic', 'Base', 'Base', 'Acidic', 'Base', 'Acidic', 'Acidic', 'Acidic', 'Acidic', 'Acidic', 'Base', 'Acidic', 'Base', 'Base', 'Base', 'Base', 'Acidic', 'Acidic', 'Acidic', 'Acidic', 'Acidic', 'Base', 'Base', 'Base', 'Base', 'Base', 'Base', 'Base', 'Base', 'Acidic', 'Acidic', 'Acidic', 'Acidic', 'Acidic', 'Acidic', 'Acidic', 'Base', 'Acidic', 'Acidic', 'Acidic', 'Acidic', 'Acidic', 'Acidic', 'Base', 'Base', 'Acidic', 'Base', 'Acidic', 'Acidic', 'Acidic', 'Acidic', 'Acidic', 'Base', 'Acidic', 'Acidic', 'Base', 'Acidic', 'Acidic', 'Acidic', 'Acidic', 'Acidic', 'Acidic', 'Base', 'Base', 'Base', 'Acidic', 'Acidic', 'Acidic', 'Base', 'Base', 'Acidic', 'Acidic', 'Acidic', 'Acidic', 'Acidic', 'Acidic', 'Acidic', 'Acidic', 'Acidic', 'Acidic', 'Acidic', 'Acidic', 'Base', 'Acidic', 'Acidic', 'Acidic', 'Acidic', 'Acidic', 'Acidic', 'Acidic', 'Acidic', 'Base', 'Acidic', 'Base', 'Acidic', 'Acidic', 'Acidic', 'Acidic', 'Acidic', 'Acidic', 'Acidic', 'Acidic', 'Acidic', 'Acidic', 'Acidic', 'Acidic', 'Acidic', 'Acidic', 'Acidic', 'Base', 'Acidic', 'Acidic', 'Acidic', 'Acidic', 'Acidic', 'Acidic', 'Acidic', 'Acidic', 'Acidic', 'Acidic', 'Acidic', 'Base', 'Acidic', 'Acidic', 'Base', 'Acidic', 'Acidic', 'Base', 'Acidic', 'Acidic', 'Acidic', 'Base', 'Acidic', 'Acidic', 'Acidic', 'Acidic', 'Acidic', 'Acidic', 'Acidic', 'Acidic', 'Acidic', 'Acidic', 'Acidic', 'Acidic', 'Acidic', 'Acidic', 'Base', 'Acidic', 'Base', 'Acidic', 'Acidic', 'Base', 'Acidic', 'Base', 'Acidic', 'Base', 'Base', 'Acidic', 'Acidic', 'Acidic', 'Acidic', 'Acidic', 'Acidic', 'Acidic', 'Acidic', 'Acidic', 'Acidic', 'Acidic', 'Acidic', 'Base', 'Base', 'Acidic', 'Acidic', 'Acidic', 'Acidic', 'Base', 'Acidic', 'Acidic', 'Base', 'Base', 'Base', 'Base', 'Base', 'Acidic', 'Acidic', 'Acidic', 'Acidic', 'Acidic', 'Base', 'Acidic', 'Acidic', 'Acidic', 'Acidic', 'Acidic', 'Acidic', 'Acidic', 'Acidic', 'Acidic', 'Acidic', 'Acidic', 'Base', 'Acidic', 'Acidic', 'Base', 'Acidic', 'Acidic', 'Acidic', 'Base', 'Acidic', 'Acidic', 'Base', 'Base', 'Base', 'Acidic', 'Acidic', 'Base', 'Acidic', 'Base', 'Acidic', 'Base', 'Acidic', 'Acidic', 'Acidic', 'Acidic', 'Acidic', 'Base', 'Base', 'Acidic', 'Acidic', 'Acidic', 'Acidic', 'Acidic', 'Base', 'Acidic', 'Acidic', 'Acidic', 'Acidic', 'Acidic', 'Acidic', 'Base', 'Acidic', 'Acidic', 'Acidic', 'Acidic', 'Acidic', 'Base', 'Acidic', 'Acidic', 'Acidic', 'Acidic', 'Acidic', 'Base', 'Acidic', 'Acidic', 'Base', 'Acidic', 'Acidic', 'Acidic', 'Acidic', 'Acidic', 'Base', 'Acidic', 'Base', 'Base', 'Base', 'Acidic', 'Acidic', 'Acidic', 'Acidic', 'Acidic', 'Base', 'Acidic', 'Acidic', 'Acidic', 'Acidic', 'Acidic', 'Base', 'Acidic', 'Acidic', 'Acidic', 'Acidic', 'Acidic', 'Acidic', 'Acidic', 'Acidic', 'Base', 'Acidic', 'Acidic', 'Acidic', 'Acidic', 'Acidic', 'Base', 'Acidic', 'Base', 'Base', 'Acidic', 'Acidic', 'Base', 'Base', 'Base', 'Base', 'Base', 'Base', 'Acidic', 'Acidic', 'Base', 'Acidic', 'Acidic', 'Acidic', 'Base', 'Base', 'Acidic', 'Acidic', 'Acidic', 'Acidic', 'Acidic', 'Acidic', 'Acidic', 'Acidic', 'Base', 'Acidic', 'Acidic', 'Acidic', 'Acidic', 'Base', 'Acidic', 'Acidic', 'Acidic', 'Acidic', 'Base', 'Acidic', 'Acidic', 'Base', 'Acidic', 'Base', 'Acidic', 'Acidic', 'Acidic', 'Acidic', 'Acidic', 'Acidic', 'Acidic', 'Acidic', 'Base', 'Base', 'Base', 'Acidic', 'Acidic', 'Acidic', 'Base', 'Acidic', 'Acidic', 'Base', 'Acidic', 'Acidic', 'Acidic', 'Base', 'Acidic', 'Acidic', 'Acidic', 'Acidic', 'Acidic', 'Base', 'Base', 'Acidic', 'Acidic', 'Acidic', 'Acidic', 'Acidic', 'Acidic', 'Acidic', 'Acidic', 'Acidic', 'Acidic', 'Acidic', 'Acidic', 'Acidic', 'Acidic', 'Acidic', 'Acidic', 'Base', 'Acidic', 'Acidic', 'Acidic', 'Acidic', 'Acidic', 'Acidic', 'Acidic', 'Base', 'Base', 'Acidic', 'Acidic', 'Acidic', 'Acidic', 'Acidic', 'Acidic', 'Acidic', 'Acidic', 'Acidic', 'Acidic', 'Base', 'Acidic', 'Acidic', 'Acidic', 'Acidic', 'Base', 'Base', 'Acidic', 'Acidic', 'Acidic', 'Acidic', 'Acidic', 'Acidic', 'Acidic', 'Acidic', 'Acidic', 'Acidic', 'Acidic', 'Acidic', 'Base', 'Acidic', 'Acidic', 'Acidic', 'Base', 'Acidic', 'Acidic', 'Acidic', 'Acidic', 'Acidic', 'Acidic', 'Base', 'Acidic', 'Acidic', 'Acidic', 'Base', 'Acidic', 'Acidic', 'Acidic', 'Acidic', 'Acidic', 'Acidic', 'Acidic', 'Acidic', 'Acidic', 'Acidic', 'Acidic', 'Acidic', 'Acidic', 'Base', 'Acidic', 'Acidic', 'Acidic', 'Acidic', 'Acidic', 'Acidic', 'Acidic', 'Acidic', 'Acidic', 'Acidic', 'Acidic', 'Acidic', 'Acidic', 'Acidic', 'Acidic', 'Acidic', 'Acidic', 'Acidic', 'Acidic', 'Acidic', 'Acidic', 'Acidic', 'Acidic', 'Base', 'Acidic', 'Acidic', 'Acidic', 'Acidic', 'Base', 'Acidic', 'Acidic', 'Base', 'Acidic', 'Acidic', 'Acidic', 'Acidic', 'Acidic', 'Acidic', 'Acidic', 'Acidic', 'Acidic', 'Acidic', 'Acidic', 'Acidic', 'Acidic', 'Acidic', 'Acidic', 'Base', 'Acidic', 'Acidic', 'Acidic', 'Acidic', 'Acidic', 'Acidic', 'Acidic', 'Acidic', 'Acidic', 'Acidic', 'Base', 'Acidic', 'Acidic', 'Acidic', 'Acidic', 'Acidic', 'Acidic', 'Acidic', 'Acidic', 'Acidic', 'Acidic', 'Acidic', 'Acidic', 'Base', 'Base', 'Acidic', 'Acidic', 'Acidic', 'Acidic', 'Base', 'Acidic', 'Acidic', 'Acidic', 'Acidic', 'Acidic', 'Acidic', 'Acidic', 'Base', 'Acidic', 'Acidic', 'Acidic', 'Acidic', 'Acidic', 'Acidic', 'Base', 'Acidic', 'Acidic', 'Acidic', 'Acidic', 'Acidic', 'Acidic', 'Base', 'Acidic', 'Acidic', 'Acidic', 'Base', 'Acidic', 'Acidic', 'Acidic', 'Acidic', 'Base', 'Acidic', 'Acidic', 'Acidic', 'Acidic', 'Acidic', 'Acidic', 'Acidic', 'Acidic', 'Acidic', 'Acidic', 'Acidic', 'Acidic', 'Acidic', 'Acidic', 'Acidic', 'Acidic', 'Acidic', 'Base', 'Acidic', 'Acidic', 'Acidic', 'Acidic', 'Acidic', 'Acidic', 'Acidic', 'Acidic', 'Acidic', 'Acidic', 'Acidic', 'Acidic', 'Base', 'Acidic', 'Acidic', 'Acidic', 'Acidic', 'Acidic', 'Acidic', 'Acidic', 'Acidic', 'Acidic', 'Acidic', 'Acidic', 'Acidic', 'Acidic', 'Base', 'Acidic', 'Acidic', 'Acidic', 'Base', 'Acidic', 'Acidic', 'Acidic', 'Acidic', 'Acidic', 'Base', 'Acidic', 'Acidic', 'Acidic', 'Acidic', 'Base', 'Acidic', 'Acidic', 'Acidic', 'Acidic', 'Acidic', 'Acidic', 'Base', 'Acidic', 'Acidic', 'Base', 'Acidic', 'Acidic', 'Acidic', 'Acidic', 'Acidic', 'Acidic', 'Acidic', 'Acidic', 'Acidic', 'Acidic', 'Acidic', 'Acidic', 'Base', 'Acidic', 'Acidic', 'Acidic', 'Acidic', 'Acidic', 'Acidic', 'Acidic', 'Acidic', 'Acidic', 'Acidic', 'Base', 'Acidic', 'Acidic', 'Acidic', 'Acidic', 'Acidic', 'Acidic', 'Acidic', 'Acidic', 'Acidic', 'Acidic', 'Base', 'Base', 'Acidic', 'Acidic', 'Base', 'Base', 'Acidic', 'Base', 'Acidic', 'Base', 'Base', 'Acidic', 'Acidic', 'Acidic', 'Base', 'Acidic', 'Acidic', 'Acidic', 'Acidic', 'Acidic', 'Acidic', 'Acidic', 'Acidic', 'Acidic', 'Acidic', 'Acidic', 'Acidic', 'Acidic', 'Acidic', 'Acidic', 'Base', 'Acidic', 'Acidic', 'Acidic', 'Base', 'Acidic', 'Acidic', 'Acidic', 'Acidic', 'Base', 'Base', 'Acidic', 'Base', 'Acidic', 'Acidic', 'Acidic', 'Acidic', 'Base', 'Acidic', 'Acidic', 'Acidic', 'Acidic', 'Acidic', 'Acidic', 'Acidic', 'Base', 'Acidic', 'Base', 'Base', 'Acidic', 'Acidic', 'Acidic', 'Acidic', 'Base', 'Base', 'Acidic', 'Acidic', 'Acidic', 'Acidic', 'Acidic', 'Acidic', 'Acidic', 'Acidic', 'Acidic', 'Acidic', 'Acidic', 'Base', 'Acidic', 'Acidic', 'Acidic', 'Acidic', 'Acidic', 'Acidic', 'Acidic', 'Acidic', 'Base', 'Acidic', 'Acidic', 'Acidic', 'Acidic', 'Base', 'Acidic', 'Acidic', 'Acidic', 'Acidic', 'Acidic', 'Acidic', 'Base', 'Acidic', 'Acidic', 'Acidic', 'Acidic', 'Acidic', 'Acidic', 'Acidic', 'Acidic', 'Acidic', 'Acidic', 'Base', 'Acidic', 'Base', 'Acidic', 'Acidic', 'Acidic', 'Acidic', 'Acidic', 'Base', 'Acidic', 'Base', 'Base', 'Acidic', 'Acidic', 'Acidic', 'Acidic', 'Acidic', 'Acidic', 'Acidic', 'Acidic', 'Acidic', 'Acidic', 'Acidic', 'Acidic', 'Acidic', 'Acidic', 'Base', 'Acidic', 'Acidic', 'Acidic', 'Acidic', 'Acidic', 'Acidic', 'Acidic', 'Acidic', 'Base', 'Acidic', 'Base', 'Acidic', 'Acidic', 'Acidic', 'Acidic', 'Acidic', 'Base', 'Acidic', 'Acidic', 'Acidic', 'Base', 'Acidic', 'Acidic', 'Acidic', 'Base', 'Base', 'Base', 'Base', 'Base', 'Base', 'Base', 'Base', 'Base', 'Acidic', 'Acidic', 'Acidic', 'Acidic', 'Acidic', 'Acidic', 'Acidic', 'Acidic', 'Acidic', 'Acidic', 'Acidic', 'Acidic', 'Acidic', 'Acidic', 'Acidic', 'Acidic', 'Base', 'Acidic', 'Acidic', 'Acidic', 'Acidic', 'Acidic', 'Acidic', 'Acidic', 'Acidic', 'Base', 'Base', 'Acidic', 'Acidic', 'Acidic', 'Acidic', 'Acidic', 'Acidic', 'Acidic', 'Acidic', 'Acidic', 'Acidic', 'Acidic', 'Acidic', 'Acidic', 'Base', 'Acidic', 'Acidic', 'Base', 'Acidic', 'Acidic', 'Base', 'Acidic', 'Acidic', 'Acidic', 'Acidic', 'Acidic', 'Acidic', 'Acidic', 'Acidic', 'Acidic', 'Acidic', 'Acidic', 'Acidic', 'Acidic', 'Acidic', 'Acidic', 'Base', 'Acidic', 'Base', 'Base', 'Base', 'Base', 'Acidic', 'Base', 'Acidic', 'Acidic', 'Base', 'Base', 'Base', 'Acidic', 'Acidic', 'Acidic', 'Acidic', 'Acidic', 'Base', 'Acidic', 'Acidic', 'Acidic', 'Acidic', 'Acidic', 'Acidic', 'Acidic', 'Acidic', 'Base', 'Acidic', 'Acidic', 'Base', 'Base', 'Acidic', 'Acidic', 'Acidic', 'Acidic', 'Acidic', 'Acidic', 'Acidic', 'Acidic', 'Acidic', 'Acidic', 'Acidic', 'Acidic', 'Acidic', 'Acidic', 'Acidic', 'Acidic', 'Acidic', 'Base', 'Base', 'Acidic', 'Acidic', 'Acidic', 'Acidic', 'Base', 'Acidic', 'Acidic', 'Acidic', 'Acidic', 'Acidic', 'Acidic', 'Base', 'Acidic', 'Acidic', 'Acidic', 'Acidic', 'Acidic', 'Acidic', 'Acidic', 'Acidic', 'Acidic', 'Acidic', 'Acidic', 'Acidic', 'Acidic', 'Acidic', 'Base', 'Acidic', 'Acidic', 'Acidic', 'Acidic', 'Acidic', 'Acidic', 'Acidic', 'Acidic', 'Acidic', 'Acidic', 'Base', 'Acidic', 'Acidic', 'Acidic', 'Base', 'Acidic', 'Acidic', 'Acidic', 'Acidic', 'Base', 'Base', 'Base', 'Acidic', 'Acidic', 'Acidic', 'Acidic', 'Base', 'Base', 'Acidic', 'Base', 'Base', 'Acidic', 'Acidic', 'Acidic', 'Acidic', 'Base', 'Acidic', 'Acidic', 'Acidic', 'Base', 'Base', 'Acidic', 'Acidic', 'Acidic', 'Acidic', 'Acidic', 'Acidic', 'Acidic', 'Acidic', 'Acidic', 'Acidic', 'Acidic', 'Acidic', 'Acidic', 'Acidic', 'Acidic', 'Acidic', 'Acidic', 'Acidic', 'Acidic', 'Acidic', 'Acidic', 'Acidic', 'Base', 'Acidic', 'Acidic', 'Acidic', 'Acidic', 'Acidic', 'Acidic', 'Acidic', 'Acidic', 'Acidic', 'Acidic', 'Acidic', 'Acidic', 'Acidic', 'Acidic', 'Acidic', 'Acidic', 'Base', 'Acidic', 'Base', 'Acidic', 'Acidic', 'Acidic', 'Base', 'Acidic', 'Acidic', 'Base', 'Base', 'Acidic', 'Base', 'Acidic', 'Acidic', 'Acidic', 'Acidic', 'Base', 'Acidic', 'Acidic', 'Acidic', 'Base', 'Base', 'Acidic', 'Base', 'Base', 'Acidic', 'Acidic', 'Acidic', 'Acidic', 'Acidic', 'Acidic', 'Acidic', 'Acidic', 'Acidic', 'Acidic', 'Base', 'Acidic', 'Base', 'Acidic', 'Acidic', 'Acidic', 'Acidic', 'Acidic', 'Acidic', 'Acidic', 'Acidic', 'Acidic', 'Acidic', 'Acidic', 'Acidic', 'Acidic', 'Acidic', 'Acidic', 'Acidic', 'Acidic', 'Acidic', 'Acidic', 'Base', 'Acidic', 'Acidic', 'Acidic', 'Acidic', 'Base', 'Acidic', 'Acidic', 'Acidic', 'Acidic', 'Base', 'Acidic', 'Acidic', 'Base', 'Base', 'Acidic', 'Base', 'Base', 'Base', 'Base', 'Acidic', 'Acidic', 'Base', 'Acidic', 'Base', 'Acidic', 'Acidic', 'Acidic', 'Base', 'Acidic', 'Acidic', 'Acidic', 'Acidic', 'Acidic', 'Acidic', 'Acidic', 'Acidic', 'Acidic', 'Base', 'Base', 'Acidic', 'Base', 'Base', 'Base', 'Base', 'Acidic', 'Base', 'Base', 'Base', 'Acidic', 'Acidic', 'Acidic', 'Acidic', 'Acidic', 'Base', 'Acidic', 'Acidic', 'Acidic', 'Acidic', 'Acidic', 'Acidic', 'Acidic', 'Acidic', 'Acidic', 'Base', 'Acidic', 'Acidic', 'Acidic', 'Base', 'Acidic', 'Base', 'Acidic', 'Acidic', 'Acidic', 'Acidic', 'Base', 'Acidic', 'Acidic', 'Acidic', 'Acidic', 'Acidic', 'Acidic', 'Acidic', 'Acidic', 'Acidic', 'Acidic', 'Acidic', 'Acidic', 'Acidic', 'Acidic', 'Acidic', 'Acidic', 'Acidic', 'Acidic', 'Acidic', 'Acidic', 'Acidic', 'Acidic', 'Acidic', 'Acidic', 'Acidic', 'Acidic', 'Acidic', 'Acidic', 'Acidic', 'Base', 'Acidic', 'Acidic', 'Base', 'Base', 'Acidic', 'Acidic', 'Acidic', 'Acidic', 'Acidic', 'Acidic', 'Base', 'Acidic', 'Acidic', 'Acidic', 'Base', 'Acidic', 'Acidic', 'Acidic', 'Acidic', 'Acidic', 'Acidic', 'Acidic', 'Acidic', 'Acidic', 'Acidic', 'Acidic', 'Acidic', 'Acidic', 'Acidic', 'Acidic', 'Base', 'Acidic', 'Acidic', 'Acidic', 'Base', 'Base', 'Base', 'Base', 'Base', 'Acidic', 'Base', 'Base', 'Base', 'Acidic', 'Acidic', 'Acidic', 'Acidic', 'Acidic', 'Acidic', 'Acidic', 'Acidic', 'Acidic', 'Acidic', 'Acidic', 'Acidic', 'Acidic', 'Acidic', 'Acidic', 'Acidic', 'Base', 'Acidic', 'Acidic', 'Acidic', 'Acidic', 'Acidic', 'Acidic', 'Acidic', 'Acidic', 'Acidic', 'Acidic', 'Acidic', 'Acidic', 'Acidic', 'Acidic', 'Acidic', 'Acidic', 'Acidic', 'Acidic', 'Acidic', 'Acidic', 'Acidic', 'Acidic', 'Acidic', 'Acidic', 'Acidic', 'Base', 'Acidic', 'Acidic', 'Acidic', 'Acidic', 'Acidic', 'Acidic', 'Acidic', 'Acidic', 'Acidic', 'Acidic', 'Acidic', 'Acidic', 'Acidic', 'Acidic', 'Acidic', 'Acidic', 'Acidic', 'Acidic', 'Acidic', 'Acidic', 'Acidic', 'Acidic', 'Acidic', 'Acidic', 'Acidic', 'Acidic', 'Acidic', 'Acidic', 'Acidic', 'Acidic', 'Acidic', 'Acidic', 'Base', 'Acidic', 'Base', 'Acidic', 'Acidic', 'Acidic', 'Acidic', 'Acidic', 'Acidic', 'Acidic', 'Acidic', 'Acidic', 'Base', 'Base', 'Base', 'Acidic', 'Acidic', 'Acidic', 'Acidic', 'Acidic', 'Acidic', 'Acidic', 'Acidic', 'Acidic', 'Acidic', 'Acidic', 'Acidic', 'Acidic', 'Acidic', 'Base', 'Acidic', 'Acidic', 'Acidic', 'Acidic', 'Acidic', 'Acidic', 'Acidic', 'Acidic', 'Acidic', 'Acidic', 'Acidic', 'Acidic', 'Acidic', 'Acidic', 'Acidic', 'Acidic', 'Acidic', 'Acidic', 'Acidic', 'Acidic', 'Acidic', 'Acidic', 'Acidic', 'Acidic', 'Base', 'Acidic', 'Acidic', 'Acidic', 'Acidic', 'Acidic', 'Acidic', 'Acidic', 'Acidic', 'Acidic', 'Acidic', 'Acidic', 'Acidic', 'Acidic', 'Acidic', 'Acidic', 'Acidic', 'Acidic', 'Acidic', 'Acidic', 'Acidic', 'Acidic', 'Acidic', 'Acidic', 'Acidic', 'Acidic', 'Acidic', 'Acidic', 'Acidic', 'Acidic', 'Acidic', 'Acidic', 'Acidic', 'Acidic', 'Acidic', 'Acidic', 'Base', 'Acidic', 'Acidic', 'Acidic', 'Acidic', 'Acidic', 'Acidic', 'Acidic', 'Acidic', 'Acidic', 'Acidic', 'Acidic', 'Acidic', 'Acidic', 'Acidic', 'Base', 'Acidic', 'Acidic', 'Acidic', 'Acidic', 'Acidic', 'Acidic', 'Acidic', 'Acidic', 'Acidic', 'Acidic', 'Acidic', 'Acidic', 'Acidic', 'Acidic', 'Acidic', 'Acidic', 'Acidic', 'Acidic', 'Acidic', 'Acidic', 'Acidic', 'Acidic', 'Acidic', 'Acidic', 'Base', 'Base', 'Acidic', 'Acidic', 'Acidic', 'Acidic', 'Acidic', 'Acidic', 'Acidic', 'Acidic', 'Acidic', 'Acidic', 'Acidic', 'Base', 'Base', 'Acidic', 'Acidic', 'Acidic', 'Acidic', 'Base', 'Acidic', 'Acidic', 'Acidic', 'Acidic', 'Acidic', 'Acidic', 'Acidic', 'Acidic', 'Acidic', 'Acidic', 'Acidic', 'Acidic', 'Acidic', 'Acidic', 'Acidic', 'Acidic', 'Acidic', 'Acidic', 'Acidic', 'Base', 'Acidic', 'Acidic', 'Acidic', 'Acidic', 'Acidic', 'Base', 'Acidic', 'Base', 'Base', 'Acidic', 'Acidic', 'Acidic', 'Acidic', 'Acidic', 'Acidic', 'Acidic', 'Acidic', 'Acidic', 'Acidic', 'Acidic', 'Acidic', 'Acidic', 'Acidic', 'Base', 'Acidic', 'Acidic', 'Acidic', 'Acidic', 'Acidic', 'Base', 'Acidic', 'Base', 'Base', 'Acidic', 'Acidic', 'Acidic', 'Acidic', 'Acidic', 'Acidic', 'Acidic', 'Acidic', 'Acidic', 'Acidic', 'Acidic', 'Acidic', 'Acidic', 'Acidic', 'Acidic', 'Acidic', 'Acidic', 'Acidic', 'Acidic', 'Acidic', 'Acidic', 'Acidic', 'Acidic', 'Acidic', 'Acidic', 'Acidic', 'Acidic', 'Acidic', 'Acidic', 'Acidic', 'Base', 'Base', 'Acidic', 'Acidic', 'Acidic', 'Base', 'Acidic', 'Acidic', 'Acidic', 'Acidic', 'Acidic', 'Acidic', 'Acidic', 'Acidic', 'Acidic', 'Acidic', 'Base', 'Acidic', 'Acidic', 'Acidic', 'Acidic', 'Base', 'Acidic', 'Acidic', 'Acidic', 'Acidic', 'Acidic', 'Acidic', 'Acidic', 'Acidic', 'Acidic', 'Acidic', 'Acidic', 'Acidic', 'Acidic', 'Base', 'Base', 'Acidic', 'Acidic', 'Acidic', 'Base', 'Acidic', 'Base', 'Acidic', 'Acidic', 'Acidic', 'Acidic', 'Acidic', 'Acidic', 'Acidic', 'Acidic', 'Acidic', 'Acidic', 'Acidic', 'Acidic', 'Acidic', 'Base', 'Base', 'Base', 'Acidic', 'Base', 'Acidic', 'Acidic', 'Acidic', 'Acidic', 'Acidic', 'Acidic', 'Acidic', 'Acidic', 'Acidic', 'Acidic', 'Acidic', 'Base', 'Acidic', 'Acidic', 'Acidic', 'Acidic', 'Acidic', 'Acidic', 'Acidic', 'Acidic', 'Acidic', 'Acidic', 'Acidic', 'Base', 'Acidic', 'Base', 'Acidic', 'Acidic', 'Acidic', 'Acidic', 'Acidic', 'Base', 'Acidic', 'Base', 'Acidic', 'Acidic', 'Acidic', 'Acidic', 'Base', 'Base', 'Acidic', 'Acidic', 'Acidic', 'Acidic', 'Acidic', 'Acidic', 'Acidic', 'Acidic', 'Base', 'Acidic', 'Acidic', 'Acidic', 'Acidic', 'Base', 'Base', 'Acidic', 'Acidic', 'Acidic', 'Acidic', 'Acidic', 'Acidic', 'Acidic', 'Base', 'Acidic', 'Acidic', 'Acidic', 'Acidic', 'Acidic', 'Acidic', 'Acidic', 'Base', 'Acidic', 'Acidic', 'Acidic', 'Acidic', 'Acidic', 'Base', 'Base', 'Acidic', 'Base', 'Base', 'Base', 'Acidic', 'Acidic', 'Acidic', 'Base', 'Acidic', 'Acidic', 'Acidic', 'Acidic', 'Acidic', 'Acidic', 'Acidic', 'Acidic', 'Acidic', 'Acidic', 'Base', 'Acidic', 'Acidic', 'Acidic', 'Acidic', 'Acidic', 'Acidic', 'Acidic', 'Acidic', 'Acidic', 'Acidic', 'Acidic', 'Acidic', 'Acidic', 'Acidic', 'Acidic', 'Acidic', 'Acidic', 'Base', 'Base', 'Acidic', 'Acidic', 'Acidic', 'Acidic', 'Acidic', 'Acidic', 'Acidic', 'Acidic', 'Acidic', 'Acidic', 'Base', 'Acidic', 'Acidic', 'Base', 'Acidic', 'Acidic', 'Acidic', 'Acidic', 'Acidic', 'Acidic', 'Acidic', 'Acidic', 'Acidic', 'Acidic', 'Acidic', 'Acidic', 'Acidic', 'Acidic', 'Acidic', 'Acidic', 'Acidic', 'Acidic', 'Acidic', 'Acidic', 'Acidic', 'Acidic', 'Base', 'Acidic', 'Acidic', 'Acidic', 'Acidic', 'Acidic', 'Base', 'Acidic', 'Acidic', 'Acidic', 'Acidic', 'Acidic', 'Acidic', 'Acidic', 'Acidic', 'Acidic', 'Acidic', 'Acidic', 'Acidic', 'Acidic', 'Acidic', 'Acidic', 'Acidic', 'Acidic', 'Acidic', 'Acidic', 'Acidic', 'Acidic', 'Acidic', 'Acidic', 'Acidic', 'Acidic', 'Acidic', 'Acidic', 'Acidic', 'Acidic', 'Acidic', 'Acidic', 'Acidic', 'Acidic', 'Acidic', 'Acidic', 'Acidic', 'Acidic', 'Acidic', 'Acidic', 'Acidic', 'Acidic', 'Acidic', 'Base', 'Acidic', 'Acidic', 'Acidic', 'Acidic', 'Acidic', 'Acidic', 'Base', 'Acidic', 'Acidic', 'Acidic', 'Acidic', 'Acidic', 'Acidic', 'Acidic', 'Base', 'Base', 'Base', 'Acidic', 'Acidic', 'Acidic', 'Acidic', 'Acidic', 'Acidic', 'Acidic', 'Acidic', 'Acidic', 'Acidic', 'Acidic', 'Acidic', 'Base', 'Acidic', 'Base', 'Acidic', 'Acidic', 'Acidic', 'Acidic', 'Base', 'Acidic', 'Acidic', 'Acidic', 'Base', 'Base', 'Acidic', 'Acidic', 'Acidic', 'Acidic', 'Acidic', 'Acidic', 'Acidic', 'Acidic', 'Acidic', 'Acidic', 'Acidic', 'Acidic', 'Acidic', 'Base', 'Acidic', 'Base', 'Acidic', 'Acidic', 'Acidic', 'Acidic', 'Acidic', 'Base', 'Acidic', 'Acidic', 'Acidic', 'Acidic', 'Acidic', 'Base', 'Acidic', 'Base', 'Acidic', 'Acidic', 'Acidic', 'Acidic', 'Acidic', 'Base', 'Acidic', 'Acidic', 'Acidic', 'Base', 'Base', 'Acidic', 'Acidic', 'Acidic', 'Acidic', 'Acidic', 'Acidic', 'Base', 'Acidic', 'Acidic', 'Acidic', 'Acidic', 'Acidic', 'Base', 'Base', 'Acidic', 'Acidic', 'Acidic', 'Acidic', 'Acidic', 'Base', 'Acidic', 'Acidic', 'Acidic', 'Acidic', 'Acidic', 'Acidic', 'Acidic', 'Acidic', 'Base', 'Acidic', 'Acidic', 'Acidic', 'Acidic', 'Acidic', 'Base', 'Base', 'Acidic', 'Acidic', 'Acidic', 'Acidic', 'Acidic', 'Base', 'Acidic', 'Acidic', 'Acidic', 'Base', 'Base', 'Base', 'Acidic', 'Base', 'Base', 'Acidic', 'Base', 'Acidic', 'Base', 'Acidic', 'Acidic', 'Base', 'Base', 'Acidic', 'Acidic', 'Acidic', 'Base', 'Acidic', 'Acidic', 'Base', 'Acidic', 'Acidic', 'Base', 'Acidic', 'Acidic', 'Acidic', 'Base', 'Base', 'Acidic', 'Acidic', 'Base', 'Acidic', 'Acidic', 'Acidic', 'Acidic', 'Base', 'Acidic', 'Acidic', 'Acidic', 'Acidic', 'Base', 'Acidic', 'Acidic', 'Acidic', 'Acidic', 'Acidic', 'Acidic', 'Acidic', 'Acidic', 'Acidic', 'Acidic', 'Acidic', 'Acidic', 'Acidic', 'Acidic', 'Acidic', 'Acidic', 'Acidic', 'Base', 'Acidic', 'Acidic', 'Acidic', 'Acidic', 'Acidic', 'Base', 'Acidic', 'Acidic', 'Base', 'Acidic', 'Acidic', 'Acidic', 'Acidic', 'Acidic', 'Base', 'Acidic', 'Acidic', 'Acidic', 'Base', 'Acidic', 'Base', 'Acidic', 'Acidic', 'Acidic', 'Base', 'Acidic', 'Acidic', 'Base', 'Base', 'Base', 'Acidic', 'Base', 'Base', 'Acidic', 'Acidic', 'Acidic', 'Acidic', 'Acidic', 'Acidic', 'Acidic', 'Acidic', 'Acidic', 'Base', 'Acidic', 'Acidic', 'Base', 'Base', 'Acidic', 'Acidic', 'Base', 'Base', 'Base', 'Acidic', 'Base', 'Base', 'Base', 'Base', 'Base', 'Acidic', 'Base', 'Acidic', 'Base', 'Acidic', 'Base', 'Acidic', 'Acidic', 'Base', 'Acidic', 'Acidic', 'Acidic', 'Acidic', 'Acidic', 'Acidic', 'Acidic', 'Base', 'Acidic', 'Acidic', 'Acidic', 'Acidic', 'Acidic', 'Acidic', 'Acidic', 'Acidic', 'Acidic', 'Acidic', 'Base', 'Acidic', 'Base', 'Acidic', 'Base', 'Base', 'Base', 'Base', 'Base', 'Base', 'Acidic', 'Acidic', 'Base', 'Acidic', 'Base', 'Acidic', 'Base', 'Acidic', 'Base', 'Acidic', 'Acidic', 'Base', 'Acidic', 'Base', 'Acidic', 'Acidic', 'Base', 'Acidic', 'Base', 'Base', 'Base', 'Base', 'Acidic', 'Acidic', 'Acidic', 'Base', 'Base', 'Acidic', 'Acidic', 'Acidic', 'Base', 'Base', 'Base', 'Acidic', 'Acidic', 'Acidic', 'Acidic', 'Base', 'Acidic', 'Acidic', 'Base', 'Acidic', 'Acidic', 'Acidic', 'Acidic', 'Acidic', 'Acidic', 'Acidic', 'Acidic', 'Base', 'Base', 'Acidic', 'Base', 'Base', 'Base', 'Acidic', 'Acidic', 'Acidic', 'Acidic', 'Acidic', 'Acidic', 'Acidic', 'Base', 'Acidic', 'Acidic', 'Acidic', 'Acidic', 'Acidic', 'Acidic', 'Acidic', 'Acidic', 'Acidic', 'Acidic', 'Base', 'Base', 'Acidic', 'Acidic', 'Acidic', 'Acidic', 'Base', 'Acidic', 'Acidic', 'Acidic', 'Acidic', 'Base', 'Acidic', 'Acidic', 'Base', 'Acidic', 'Base', 'Acidic', 'Acidic', 'Acidic', 'Acidic', 'Acidic', 'Acidic', 'Acidic', 'Base', 'Base', 'Base', 'Acidic', 'Acidic', 'Acidic', 'Acidic', 'Acidic', 'Acidic', 'Acidic', 'Acidic', 'Acidic', 'Acidic', 'Acidic', 'Acidic', 'Base', 'Base', 'Acidic', 'Acidic', 'Acidic', 'Acidic', 'Base', 'Acidic', 'Base', 'Base', 'Base', 'Acidic', 'Acidic', 'Base', 'Base', 'Base', 'Base', 'Acidic', 'Acidic', 'Base', 'Acidic', 'Base', 'Base', 'Acidic', 'Acidic', 'Acidic', 'Acidic', 'Base', 'Base', 'Acidic', 'Acidic', 'Acidic', 'Acidic', 'Acidic', 'Acidic', 'Acidic', 'Acidic', 'Base', 'Acidic', 'Base', 'Acidic', 'Base', 'Base', 'Base', 'Acidic', 'Acidic', 'Base', 'Acidic', 'Base', 'Base', 'Acidic', 'Base', 'Acidic', 'Acidic', 'Acidic', 'Acidic', 'Acidic', 'Acidic', 'Base', 'Acidic', 'Acidic', 'Acidic', 'Acidic', 'Acidic', 'Acidic', 'Acidic', 'Acidic', 'Base', 'Base', 'Acidic', 'Acidic', 'Base', 'Acidic']\n"
          ]
        }
      ]
    },
    {
      "cell_type": "code",
      "source": [
        "df['pH_cat'] = pH_cat"
      ],
      "metadata": {
        "id": "mXv-6XcAvB_d"
      },
      "execution_count": null,
      "outputs": []
    },
    {
      "cell_type": "code",
      "source": [
        "df.head()"
      ],
      "metadata": {
        "colab": {
          "base_uri": "https://localhost:8080/",
          "height": 305
        },
        "id": "mnalEGPbvJXN",
        "outputId": "b721dd2b-672e-4d14-e344-d82499f90632"
      },
      "execution_count": null,
      "outputs": [
        {
          "output_type": "execute_result",
          "data": {
            "text/plain": [
              "   fixed acidity  volatile acidity  citric acid  residual sugar  chlorides  \\\n",
              "0            7.0              0.27         0.36            20.7      0.045   \n",
              "1            6.3              0.30         0.34             1.6      0.049   \n",
              "2            8.1              0.28         0.40             6.9      0.050   \n",
              "3            7.2              0.23         0.32             8.5      0.058   \n",
              "4            7.2              0.23         0.32             8.5      0.058   \n",
              "\n",
              "   free sulfur dioxide  total sulfur dioxide  density    pH  sulphates  \\\n",
              "0                 45.0                 170.0   1.0010  3.00       0.45   \n",
              "1                 14.0                 132.0   0.9940  3.30       0.49   \n",
              "2                 30.0                  97.0   0.9951  3.26       0.44   \n",
              "3                 47.0                 186.0   0.9956  3.19       0.40   \n",
              "4                 47.0                 186.0   0.9956  3.19       0.40   \n",
              "\n",
              "   alcohol  quality quality_cat  pH_cat  \n",
              "0      8.8        6        Poor  Acidic  \n",
              "1      9.5        6        Poor    Base  \n",
              "2     10.1        6        Poor  Acidic  \n",
              "3      9.9        6        Poor  Acidic  \n",
              "4      9.9        6        Poor  Acidic  "
            ],
            "text/html": [
              "\n",
              "  <div id=\"df-dc9703cf-079a-4c85-935a-4aa13c9d3901\">\n",
              "    <div class=\"colab-df-container\">\n",
              "      <div>\n",
              "<style scoped>\n",
              "    .dataframe tbody tr th:only-of-type {\n",
              "        vertical-align: middle;\n",
              "    }\n",
              "\n",
              "    .dataframe tbody tr th {\n",
              "        vertical-align: top;\n",
              "    }\n",
              "\n",
              "    .dataframe thead th {\n",
              "        text-align: right;\n",
              "    }\n",
              "</style>\n",
              "<table border=\"1\" class=\"dataframe\">\n",
              "  <thead>\n",
              "    <tr style=\"text-align: right;\">\n",
              "      <th></th>\n",
              "      <th>fixed acidity</th>\n",
              "      <th>volatile acidity</th>\n",
              "      <th>citric acid</th>\n",
              "      <th>residual sugar</th>\n",
              "      <th>chlorides</th>\n",
              "      <th>free sulfur dioxide</th>\n",
              "      <th>total sulfur dioxide</th>\n",
              "      <th>density</th>\n",
              "      <th>pH</th>\n",
              "      <th>sulphates</th>\n",
              "      <th>alcohol</th>\n",
              "      <th>quality</th>\n",
              "      <th>quality_cat</th>\n",
              "      <th>pH_cat</th>\n",
              "    </tr>\n",
              "  </thead>\n",
              "  <tbody>\n",
              "    <tr>\n",
              "      <th>0</th>\n",
              "      <td>7.0</td>\n",
              "      <td>0.27</td>\n",
              "      <td>0.36</td>\n",
              "      <td>20.7</td>\n",
              "      <td>0.045</td>\n",
              "      <td>45.0</td>\n",
              "      <td>170.0</td>\n",
              "      <td>1.0010</td>\n",
              "      <td>3.00</td>\n",
              "      <td>0.45</td>\n",
              "      <td>8.8</td>\n",
              "      <td>6</td>\n",
              "      <td>Poor</td>\n",
              "      <td>Acidic</td>\n",
              "    </tr>\n",
              "    <tr>\n",
              "      <th>1</th>\n",
              "      <td>6.3</td>\n",
              "      <td>0.30</td>\n",
              "      <td>0.34</td>\n",
              "      <td>1.6</td>\n",
              "      <td>0.049</td>\n",
              "      <td>14.0</td>\n",
              "      <td>132.0</td>\n",
              "      <td>0.9940</td>\n",
              "      <td>3.30</td>\n",
              "      <td>0.49</td>\n",
              "      <td>9.5</td>\n",
              "      <td>6</td>\n",
              "      <td>Poor</td>\n",
              "      <td>Base</td>\n",
              "    </tr>\n",
              "    <tr>\n",
              "      <th>2</th>\n",
              "      <td>8.1</td>\n",
              "      <td>0.28</td>\n",
              "      <td>0.40</td>\n",
              "      <td>6.9</td>\n",
              "      <td>0.050</td>\n",
              "      <td>30.0</td>\n",
              "      <td>97.0</td>\n",
              "      <td>0.9951</td>\n",
              "      <td>3.26</td>\n",
              "      <td>0.44</td>\n",
              "      <td>10.1</td>\n",
              "      <td>6</td>\n",
              "      <td>Poor</td>\n",
              "      <td>Acidic</td>\n",
              "    </tr>\n",
              "    <tr>\n",
              "      <th>3</th>\n",
              "      <td>7.2</td>\n",
              "      <td>0.23</td>\n",
              "      <td>0.32</td>\n",
              "      <td>8.5</td>\n",
              "      <td>0.058</td>\n",
              "      <td>47.0</td>\n",
              "      <td>186.0</td>\n",
              "      <td>0.9956</td>\n",
              "      <td>3.19</td>\n",
              "      <td>0.40</td>\n",
              "      <td>9.9</td>\n",
              "      <td>6</td>\n",
              "      <td>Poor</td>\n",
              "      <td>Acidic</td>\n",
              "    </tr>\n",
              "    <tr>\n",
              "      <th>4</th>\n",
              "      <td>7.2</td>\n",
              "      <td>0.23</td>\n",
              "      <td>0.32</td>\n",
              "      <td>8.5</td>\n",
              "      <td>0.058</td>\n",
              "      <td>47.0</td>\n",
              "      <td>186.0</td>\n",
              "      <td>0.9956</td>\n",
              "      <td>3.19</td>\n",
              "      <td>0.40</td>\n",
              "      <td>9.9</td>\n",
              "      <td>6</td>\n",
              "      <td>Poor</td>\n",
              "      <td>Acidic</td>\n",
              "    </tr>\n",
              "  </tbody>\n",
              "</table>\n",
              "</div>\n",
              "      <button class=\"colab-df-convert\" onclick=\"convertToInteractive('df-dc9703cf-079a-4c85-935a-4aa13c9d3901')\"\n",
              "              title=\"Convert this dataframe to an interactive table.\"\n",
              "              style=\"display:none;\">\n",
              "        \n",
              "  <svg xmlns=\"http://www.w3.org/2000/svg\" height=\"24px\"viewBox=\"0 0 24 24\"\n",
              "       width=\"24px\">\n",
              "    <path d=\"M0 0h24v24H0V0z\" fill=\"none\"/>\n",
              "    <path d=\"M18.56 5.44l.94 2.06.94-2.06 2.06-.94-2.06-.94-.94-2.06-.94 2.06-2.06.94zm-11 1L8.5 8.5l.94-2.06 2.06-.94-2.06-.94L8.5 2.5l-.94 2.06-2.06.94zm10 10l.94 2.06.94-2.06 2.06-.94-2.06-.94-.94-2.06-.94 2.06-2.06.94z\"/><path d=\"M17.41 7.96l-1.37-1.37c-.4-.4-.92-.59-1.43-.59-.52 0-1.04.2-1.43.59L10.3 9.45l-7.72 7.72c-.78.78-.78 2.05 0 2.83L4 21.41c.39.39.9.59 1.41.59.51 0 1.02-.2 1.41-.59l7.78-7.78 2.81-2.81c.8-.78.8-2.07 0-2.86zM5.41 20L4 18.59l7.72-7.72 1.47 1.35L5.41 20z\"/>\n",
              "  </svg>\n",
              "      </button>\n",
              "      \n",
              "  <style>\n",
              "    .colab-df-container {\n",
              "      display:flex;\n",
              "      flex-wrap:wrap;\n",
              "      gap: 12px;\n",
              "    }\n",
              "\n",
              "    .colab-df-convert {\n",
              "      background-color: #E8F0FE;\n",
              "      border: none;\n",
              "      border-radius: 50%;\n",
              "      cursor: pointer;\n",
              "      display: none;\n",
              "      fill: #1967D2;\n",
              "      height: 32px;\n",
              "      padding: 0 0 0 0;\n",
              "      width: 32px;\n",
              "    }\n",
              "\n",
              "    .colab-df-convert:hover {\n",
              "      background-color: #E2EBFA;\n",
              "      box-shadow: 0px 1px 2px rgba(60, 64, 67, 0.3), 0px 1px 3px 1px rgba(60, 64, 67, 0.15);\n",
              "      fill: #174EA6;\n",
              "    }\n",
              "\n",
              "    [theme=dark] .colab-df-convert {\n",
              "      background-color: #3B4455;\n",
              "      fill: #D2E3FC;\n",
              "    }\n",
              "\n",
              "    [theme=dark] .colab-df-convert:hover {\n",
              "      background-color: #434B5C;\n",
              "      box-shadow: 0px 1px 3px 1px rgba(0, 0, 0, 0.15);\n",
              "      filter: drop-shadow(0px 1px 2px rgba(0, 0, 0, 0.3));\n",
              "      fill: #FFFFFF;\n",
              "    }\n",
              "  </style>\n",
              "\n",
              "      <script>\n",
              "        const buttonEl =\n",
              "          document.querySelector('#df-dc9703cf-079a-4c85-935a-4aa13c9d3901 button.colab-df-convert');\n",
              "        buttonEl.style.display =\n",
              "          google.colab.kernel.accessAllowed ? 'block' : 'none';\n",
              "\n",
              "        async function convertToInteractive(key) {\n",
              "          const element = document.querySelector('#df-dc9703cf-079a-4c85-935a-4aa13c9d3901');\n",
              "          const dataTable =\n",
              "            await google.colab.kernel.invokeFunction('convertToInteractive',\n",
              "                                                     [key], {});\n",
              "          if (!dataTable) return;\n",
              "\n",
              "          const docLinkHtml = 'Like what you see? Visit the ' +\n",
              "            '<a target=\"_blank\" href=https://colab.research.google.com/notebooks/data_table.ipynb>data table notebook</a>'\n",
              "            + ' to learn more about interactive tables.';\n",
              "          element.innerHTML = '';\n",
              "          dataTable['output_type'] = 'display_data';\n",
              "          await google.colab.output.renderOutput(dataTable, element);\n",
              "          const docLink = document.createElement('div');\n",
              "          docLink.innerHTML = docLinkHtml;\n",
              "          element.appendChild(docLink);\n",
              "        }\n",
              "      </script>\n",
              "    </div>\n",
              "  </div>\n",
              "  "
            ]
          },
          "metadata": {},
          "execution_count": 34
        }
      ]
    },
    {
      "cell_type": "code",
      "source": [
        "round(df['pH_cat'].value_counts()/len(df),4)"
      ],
      "metadata": {
        "colab": {
          "base_uri": "https://localhost:8080/"
        },
        "id": "vhAaJPuAvFI8",
        "outputId": "f17c686d-0863-466e-942b-15eeac000856"
      },
      "execution_count": null,
      "outputs": [
        {
          "output_type": "execute_result",
          "data": {
            "text/plain": [
              "Acidic    0.7229\n",
              "Base      0.2771\n",
              "Name: pH_cat, dtype: float64"
            ]
          },
          "metadata": {},
          "execution_count": 35
        }
      ]
    },
    {
      "cell_type": "markdown",
      "source": [
        "Mode acidic wines make up about 72.29% of the total wines. Making them the predominant pH category. Lets see how pH and quality compare to one another."
      ],
      "metadata": {
        "id": "1657Cfisvzc-"
      }
    },
    {
      "cell_type": "code",
      "source": [
        "sns.set(rc={'figure.figsize':(15,10)})\n",
        "edu = sns.countplot(x='quality_cat', hue='pH_cat', data=df)\n",
        "edu.set_xticklabels(['Poor','Good'])\n",
        "plt.show()"
      ],
      "metadata": {
        "colab": {
          "base_uri": "https://localhost:8080/",
          "height": 575
        },
        "id": "iuYbNQU2vx2T",
        "outputId": "f0d61ab9-b51b-4bf5-de1f-5fb5793f7584"
      },
      "execution_count": null,
      "outputs": [
        {
          "output_type": "display_data",
          "data": {
            "text/plain": [
              "<Figure size 1080x720 with 1 Axes>"
            ],
            "image/png": "[encoded data removed]"
          },
          "metadata": {}
        }
      ]
    },
    {
      "cell_type": "code",
      "source": [
        "pd.crosstab(df.quality_cat,df.pH_cat,normalize='index',margins=True)"
      ],
      "metadata": {
        "colab": {
          "base_uri": "https://localhost:8080/",
          "height": 175
        },
        "id": "lTtwy76pwaP5",
        "outputId": "bfd67968-342d-4dac-881f-cfcadbc526f3"
      },
      "execution_count": null,
      "outputs": [
        {
          "output_type": "execute_result",
          "data": {
            "text/plain": [
              "pH_cat         Acidic      Base\n",
              "quality_cat                    \n",
              "Good         0.625472  0.374528\n",
              "Poor         0.749870  0.250130\n",
              "All          0.722948  0.277052"
            ],
            "text/html": [
              "\n",
              "  <div id=\"df-0211969d-bbf4-49b1-aff5-1d4c72724dc1\">\n",
              "    <div class=\"colab-df-container\">\n",
              "      <div>\n",
              "<style scoped>\n",
              "    .dataframe tbody tr th:only-of-type {\n",
              "        vertical-align: middle;\n",
              "    }\n",
              "\n",
              "    .dataframe tbody tr th {\n",
              "        vertical-align: top;\n",
              "    }\n",
              "\n",
              "    .dataframe thead th {\n",
              "        text-align: right;\n",
              "    }\n",
              "</style>\n",
              "<table border=\"1\" class=\"dataframe\">\n",
              "  <thead>\n",
              "    <tr style=\"text-align: right;\">\n",
              "      <th>pH_cat</th>\n",
              "      <th>Acidic</th>\n",
              "      <th>Base</th>\n",
              "    </tr>\n",
              "    <tr>\n",
              "      <th>quality_cat</th>\n",
              "      <th></th>\n",
              "      <th></th>\n",
              "    </tr>\n",
              "  </thead>\n",
              "  <tbody>\n",
              "    <tr>\n",
              "      <th>Good</th>\n",
              "      <td>0.625472</td>\n",
              "      <td>0.374528</td>\n",
              "    </tr>\n",
              "    <tr>\n",
              "      <th>Poor</th>\n",
              "      <td>0.749870</td>\n",
              "      <td>0.250130</td>\n",
              "    </tr>\n",
              "    <tr>\n",
              "      <th>All</th>\n",
              "      <td>0.722948</td>\n",
              "      <td>0.277052</td>\n",
              "    </tr>\n",
              "  </tbody>\n",
              "</table>\n",
              "</div>\n",
              "      <button class=\"colab-df-convert\" onclick=\"convertToInteractive('df-0211969d-bbf4-49b1-aff5-1d4c72724dc1')\"\n",
              "              title=\"Convert this dataframe to an interactive table.\"\n",
              "              style=\"display:none;\">\n",
              "        \n",
              "  <svg xmlns=\"http://www.w3.org/2000/svg\" height=\"24px\"viewBox=\"0 0 24 24\"\n",
              "       width=\"24px\">\n",
              "    <path d=\"M0 0h24v24H0V0z\" fill=\"none\"/>\n",
              "    <path d=\"M18.56 5.44l.94 2.06.94-2.06 2.06-.94-2.06-.94-.94-2.06-.94 2.06-2.06.94zm-11 1L8.5 8.5l.94-2.06 2.06-.94-2.06-.94L8.5 2.5l-.94 2.06-2.06.94zm10 10l.94 2.06.94-2.06 2.06-.94-2.06-.94-.94-2.06-.94 2.06-2.06.94z\"/><path d=\"M17.41 7.96l-1.37-1.37c-.4-.4-.92-.59-1.43-.59-.52 0-1.04.2-1.43.59L10.3 9.45l-7.72 7.72c-.78.78-.78 2.05 0 2.83L4 21.41c.39.39.9.59 1.41.59.51 0 1.02-.2 1.41-.59l7.78-7.78 2.81-2.81c.8-.78.8-2.07 0-2.86zM5.41 20L4 18.59l7.72-7.72 1.47 1.35L5.41 20z\"/>\n",
              "  </svg>\n",
              "      </button>\n",
              "      \n",
              "  <style>\n",
              "    .colab-df-container {\n",
              "      display:flex;\n",
              "      flex-wrap:wrap;\n",
              "      gap: 12px;\n",
              "    }\n",
              "\n",
              "    .colab-df-convert {\n",
              "      background-color: #E8F0FE;\n",
              "      border: none;\n",
              "      border-radius: 50%;\n",
              "      cursor: pointer;\n",
              "      display: none;\n",
              "      fill: #1967D2;\n",
              "      height: 32px;\n",
              "      padding: 0 0 0 0;\n",
              "      width: 32px;\n",
              "    }\n",
              "\n",
              "    .colab-df-convert:hover {\n",
              "      background-color: #E2EBFA;\n",
              "      box-shadow: 0px 1px 2px rgba(60, 64, 67, 0.3), 0px 1px 3px 1px rgba(60, 64, 67, 0.15);\n",
              "      fill: #174EA6;\n",
              "    }\n",
              "\n",
              "    [theme=dark] .colab-df-convert {\n",
              "      background-color: #3B4455;\n",
              "      fill: #D2E3FC;\n",
              "    }\n",
              "\n",
              "    [theme=dark] .colab-df-convert:hover {\n",
              "      background-color: #434B5C;\n",
              "      box-shadow: 0px 1px 3px 1px rgba(0, 0, 0, 0.15);\n",
              "      filter: drop-shadow(0px 1px 2px rgba(0, 0, 0, 0.3));\n",
              "      fill: #FFFFFF;\n",
              "    }\n",
              "  </style>\n",
              "\n",
              "      <script>\n",
              "        const buttonEl =\n",
              "          document.querySelector('#df-0211969d-bbf4-49b1-aff5-1d4c72724dc1 button.colab-df-convert');\n",
              "        buttonEl.style.display =\n",
              "          google.colab.kernel.accessAllowed ? 'block' : 'none';\n",
              "\n",
              "        async function convertToInteractive(key) {\n",
              "          const element = document.querySelector('#df-0211969d-bbf4-49b1-aff5-1d4c72724dc1');\n",
              "          const dataTable =\n",
              "            await google.colab.kernel.invokeFunction('convertToInteractive',\n",
              "                                                     [key], {});\n",
              "          if (!dataTable) return;\n",
              "\n",
              "          const docLinkHtml = 'Like what you see? Visit the ' +\n",
              "            '<a target=\"_blank\" href=https://colab.research.google.com/notebooks/data_table.ipynb>data table notebook</a>'\n",
              "            + ' to learn more about interactive tables.';\n",
              "          element.innerHTML = '';\n",
              "          dataTable['output_type'] = 'display_data';\n",
              "          await google.colab.output.renderOutput(dataTable, element);\n",
              "          const docLink = document.createElement('div');\n",
              "          docLink.innerHTML = docLinkHtml;\n",
              "          element.appendChild(docLink);\n",
              "        }\n",
              "      </script>\n",
              "    </div>\n",
              "  </div>\n",
              "  "
            ]
          },
          "metadata": {},
          "execution_count": 37
        }
      ]
    },
    {
      "cell_type": "code",
      "source": [
        "sns.set(rc={'figure.figsize':(30,10)})\n",
        "sns.set_context(\"talk\", font_scale=0.7)\n",
        "\n",
        "sns.heatmap(df.iloc[:,1:].corr(method='spearman'), cmap='rainbow_r', annot=True)"
      ],
      "metadata": {
        "id": "lzysLkQswpgM"
      },
      "execution_count": null,
      "outputs": []
    }
  ]
}